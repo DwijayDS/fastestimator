{
 "cells": [
  {
   "cell_type": "markdown",
   "metadata": {},
   "source": [
    "![](\"three_API.png\")"
   ]
  },
  {
   "cell_type": "markdown",
   "metadata": {},
   "source": [
    "# Getting Started with FastEstimator\n",
    "\n",
    "## Overview\n",
    "In this tutorial we are going to cover:\n",
    "* Three main APIs of FastEstimator: Pipeline, Network, Estimator\n",
    "* Two computation units: Op, Trace \n",
    "* How computation units connects\n",
    "* Example code of image classification\n",
    "\n",
    "## Welcome to FastEstimator\n",
    "Welcome to FastEstimator(FE). Before jumping into the tutorial, we want you to picture a workflow of training a DL classification task. What blocks it needs and how those connect to each others? \n",
    "\n",
    "Now lets look at the workflow of this task in FastEstimator. It should looks straight-forward and match with your imagination. This graph will be an example as well as a starting point of introducing you to the whole FastEstimator API design.  "
   ]
  },
  {
   "cell_type": "markdown",
   "metadata": {},
   "source": []
  },
  {
   "cell_type": "markdown",
   "metadata": {},
   "source": [
    "## Three main APIs\n",
    "<img src=\"../image/three_API.PNG\" alt=\"drawing\" width=\"700\"/>\n",
    "There are three mains blocks: `Pipeline`, `Network`, `Estimator` in the workflow graph. Each of them respectively represent  three main components of all deep learning training workflow: data pipeline, network, and optimization plan. Data pipeline extracts data from disk to RAM, performs transformations, and then loads the data onto the device. Network stores trainable and differentiable graphs. Optimization plan combines data pipeline and network in an iterative process. FE users will interact with these three APIs for building any deep learning task. \n",
    "\n",
    "* `Pipeline`: Pipeline summarize Extraction-Transformation-Load (ETL) process. It contains the data source and data preprocess operations. <br> <br>\n",
    "* `Network`: Network manage trainable model and untrainable graph. <br> <br>\n",
    "* `Estimator`: Estimator wrap up both `Pipeline` and `Netowrk` together, and defines what else to do in the training loop except for updating the model. In this example, it can be calculating metrics or saving model weights into disk. "
   ]
  },
  {
   "cell_type": "markdown",
   "metadata": {},
   "source": [
    "## Two computation units\n",
    "In the above workflow graph, there are some color-filled block haven't been introduced yet. They are computation units with different class name. The units in Pipeline and Network are called `Operator`(Op), and in Estimator called `Trace`. \n",
    "\n",
    "* `Op`: The computation unit in `Pipeline` and `Network`. In one hand they serve as data preproces step inside Pipeline. In the other hand they serve as data postprocess step, model function, and model update unit inside Network <br><br>\n",
    "* `Trace`: The computation unit in `Estimator`. It is usually used as metric calculation or callback function for monitoring training and model saving.\n"
   ]
  },
  {
   "cell_type": "markdown",
   "metadata": {},
   "source": [
    "### How to express Operator and Trace connection\n",
    "### How mode works "
   ]
  },
  {
   "cell_type": "markdown",
   "metadata": {},
   "source": [
    "## Code example for MNIST image classification \n",
    "<img src=\"../image/three_API.PNG\" alt=\"drawing\" width=\"700\"/>"
   ]
  },
  {
   "cell_type": "markdown",
   "metadata": {},
   "source": [
    "### Step 1 - Data and `Pipeline` preparation\n",
    "In this step, we will load MNIST training and validation datasets and prepare FastEstimator's pipeline.\n",
    "#### Load dataset\n",
    "We use fastestimator API to load the MNIST dataset and get the test set by splitting 50% evaluation set."
   ]
  },
  {
   "cell_type": "code",
   "execution_count": 1,
   "metadata": {},
   "outputs": [],
   "source": [
    "import fastestimator as fe\n",
    "from fastestimator.dataset.data import mnist\n",
    "\n",
    "train_data, eval_data = mnist.load_data()\n",
    "test_data = eval_data.split(0.5)"
   ]
  },
  {
   "cell_type": "markdown",
   "metadata": {},
   "source": [
    "#### Set up preprocessing pipline\n",
    "In this example, the data preprocessing steps include expanding image dimension and normalizing the pixel value to range [0, 1]. We set up those processing step using Ops and meanwhile define the data source (loaded dataset) and batch size"
   ]
  },
  {
   "cell_type": "code",
   "execution_count": 2,
   "metadata": {},
   "outputs": [],
   "source": [
    "from fastestimator.op.numpyop.univariate import ExpandDims, Minmax\n",
    "\n",
    "pipeline = fe.Pipeline(train_data=train_data,\n",
    "                       eval_data=eval_data,\n",
    "                       batch_size=32,\n",
    "                       ops=[ExpandDims(inputs=\"x\", outputs=\"x\"), \n",
    "                            Minmax(inputs=\"x\", outputs=\"x_out\")])"
   ]
  },
  {
   "cell_type": "markdown",
   "metadata": {},
   "source": [
    "### Step 2 - `Network` construction\n",
    "FastEstimator supports both Pytorch and Tensorflow, so this section can use both backend to implement.\n",
    "We are going to only demonstate the Tensorflow way in this example.\n",
    "#### Model construction\n",
    "Here the model definition is going to be imported from the FastEstimator pre-defined architecture that is implemented in Tensorflow, and we create model instance by compiling it with specific model optimizer."
   ]
  },
  {
   "cell_type": "code",
   "execution_count": 3,
   "metadata": {},
   "outputs": [],
   "source": [
    "from fastestimator.architecture.tensorflow import LeNet\n",
    "\n",
    "model = fe.build(model_fn=LeNet, optimizer_fn=\"adam\")"
   ]
  },
  {
   "cell_type": "markdown",
   "metadata": {},
   "source": [
    "#### `Network` definition\n",
    "We are going to connect the model and Ops together into a Network. Ops are the basic component of Network. They can be logic for loss calculation, model update units, and even model itself is also considered as an Op."
   ]
  },
  {
   "cell_type": "code",
   "execution_count": 4,
   "metadata": {},
   "outputs": [],
   "source": [
    "from fastestimator.op.tensorop.loss import CrossEntropy\n",
    "from fastestimator.op.tensorop.model import ModelOp, UpdateOp\n",
    "\n",
    "\n",
    "network = fe.Network(ops=[\n",
    "        ModelOp(model=model, inputs=\"x_out\", outputs=\"y_pred\"),\n",
    "        CrossEntropy(inputs=(\"y_pred\", \"y\"), outputs=\"ce\"),\n",
    "        UpdateOp(model=model, loss_name=\"ce\", mode=\"!infer\")\n",
    "    ])"
   ]
  },
  {
   "cell_type": "markdown",
   "metadata": {},
   "source": [
    "### Step 3 - `Estimator` definition and training\n",
    "In this step, we define the Estimator to connect the Network with Pipeline and set the traces which compute accuracy (Accuracy), save best model (BestModelSaver)"
   ]
  },
  {
   "cell_type": "code",
   "execution_count": 5,
   "metadata": {},
   "outputs": [
    {
     "name": "stdout",
     "output_type": "stream",
     "text": [
      "    ______           __  ______     __  _                 __            \n",
      "   / ____/___ ______/ /_/ ____/____/ /_(_)___ ___  ____ _/ /_____  _____\n",
      "  / /_  / __ `/ ___/ __/ __/ / ___/ __/ / __ `__ \\/ __ `/ __/ __ \\/ ___/\n",
      " / __/ / /_/ (__  ) /_/ /___(__  ) /_/ / / / / / / /_/ / /_/ /_/ / /    \n",
      "/_/    \\__,_/____/\\__/_____/____/\\__/_/_/ /_/ /_/\\__,_/\\__/\\____/_/     \n",
      "                                                                        \n",
      "\n",
      "FastEstimator-Start: step: 1; model_lr: 0.001; \n",
      "FastEstimator-Train: step: 1; ce: 2.3094347; \n",
      "FastEstimator-Train: step: 100; ce: 0.32585213; steps/sec: 235.62; \n",
      "FastEstimator-Train: step: 200; ce: 0.19874175; steps/sec: 234.65; \n",
      "FastEstimator-Train: step: 300; ce: 0.20871027; steps/sec: 243.61; \n",
      "FastEstimator-Train: step: 400; ce: 0.039908946; steps/sec: 243.58; \n",
      "FastEstimator-Train: step: 500; ce: 0.16578937; steps/sec: 242.1; \n",
      "FastEstimator-Train: step: 600; ce: 0.120900676; steps/sec: 235.31; \n",
      "FastEstimator-Train: step: 700; ce: 0.023096317; steps/sec: 240.52; \n",
      "FastEstimator-Train: step: 800; ce: 0.041434195; steps/sec: 248.5; \n",
      "FastEstimator-Train: step: 900; ce: 0.021982027; steps/sec: 253.67; \n",
      "FastEstimator-Train: step: 1000; ce: 0.08631378; steps/sec: 245.16; \n",
      "FastEstimator-Train: step: 1100; ce: 0.038897064; steps/sec: 243.54; \n",
      "FastEstimator-Train: step: 1200; ce: 0.06527566; steps/sec: 242.77; \n",
      "FastEstimator-Train: step: 1300; ce: 0.115507364; steps/sec: 255.88; \n",
      "FastEstimator-Train: step: 1400; ce: 0.053436864; steps/sec: 254.84; \n",
      "FastEstimator-Train: step: 1500; ce: 0.17943706; steps/sec: 243.5; \n",
      "FastEstimator-Train: step: 1600; ce: 0.012785692; steps/sec: 250.01; \n",
      "FastEstimator-Train: step: 1700; ce: 0.0035129623; steps/sec: 244.73; \n",
      "FastEstimator-Train: step: 1800; ce: 0.11420182; steps/sec: 242.36; \n",
      "FastEstimator-Train: step: 1875; epoch: 1; epoch_time: 10.94 sec; \n",
      "FastEstimator-ModelSaver: saved model to /tmp/tmp246q605c/model_best_accuracy.h5\n",
      "FastEstimator-Eval: step: 1875; epoch: 1; ce: 0.050166283; min_ce: 0.050166283; since_best: 0; accuracy: 0.9836; \n",
      "FastEstimator-Train: step: 1900; ce: 0.10917108; steps/sec: 173.61; \n",
      "FastEstimator-Train: step: 2000; ce: 0.028364997; steps/sec: 232.63; \n",
      "FastEstimator-Train: step: 2100; ce: 0.021626942; steps/sec: 243.64; \n",
      "FastEstimator-Train: step: 2200; ce: 0.012984189; steps/sec: 236.05; \n",
      "FastEstimator-Train: step: 2300; ce: 0.017558584; steps/sec: 244.7; \n",
      "FastEstimator-Train: step: 2400; ce: 0.02843834; steps/sec: 241.91; \n",
      "FastEstimator-Train: step: 2500; ce: 0.124197505; steps/sec: 243.24; \n",
      "FastEstimator-Train: step: 2600; ce: 0.031241603; steps/sec: 245.48; \n",
      "FastEstimator-Train: step: 2700; ce: 0.058757603; steps/sec: 267.98; \n",
      "FastEstimator-Train: step: 2800; ce: 0.028827304; steps/sec: 243.17; \n",
      "FastEstimator-Train: step: 2900; ce: 0.043080848; steps/sec: 244.11; \n",
      "FastEstimator-Train: step: 3000; ce: 0.007752531; steps/sec: 246.09; \n",
      "FastEstimator-Train: step: 3100; ce: 0.017698176; steps/sec: 251.86; \n",
      "FastEstimator-Train: step: 3200; ce: 0.00597422; steps/sec: 244.83; \n",
      "FastEstimator-Train: step: 3300; ce: 0.0005539333; steps/sec: 243.14; \n",
      "FastEstimator-Train: step: 3400; ce: 0.0007003739; steps/sec: 251.38; \n",
      "FastEstimator-Train: step: 3500; ce: 0.006652895; steps/sec: 243.81; \n",
      "FastEstimator-Train: step: 3600; ce: 0.1681322; steps/sec: 239.31; \n",
      "FastEstimator-Train: step: 3700; ce: 0.20753565; steps/sec: 251.23; \n",
      "FastEstimator-Train: step: 3750; epoch: 2; epoch_time: 7.8 sec; \n",
      "FastEstimator-ModelSaver: saved model to /tmp/tmp246q605c/model_best_accuracy.h5\n",
      "FastEstimator-Eval: step: 3750; epoch: 2; ce: 0.032093585; min_ce: 0.032093585; since_best: 0; accuracy: 0.9894; \n",
      "FastEstimator-Finish: step: 3750; total_time: 21.04 sec; model_lr: 0.001; \n"
     ]
    }
   ],
   "source": [
    "from fastestimator.schedule import cosine_decay\n",
    "from fastestimator.trace.io import BestModelSaver\n",
    "from fastestimator.trace.metric import Accuracy\n",
    "import tempfile\n",
    "\n",
    "traces = [\n",
    "    Accuracy(true_key=\"y\", pred_key=\"y_pred\"),\n",
    "    BestModelSaver(model=model, save_dir=tempfile.mkdtemp(), metric=\"accuracy\", save_best_mode=\"max\")\n",
    "]\n",
    "\n",
    "estimator = fe.Estimator(pipeline=pipeline,\n",
    "                         network=network,\n",
    "                         epochs=2,\n",
    "                         traces=traces,\n",
    "                         max_steps_per_epoch=None)\n",
    "\n",
    "estimator.fit() # start the training process"
   ]
  },
  {
   "cell_type": "code",
   "execution_count": 9,
   "metadata": {},
   "outputs": [
    {
     "data": {
      "image/png": "[encoded data removed]",
      "text/plain": [
       "<Figure size 864x864 with 15 Axes>"
      ]
     },
     "metadata": {
      "needs_background": "light"
     },
     "output_type": "display_data"
    }
   ],
   "source": [
    "import matplotlib.pyplot as plt\n",
    "import numpy as np\n",
    "\n",
    "sample_num = 5\n",
    "\n",
    "fig, axs = plt.subplots(sample_num, 3, figsize=(12,12))\n",
    "\n",
    "axs[0,0].set_title(\"pipeline input\")\n",
    "axs[0,1].set_title(\"pipeline output\")\n",
    "axs[0,2].set_title(\"predict result\")\n",
    "\n",
    "for i, j in enumerate(np.random.randint(low=0, high=31, size=sample_num)):\n",
    "    data = {\"x\": test_data[\"x\"][j]}\n",
    "    axs[i,0].imshow(data[\"x\"], cmap=\"gray\")\n",
    "    \n",
    "    # run the pipeline\n",
    "    data = pipeline.transform(data, mode=\"infer\") \n",
    "    img = data[\"x_out\"].squeeze(axis=(0,3))\n",
    "    axs[i,1].imshow(img, cmap=\"gray\")\n",
    "    \n",
    "    # run the network\n",
    "    data = network.transform(data, mode=\"infer\")\n",
    "    predict = data[\"y_pred\"].numpy().squeeze(axis=(0))\n",
    "    axs[i,2].text(0.2, 0.5, \"predicted number: {}\".format(np.argmax(predict)))\n",
    "    axs[i,2].get_xaxis().set_visible(False)\n",
    "    axs[i,2].get_yaxis().set_visible(False)"
   ]
  }
 ],
 "metadata": {
  "kernelspec": {
   "display_name": "Python 3",
   "language": "python",
   "name": "python3"
  },
  "language_info": {
   "codemirror_mode": {
    "name": "ipython",
    "version": 3
   },
   "file_extension": ".py",
   "mimetype": "text/x-python",
   "name": "python",
   "nbconvert_exporter": "python",
   "pygments_lexer": "ipython3",
   "version": "3.6.10"
  }
 },
 "nbformat": 4,
 "nbformat_minor": 4
}
