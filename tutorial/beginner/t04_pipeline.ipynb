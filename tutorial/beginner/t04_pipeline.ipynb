{
 "cells": [
  {
   "cell_type": "markdown",
   "metadata": {},
   "source": [
    "<h1>Tutorial 4: Pipeline</h1>"
   ]
  },
  {
   "cell_type": "markdown",
   "metadata": {},
   "source": [
    "<h2>Overview</h2>"
   ]
  },
  {
   "cell_type": "markdown",
   "metadata": {},
   "source": [
    "In this tutorial, we will talk about the following:"
   ]
  },
  {
   "cell_type": "markdown",
   "metadata": {},
   "source": [
    "* Loading data into Pipeline\n",
    "    * Using tf.data.Dataset\n",
    "    * Using torch.Dataloader\n",
    "    * Using FastEstimator dataset\n",
    "* Getting results in Pipeline\n",
    "* How to use operators in Pipeline\n",
    "    * Basic concepts about operators\n",
    "    * Univariate and Multivariate operators\n",
    "    * Customized operators\n",
    "    * Load operators into Pipeline and visualize results"
   ]
  },
  {
   "cell_type": "markdown",
   "metadata": {},
   "source": [
    "In deep learning, data preprocessing is a way of converting data from the raw form to a much more usable or desired form. It is one crucial step in the model training as it directly affects the ability of model to learn. <br>\n",
    "`Pipeline` API operates by enabling such tasks in efficient manner. It takes care of extracting data from the disk and preprocessing before feeding it to the model. `Pipeline` operations usually happen on CPU."
   ]
  },
  {
   "cell_type": "markdown",
   "metadata": {},
   "source": [
    "<h2>Loading data in Pipeline</h2>"
   ]
  },
  {
   "cell_type": "markdown",
   "metadata": {},
   "source": [
    "In tutorial 2, we demonstrated the different types of datasets. We will see how datasets can be loaded in the `Pipeline` and various operations can be applied to the data. `fe.Pipeline` handles three different type of datasets,\n",
    "* tf.data.Dataset\n",
    "* torch.data.Dataloader\n",
    "* fe.dataset\n",
    "\n",
    "Let's create a sample datasets `tf.data.Dataset` and `torch.data.Dataloader` from numpy array and we will load them into `Pipeline`<br>"
   ]
  },
  {
   "cell_type": "code",
   "execution_count": 1,
   "metadata": {},
   "outputs": [],
   "source": [
    "import numpy as np\n",
    "\n",
    "# sample numpy array to later create datasets from them\n",
    "train_data = np.random.sample((100,2)) "
   ]
  },
  {
   "cell_type": "markdown",
   "metadata": {},
   "source": [
    "<h3>Using tf.data.Dataset</h3>"
   ]
  },
  {
   "cell_type": "code",
   "execution_count": 2,
   "metadata": {},
   "outputs": [],
   "source": [
    "import fastestimator as fe\n",
    "import tensorflow as tf\n",
    "\n",
    "# create tf.data.Datasets from sample data\n",
    "dataset_tf = tf.data.Dataset.from_tensor_slices(train_data)\n",
    "dataset_tf = dataset_tf.batch(4)\n",
    "\n",
    "# load data into pipeline\n",
    "pipeline_tf = fe.Pipeline(dataset_tf)"
   ]
  },
  {
   "cell_type": "markdown",
   "metadata": {},
   "source": [
    "<h3>Using torch.data.Dataloader</h3>"
   ]
  },
  {
   "cell_type": "code",
   "execution_count": 3,
   "metadata": {},
   "outputs": [],
   "source": [
    "import torch\n",
    "from torch.utils import data\n",
    "\n",
    "# create torch.data.Dataloader from sample data\n",
    "dataset_torch = data.TensorDataset(torch.Tensor(train_data))\n",
    "dataloader_torch = data.DataLoader(dataset_torch, batch_size=4)\n",
    "\n",
    "# load dataloader instance into pipeline\n",
    "pipeline_torch = fe.Pipeline(dataloader_torch)"
   ]
  },
  {
   "cell_type": "markdown",
   "metadata": {},
   "source": [
    "<h3>Using FastEstimator Dataset</h3>"
   ]
  },
  {
   "cell_type": "markdown",
   "metadata": {},
   "source": [
    "Next, we will see how to use one of the Fastestimator Dataset in the `Pipeline`. We will create `fe.dataset.NumpyDataset` and load it into pipeline. As we saw in tutorial 2, `NumpyDataset` takes dictionary with keys for <b>Input data</b> and <b>Ground truth label</b>."
   ]
  },
  {
   "cell_type": "code",
   "execution_count": 4,
   "metadata": {},
   "outputs": [],
   "source": [
    "from fastestimator.dataset.numpy_dataset import NumpyDataset\n",
    "\n",
    "x_train, y_train = (np.random.sample((100, 2)), np.random.sample((100, 1)))\n",
    "x_eval, y_eval = (np.random.sample((100, 2)), np.random.sample((100, 1)))\n",
    "\n",
    "# create NumpyDataset from the sample data\n",
    "train_data = NumpyDataset({\"x\": x_train, \"y\": y_train})\n",
    "eval_data = NumpyDataset({\"x\": x_eval, \"y\": y_eval})\n",
    "\n",
    "pipeline_fe = fe.Pipeline(train_data=train_data, eval_data=eval_data, batch_size=1)"
   ]
  },
  {
   "cell_type": "markdown",
   "metadata": {},
   "source": [
    "<h2>Getting results in Pipeline</h2>"
   ]
  },
  {
   "cell_type": "markdown",
   "metadata": {},
   "source": [
    "After loading the data or performing preprocessing tasks, you might want to inspect the data in the `Pipeline` and ensure the output of the `Pipeline` is as you expected. `fe.Pipeline.get_results` provides this feature and is built to access such data in the `Pipeline`."
   ]
  },
  {
   "cell_type": "code",
   "execution_count": 5,
   "metadata": {},
   "outputs": [
    {
     "data": {
      "text/plain": [
       "[<tf.Tensor: shape=(4, 2), dtype=float64, numpy=\n",
       " array([[0.82265336, 0.1870217 ],\n",
       "        [0.60060343, 0.61630385],\n",
       "        [0.51599405, 0.32319161],\n",
       "        [0.03101096, 0.22400229]])>,\n",
       " <tf.Tensor: shape=(4, 2), dtype=float64, numpy=\n",
       " array([[0.07499524, 0.00147919],\n",
       "        [0.27797139, 0.91683221],\n",
       "        [0.12748695, 0.57718975],\n",
       "        [0.7419977 , 0.33204789]])>]"
      ]
     },
     "execution_count": 5,
     "metadata": {},
     "output_type": "execute_result"
    }
   ],
   "source": [
    "pipeline_tf.get_results(num_steps=2)"
   ]
  },
  {
   "cell_type": "markdown",
   "metadata": {},
   "source": [
    "<h2>How to use operators in Pipeline</h2>"
   ]
  },
  {
   "cell_type": "markdown",
   "metadata": {},
   "source": [
    "In tutorial 3, we learned about the `Operators` and their structures. They are used in FastEstimator for constructing workflow graphs. Here we will talk about Numpy Operator (NumpyOp) and how to use them in `Pipeline`."
   ]
  },
  {
   "cell_type": "markdown",
   "metadata": {},
   "source": [
    "`NumpyOp` is the building block of the `Pipeline` and inherits base class `Op`. It performs preprocessing and augmentation tasks on non-Tensor data. With the list of `NumpyOp`, preprocessing tasks become considerably easier in just few lines of code. Many of the augmentation operations leverages the image augmentation library [albumentations](https://github.com/albumentations-team/albumentations). <br>\n",
    "`NumpyOp` can be further classified in three main classes:\n",
    "   * Univariate Ops\n",
    "   * Multivariate Ops\n",
    "   * Meta Ops\n",
    "   \n",
    "In addition to that, we can customize the `NumpyOp` to perform our own operations on the data. Inheriting `fe.op.numpyop` we can create custom `NumpyOp` and use it in `Pipeline`.<br>\n",
    "In this tutorial, we will learn about Univariate, Multivariate and Custom Ops. We will discuss Meta Ops in the advanced tutorial of the `Pipeline`."
   ]
  },
  {
   "cell_type": "markdown",
   "metadata": {},
   "source": [
    "To demonstrate use of operators, we will first load Fashion MNIST dataset in the Pipeline and then will define list of operators for preprocessing data. We will then visualize `Pipeline` Inputs and Outputs."
   ]
  },
  {
   "cell_type": "code",
   "execution_count": 6,
   "metadata": {},
   "outputs": [],
   "source": [
    "from fastestimator.dataset.data import mnist\n",
    "\n",
    "mnist_train, mnist_eval = mnist.load_data()"
   ]
  },
  {
   "cell_type": "markdown",
   "metadata": {},
   "source": [
    "<h3>Univariate Ops</h3>"
   ]
  },
  {
   "cell_type": "markdown",
   "metadata": {},
   "source": [
    "Univariate operators perform the same operation for all features. It takes single/multiple input(s) and return single/multiple output(s). For example, `Minmax` is an univariate operator, no matter what feature it is it will perform<br>\n",
    "(data - min) / (max - min)<br>"
   ]
  },
  {
   "cell_type": "code",
   "execution_count": 7,
   "metadata": {},
   "outputs": [],
   "source": [
    "from fastestimator.op.numpyop.univariate import Minmax\n",
    "\n",
    "minmax_op = Minmax(inputs=\"x\", outputs=\"x_out\")"
   ]
  },
  {
   "cell_type": "markdown",
   "metadata": {},
   "source": [
    "<h3>Multivariate Ops</h3>"
   ]
  },
  {
   "cell_type": "markdown",
   "metadata": {},
   "source": [
    "Multivariate operaters perform different operations simultaneously based on the nature of features. For example, for input data it will change both input change as well as bounding box or masks at the same time."
   ]
  },
  {
   "cell_type": "markdown",
   "metadata": {},
   "source": [
    "We will define Rotate operator that will rotate the images 180 degrees."
   ]
  },
  {
   "cell_type": "code",
   "execution_count": 8,
   "metadata": {},
   "outputs": [],
   "source": [
    "from fastestimator.op.numpyop.multivariate import Rotate\n",
    "\n",
    "rotation_op = Rotate(image_in=\"x_out\", image_out=\"x_out\", limit=180)"
   ]
  },
  {
   "cell_type": "markdown",
   "metadata": {},
   "source": [
    "<h3>Custom NumpyOp</h3>"
   ]
  },
  {
   "cell_type": "markdown",
   "metadata": {},
   "source": [
    "Let's create custom Numpy operator that add random noise to the input images."
   ]
  },
  {
   "cell_type": "code",
   "execution_count": 9,
   "metadata": {},
   "outputs": [],
   "source": [
    "from fastestimator.op.numpyop import NumpyOp\n",
    "\n",
    "class AddRandomNoise(NumpyOp):\n",
    "    def forward(self, data, state):\n",
    "        # generate noise array with 0 mean and 0.1 standard deviation\n",
    "        noise = np.random.normal(0, 0.1, data.shape)\n",
    "        data = data + noise\n",
    "        return data\n",
    "    \n",
    "random_noise_op = AddRandomNoise(inputs=\"x_out\", outputs=\"x_out\")"
   ]
  },
  {
   "cell_type": "markdown",
   "metadata": {},
   "source": [
    "<h3>Load operators in Pipeline and visualize results</h3>"
   ]
  },
  {
   "cell_type": "markdown",
   "metadata": {},
   "source": [
    "Now, We will add the list of operaters, that we defined earlier, in the `Pipeline`. "
   ]
  },
  {
   "cell_type": "code",
   "execution_count": 10,
   "metadata": {},
   "outputs": [],
   "source": [
    "pipeline = fe.Pipeline(train_data=mnist_train,\n",
    "                       eval_data=mnist_eval,\n",
    "                       ops=[minmax_op, rotation_op, random_noise_op],\n",
    "                      batch_size=2)"
   ]
  },
  {
   "cell_type": "markdown",
   "metadata": {},
   "source": [
    "Let's get the `Pipeline` results and visualize the input and output images"
   ]
  },
  {
   "cell_type": "code",
   "execution_count": 11,
   "metadata": {},
   "outputs": [
    {
     "data": {
      "image/png": "[encoded data removed]",
      "text/plain": [
       "<Figure size 1080x1080 with 6 Axes>"
      ]
     },
     "metadata": {},
     "output_type": "display_data"
    }
   ],
   "source": [
    "import matplotlib.pyplot as plt\n",
    "\n",
    "sample_num = 3\n",
    "\n",
    "# get the pipeline results\n",
    "data = pipeline.get_results()\n",
    "data_xin = data[\"x\"]\n",
    "data_xout = data[\"x_out\"]\n",
    "\n",
    "# define subplots \n",
    "fig, axs = plt.subplots(sample_num, 2, figsize=(15,15))\n",
    "\n",
    "axs[0,0].set_title(\"Original Image\")\n",
    "axs[0,1].set_title(\"Pipeline Output\")\n",
    "\n",
    "plt.setp(axs, xticks=[], yticks=[])\n",
    "\n",
    "# iterate over sample to plot the results\n",
    "for i, j in enumerate(np.random.randint(low=0, high=2, size=sample_num)):\n",
    "    img_in = data_xin.numpy()[j]\n",
    "    axs[i,0].imshow(img_in, cmap=\"gray\")\n",
    "    \n",
    "    img_out = data_xout.numpy()[j]\n",
    "    axs[i,1].imshow(img_out, cmap=\"gray\")"
   ]
  }
 ],
 "metadata": {
  "kernelspec": {
   "display_name": "fe",
   "language": "python",
   "name": "fe"
  },
  "language_info": {
   "codemirror_mode": {
    "name": "ipython",
    "version": 3
   },
   "file_extension": ".py",
   "mimetype": "text/x-python",
   "name": "python",
   "nbconvert_exporter": "python",
   "pygments_lexer": "ipython3",
   "version": "3.6.6"
  }
 },
 "nbformat": 4,
 "nbformat_minor": 4
}
