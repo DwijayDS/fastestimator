{
 "cells": [
  {
   "cell_type": "markdown",
   "metadata": {},
   "source": [
    "# Advanced Tutorial 5: Scheduler\n",
    "In this tutorial, we will talk about:\n",
    "* **Scheduler:**\n",
    "    * Concept\n",
    "    * EpochScheduler\n",
    "    * RepeatScheduler\n",
    "* **Things you can schedule:**\n",
    "    * dataset\n",
    "    * batch_size\n",
    "    * NumpyOps\n",
    "    * optimizer\n",
    "    * TensorOps"
   ]
  },
  {
   "cell_type": "markdown",
   "metadata": {},
   "source": [
    "## Scheduler\n",
    "### Concept\n",
    "Deep learning training is getting more complicated every year, one major aspect of the complexity is about time-dependent training. For example:\n",
    "* use different dataset for different training epochs.\n",
    "* apply different preprocessing for different epochs.\n",
    "* train different network on different epochs. \n",
    "* ...\n",
    "\n",
    "The list goes on and on, in order to provide easy way for user to accomplish time-dependent training, we provide `Scheduler` class which can help you scheduler any part of the training system. \n",
    "\n",
    "Please note that the basic time unit that `Scheduler` can handle `epoch`. If users wants arbitary scheduling cycle, the most trivial way is to customize the length of one epoch in `Estimator`."
   ]
  },
  {
   "cell_type": "markdown",
   "metadata": {},
   "source": [
    "### EpochScheduler\n",
    "The most obvious way to schedule things is through a epoch-value mapping. For example If users want to schedle the batchsize in the following way:\n",
    "\n",
    "* epoch 1 - batchsize 16\n",
    "* epoch 2 - batchsize 32\n",
    "* epoch 3 - batchsize 32\n",
    "* epoch 4 - batchsize 64\n",
    "* epoch 5 - batchsize 64\n",
    "\n",
    "You can do the following:"
   ]
  },
  {
   "cell_type": "code",
   "execution_count": 1,
   "metadata": {},
   "outputs": [
    {
     "name": "stderr",
     "output_type": "stream",
     "text": [
      "/anaconda3/lib/python3.6/site-packages/h5py/__init__.py:36: FutureWarning: Conversion of the second argument of issubdtype from `float` to `np.floating` is deprecated. In future, it will be treated as `np.float64 == np.dtype(float).type`.\n",
      "  from ._conv import register_converters as _register_converters\n"
     ]
    },
    {
     "name": "stdout",
     "output_type": "stream",
     "text": [
      "At epoch 1, batch size is 16\n",
      "At epoch 2, batch size is 32\n",
      "At epoch 3, batch size is 32\n",
      "At epoch 4, batch size is 64\n",
      "At epoch 5, batch size is 64\n"
     ]
    }
   ],
   "source": [
    "from fastestimator.schedule import EpochScheduler\n",
    "batch_size = EpochScheduler(epoch_dict={1:16, 2:32, 4:64})\n",
    "\n",
    "for epoch in range(1, 6):\n",
    "    print(\"At epoch {}, batch size is {}\".format(epoch, batch_size.get_current_value(epoch)))"
   ]
  },
  {
   "cell_type": "markdown",
   "metadata": {},
   "source": [
    "### RepeatScheduler\n",
    "If your schedule follows a repeated pattern, then you don't want to specify that for all epochs. `RepeatScheduler` is there to help you. Let's say we want batch size on odd epoch is 32, on even epoch is 64:"
   ]
  },
  {
   "cell_type": "code",
   "execution_count": 2,
   "metadata": {},
   "outputs": [
    {
     "name": "stdout",
     "output_type": "stream",
     "text": [
      "At epoch 1, batch size is 32\n",
      "At epoch 2, batch size is 64\n",
      "At epoch 3, batch size is 32\n",
      "At epoch 4, batch size is 64\n",
      "At epoch 5, batch size is 32\n"
     ]
    }
   ],
   "source": [
    "from fastestimator.schedule import RepeatScheduler\n",
    "batch_size = RepeatScheduler(repeat_list=[32, 64])\n",
    "\n",
    "for epoch in range(1, 6):\n",
    "    print(\"At epoch {}, batch size is {}\".format(epoch, batch_size.get_current_value(epoch)))"
   ]
  },
  {
   "cell_type": "markdown",
   "metadata": {},
   "source": [
    "## Things you can schedule:\n",
    "\n",
    "### dataset\n",
    "Scheduling training or evaluation dataset is very common in deep learning, for example in curriculum learning, people will train on an easy task first then gradually move on to harder dataset.  For illustration purpose, let's use two different instance of the same mnist dataset:"
   ]
  },
  {
   "cell_type": "code",
   "execution_count": 3,
   "metadata": {},
   "outputs": [],
   "source": [
    "from fastestimator.dataset.data import mnist, cifar10\n",
    "from fastestimator.schedule import EpochScheduler\n",
    "\n",
    "train_data1, eval_data = mnist.load_data()\n",
    "train_data2, _ = mnist.load_data()\n",
    "train_data = EpochScheduler(epoch_dict={1:train_data1, 3: train_data2})"
   ]
  },
  {
   "cell_type": "markdown",
   "metadata": {},
   "source": [
    "### batch size\n",
    "We can also schedule the batch size on different epochs to make gpu more efficient."
   ]
  },
  {
   "cell_type": "code",
   "execution_count": 4,
   "metadata": {},
   "outputs": [],
   "source": [
    "batch_size = RepeatScheduler(repeat_list=[32,64])"
   ]
  },
  {
   "cell_type": "markdown",
   "metadata": {},
   "source": [
    "### NumpyOp\n",
    "Preprocessing operators can also be scheduled. For illustration purpose, we will apply an `Resize` for first two epochs and not applying it for the third epoch:"
   ]
  },
  {
   "cell_type": "code",
   "execution_count": 5,
   "metadata": {},
   "outputs": [],
   "source": [
    "from fastestimator.op.numpyop.univariate import ExpandDims, Minmax\n",
    "from fastestimator.op.numpyop.multivariate import Resize\n",
    "import fastestimator as fe\n",
    "\n",
    "resize_op = EpochScheduler(epoch_dict={1:Resize(height=28, width=28, image_in=\"x\", image_out=\"x\"), 3:None})\n",
    "\n",
    "pipeline = fe.Pipeline(train_data=train_data, \n",
    "                       eval_data=eval_data,\n",
    "                       batch_size=batch_size, \n",
    "                       ops=[ExpandDims(inputs=\"x\", outputs=\"x\"), resize_op, Minmax(inputs=\"x\", outputs=\"x\")])"
   ]
  },
  {
   "cell_type": "markdown",
   "metadata": {},
   "source": [
    "### optimizer\n",
    "For a fast convergence, some people like to use different optimizer at different phase. In our example,we will use `adam` for the first epoch and `sgd` for the second epoch. "
   ]
  },
  {
   "cell_type": "code",
   "execution_count": 6,
   "metadata": {},
   "outputs": [],
   "source": [
    "from fastestimator.architecture.tensorflow import LeNet\n",
    "\n",
    "model_1 = fe.build(model_fn=LeNet, optimizer_fn=EpochScheduler(epoch_dict={1:\"adam\", 2: \"sgd\"}))"
   ]
  },
  {
   "cell_type": "markdown",
   "metadata": {},
   "source": [
    "### TensorOp\n",
    "We can schedule TensorOp just like NumpyOp. Let's define another model `model_2` such that:\n",
    "* epoch 1-2: train `model_1`\n",
    "* epoch 3: train `model_2`"
   ]
  },
  {
   "cell_type": "code",
   "execution_count": 7,
   "metadata": {},
   "outputs": [],
   "source": [
    "from fastestimator.op.tensorop.model import ModelOp, UpdateOp\n",
    "from fastestimator.op.tensorop.loss import CrossEntropy\n",
    "\n",
    "model_2 = fe.build(model_fn=LeNet, optimizer_fn=\"adam\")\n",
    "\n",
    "model_map = {1: ModelOp(model=model_1, inputs=\"x\", outputs=\"y_pred\"), \n",
    "             3: ModelOp(model=model_2, inputs=\"x\", outputs=\"y_pred\")}\n",
    "\n",
    "update_map = {1: UpdateOp(model=model_1, loss_name=\"ce\"), 3: UpdateOp(model=model_2, loss_name=\"ce\")}\n",
    "\n",
    "network = fe.Network(ops=[EpochScheduler(model_map),\n",
    "                          CrossEntropy(inputs=(\"y_pred\", \"y\"), outputs=\"ce\"),\n",
    "                          EpochScheduler(update_map)])"
   ]
  },
  {
   "cell_type": "markdown",
   "metadata": {},
   "source": [
    "## Let the training begin\n",
    "Nothing special in here, create the estimator then start the training:"
   ]
  },
  {
   "cell_type": "code",
   "execution_count": 8,
   "metadata": {},
   "outputs": [
    {
     "name": "stdout",
     "output_type": "stream",
     "text": [
      "FastEstimator-Warn: No ModelSaver Trace detected. Models will not be saved.\n",
      "    ______           __  ______     __  _                 __            \n",
      "   / ____/___ ______/ /_/ ____/____/ /_(_)___ ___  ____ _/ /_____  _____\n",
      "  / /_  / __ `/ ___/ __/ __/ / ___/ __/ / __ `__ \\/ __ `/ __/ __ \\/ ___/\n",
      " / __/ / /_/ (__  ) /_/ /___(__  ) /_/ / / / / / / /_/ / /_/ /_/ / /    \n",
      "/_/    \\__,_/____/\\__/_____/____/\\__/_/_/ /_/ /_/\\__,_/\\__/\\____/_/     \n",
      "                                                                        \n",
      "\n",
      "FastEstimator-Start: step: 1; model1_lr: 0.001; model_lr: 0.01; \n",
      "FastEstimator-Train: step: 1; ce: 2.2982383; \n",
      "FastEstimator-Train: step: 300; ce: 0.26133412; steps/sec: 70.14; \n",
      "FastEstimator-Train: step: 600; ce: 0.031249696; steps/sec: 68.53; \n",
      "FastEstimator-Train: step: 900; ce: 0.1134463; steps/sec: 68.67; \n",
      "FastEstimator-Train: step: 1200; ce: 0.083426505; steps/sec: 68.53; \n",
      "FastEstimator-Train: step: 1500; ce: 0.032718502; steps/sec: 66.58; \n",
      "FastEstimator-Train: step: 1800; ce: 0.034739777; steps/sec: 69.45; \n",
      "FastEstimator-Train: step: 1875; epoch: 1; epoch_time: 29.85 sec; \n",
      "FastEstimator-Eval: step: 1875; epoch: 1; ce: 0.057982765; min_ce: 0.057982765; since_best: 0; \n",
      "FastEstimator-Train: step: 2100; ce: 0.012392752; steps/sec: 47.63; \n",
      "FastEstimator-Train: step: 2400; ce: 0.023588017; steps/sec: 43.43; \n",
      "FastEstimator-Train: step: 2700; ce: 0.009507541; steps/sec: 43.52; \n",
      "FastEstimator-Train: step: 2813; epoch: 2; epoch_time: 21.68 sec; \n",
      "FastEstimator-Eval: step: 2813; epoch: 2; ce: 0.033888463; min_ce: 0.033888463; since_best: 0; \n",
      "FastEstimator-Train: step: 3000; ce: 0.11985014; steps/sec: 54.07; \n",
      "FastEstimator-Train: step: 3300; ce: 0.031535544; steps/sec: 70.04; \n",
      "FastEstimator-Train: step: 3600; ce: 0.09138005; steps/sec: 69.48; \n",
      "FastEstimator-Train: step: 3900; ce: 0.06577636; steps/sec: 68.13; \n",
      "FastEstimator-Train: step: 4200; ce: 0.000930603; steps/sec: 68.8; \n",
      "FastEstimator-Train: step: 4500; ce: 0.0047831526; steps/sec: 71.04; \n",
      "FastEstimator-Train: step: 4688; epoch: 3; epoch_time: 27.21 sec; \n",
      "FastEstimator-Eval: step: 4688; epoch: 3; ce: 0.041508634; min_ce: 0.033888463; since_best: 1; \n",
      "FastEstimator-Finish: step: 4688; total_time: 82.15 sec; model1_lr: 0.001; model_lr: 0.01; \n"
     ]
    }
   ],
   "source": [
    "estimator = fe.Estimator(pipeline=pipeline, network=network, epochs=3, log_steps=300)\n",
    "estimator.fit()"
   ]
  }
 ],
 "metadata": {
  "kernelspec": {
   "display_name": "Python 3",
   "language": "python",
   "name": "python3"
  },
  "language_info": {
   "codemirror_mode": {
    "name": "ipython",
    "version": 3
   },
   "file_extension": ".py",
   "mimetype": "text/x-python",
   "name": "python",
   "nbconvert_exporter": "python",
   "pygments_lexer": "ipython3",
   "version": "3.7.6"
  }
 },
 "nbformat": 4,
 "nbformat_minor": 4
}
