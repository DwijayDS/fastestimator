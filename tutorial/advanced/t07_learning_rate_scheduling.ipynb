{
 "cells": [
  {
   "cell_type": "markdown",
   "metadata": {},
   "source": [
    "# Advanced Tutorial 7: Learning Rate Scheduling\n",
    "\n",
    "## Overview\n",
    "\n",
    "In this tutorial, we will discuss:\n",
    "\n",
    "* [Customizing a Learning Rate Schedule Function](#ta07customize)\n",
    "    * [epoch-wise](#ta07epoch)\n",
    "    * [step-wise](#ta07step)\n",
    "* [Using a Built-In lr_schedule Function](#ta07builtin)\n",
    "    * [cosine decay](#ta07cosine)\n",
    "* [Related Apphub Examples](#ta07apphub)"
   ]
  },
  {
   "cell_type": "markdown",
   "metadata": {},
   "source": [
    "Learning rate schedules can be implemented using the `LRScheduler` `Trace`. `LRScheduler` takes the model and learning schedule through the **lr_fn** parameter. **lr_fn** should be a function/lambda function with 'step' or 'epoch' as its input parameter. This determines whether the learning schedule will be applied at a step or epoch level.\n",
    "\n",
    "For more details on traces, you can visit [tutorial 7](../beginner/t07_estimator.ipynb) in the beginner section and [tutorial 4](./t04_trace.ipynb) in the advanced section. \n",
    "\n",
    "Let's create a function to generate the pipeline, model, and network to be used for this tutorial:"
   ]
  },
  {
   "cell_type": "code",
   "execution_count": 1,
   "metadata": {},
   "outputs": [],
   "source": [
    "import fastestimator as fe\n",
    "from fastestimator.architecture.tensorflow import LeNet\n",
    "from fastestimator.dataset.data import mnist\n",
    "from fastestimator.op.numpyop.univariate import ExpandDims, Minmax\n",
    "from fastestimator.op.tensorop.loss import CrossEntropy\n",
    "from fastestimator.op.tensorop.model import ModelOp, UpdateOp\n",
    "\n",
    "\n",
    "def get_pipeline_model_network(model_name=\"LeNet\"):\n",
    "    train_data, _ = mnist.load_data()\n",
    "\n",
    "    pipeline = fe.Pipeline(train_data=train_data,\n",
    "                           batch_size=32,\n",
    "                           ops=[ExpandDims(inputs=\"x\", outputs=\"x\"), \n",
    "                                Minmax(inputs=\"x\", outputs=\"x\")])\n",
    "\n",
    "    model = fe.build(model_fn=LeNet, optimizer_fn=\"adam\", model_name=model_name)\n",
    "\n",
    "    network = fe.Network(ops=[\n",
    "        ModelOp(model=model, inputs=\"x\", outputs=\"y_pred\"),\n",
    "        CrossEntropy(inputs=(\"y_pred\", \"y\"), outputs=\"ce\"),\n",
    "        UpdateOp(model=model, loss_name=\"ce\")\n",
    "    ])\n",
    "\n",
    "    return pipeline, model, network"
   ]
  },
  {
   "cell_type": "markdown",
   "metadata": {},
   "source": [
    "<a id='ta07customize'></a>"
   ]
  },
  {
   "cell_type": "markdown",
   "metadata": {},
   "source": [
    "## Customizing a Learning Rate Schedule Function\n",
    "We can specify a custom learning schedule by passing a custom function to the **lr_fn** parameter of `LRScheduler`. We can have this learning rate schedule applied at either the epoch or step level. Epoch and step both start from 1."
   ]
  },
  {
   "cell_type": "markdown",
   "metadata": {},
   "source": [
    "<a id='ta07epoch'></a>"
   ]
  },
  {
   "cell_type": "markdown",
   "metadata": {},
   "source": [
    "### Epoch-wise\n",
    "To apply learning rate scheduling at an epoch level, the custom function should have 'epoch' as its parameter. Let's look at the example below which demonstrates this. We will be using the summary parameter in the fit method to be able to visualize the learning rate later. You can go through [tutorial 6](./t06_summary.ipynb) in the advanced section for more details on accessing training history."
   ]
  },
  {
   "cell_type": "code",
   "execution_count": 2,
   "metadata": {},
   "outputs": [
    {
     "name": "stdout",
     "output_type": "stream",
     "text": [
      "    ______           __  ______     __  _                 __            \n",
      "   / ____/___ ______/ /_/ ____/____/ /_(_)___ ___  ____ _/ /_____  _____\n",
      "  / /_  / __ `/ ___/ __/ __/ / ___/ __/ / __ `__ \\/ __ `/ __/ __ \\/ ___/\n",
      " / __/ / /_/ (__  ) /_/ /___(__  ) /_/ / / / / / / /_/ / /_/ /_/ / /    \n",
      "/_/    \\__,_/____/\\__/_____/____/\\__/_/_/ /_/ /_/\\__,_/\\__/\\____/_/     \n",
      "                                                                        \n",
      "\n",
      "FastEstimator-Warn: No ModelSaver Trace detected. Models will not be saved.\n",
      "FastEstimator-Start: step: 1; num_device: 0; logging_interval: 100; \n",
      "FastEstimator-Train: step: 1; ce: 2.3121834; LeNet_lr: 0.001; \n",
      "FastEstimator-Train: step: 100; ce: 0.3843257; steps/sec: 139.02; LeNet_lr: 0.001; \n",
      "FastEstimator-Train: step: 200; ce: 0.117751315; steps/sec: 131.96; LeNet_lr: 0.001; \n",
      "FastEstimator-Train: step: 300; ce: 0.20433763; steps/sec: 129.58; LeNet_lr: 0.001; \n",
      "FastEstimator-Train: step: 400; ce: 0.10046323; steps/sec: 122.35; LeNet_lr: 0.001; \n",
      "FastEstimator-Train: step: 500; ce: 0.18251789; steps/sec: 122.15; LeNet_lr: 0.001; \n",
      "FastEstimator-Train: step: 600; ce: 0.027669977; steps/sec: 118.68; LeNet_lr: 0.001; \n",
      "FastEstimator-Train: step: 700; ce: 0.018796597; steps/sec: 117.34; LeNet_lr: 0.001; \n",
      "FastEstimator-Train: step: 800; ce: 0.1343742; steps/sec: 113.8; LeNet_lr: 0.001; \n",
      "FastEstimator-Train: step: 900; ce: 0.066348195; steps/sec: 101.95; LeNet_lr: 0.001; \n",
      "FastEstimator-Train: step: 1000; ce: 0.21500783; steps/sec: 103.25; LeNet_lr: 0.001; \n",
      "FastEstimator-Train: step: 1100; ce: 0.020392025; steps/sec: 101.94; LeNet_lr: 0.001; \n",
      "FastEstimator-Train: step: 1200; ce: 0.06266867; steps/sec: 101.34; LeNet_lr: 0.001; \n",
      "FastEstimator-Train: step: 1300; ce: 0.0051358286; steps/sec: 98.58; LeNet_lr: 0.001; \n",
      "FastEstimator-Train: step: 1400; ce: 0.11623003; steps/sec: 95.29; LeNet_lr: 0.001; \n",
      "FastEstimator-Train: step: 1500; ce: 0.2841274; steps/sec: 94.73; LeNet_lr: 0.001; \n",
      "FastEstimator-Train: step: 1600; ce: 0.0059423; steps/sec: 91.64; LeNet_lr: 0.001; \n",
      "FastEstimator-Train: step: 1700; ce: 0.020643737; steps/sec: 93.76; LeNet_lr: 0.001; \n",
      "FastEstimator-Train: step: 1800; ce: 0.05520491; steps/sec: 94.92; LeNet_lr: 0.001; \n",
      "FastEstimator-Train: step: 1875; epoch: 1; epoch_time: 19.52 sec; \n",
      "FastEstimator-Train: step: 1900; ce: 0.011271543; steps/sec: 94.66; LeNet_lr: 0.00095; \n",
      "FastEstimator-Train: step: 2000; ce: 0.02188245; steps/sec: 89.22; LeNet_lr: 0.00095; \n",
      "FastEstimator-Train: step: 2100; ce: 0.0048960065; steps/sec: 84.91; LeNet_lr: 0.00095; \n",
      "FastEstimator-Train: step: 2200; ce: 0.009766675; steps/sec: 90.6; LeNet_lr: 0.00095; \n",
      "FastEstimator-Train: step: 2300; ce: 0.008525206; steps/sec: 88.56; LeNet_lr: 0.00095; \n",
      "FastEstimator-Train: step: 2400; ce: 0.007846909; steps/sec: 85.83; LeNet_lr: 0.00095; \n",
      "FastEstimator-Train: step: 2500; ce: 0.11211253; steps/sec: 84.11; LeNet_lr: 0.00095; \n",
      "FastEstimator-Train: step: 2600; ce: 0.013980574; steps/sec: 80.19; LeNet_lr: 0.00095; \n",
      "FastEstimator-Train: step: 2700; ce: 0.026221849; steps/sec: 79.1; LeNet_lr: 0.00095; \n",
      "FastEstimator-Train: step: 2800; ce: 0.025860263; steps/sec: 78.37; LeNet_lr: 0.00095; \n",
      "FastEstimator-Train: step: 2900; ce: 0.008109703; steps/sec: 77.45; LeNet_lr: 0.00095; \n",
      "FastEstimator-Train: step: 3000; ce: 0.09107354; steps/sec: 75.67; LeNet_lr: 0.00095; \n",
      "FastEstimator-Train: step: 3100; ce: 0.003782929; steps/sec: 73.88; LeNet_lr: 0.00095; \n",
      "FastEstimator-Train: step: 3200; ce: 0.0090578655; steps/sec: 72.33; LeNet_lr: 0.00095; \n",
      "FastEstimator-Train: step: 3300; ce: 0.103154205; steps/sec: 83.93; LeNet_lr: 0.00095; \n",
      "FastEstimator-Train: step: 3400; ce: 0.013315021; steps/sec: 79.49; LeNet_lr: 0.00095; \n",
      "FastEstimator-Train: step: 3500; ce: 0.017441805; steps/sec: 85.13; LeNet_lr: 0.00095; \n",
      "FastEstimator-Train: step: 3600; ce: 0.017847143; steps/sec: 77.92; LeNet_lr: 0.00095; \n",
      "FastEstimator-Train: step: 3700; ce: 0.04056422; steps/sec: 82.93; LeNet_lr: 0.00095; \n",
      "FastEstimator-Train: step: 3750; epoch: 2; epoch_time: 23.04 sec; \n",
      "FastEstimator-Train: step: 3800; ce: 0.004228523; steps/sec: 79.59; LeNet_lr: 0.0009; \n",
      "FastEstimator-Train: step: 3900; ce: 0.0015197117; steps/sec: 81.38; LeNet_lr: 0.0009; \n",
      "FastEstimator-Train: step: 4000; ce: 0.0004167799; steps/sec: 79.58; LeNet_lr: 0.0009; \n",
      "FastEstimator-Train: step: 4100; ce: 0.012444577; steps/sec: 79.87; LeNet_lr: 0.0009; \n",
      "FastEstimator-Train: step: 4200; ce: 0.011467964; steps/sec: 80.24; LeNet_lr: 0.0009; \n",
      "FastEstimator-Train: step: 4300; ce: 0.004452401; steps/sec: 76.3; LeNet_lr: 0.0009; \n",
      "FastEstimator-Train: step: 4400; ce: 0.0045919186; steps/sec: 77.09; LeNet_lr: 0.0009; \n",
      "FastEstimator-Train: step: 4500; ce: 0.05509679; steps/sec: 80.72; LeNet_lr: 0.0009; \n",
      "FastEstimator-Train: step: 4600; ce: 0.0028458317; steps/sec: 76.64; LeNet_lr: 0.0009; \n",
      "FastEstimator-Train: step: 4700; ce: 0.014053181; steps/sec: 78.09; LeNet_lr: 0.0009; \n",
      "FastEstimator-Train: step: 4800; ce: 0.00821719; steps/sec: 77.62; LeNet_lr: 0.0009; \n",
      "FastEstimator-Train: step: 4900; ce: 0.05650976; steps/sec: 81.53; LeNet_lr: 0.0009; \n",
      "FastEstimator-Train: step: 5000; ce: 0.044777524; steps/sec: 75.98; LeNet_lr: 0.0009; \n",
      "FastEstimator-Train: step: 5100; ce: 0.000998376; steps/sec: 76.29; LeNet_lr: 0.0009; \n",
      "FastEstimator-Train: step: 5200; ce: 0.00041511073; steps/sec: 73.71; LeNet_lr: 0.0009; \n",
      "FastEstimator-Train: step: 5300; ce: 0.023241056; steps/sec: 86.19; LeNet_lr: 0.0009; \n",
      "FastEstimator-Train: step: 5400; ce: 0.18524896; steps/sec: 81.82; LeNet_lr: 0.0009; \n",
      "FastEstimator-Train: step: 5500; ce: 0.12962568; steps/sec: 83.83; LeNet_lr: 0.0009; \n",
      "FastEstimator-Train: step: 5600; ce: 0.0027833423; steps/sec: 83.36; LeNet_lr: 0.0009; \n",
      "FastEstimator-Train: step: 5625; epoch: 3; epoch_time: 23.63 sec; \n",
      "FastEstimator-Finish: step: 5625; total_time: 66.27 sec; LeNet_lr: 0.0009; \n"
     ]
    }
   ],
   "source": [
    "from fastestimator.summary.logs import visualize_logs\n",
    "from fastestimator.trace.adapt import LRScheduler\n",
    "\n",
    "def lr_schedule(epoch):\n",
    "    lr = 0.001*(20-epoch+1)/20\n",
    "    return lr\n",
    "\n",
    "pipeline, model, network = get_pipeline_model_network()\n",
    "\n",
    "traces = LRScheduler(model=model, lr_fn=lr_schedule)\n",
    "estimator = fe.Estimator(pipeline=pipeline, network=network, epochs=3, traces=traces)\n",
    "\n",
    "history = estimator.fit(summary=\"Experiment_1\")"
   ]
  },
  {
   "cell_type": "markdown",
   "metadata": {},
   "source": [
    "The learning rate is available in the training log at steps specified using the log_steps parameter in the `Estimator`. By default, training is logged every 100 steps."
   ]
  },
  {
   "cell_type": "code",
   "execution_count": 3,
   "metadata": {},
   "outputs": [
    {
     "data": {
      "image/png": "[encoded data removed]",
      "text/plain": [
       "<Figure size 288x201.6 with 1 Axes>"
      ]
     },
     "metadata": {
      "needs_background": "light"
     },
     "output_type": "display_data"
    }
   ],
   "source": [
    "visualize_logs(history, include_metrics=\"LeNet_lr\")"
   ]
  },
  {
   "cell_type": "markdown",
   "metadata": {},
   "source": [
    "As you can see, the learning rate changes only after every epoch."
   ]
  },
  {
   "cell_type": "markdown",
   "metadata": {},
   "source": [
    "<a id='ta07step'></a>"
   ]
  },
  {
   "cell_type": "markdown",
   "metadata": {},
   "source": [
    "### Step-wise\n",
    "The custom function should have 'step' as its parameter for step-based learning rate schedules. "
   ]
  },
  {
   "cell_type": "code",
   "execution_count": 4,
   "metadata": {},
   "outputs": [
    {
     "name": "stdout",
     "output_type": "stream",
     "text": [
      "    ______           __  ______     __  _                 __            \n",
      "   / ____/___ ______/ /_/ ____/____/ /_(_)___ ___  ____ _/ /_____  _____\n",
      "  / /_  / __ `/ ___/ __/ __/ / ___/ __/ / __ `__ \\/ __ `/ __/ __ \\/ ___/\n",
      " / __/ / /_/ (__  ) /_/ /___(__  ) /_/ / / / / / / /_/ / /_/ /_/ / /    \n",
      "/_/    \\__,_/____/\\__/_____/____/\\__/_/_/ /_/ /_/\\__,_/\\__/\\____/_/     \n",
      "                                                                        \n",
      "\n",
      "FastEstimator-Warn: No ModelSaver Trace detected. Models will not be saved.\n",
      "FastEstimator-Start: step: 1; num_device: 0; logging_interval: 100; \n",
      "FastEstimator-Train: step: 1; ce: 2.3268642; LeNet_lr: 0.001; \n",
      "FastEstimator-Train: step: 100; ce: 0.34729302; steps/sec: 81.02; LeNet_lr: 0.0009868; \n",
      "FastEstimator-Train: step: 200; ce: 0.16947752; steps/sec: 79.79; LeNet_lr: 0.00097346667; \n",
      "FastEstimator-Train: step: 300; ce: 0.1158019; steps/sec: 79.11; LeNet_lr: 0.00096013333; \n",
      "FastEstimator-Train: step: 400; ce: 0.08662731; steps/sec: 77.06; LeNet_lr: 0.0009468; \n",
      "FastEstimator-Train: step: 500; ce: 0.0455483; steps/sec: 75.55; LeNet_lr: 0.00093346665; \n",
      "FastEstimator-Train: step: 600; ce: 0.17311177; steps/sec: 77.16; LeNet_lr: 0.0009201333; \n",
      "FastEstimator-Train: step: 700; ce: 0.07044801; steps/sec: 77.25; LeNet_lr: 0.0009068; \n",
      "FastEstimator-Train: step: 800; ce: 0.060867704; steps/sec: 76.46; LeNet_lr: 0.00089346664; \n",
      "FastEstimator-Train: step: 900; ce: 0.14833035; steps/sec: 77.65; LeNet_lr: 0.00088013336; \n",
      "FastEstimator-Train: step: 1000; ce: 0.01502298; steps/sec: 75.22; LeNet_lr: 0.0008668; \n",
      "FastEstimator-Train: step: 1100; ce: 0.14445232; steps/sec: 75.63; LeNet_lr: 0.0008534667; \n",
      "FastEstimator-Train: step: 1200; ce: 0.027258653; steps/sec: 74.33; LeNet_lr: 0.00084013335; \n",
      "FastEstimator-Train: step: 1300; ce: 0.12475329; steps/sec: 73.37; LeNet_lr: 0.0008268; \n",
      "FastEstimator-Train: step: 1400; ce: 0.09298558; steps/sec: 76.89; LeNet_lr: 0.0008134667; \n",
      "FastEstimator-Train: step: 1500; ce: 0.048965212; steps/sec: 71.28; LeNet_lr: 0.00080013333; \n",
      "FastEstimator-Train: step: 1600; ce: 0.043585315; steps/sec: 74.56; LeNet_lr: 0.0007868; \n",
      "FastEstimator-Train: step: 1700; ce: 0.18490058; steps/sec: 72.17; LeNet_lr: 0.00077346666; \n",
      "FastEstimator-Train: step: 1800; ce: 0.08914224; steps/sec: 73.68; LeNet_lr: 0.0007601333; \n",
      "FastEstimator-Train: step: 1875; epoch: 1; epoch_time: 24.87 sec; \n",
      "FastEstimator-Train: step: 1900; ce: 0.06549401; steps/sec: 72.05; LeNet_lr: 0.0007468; \n",
      "FastEstimator-Train: step: 2000; ce: 0.005398229; steps/sec: 73.46; LeNet_lr: 0.00073346664; \n",
      "FastEstimator-Train: step: 2100; ce: 0.19036639; steps/sec: 73.44; LeNet_lr: 0.0007201333; \n",
      "FastEstimator-Train: step: 2200; ce: 0.0037528607; steps/sec: 74.23; LeNet_lr: 0.0007068; \n",
      "FastEstimator-Train: step: 2300; ce: 0.07193564; steps/sec: 73.72; LeNet_lr: 0.0006934667; \n",
      "FastEstimator-Train: step: 2400; ce: 0.27834976; steps/sec: 72.84; LeNet_lr: 0.00068013335; \n",
      "FastEstimator-Train: step: 2500; ce: 0.058940012; steps/sec: 74.08; LeNet_lr: 0.0006668; \n",
      "FastEstimator-Train: step: 2600; ce: 0.14127687; steps/sec: 73.21; LeNet_lr: 0.0006534667; \n",
      "FastEstimator-Train: step: 2700; ce: 0.03426341; steps/sec: 75.49; LeNet_lr: 0.00064013334; \n",
      "FastEstimator-Train: step: 2800; ce: 0.033499897; steps/sec: 71.58; LeNet_lr: 0.0006268; \n",
      "FastEstimator-Train: step: 2900; ce: 0.008997633; steps/sec: 75.63; LeNet_lr: 0.00061346666; \n",
      "FastEstimator-Train: step: 3000; ce: 0.02539826; steps/sec: 74.05; LeNet_lr: 0.0006001333; \n",
      "FastEstimator-Train: step: 3100; ce: 0.10326672; steps/sec: 72.52; LeNet_lr: 0.0005868; \n",
      "FastEstimator-Train: step: 3200; ce: 0.008950228; steps/sec: 78.7; LeNet_lr: 0.00057346665; \n",
      "FastEstimator-Train: step: 3300; ce: 0.023044724; steps/sec: 76.58; LeNet_lr: 0.0005601333; \n",
      "FastEstimator-Train: step: 3400; ce: 0.030512333; steps/sec: 72.12; LeNet_lr: 0.0005468; \n",
      "FastEstimator-Train: step: 3500; ce: 0.0038094707; steps/sec: 72.78; LeNet_lr: 0.0005334667; \n",
      "FastEstimator-Train: step: 3600; ce: 0.041347966; steps/sec: 75.93; LeNet_lr: 0.00052013336; \n",
      "FastEstimator-Train: step: 3700; ce: 0.0005119173; steps/sec: 72.98; LeNet_lr: 0.0005068; \n",
      "FastEstimator-Train: step: 3750; epoch: 2; epoch_time: 25.35 sec; \n",
      "FastEstimator-Finish: step: 3750; total_time: 50.26 sec; LeNet_lr: 0.0005001333; \n"
     ]
    }
   ],
   "source": [
    "def lr_schedule(step):\n",
    "    lr = 0.001*(7500-step+1)/7500\n",
    "    return lr\n",
    "\n",
    "pipeline, model, network = get_pipeline_model_network()\n",
    "\n",
    "traces = LRScheduler(model=model, lr_fn=lr_schedule)\n",
    "estimator = fe.Estimator(pipeline=pipeline, network=network, epochs=2, traces=traces)\n",
    "\n",
    "history2 = estimator.fit(summary=\"Experiment_2\")"
   ]
  },
  {
   "cell_type": "code",
   "execution_count": 5,
   "metadata": {},
   "outputs": [
    {
     "data": {
      "image/png": "[encoded data removed]",
      "text/plain": [
       "<Figure size 288x201.6 with 1 Axes>"
      ]
     },
     "metadata": {
      "needs_background": "light"
     },
     "output_type": "display_data"
    }
   ],
   "source": [
    "visualize_logs(history2, include_metrics=\"LeNet_lr\")"
   ]
  },
  {
   "cell_type": "markdown",
   "metadata": {},
   "source": [
    "<a id='ta07builtin'></a>"
   ]
  },
  {
   "cell_type": "markdown",
   "metadata": {},
   "source": [
    "## Using Built-In lr_schedule Function\n",
    "Some learning rates schedules are widely popular in the deep learning community. We have implemented some of them in FastEstimator so that you don't need to write a custom schedule for them. We will be showcasing the `cosine decay` schedule below."
   ]
  },
  {
   "cell_type": "markdown",
   "metadata": {},
   "source": [
    "<a id='ta07cosine'></a>"
   ]
  },
  {
   "cell_type": "markdown",
   "metadata": {},
   "source": [
    "### cosine_decay\n",
    "We can specify the length of the decay cycle and initial learning rate using cycle_length and init_lr respectively. Similar to custom learning schedule, lr_fn should have step or epoch as a parameter. The FastEstimator cosine decay can be used as follows:"
   ]
  },
  {
   "cell_type": "code",
   "execution_count": 6,
   "metadata": {},
   "outputs": [
    {
     "name": "stdout",
     "output_type": "stream",
     "text": [
      "    ______           __  ______     __  _                 __            \n",
      "   / ____/___ ______/ /_/ ____/____/ /_(_)___ ___  ____ _/ /_____  _____\n",
      "  / /_  / __ `/ ___/ __/ __/ / ___/ __/ / __ `__ \\/ __ `/ __/ __ \\/ ___/\n",
      " / __/ / /_/ (__  ) /_/ /___(__  ) /_/ / / / / / / /_/ / /_/ /_/ / /    \n",
      "/_/    \\__,_/____/\\__/_____/____/\\__/_/_/ /_/ /_/\\__,_/\\__/\\____/_/     \n",
      "                                                                        \n",
      "\n",
      "FastEstimator-Warn: No ModelSaver Trace detected. Models will not be saved.\n",
      "FastEstimator-Start: step: 1; num_device: 0; logging_interval: 100; \n",
      "FastEstimator-Train: step: 1; ce: 2.3090043; LeNet_lr: 0.001; \n",
      "FastEstimator-Train: step: 100; ce: 0.34759182; steps/sec: 72.64; LeNet_lr: 0.0009931439; \n",
      "FastEstimator-Train: step: 200; ce: 0.124293044; steps/sec: 72.99; LeNet_lr: 0.0009724906; \n",
      "FastEstimator-Train: step: 300; ce: 0.11162343; steps/sec: 76.42; LeNet_lr: 0.00093861774; \n",
      "FastEstimator-Train: step: 400; ce: 0.1846501; steps/sec: 73.36; LeNet_lr: 0.0008924742; \n",
      "FastEstimator-Train: step: 500; ce: 0.09742119; steps/sec: 72.06; LeNet_lr: 0.0008353522; \n",
      "FastEstimator-Train: step: 600; ce: 0.013896314; steps/sec: 74.61; LeNet_lr: 0.0007688517; \n",
      "FastEstimator-Train: step: 700; ce: 0.10306329; steps/sec: 71.42; LeNet_lr: 0.00069483527; \n",
      "FastEstimator-Train: step: 800; ce: 0.020540427; steps/sec: 72.34; LeNet_lr: 0.00061537593; \n",
      "FastEstimator-Train: step: 900; ce: 0.33192694; steps/sec: 74.66; LeNet_lr: 0.0005326991; \n",
      "FastEstimator-Train: step: 1000; ce: 0.027314447; steps/sec: 73.71; LeNet_lr: 0.00044912045; \n",
      "FastEstimator-Train: step: 1100; ce: 0.07889113; steps/sec: 71.89; LeNet_lr: 0.00036698082; \n",
      "FastEstimator-Train: step: 1200; ce: 0.13510469; steps/sec: 71.83; LeNet_lr: 0.0002885808; \n",
      "FastEstimator-Train: step: 1300; ce: 0.026300007; steps/sec: 75.5; LeNet_lr: 0.00021611621; \n",
      "FastEstimator-Train: step: 1400; ce: 0.028623505; steps/sec: 70.93; LeNet_lr: 0.00015161661; \n",
      "FastEstimator-Train: step: 1500; ce: 0.12303919; steps/sec: 72.35; LeNet_lr: 9.688851e-05; \n",
      "FastEstimator-Train: step: 1600; ce: 0.08176289; steps/sec: 73.9; LeNet_lr: 5.3464726e-05; \n",
      "FastEstimator-Train: step: 1700; ce: 0.018114068; steps/sec: 76.93; LeNet_lr: 2.2561479e-05; \n",
      "FastEstimator-Train: step: 1800; ce: 0.02731928; steps/sec: 73.86; LeNet_lr: 5.0442964e-06; \n",
      "FastEstimator-Train: step: 1875; epoch: 1; epoch_time: 25.59 sec; \n",
      "FastEstimator-Train: step: 1900; ce: 0.014814988; steps/sec: 76.8; LeNet_lr: 0.0009995962; \n",
      "FastEstimator-Train: step: 2000; ce: 0.054916177; steps/sec: 76.62; LeNet_lr: 0.000989258; \n",
      "FastEstimator-Train: step: 2100; ce: 0.016524037; steps/sec: 75.3; LeNet_lr: 0.0009652308; \n",
      "FastEstimator-Train: step: 2200; ce: 0.03584575; steps/sec: 77.71; LeNet_lr: 0.0009281874; \n",
      "FastEstimator-Train: step: 2300; ce: 0.016135138; steps/sec: 73.3; LeNet_lr: 0.00087916537; \n",
      "FastEstimator-Train: step: 2400; ce: 0.017202383; steps/sec: 76.79; LeNet_lr: 0.0008195377; \n",
      "FastEstimator-Train: step: 2500; ce: 0.02264627; steps/sec: 75.4; LeNet_lr: 0.00075097446; \n",
      "FastEstimator-Train: step: 2600; ce: 0.014660467; steps/sec: 81.77; LeNet_lr: 0.00067539595; \n",
      "FastEstimator-Train: step: 2700; ce: 0.1418988; steps/sec: 76.47; LeNet_lr: 0.0005949189; \n",
      "FastEstimator-Train: step: 2800; ce: 0.033834495; steps/sec: 74.0; LeNet_lr: 0.00051179744; \n",
      "FastEstimator-Train: step: 2900; ce: 0.117458574; steps/sec: 75.8; LeNet_lr: 0.00042835958; \n",
      "FastEstimator-Train: step: 3000; ce: 0.039562702; steps/sec: 74.06; LeNet_lr: 0.0003469422; \n",
      "FastEstimator-Train: step: 3100; ce: 0.013925586; steps/sec: 77.25; LeNet_lr: 0.00026982563; \n",
      "FastEstimator-Train: step: 3200; ce: 0.010165918; steps/sec: 74.82; LeNet_lr: 0.0001991698; \n",
      "FastEstimator-Train: step: 3300; ce: 0.009503109; steps/sec: 74.25; LeNet_lr: 0.00013695359; \n",
      "FastEstimator-Train: step: 3400; ce: 0.02341089; steps/sec: 75.41; LeNet_lr: 8.491957e-05; \n",
      "FastEstimator-Train: step: 3500; ce: 0.06209151; steps/sec: 74.37; LeNet_lr: 4.452509e-05; \n",
      "FastEstimator-Train: step: 3600; ce: 0.105473876; steps/sec: 78.39; LeNet_lr: 1.6901524e-05; \n",
      "FastEstimator-Train: step: 3700; ce: 0.010678038; steps/sec: 74.96; LeNet_lr: 2.8225472e-06; \n",
      "FastEstimator-Train: step: 3750; epoch: 2; epoch_time: 24.75 sec; \n",
      "FastEstimator-Finish: step: 3750; total_time: 50.39 sec; LeNet_lr: 1.0007011e-06; \n"
     ]
    }
   ],
   "source": [
    "from fastestimator.schedule import cosine_decay\n",
    "\n",
    "pipeline, model, network = get_pipeline_model_network()\n",
    "\n",
    "traces = LRScheduler(model=model, lr_fn=lambda step: cosine_decay(step, cycle_length=1875, init_lr=1e-3))\n",
    "estimator = fe.Estimator(pipeline=pipeline, network=network, epochs=2, traces=traces)\n",
    "\n",
    "history3 = estimator.fit(summary=\"Experiment_3\")"
   ]
  },
  {
   "cell_type": "code",
   "execution_count": 7,
   "metadata": {},
   "outputs": [
    {
     "data": {
      "image/png": "[encoded data removed]",
      "text/plain": [
       "<Figure size 288x201.6 with 1 Axes>"
      ]
     },
     "metadata": {
      "needs_background": "light"
     },
     "output_type": "display_data"
    }
   ],
   "source": [
    "visualize_logs(history3, include_metrics=\"LeNet_lr\")"
   ]
  },
  {
   "cell_type": "markdown",
   "metadata": {},
   "source": [
    "<a id='ta07apphub'></a>"
   ]
  },
  {
   "cell_type": "markdown",
   "metadata": {},
   "source": [
    "## Apphub Examples\n",
    "You can find some practical examples of the concepts described here in the following FastEstimator Apphubs:\n",
    "\n",
    "* [MNIST](../../apphub/image_classification/mnist/mnist.ipynb)\n",
    "* [CIFAR10](../../apphub/image_classification/cifar10_fast/cifar10_fast.ipynb)"
   ]
  }
 ],
 "metadata": {
  "kernelspec": {
   "display_name": "Python 3",
   "language": "python",
   "name": "python3"
  },
  "language_info": {
   "codemirror_mode": {
    "name": "ipython",
    "version": 3
   },
   "file_extension": ".py",
   "mimetype": "text/x-python",
   "name": "python",
   "nbconvert_exporter": "python",
   "pygments_lexer": "ipython3",
   "version": "3.7.6"
  }
 },
 "nbformat": 4,
 "nbformat_minor": 4
}
