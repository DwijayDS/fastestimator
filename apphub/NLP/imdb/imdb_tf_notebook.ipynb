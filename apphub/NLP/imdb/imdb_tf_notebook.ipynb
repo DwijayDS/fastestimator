{
 "cells": [
  {
   "cell_type": "markdown",
   "metadata": {},
   "source": [
    "<h1>IMDB Reviews sentiments prediction using LSTM</h1>"
   ]
  },
  {
   "cell_type": "code",
   "execution_count": 1,
   "metadata": {},
   "outputs": [],
   "source": [
    "import os\n",
    "import numpy as np\n",
    "import tempfile\n",
    "import tensorflow as tf\n",
    "from tensorflow.python.keras import layers\n",
    "import fastestimator as fe\n",
    "from fastestimator.dataset.data import imdb_review\n",
    "from fastestimator.op.numpyop.univariate.reshape import Reshape\n",
    "from fastestimator.op.tensorop.loss import CrossEntropy\n",
    "from fastestimator.op.tensorop.model import ModelOp, UpdateOp\n",
    "from fastestimator.trace.io import BestModelSaver\n",
    "from fastestimator.trace.metric import Accuracy"
   ]
  },
  {
   "cell_type": "code",
   "execution_count": 2,
   "metadata": {},
   "outputs": [],
   "source": [
    "MAX_WORDS = 10000\n",
    "MAX_LEN = 500\n",
    "batch_size = 64\n",
    "epochs = 10"
   ]
  },
  {
   "cell_type": "markdown",
   "metadata": {},
   "source": [
    "<h2>Step 1: Prepare training & evaluation data and define Pipeline</h2>"
   ]
  },
  {
   "cell_type": "markdown",
   "metadata": {},
   "source": [
    "We are loading the dataset from the tf.keras.datasets.imdb which contains movie reviews and sentiment scores. All the words have been replaced with the integers that specifies the popularity of the word in corpus. To ensure all the sequences are of same length we need to pad the input sequences before defining the Pipeline."
   ]
  },
  {
   "cell_type": "code",
   "execution_count": 3,
   "metadata": {},
   "outputs": [],
   "source": [
    "train_data, eval_data = imdb_review.load_data(MAX_LEN, MAX_WORDS)\n",
    "pipeline = fe.Pipeline(train_data=train_data,\n",
    "                       eval_data=eval_data,\n",
    "                       batch_size=batch_size,\n",
    "                       ops=Reshape(1, inputs=\"y\", outputs=\"y\"))"
   ]
  },
  {
   "cell_type": "markdown",
   "metadata": {},
   "source": [
    "<h2>Step 2: Create model and FastEstimator network</h2>"
   ]
  },
  {
   "cell_type": "markdown",
   "metadata": {},
   "source": [
    "First, we have to define the network architecture and after defining the architecture, users are expected to feed the architecture definition, its associated model name and optimizer to fe.build."
   ]
  },
  {
   "cell_type": "code",
   "execution_count": 4,
   "metadata": {},
   "outputs": [],
   "source": [
    "def create_lstm():\n",
    "    model = tf.keras.Sequential()\n",
    "    model.add(layers.Embedding(MAX_WORDS, 64, input_length=MAX_LEN))\n",
    "    model.add(layers.Conv1D(32, 3, padding='same', activation='relu'))\n",
    "    model.add(layers.MaxPooling1D(pool_size=4))\n",
    "    model.add(layers.LSTM(64))\n",
    "    model.add(layers.Dense(250, activation='relu'))\n",
    "    model.add(layers.Dense(1, activation=\"sigmoid\"))\n",
    "    return model"
   ]
  },
  {
   "cell_type": "markdown",
   "metadata": {},
   "source": [
    "Network is the object that define the whole logic of neural network, including models, loss functions, optimizers etc. A Network can have several different models and loss funcitons (like GAN). <b>fe.Network</b> takes series of operators and here we feed our model in the ModelOp with inputs and outputs. It should be noted that the y_pred is the key in the data dictionary which will store the predictions."
   ]
  },
  {
   "cell_type": "code",
   "execution_count": 5,
   "metadata": {},
   "outputs": [],
   "source": [
    "model = fe.build(model_fn=create_lstm, optimizer_fn=\"adam\")\n",
    "network = fe.Network(ops=[\n",
    "    ModelOp(model=model, inputs=\"x\", outputs=\"y_pred\"),\n",
    "    CrossEntropy(inputs=(\"y_pred\", \"y\"), outputs=\"loss\"),\n",
    "    UpdateOp(model=model, loss_name=\"loss\")\n",
    "])"
   ]
  },
  {
   "cell_type": "markdown",
   "metadata": {},
   "source": [
    "<h2>Step 3: Prepare estimator and configure the training loop</h2>"
   ]
  },
  {
   "cell_type": "markdown",
   "metadata": {},
   "source": [
    "<b>Estimator</b> is the API that wrap up the Pipeline, Network and other training metadata together. Estimator basically has four arguments network, pipeline, epochs and traces. Network and Pipeline objects are passed here as an argument. Traces are similar to the callbacks of Keras. The trace object will be called on specific timing during the training."
   ]
  },
  {
   "cell_type": "markdown",
   "metadata": {},
   "source": [
    "In the training loop, we want to measure the validation loss and save the model that has the minimum loss. BestModelSaver and Accuracy in the Trace class provide this convenient feature of storing the model."
   ]
  },
  {
   "cell_type": "code",
   "execution_count": 6,
   "metadata": {},
   "outputs": [],
   "source": [
    "model_dir=tempfile.mkdtemp()\n",
    "traces = [Accuracy(true_key=\"y\", pred_key=\"y_pred\"), BestModelSaver(model=model, save_dir=model_dir)]\n",
    "estimator = fe.Estimator(network=network,\n",
    "                         pipeline=pipeline,\n",
    "                         epochs=epochs,\n",
    "                         traces=traces)"
   ]
  },
  {
   "cell_type": "code",
   "execution_count": 7,
   "metadata": {},
   "outputs": [
    {
     "name": "stdout",
     "output_type": "stream",
     "text": [
      "    ______           __  ______     __  _                 __            \n",
      "   / ____/___ ______/ /_/ ____/____/ /_(_)___ ___  ____ _/ /_____  _____\n",
      "  / /_  / __ `/ ___/ __/ __/ / ___/ __/ / __ `__ \\/ __ `/ __/ __ \\/ ___/\n",
      " / __/ / /_/ (__  ) /_/ /___(__  ) /_/ / / / / / / /_/ / /_/ /_/ / /    \n",
      "/_/    \\__,_/____/\\__/_____/____/\\__/_/_/ /_/ /_/\\__,_/\\__/\\____/_/     \n",
      "                                                                        \n",
      "\n",
      "FastEstimator-Start: step: 0; model_lr: 0.001; \n",
      "FastEstimator-Train: step: 0; loss: 0.6933472; \n",
      "FastEstimator-Train: step: 100; loss: 0.694617; steps/sec: 4.96; \n",
      "FastEstimator-Train: step: 200; loss: 0.6934054; steps/sec: 4.95; \n",
      "FastEstimator-Train: step: 300; loss: 0.6937516; steps/sec: 4.91; \n",
      "FastEstimator-Train: step: 391; epoch: 0; epoch_time: 84.15 sec; \n",
      "Saved model to /tmp/tmpkgn3_al0/model_best_loss.h5\n",
      "FastEstimator-Eval: step: 391; epoch: 0; loss: 0.6932595; min_loss: 0.6932595; since_best: 0; accuracy: 0.5007399627631641; \n",
      "FastEstimator-Train: step: 400; loss: 0.69032764; steps/sec: 4.63; \n",
      "FastEstimator-Train: step: 500; loss: 0.69145095; steps/sec: 4.94; \n",
      "FastEstimator-Train: step: 600; loss: 0.6889095; steps/sec: 4.94; \n",
      "FastEstimator-Train: step: 700; loss: 0.6938262; steps/sec: 4.91; \n",
      "FastEstimator-Train: step: 782; epoch: 1; epoch_time: 79.68 sec; \n",
      "Saved model to /tmp/tmpkgn3_al0/model_best_loss.h5\n",
      "FastEstimator-Eval: step: 782; epoch: 1; loss: 0.6931962; min_loss: 0.6931962; since_best: 0; accuracy: 0.5023631068888146; \n",
      "FastEstimator-Train: step: 800; loss: 0.6884713; steps/sec: 4.84; \n",
      "FastEstimator-Train: step: 900; loss: 0.6934985; steps/sec: 4.99; \n",
      "FastEstimator-Train: step: 1000; loss: 0.6920271; steps/sec: 4.9; \n",
      "FastEstimator-Train: step: 1100; loss: 0.69497824; steps/sec: 4.88; \n",
      "FastEstimator-Train: step: 1173; epoch: 2; epoch_time: 79.66 sec; \n",
      "FastEstimator-Eval: step: 1173; epoch: 2; loss: 0.6938326; min_loss: 0.6931962; since_best: 1; accuracy: 0.5001193488327684; \n",
      "FastEstimator-Train: step: 1200; loss: 0.72660345; steps/sec: 4.87; \n",
      "FastEstimator-Train: step: 1300; loss: 0.69280577; steps/sec: 4.96; \n",
      "FastEstimator-Train: step: 1400; loss: 0.6851562; steps/sec: 4.87; \n",
      "FastEstimator-Train: step: 1500; loss: 0.62997174; steps/sec: 4.79; \n",
      "FastEstimator-Train: step: 1564; epoch: 3; epoch_time: 80.66 sec; \n",
      "Saved model to /tmp/tmpkgn3_al0/model_best_loss.h5\n",
      "FastEstimator-Eval: step: 1564; epoch: 3; loss: 0.59193534; min_loss: 0.59193534; since_best: 0; accuracy: 0.6991932018904855; \n",
      "FastEstimator-Train: step: 1600; loss: 0.58954364; steps/sec: 4.78; \n",
      "FastEstimator-Train: step: 1700; loss: 0.5816275; steps/sec: 4.92; \n",
      "FastEstimator-Train: step: 1800; loss: 0.70503825; steps/sec: 4.91; \n",
      "FastEstimator-Train: step: 1900; loss: 0.69840646; steps/sec: 4.93; \n",
      "FastEstimator-Train: step: 1955; epoch: 4; epoch_time: 79.86 sec; \n",
      "FastEstimator-Eval: step: 1955; epoch: 4; loss: 0.6909974; min_loss: 0.59193534; since_best: 1; accuracy: 0.5040339905475725; \n",
      "FastEstimator-Train: step: 2000; loss: 0.68258476; steps/sec: 4.84; \n",
      "FastEstimator-Train: step: 2100; loss: 0.6441598; steps/sec: 5.0; \n",
      "FastEstimator-Train: step: 2200; loss: 0.5699013; steps/sec: 4.96; \n",
      "FastEstimator-Train: step: 2300; loss: 0.4275439; steps/sec: 4.96; \n",
      "FastEstimator-Train: step: 2346; epoch: 5; epoch_time: 78.86 sec; \n",
      "Saved model to /tmp/tmpkgn3_al0/model_best_loss.h5\n",
      "FastEstimator-Eval: step: 2346; epoch: 5; loss: 0.4687847; min_loss: 0.4687847; since_best: 0; accuracy: 0.7990643051510956; \n",
      "FastEstimator-Train: step: 2400; loss: 0.2867536; steps/sec: 4.91; \n",
      "FastEstimator-Train: step: 2500; loss: 0.54268247; steps/sec: 4.97; \n",
      "FastEstimator-Train: step: 2600; loss: 0.2632091; steps/sec: 4.93; \n",
      "FastEstimator-Train: step: 2700; loss: 0.39495957; steps/sec: 4.93; \n",
      "FastEstimator-Train: step: 2737; epoch: 6; epoch_time: 79.3 sec; \n",
      "FastEstimator-Eval: step: 2737; epoch: 6; loss: 0.56058383; min_loss: 0.4687847; since_best: 1; accuracy: 0.7382918795054184; \n",
      "FastEstimator-Train: step: 2800; loss: 0.48866737; steps/sec: 4.92; \n",
      "FastEstimator-Train: step: 2900; loss: 0.3156899; steps/sec: 4.97; \n",
      "FastEstimator-Train: step: 3000; loss: 0.4627457; steps/sec: 4.95; \n",
      "FastEstimator-Train: step: 3100; loss: 0.37702012; steps/sec: 4.96; \n",
      "FastEstimator-Train: step: 3128; epoch: 7; epoch_time: 78.92 sec; \n",
      "Saved model to /tmp/tmpkgn3_al0/model_best_loss.h5\n",
      "FastEstimator-Eval: step: 3128; epoch: 7; loss: 0.40571177; min_loss: 0.40571177; since_best: 0; accuracy: 0.8346302573160834; \n",
      "FastEstimator-Train: step: 3200; loss: 0.20006508; steps/sec: 4.86; \n",
      "FastEstimator-Train: step: 3300; loss: 0.40533304; steps/sec: 4.91; \n",
      "FastEstimator-Train: step: 3400; loss: 0.357853; steps/sec: 4.94; \n",
      "FastEstimator-Train: step: 3500; loss: 0.21703197; steps/sec: 4.96; \n",
      "FastEstimator-Train: step: 3519; epoch: 8; epoch_time: 79.58 sec; \n",
      "Saved model to /tmp/tmpkgn3_al0/model_best_loss.h5\n",
      "FastEstimator-Eval: step: 3519; epoch: 8; loss: 0.36975488; min_loss: 0.36975488; since_best: 0; accuracy: 0.8468993173246766; \n",
      "FastEstimator-Train: step: 3600; loss: 0.42674246; steps/sec: 4.88; \n",
      "FastEstimator-Train: step: 3700; loss: 0.192744; steps/sec: 4.93; \n",
      "FastEstimator-Train: step: 3800; loss: 0.42989722; steps/sec: 4.92; \n",
      "FastEstimator-Train: step: 3900; loss: 0.33736765; steps/sec: 4.91; \n",
      "FastEstimator-Train: step: 3910; epoch: 9; epoch_time: 79.66 sec; \n",
      "Saved model to /tmp/tmpkgn3_al0/model_best_loss.h5\n",
      "FastEstimator-Eval: step: 3910; epoch: 9; loss: 0.3382192; min_loss: 0.3382192; since_best: 0; accuracy: 0.8628443213825369; \n",
      "FastEstimator-Finish: step: 3910; total_time: 968.13 sec; model_lr: 0.001; \n"
     ]
    }
   ],
   "source": [
    "estimator.fit()"
   ]
  },
  {
   "cell_type": "markdown",
   "metadata": {},
   "source": [
    "<h2>Inferencing</h2>"
   ]
  },
  {
   "cell_type": "code",
   "execution_count": 8,
   "metadata": {},
   "outputs": [
    {
     "name": "stdout",
     "output_type": "stream",
     "text": [
      "/tmp/tmpkgn3_al0/model_best_loss.h5\n"
     ]
    }
   ],
   "source": [
    "model_name = 'model_best_loss.h5'\n",
    "model_path = os.path.join(model_dir, model_name)\n",
    "print(model_path)\n",
    "trained_model = create_lstm()\n",
    "trained_model.load_weights(model_path)"
   ]
  },
  {
   "cell_type": "markdown",
   "metadata": {},
   "source": [
    "Get any random sequence and compare the prediction with the ground truth."
   ]
  },
  {
   "cell_type": "code",
   "execution_count": 9,
   "metadata": {},
   "outputs": [
    {
     "name": "stdout",
     "output_type": "stream",
     "text": [
      "Ground truth is:  0\n",
      "Prediction for the input sequence:  [[0.35348406]]\n"
     ]
    }
   ],
   "source": [
    "selected_idx = np.random.randint(10000)\n",
    "print(\"Ground truth is: \",eval_data[selected_idx]['y'])\n",
    "padded_seq = np.array([eval_data[selected_idx]['x']])\n",
    "prediction = trained_model.predict(padded_seq)\n",
    "print(\"Prediction for the input sequence: \",prediction)"
   ]
  },
  {
   "cell_type": "code",
   "execution_count": null,
   "metadata": {},
   "outputs": [],
   "source": []
  }
 ],
 "metadata": {
  "kernelspec": {
   "display_name": "fastestimator",
   "language": "python",
   "name": "fastestimator"
  },
  "language_info": {
   "codemirror_mode": {
    "name": "ipython",
    "version": 3
   },
   "file_extension": ".py",
   "mimetype": "text/x-python",
   "name": "python",
   "nbconvert_exporter": "python",
   "pygments_lexer": "ipython3",
   "version": "3.6.10"
  }
 },
 "nbformat": 4,
 "nbformat_minor": 4
}
