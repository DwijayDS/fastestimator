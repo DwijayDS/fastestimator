{
 "cells": [
  {
   "cell_type": "markdown",
   "metadata": {},
   "source": [
    "# Advanced Tutorial 13: Multi-Dataset Training and Evaluation\n",
    "\n",
    "## Overview\n",
    "In this tutorial, we will discuss the following topics:\n",
    "\n",
    "* [Multi-Dataset Concept and API](#ta13multidsapi)\n",
    "    * [Adding multiple datasets to a pipeline](#ta13multidspipe)\n",
    "    * [Dataset-specific Ops](#ta13dsspecificops)\n",
    "    * [Dataset-specific Traces](#ta13dsspecifictrace)\n",
    "    * [Specifying multiple datasets in Ops or Traces](#ta13multidsoptrace)\n",
    "* [Multi-dataset Example](#ta13example)"
   ]
  },
  {
   "cell_type": "markdown",
   "metadata": {},
   "source": [
    "<a id='ta13multidsapi'></a>"
   ]
  },
  {
   "cell_type": "markdown",
   "metadata": {},
   "source": [
    "## Multi-Dataset Concept and API\n",
    "When you are training a deep learning model, you may sometimes want to train/evaluate on multiple datasets. For example, we might be interested in knowing evaluation metrics separately for two datasets. In this section we show how to do that conveniently in FastEstimator. "
   ]
  },
  {
   "cell_type": "markdown",
   "metadata": {},
   "source": [
    "<a id='ta13multidspipe'></a>"
   ]
  },
  {
   "cell_type": "markdown",
   "metadata": {},
   "source": [
    "### Adding multiple datasets to a Pipeline\n",
    "If you have multiple datasets, then in `Pipeline` you can simply provide a dictionary to the `train_data`, `eval_data`, and/or `test_data` arguments, with keys being the names of the datasets and values being the data instances.\n",
    "\n",
    "For example:\n",
    "```python\n",
    "pipeline = fe.Pipeline(eval_data={\"ds1\": eval_data1, \"ds2\": eval_data2}, ...)\n",
    "```\n",
    "\n",
    "In the above example, `ds1` and `ds2` are the names of those datasets. These can be any other arbitrary names."
   ]
  },
  {
   "cell_type": "markdown",
   "metadata": {},
   "source": [
    "<a id='ta13dsspecificops'></a>"
   ]
  },
  {
   "cell_type": "markdown",
   "metadata": {},
   "source": [
    "### Dataset-specific Ops\n",
    "Sometimes different datasets might require specific NumpyOps or TensorOps. For example, when we train a gray-scale model and have both gray-scale and colored evaluation sets, we only need to apply the gray-scale conversion to the colored dataset.\n",
    "\n",
    "In FastEstimator, To indicate that an Op is only applied for a specific dataset (say `ds1`), one only needs to do:\n",
    "```python\n",
    "Op(..., ds_id=\"ds1\") # run the op on ds1\n",
    "```\n",
    "\n",
    "`ds_id` works similarly to the `mode` argument in Ops. The operator will only execute if `ds_id` matches the specific dataset. If `ds_id` is None (default), then it will execute on all datasets.\n",
    "\n",
    "The `ds_id` argument works in conjunction with `mode`. For example, `Op(mode=\"train\", ds_id=\"myds1\")` would only run during training for dataset named \"myds1\"."
   ]
  },
  {
   "cell_type": "markdown",
   "metadata": {},
   "source": [
    "<a id='ta13dsspecifictrace'></a>"
   ]
  },
  {
   "cell_type": "markdown",
   "metadata": {},
   "source": [
    "### Dataset-specific Traces\n",
    "\n",
    "To only execute a Trace for a specific dataset, simply pass:\n",
    "```python\n",
    "Trace(..., ds_id=\"ds1\") # run the trace on ds1\n",
    "```\n",
    "\n",
    "When using multiple datasets, the built-in FastEstimator metric traces will automatically report their outputs for each dataset individually, as well as the overall metric aggregated over all datasets. We will demonstrate this behavior in detail in the example section."
   ]
  },
  {
   "cell_type": "markdown",
   "metadata": {},
   "source": [
    "<a id='ta13multidsoptrace'></a>"
   ]
  },
  {
   "cell_type": "markdown",
   "metadata": {},
   "source": [
    "### Specifying multiple datasets in Ops or Traces\n",
    "When an Op or Trace needs to execute on multiple datasets, simply provide a list, tuple, or set of dataset names to the `ds_id` argument. \n",
    "\n",
    "For example:\n",
    "```python\n",
    "Op(..., ds_id=[\"ds1\", \"ds2\"])  # run on both ds1 and ds2\n",
    "```\n",
    "\n",
    "When there are many datasets such that listing every name becomes undesirable, you can use `!` in front of the dataset name to indicate `all except`. \n",
    "\n",
    "For example:\n",
    "```python\n",
    "Op(..., ds_id=[\"!ds1\", \"!ds2\"])  # run on all datasets except ds1 and ds2\n",
    "```\n"
   ]
  },
  {
   "cell_type": "markdown",
   "metadata": {},
   "source": [
    "<a id='ta13example'></a>"
   ]
  },
  {
   "cell_type": "markdown",
   "metadata": {},
   "source": [
    "## Multi-dataset Example\n",
    "\n",
    "In this example, we will train on the MNIST dataset but evaluate on both the MNIST test set and the SVHN-Cropped test set. Here are the dataset-specific items we will do in this example:\n",
    "* Resize images in the SVHN-Cropped dataset from 32x32 to 28x28 to match the MNIST data\n",
    "* Convert the SVHN-Cropped dataseet to gray-scale\n",
    "* Measure dataset-specific Accuracy as well as combined Accuracy\n",
    "* Customize an AUC metric that works on a per-dataset level\n",
    "* Save the best model based on evaluation AUC of a specific dataset"
   ]
  },
  {
   "cell_type": "markdown",
   "metadata": {},
   "source": [
    "### Prepare Dataset"
   ]
  },
  {
   "cell_type": "code",
   "execution_count": 1,
   "metadata": {},
   "outputs": [
    {
     "name": "stdout",
     "output_type": "stream",
     "text": [
      "mnist evaluation dataset summary:\n",
      "{\"num_instances\": 10000, \"keys\": {\"x\": {\"shape\": [28, 28], \"dtype\": \"uint8\"}, \"y\": {\"num_unique_values\": 10, \"shape\": [], \"dtype\": \"uint8\"}}}\n",
      "svhn_cropped evaluation dataset summary:\n",
      "{\"num_instances\": 26032, \"keys\": {\"x\": {\"shape\": [32, 32, 3], \"dtype\": \"uint8\"}, \"y\": {\"shape\": [1], \"dtype\": \"uint8\"}}}\n"
     ]
    }
   ],
   "source": [
    "from fastestimator.dataset.data import mnist, svhn_cropped\n",
    "\n",
    "train_mnist, eval_mnist = mnist.load_data()\n",
    "_, eval_svhn = svhn_cropped.load_data()\n",
    "print(\"mnist evaluation dataset summary:\")\n",
    "print(eval_mnist.summary())\n",
    "\n",
    "print(\"svhn_cropped evaluation dataset summary:\")\n",
    "print(eval_svhn.summary())"
   ]
  },
  {
   "cell_type": "markdown",
   "metadata": {},
   "source": [
    "### Preprocessing"
   ]
  },
  {
   "cell_type": "code",
   "execution_count": 2,
   "metadata": {},
   "outputs": [],
   "source": [
    "import fastestimator as fe\n",
    "from fastestimator.op.numpyop.univariate import ExpandDims, Minmax, ToGray\n",
    "from fastestimator.op.numpyop.multivariate import Resize\n",
    "from fastestimator.op.numpyop import LambdaOp\n",
    "\n",
    "pipeline = fe.Pipeline(train_data={\"mnist\": train_mnist}, \n",
    "                       eval_data={\"mnist\": eval_mnist, \"svhn\": eval_svhn},\n",
    "                       batch_size=32,\n",
    "                       ops= [\n",
    "                             Resize(image_in=\"x\", image_out=\"x\", height=28, width=28, ds_id=\"svhn\"),\n",
    "                             ToGray(inputs=\"x\", outputs=\"x\", ds_id=\"svhn\"), # after ToGray, the output is still 3 channel\n",
    "                             LambdaOp(fn=lambda x: x[..., 0:1], inputs=\"x\", outputs=\"x\", ds_id=\"svhn\"), # select the first channel for svhn\n",
    "                             ExpandDims(inputs=\"x\", outputs=\"x\", ds_id=\"mnist\"), # (28, 28) -> (28, 28, 1) for mnist\n",
    "                             Minmax(inputs=\"x\", outputs=\"x\")])"
   ]
  },
  {
   "cell_type": "markdown",
   "metadata": {},
   "source": [
    "### Visualize MNIST preprocessing results"
   ]
  },
  {
   "cell_type": "code",
   "execution_count": 3,
   "metadata": {},
   "outputs": [
    {
     "data": {
      "image/png": "[encoded data removed]",
      "text/plain": [
       "<IPython.core.display.Image object>"
      ]
     },
     "metadata": {},
     "output_type": "display_data"
    }
   ],
   "source": [
    "from fastestimator.util import BatchDisplay, GridDisplay\n",
    "\n",
    "mnist_eval_data = pipeline.get_results(mode=\"eval\", ds_id=\"mnist\")\n",
    "fig = GridDisplay([BatchDisplay(image=mnist_eval_data[\"x\"][:2], title=\"image\"),\n",
    "                   BatchDisplay(text=mnist_eval_data[\"y\"][:2], title=\"label\")\n",
    "                  ])\n",
    "fig.show()"
   ]
  },
  {
   "cell_type": "markdown",
   "metadata": {},
   "source": [
    "### Visualize SVHN_cropped preprocessing results"
   ]
  },
  {
   "cell_type": "code",
   "execution_count": 4,
   "metadata": {},
   "outputs": [
    {
     "data": {
      "image/png": "[encoded data removed]",
      "text/plain": [
       "<IPython.core.display.Image object>"
      ]
     },
     "metadata": {},
     "output_type": "display_data"
    }
   ],
   "source": [
    "svhn_eval_data = pipeline.get_results(mode=\"eval\", ds_id=\"svhn\")\n",
    "fig = GridDisplay([BatchDisplay(image=svhn_eval_data[\"x\"][:2], title=\"image\"),\n",
    "                   BatchDisplay(text=svhn_eval_data[\"y\"][:2], title=\"label\")\n",
    "                  ])\n",
    "fig.show()"
   ]
  },
  {
   "cell_type": "markdown",
   "metadata": {},
   "source": [
    "### Define Model and Networks"
   ]
  },
  {
   "cell_type": "code",
   "execution_count": 5,
   "metadata": {},
   "outputs": [
   ],
   "source": [
    "from fastestimator.architecture.tensorflow import LeNet\n",
    "from fastestimator.op.tensorop.loss import CrossEntropy\n",
    "from fastestimator.op.tensorop.model import ModelOp, UpdateOp\n",
    "\n",
    "model = fe.build(model_fn=LeNet, optimizer_fn=\"adam\")\n",
    "network = fe.Network(ops=[\n",
    "        ModelOp(model=model, inputs=\"x\", outputs=\"y_pred\"),\n",
    "        CrossEntropy(inputs=(\"y_pred\", \"y\"), outputs=\"ce\"),\n",
    "        UpdateOp(model=model, loss_name=\"ce\")\n",
    "    ])"
   ]
  },
  {
   "cell_type": "markdown",
   "metadata": {},
   "source": [
    "### Start Training with Only Accuracy Trace"
   ]
  },
  {
   "cell_type": "code",
   "execution_count": 6,
   "metadata": {},
   "outputs": [
    {
     "name": "stdout",
     "output_type": "stream",
     "text": [
      "    ______           __  ______     __  _                 __            \n",
      "   / ____/___ ______/ /_/ ____/____/ /_(_)___ ___  ____ _/ /_____  _____\n",
      "  / /_  / __ `/ ___/ __/ __/ / ___/ __/ / __ `__ \\/ __ `/ __/ __ \\/ ___/\n",
      " / __/ / /_/ (__  ) /_/ /___(__  ) /_/ / / / / / / /_/ / /_/ /_/ / /    \n",
      "/_/    \\__,_/____/\\__/_____/____/\\__/_/_/ /_/ /_/\\__,_/\\__/\\____/_/     \n",
      "                                                                        \n",
      "\n",
      "FastEstimator-Warn: No ModelSaver Trace detected. Models will not be saved.\n",
      "FastEstimator-Start: step: 1; logging_interval: 100; num_device: 0;\n",
      "FastEstimator-Train: step: 1; ce|mnist: 2.302999;\n",
      "FastEstimator-Train: step: 100; ce|mnist: 0.38215452; steps/sec|mnist: 77.53;\n",
      "FastEstimator-Train: step: 200; ce|mnist: 0.04713767; steps/sec|mnist: 77.11;\n",
      "FastEstimator-Train: step: 200; epoch: 1; epoch_time: 4.03 sec;\n",
      "Eval Progress: 1/312;\n",
      "Eval Progress: 104/312; steps/sec: 223.21;\n",
      "Eval Progress: 208/312; steps/sec: 228.91;\n",
      "Eval Progress: 312/312; steps/sec: 222.21;\n",
      "FastEstimator-Eval: step: 200; epoch: 1; accuracy: 0.4123279307282416; accuracy|mnist: 0.942; accuracy|svhn: 0.20885832821143208; ce: 2.484767; ce|mnist: 0.19424683; ce|svhn: 3.3655195;\n",
      "FastEstimator-Train: step: 300; ce|mnist: 0.30371284; steps/sec|mnist: 53.94;\n",
      "FastEstimator-Train: step: 400; ce|mnist: 0.11780167; steps/sec|mnist: 71.25;\n",
      "FastEstimator-Train: step: 400; epoch: 2; epoch_time: 3.26 sec;\n",
      "Eval Progress: 1/312;\n",
      "Eval Progress: 104/312; steps/sec: 203.6;\n",
      "Eval Progress: 208/312; steps/sec: 218.55;\n",
      "Eval Progress: 312/312; steps/sec: 191.6;\n",
      "FastEstimator-Eval: step: 400; epoch: 2; accuracy: 0.43380883658969804; accuracy|mnist: 0.9702; accuracy|svhn: 0.2277581438229871; ce: 2.1072702; ce|mnist: 0.09898584; ce|svhn: 2.8794973;\n",
      "FastEstimator-Train: step: 500; ce|mnist: 0.09688918; steps/sec|mnist: 46.62;\n",
      "FastEstimator-Train: step: 600; ce|mnist: 0.09267554; steps/sec|mnist: 64.4;\n",
      "FastEstimator-Train: step: 600; epoch: 3; epoch_time: 3.73 sec;\n",
      "Eval Progress: 1/312;\n",
      "Eval Progress: 104/312; steps/sec: 172.29;\n",
      "Eval Progress: 208/312; steps/sec: 174.66;\n",
      "Eval Progress: 312/312; steps/sec: 178.43;\n",
      "FastEstimator-Eval: step: 600; epoch: 3; accuracy: 0.4363343694493783; accuracy|mnist: 0.9734; accuracy|svhn: 0.23002458512599877; ce: 1.9717512; ce|mnist: 0.09084883; ce|svhn: 2.6949975;\n",
      "FastEstimator-Train: step: 700; ce|mnist: 0.021048274; steps/sec|mnist: 51.96;\n",
      "FastEstimator-Train: step: 800; ce|mnist: 0.008126667; steps/sec|mnist: 71.94;\n",
      "FastEstimator-Train: step: 800; epoch: 4; epoch_time: 3.27 sec;\n",
      "Eval Progress: 1/312;\n",
      "Eval Progress: 104/312; steps/sec: 217.22;\n",
      "Eval Progress: 208/312; steps/sec: 211.27;\n",
      "Eval Progress: 312/312; steps/sec: 207.69;\n",
      "FastEstimator-Eval: step: 800; epoch: 4; accuracy: 0.48251554174067496; accuracy|mnist: 0.9796; accuracy|svhn: 0.2915642286416718; ce: 1.723247; ce|mnist: 0.060572665; ce|svhn: 2.36258;\n",
      "FastEstimator-Finish: step: 800; model_lr: 0.001; total_time: 42.0 sec;\n"
     ]
    }
   ],
   "source": [
    "from fastestimator.trace.io import BestModelSaver\n",
    "from fastestimator.trace.metric import Accuracy\n",
    "\n",
    "\n",
    "estimator = fe.Estimator(pipeline=pipeline,\n",
    "                         network=network,\n",
    "                         epochs=4,\n",
    "                         traces=Accuracy(true_key=\"y\", pred_key=\"y_pred\"),\n",
    "                         train_steps_per_epoch=200)\n",
    "\n",
    "estimator.fit()"
   ]
  },
  {
   "cell_type": "markdown",
   "metadata": {},
   "source": [
    "As you can see in the training log, the `Accuracy` Trace created 3 keys: `accuracy|mnist`, `accuracy|svhn`, and `accuracy`. The `accuracy|mnist` and `accuracy|svhn` are measured on individual datasets, and `accuracy` is measured on the overall combined evaluation set."
   ]
  },
  {
   "cell_type": "markdown",
   "metadata": {},
   "source": [
    "### Customize an AUC metric that works for every dataset, then save model based on AUC of a specific dataset\n",
    "\n",
    "Since this is a 10-class classification task, to simplify AUC calculation, we will count any label < 5 as 0 and the rest of labels as 1.  When a trace is initializing the data during `on_epoch_begin` and outputting the data during `on_epoch_end`, we only need a `per_ds` decorator to enable multi-dataset support as shown below."
   ]
  },
  {
   "cell_type": "code",
   "execution_count": 7,
   "metadata": {},
   "outputs": [],
   "source": [
    "from fastestimator.trace.meta import per_ds\n",
    "from sklearn import metrics\n",
    "import numpy as np\n",
    "\n",
    "\n",
    "@per_ds  # Without this annotation the trace would only compute the aggregate metric\n",
    "class AUC(fe.trace.Trace):\n",
    "    def on_epoch_begin(self, data):\n",
    "        self.y_true = []\n",
    "        self.y_pred = []\n",
    "\n",
    "    def on_batch_end(self, data):\n",
    "        y_pred, y_true = np.argmax(data[\"y_pred\"].numpy(), axis=-1), data[\"y\"].numpy()\n",
    "        y_pred, y_true = np.where(y_pred < 5, 0, 1), np.where(y_true < 5, 0, 1)\n",
    "        self.y_pred.extend(y_pred.ravel())\n",
    "        self.y_true.extend(y_true.ravel())\n",
    "\n",
    "    def on_epoch_end(self, data):\n",
    "        fpr, tpr, _ = metrics.roc_curve(self.y_true, self.y_pred)\n",
    "        auc = metrics.auc(fpr, tpr)\n",
    "        data.write_with_log(\"auc\", auc)"
   ]
  },
  {
   "cell_type": "code",
   "execution_count": 8,
   "metadata": {},
   "outputs": [
    {
     "name": "stdout",
     "output_type": "stream",
     "text": [
      "    ______           __  ______     __  _                 __            \n",
      "   / ____/___ ______/ /_/ ____/____/ /_(_)___ ___  ____ _/ /_____  _____\n",
      "  / /_  / __ `/ ___/ __/ __/ / ___/ __/ / __ `__ \\/ __ `/ __/ __ \\/ ___/\n",
      " / __/ / /_/ (__  ) /_/ /___(__  ) /_/ / / / / / / /_/ / /_/ /_/ / /    \n",
      "/_/    \\__,_/____/\\__/_____/____/\\__/_/_/ /_/ /_/\\__,_/\\__/\\____/_/     \n",
      "                                                                        \n",
      "\n",
      "FastEstimator-Start: step: 1; logging_interval: 100; num_device: 0;\n",
      "FastEstimator-Train: step: 1; ce|mnist: 0.053589534;\n",
      "FastEstimator-Train: step: 100; ce|mnist: 0.114529304; steps/sec|mnist: 71.11;\n",
      "FastEstimator-Train: step: 200; ce|mnist: 0.026769312; steps/sec|mnist: 72.29;\n",
      "FastEstimator-Train: step: 200; epoch: 1; epoch_time: 3.26 sec;\n",
      "Eval Progress: 1/312;\n",
      "Eval Progress: 104/312; steps/sec: 193.39;\n",
      "Eval Progress: 208/312; steps/sec: 199.64;\n",
      "Eval Progress: 312/312; steps/sec: 202.51;\n",
      "FastEstimator-BestModelSaver: Saved model to /var/folders/3r/h9kh47050gv6rbt_pgf8cl540000gn/T/tmpfug_3r74/model_best_auc|svhn.h5\n",
      "FastEstimator-Eval: step: 200; epoch: 1; accuracy: 0.5069105239786856; accuracy|mnist: 0.9813; accuracy|svhn: 0.3246773202212661; auc: 0.7663034676369196; auc|mnist: 0.9894474445630561; auc|svhn: 0.6619676273891534; ce: 1.5669248; ce|mnist: 0.059098374; ce|svhn: 2.1467154; max_auc|svhn: 0.6619676273891534; since_best_auc|svhn: 0;\n",
      "FastEstimator-Train: step: 300; ce|mnist: 0.071775965; steps/sec|mnist: 51.21;\n",
      "FastEstimator-Train: step: 400; ce|mnist: 0.004939246; steps/sec|mnist: 67.29;\n",
      "FastEstimator-Train: step: 400; epoch: 2; epoch_time: 3.45 sec;\n",
      "Eval Progress: 1/312;\n",
      "Eval Progress: 104/312; steps/sec: 200.7;\n",
      "Eval Progress: 208/312; steps/sec: 202.9;\n",
      "Eval Progress: 312/312; steps/sec: 204.63;\n",
      "FastEstimator-Eval: step: 400; epoch: 2; accuracy: 0.4669182948490231; accuracy|mnist: 0.982; accuracy|svhn: 0.26905347264904733; auc: 0.7257334810197167; auc|mnist: 0.9888968990794846; auc|svhn: 0.5976789171155671; ce: 1.8605413; ce|mnist: 0.053586684; ce|svhn: 2.5553534; max_auc|svhn: 0.6619676273891534; since_best_auc|svhn: 1;\n",
      "FastEstimator-Train: step: 500; ce|mnist: 0.0056814416; steps/sec|mnist: 47.0;\n",
      "FastEstimator-Train: step: 600; ce|mnist: 0.04625725; steps/sec|mnist: 63.51;\n",
      "FastEstimator-Train: step: 600; epoch: 3; epoch_time: 3.72 sec;\n",
      "Eval Progress: 1/312;\n",
      "Eval Progress: 104/312; steps/sec: 180.27;\n",
      "Eval Progress: 208/312; steps/sec: 170.21;\n",
      "Eval Progress: 312/312; steps/sec: 167.28;\n",
      "FastEstimator-BestModelSaver: Saved model to /var/folders/3r/h9kh47050gv6rbt_pgf8cl540000gn/T/tmpfug_3r74/model_best_auc|svhn.h5\n",
      "FastEstimator-Eval: step: 600; epoch: 3; accuracy: 0.49272868561278865; accuracy|mnist: 0.9831; accuracy|svhn: 0.3043561770129072; auc: 0.780678340533147; auc|mnist: 0.9889609685949688; auc|svhn: 0.6857527572458655; ce: 1.6341668; ce|mnist: 0.049885776; ce|svhn: 2.243356; max_auc|svhn: 0.6857527572458655; since_best_auc|svhn: 0;\n",
      "FastEstimator-Train: step: 700; ce|mnist: 0.004089456; steps/sec|mnist: 45.55;\n",
      "FastEstimator-Train: step: 800; ce|mnist: 0.1697169; steps/sec|mnist: 64.05;\n",
      "FastEstimator-Train: step: 800; epoch: 4; epoch_time: 3.75 sec;\n",
      "Eval Progress: 1/312;\n",
      "Eval Progress: 104/312; steps/sec: 170.12;\n",
      "Eval Progress: 208/312; steps/sec: 192.89;\n",
      "Eval Progress: 312/312; steps/sec: 189.47;\n",
      "FastEstimator-Eval: step: 800; epoch: 4; accuracy: 0.49300621669627; accuracy|mnist: 0.9856; accuracy|svhn: 0.303779963122311; auc: 0.7467487572531152; auc|mnist: 0.9913265768316386; auc|svhn: 0.6332945554135977; ce: 1.6337458; ce|mnist: 0.04196854; ce|svhn: 2.2458172; max_auc|svhn: 0.6857527572458655; since_best_auc|svhn: 1;\n",
      "FastEstimator-Finish: step: 800; model_lr: 0.001; total_time: 43.22 sec;\n"
     ]
    }
   ],
   "source": [
    "import tempfile\n",
    "from fastestimator.trace.io import BestModelSaver\n",
    "\n",
    "estimator = fe.Estimator(pipeline=pipeline,\n",
    "                         network=network,\n",
    "                         epochs=4,\n",
    "                         traces=[Accuracy(true_key=\"y\", pred_key=\"y_pred\"), \n",
    "                                 AUC(inputs=(\"y\", \"y_pred\"), outputs=\"auc\", mode=\"eval\"),\n",
    "                                 BestModelSaver(model=model, save_dir=tempfile.mkdtemp(), metric=\"auc|svhn\", save_best_mode=\"max\")],\n",
    "                         train_steps_per_epoch=200)\n",
    "\n",
    "estimator.fit()"
   ]
  },
  {
   "cell_type": "markdown",
   "metadata": {},
   "source": [
    "Now during evaluation we can see `auc|svhn`, `auc|mnist`, and `auc` printing in the log. Moreover, our model saving is based on the best evaluation auc on the svhn dataset."
   ]
  }
 ],
 "metadata": {
  "kernelspec": {
   "display_name": "Python 3 (ipykernel)",
   "language": "python",
   "name": "python3"
  },
  "language_info": {
   "codemirror_mode": {
    "name": "ipython",
    "version": 3
   },
   "file_extension": ".py",
   "mimetype": "text/x-python",
   "name": "python",
   "nbconvert_exporter": "python",
   "pygments_lexer": "ipython3",
   "version": "3.8.12"
  }
 },
 "nbformat": 4,
 "nbformat_minor": 4
}
