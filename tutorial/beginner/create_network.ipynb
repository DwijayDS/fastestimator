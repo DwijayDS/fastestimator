{
 "cells": [
  {
   "cell_type": "markdown",
   "metadata": {},
   "source": [
    "# Network [new format]"
   ]
  },
  {
   "cell_type": "markdown",
   "metadata": {},
   "source": [
    "## Overview [update]\n",
    "In this tutorial we are going to cover:\n",
    "* `Network` \n",
    "* `TensorOp` and its inherited class\n",
    "* How to Customize TensorOp\n",
    "    * TensorFlow\n",
    "    * Pytorch\n",
    "    * fe.backend"
   ]
  },
  {
   "cell_type": "markdown",
   "metadata": {},
   "source": [
    "## Network \n",
    "\n",
    "[not only neural network but all operation involved with neural network] [any computation want to be happened in GPU]\n",
    "`Network` is one of the three FastestEstimator main APIs that define the neural network as its name suggest. The scoop includes deep learning model, loss computation, any post-processing logic, and model update unit. \n",
    "\n",
    "Here we shows two `Network` example graphs to illustrate the Network concept."
   ]
  },
  {
   "cell_type": "markdown",
   "metadata": {},
   "source": [
    "<img src=\"../image/network_example.PNG\" alt=\"drawing\" width=\"1000\"/> \n",
    "\n",
    "\n",
    "[explaination the graph to emphasis the statement before]"
   ]
  },
  {
   "cell_type": "markdown",
   "metadata": {},
   "source": [
    "## TensorOp"
   ]
  },
  {
   "cell_type": "markdown",
   "metadata": {},
   "source": [
    "`Network` is composed by its basic components --- `TensorOps` which means all blocks inside `Network` should either be `TensorOp` or class that inherit from `TensorOp`. `TensorOp` is a kind of `Op` and therefore follows its connecting rule. \n",
    "\n",
    "There are some common TensorOp-inherit classes we like to specially bring up becuase of thier prevalence. \n",
    "<img src=\"../image/tensorop_class.PNG\" alt=\"drawing\" width=\"300\"/>\n",
    "\n",
    "[graph: add inheritance arrow; add others (Loss, Gradient...)]"
   ]
  },
  {
   "cell_type": "markdown",
   "metadata": {},
   "source": [
    "### ModelOp\n",
    "Any model instance created from `fe.build` (reference: **Beginner tutorial: Create Model Instance**) needs to be packaged as a `ModelOp` such that it can interact with other components inside `Network` API. The orange blocks in the above figure are `ModelOps`.\n"
   ]
  },
  {
   "cell_type": "markdown",
   "metadata": {},
   "source": [
    "### UpdateOp\n",
    "FastEstimator use `UpdateOp` to associate the model with its loss. Unlike other `Ops` that use `inputs`, `outputs` for expressing connection, UpdateOp uses argument `loss`, and `model` instead. The green blocks in the above figure are `UpdateOps`.\n",
    "\n",
    "### Others (Loss, Gradient, ...)\n",
    "[any other operation that leverage tensorflow or pytorch ] [example: generate random data in GPU]"
   ]
  },
  {
   "cell_type": "markdown",
   "metadata": {},
   "source": [
    "## Customize TensorOp\n",
    "[FE provide flexibility, User can not only ... but...]\n",
    "If there is any TensorOp logic that is not implemented in FastEstimator yet, then users need to customize their own `TensorOp`. They can either customize TensorOp  from `fe.backend` API function or from Tensorflow and Pytorch library. \n",
    "\n",
    "If users want to customize `TensorOp` using TensorFlow or Pytorch library, **please make sure all `TensorOp` in the `Network` need to be backend-consistent**. In the same `Network`, Users cannot have `TensorOps` built from TensorFlow and thers from Pytorch. \n",
    "\n",
    "We are going to demonstrate building a TenorOp logic that takes high dimension input and output a average scalar value.   "
   ]
  },
  {
   "cell_type": "markdown",
   "metadata": {},
   "source": [
    "### Example for using Tensorflow"
   ]
  },
  {
   "cell_type": "code",
   "execution_count": 4,
   "metadata": {},
   "outputs": [],
   "source": [
    "from fastestimator.op.tensorop import TensorOp\n",
    "import tensorflow as tf\n",
    "\n",
    "class ReduceMean(TensorOp):\n",
    "    def forward(self, data, state):\n",
    "        return tf.reduce_mean(data)"
   ]
  },
  {
   "cell_type": "markdown",
   "metadata": {},
   "source": [
    "### Example for using Pytorch"
   ]
  },
  {
   "cell_type": "code",
   "execution_count": 3,
   "metadata": {},
   "outputs": [],
   "source": [
    "import torch\n",
    "\n",
    "class ReduceMean(TensorOp):\n",
    "    def forward(self, data, state):\n",
    "        return tf.torch(data, 1)"
   ]
  },
  {
   "cell_type": "markdown",
   "metadata": {},
   "source": [
    "### Example for using `fe.backend`\n",
    "[What merit for using fe.backend]\n",
    "\n",
    "TensorOps customized from `fe.backend` function are not restricted in this way. All FastEstimator-imported TensorOps are the same except for `ModelOp`, which has specific backend depend on its model function."
   ]
  },
  {
   "cell_type": "code",
   "execution_count": 3,
   "metadata": {},
   "outputs": [],
   "source": [
    "from fastestimator.op.tensorop import TensorOp\n",
    "from fastestimator.backend import reduce_mean\n",
    "\n",
    "class ReduceMean(TensorOp):\n",
    "    def forward(self, data, state):\n",
    "        return reduce_mean(data)"
   ]
  }
 ],
 "metadata": {
  "kernelspec": {
   "display_name": "tf2.1",
   "language": "python",
   "name": "tf2.1"
  },
  "language_info": {
   "codemirror_mode": {
    "name": "ipython",
    "version": 3
   },
   "file_extension": ".py",
   "mimetype": "text/x-python",
   "name": "python",
   "nbconvert_exporter": "python",
   "pygments_lexer": "ipython3",
   "version": "3.6.10"
  }
 },
 "nbformat": 4,
 "nbformat_minor": 4
}
