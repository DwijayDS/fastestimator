{
 "cells": [
  {
   "cell_type": "markdown",
   "metadata": {},
   "source": [
    "<h1>IMDB Reviews sentiments prediction using LSTM</h1>"
   ]
  },
  {
   "cell_type": "code",
   "execution_count": 1,
   "metadata": {},
   "outputs": [],
   "source": [
    "import tempfile\n",
    "import os\n",
    "import numpy as np\n",
    "import torch\n",
    "import torch.nn as nn\n",
    "import torch.nn.functional as fn\n",
    "import fastestimator as fe\n",
    "from fastestimator.dataset.data import imdb_review\n",
    "from fastestimator.op.numpyop.univariate.reshape import Reshape\n",
    "from fastestimator.op.tensorop.loss import CrossEntropy\n",
    "from fastestimator.op.tensorop.model import ModelOp, UpdateOp\n",
    "from fastestimator.trace.io import BestModelSaver\n",
    "from fastestimator.trace.metric import Accuracy\n",
    "from fastestimator.backend import feed_forward"
   ]
  },
  {
   "cell_type": "code",
   "execution_count": 2,
   "metadata": {},
   "outputs": [],
   "source": [
    "MAX_WORDS = 10000\n",
    "MAX_LEN = 500\n",
    "batch_size = 64\n",
    "epochs = 10"
   ]
  },
  {
   "cell_type": "markdown",
   "metadata": {},
   "source": [
    "<h2>Building components</h2>"
   ]
  },
  {
   "cell_type": "markdown",
   "metadata": {},
   "source": [
    "<h3>Step 1: Prepare training & evaluation data and define Pipeline</h3>"
   ]
  },
  {
   "cell_type": "markdown",
   "metadata": {},
   "source": [
    "We are loading the dataset from the tf.keras.datasets.imdb which contains movie reviews and sentiment scores. All the words have been replaced with the integers that specifies the popularity of the word in corpus. To ensure all the sequences are of same length we need to pad the input sequences before defining the Pipeline."
   ]
  },
  {
   "cell_type": "code",
   "execution_count": 3,
   "metadata": {},
   "outputs": [],
   "source": [
    "train_data, eval_data = imdb_review.load_data(MAX_LEN, MAX_WORDS)\n",
    "pipeline = fe.Pipeline(train_data=train_data,\n",
    "                       eval_data=eval_data,\n",
    "                       batch_size=batch_size,\n",
    "                       ops=Reshape(1, inputs=\"y\", outputs=\"y\"))"
   ]
  },
  {
   "cell_type": "markdown",
   "metadata": {},
   "source": [
    "<h3>Step 2: Create model and FastEstimator network</h3>"
   ]
  },
  {
   "cell_type": "markdown",
   "metadata": {},
   "source": [
    "First, we have to define the network architecture and after defining the architecture, users are expected to feed the architecture definition, its associated model name and optimizer to fe.build."
   ]
  },
  {
   "cell_type": "code",
   "execution_count": 4,
   "metadata": {},
   "outputs": [],
   "source": [
    "class ReviewSentiment(nn.Module):\n",
    "    def __init__(self, embedding_size=64, hidden_units=64):\n",
    "        super().__init__()\n",
    "        self.embedding = nn.Embedding(MAX_WORDS, embedding_size)\n",
    "        self.conv1d = nn.Conv1d(in_channels=64, out_channels=32, kernel_size=3, padding=1)\n",
    "        self.maxpool1d = nn.MaxPool1d(kernel_size=4)\n",
    "        self.lstm = nn.LSTM(input_size=125, hidden_size=hidden_units, num_layers=1)\n",
    "        self.fc1 = nn.Linear(in_features=hidden_units, out_features=250)\n",
    "        self.fc2 = nn.Linear(in_features=250, out_features=1)\n",
    "\n",
    "    def forward(self, x):\n",
    "        x = self.embedding(x)\n",
    "        x = x.permute((0, 2, 1))\n",
    "        x = self.conv1d(x)\n",
    "        x = fn.relu(x)\n",
    "        x = self.maxpool1d(x)\n",
    "        output, _ = self.lstm(x)\n",
    "        x = output[:, -1]  # sequence output of only last timestamp\n",
    "        x = fn.tanh(x)\n",
    "        x = self.fc1(x)\n",
    "        x = fn.relu(x)\n",
    "        x = self.fc2(x)\n",
    "        x = fn.sigmoid(x)\n",
    "        return x"
   ]
  },
  {
   "cell_type": "markdown",
   "metadata": {},
   "source": [
    "Network is the object that define the whole logic of neural network, including models, loss functions, optimizers etc. A Network can have several different models and loss funcitons (like GAN). <b>fe.Network</b> takes series of operators and here we feed our model in the ModelOp with inputs and outputs. It should be noted that the y_pred is the key in the data dictionary which will store the predictions."
   ]
  },
  {
   "cell_type": "code",
   "execution_count": 5,
   "metadata": {},
   "outputs": [],
   "source": [
    "model = fe.build(model_fn=lambda: ReviewSentiment(), optimizer_fn=\"adam\")\n",
    "network = fe.Network(ops=[\n",
    "    ModelOp(model=model, inputs=\"x\", outputs=\"y_pred\"),\n",
    "    CrossEntropy(inputs=(\"y_pred\", \"y\"), outputs=\"loss\"),\n",
    "    UpdateOp(model=model, loss_name=\"loss\")\n",
    "])"
   ]
  },
  {
   "cell_type": "markdown",
   "metadata": {},
   "source": [
    "<h3>Step 3: Prepare estimator and configure the training loop</h3>"
   ]
  },
  {
   "cell_type": "markdown",
   "metadata": {},
   "source": [
    "<b>Estimator</b> is the API that wrap up the Pipeline, Network and other training metadata together. Estimator basically has four arguments network, pipeline, epochs and traces. Network and Pipeline objects are passed here as an argument. Traces are similar to the callbacks of Keras. The trace object will be called on specific timing during the training."
   ]
  },
  {
   "cell_type": "markdown",
   "metadata": {},
   "source": [
    "In the training loop, we want to measure the validation loss and save the model that has the minimum loss. BestModelSaver and Accuracy in the Trace class provide this convenient feature of storing the model."
   ]
  },
  {
   "cell_type": "code",
   "execution_count": 6,
   "metadata": {},
   "outputs": [],
   "source": [
    "model_dir = tempfile.mkdtemp()\n",
    "traces = [Accuracy(true_key=\"y\", pred_key=\"y_pred\"), BestModelSaver(model=model, save_dir=model_dir)]\n",
    "estimator = fe.Estimator(network=network,\n",
    "                         pipeline=pipeline,\n",
    "                         epochs=epochs,\n",
    "                         traces=traces)"
   ]
  },
  {
   "cell_type": "markdown",
   "metadata": {},
   "source": [
    "<h2>Training</h2>"
   ]
  },
  {
   "cell_type": "code",
   "execution_count": 7,
   "metadata": {},
   "outputs": [
    {
     "name": "stdout",
     "output_type": "stream",
     "text": [
      "    ______           __  ______     __  _                 __            \n",
      "   / ____/___ ______/ /_/ ____/____/ /_(_)___ ___  ____ _/ /_____  _____\n",
      "  / /_  / __ `/ ___/ __/ __/ / ___/ __/ / __ `__ \\/ __ `/ __/ __ \\/ ___/\n",
      " / __/ / /_/ (__  ) /_/ /___(__  ) /_/ / / / / / / /_/ / /_/ /_/ / /    \n",
      "/_/    \\__,_/____/\\__/_____/____/\\__/_/_/ /_/ /_/\\__,_/\\__/\\____/_/     \n",
      "                                                                        \n",
      "\n",
      "FastEstimator-Start: step: 0; model_lr: 0.001; \n"
     ]
    },
    {
     "name": "stderr",
     "output_type": "stream",
     "text": [
      "/home/ubuntu/anaconda3/envs/fe_env/lib/python3.6/site-packages/torch/nn/functional.py:1340: UserWarning: nn.functional.tanh is deprecated. Use torch.tanh instead.\n",
      "  warnings.warn(\"nn.functional.tanh is deprecated. Use torch.tanh instead.\")\n",
      "/home/ubuntu/anaconda3/envs/fe_env/lib/python3.6/site-packages/torch/nn/functional.py:1351: UserWarning: nn.functional.sigmoid is deprecated. Use torch.sigmoid instead.\n",
      "  warnings.warn(\"nn.functional.sigmoid is deprecated. Use torch.sigmoid instead.\")\n"
     ]
    },
    {
     "name": "stdout",
     "output_type": "stream",
     "text": [
      "FastEstimator-Train: step: 0; loss: 0.69042003; \n",
      "FastEstimator-Train: step: 100; loss: 0.69947135; steps/sec: 47.4; \n",
      "FastEstimator-Train: step: 200; loss: 0.6544732; steps/sec: 48.28; \n",
      "FastEstimator-Train: step: 300; loss: 0.5703044; steps/sec: 49.8; \n",
      "FastEstimator-Train: step: 391; epoch: 0; epoch_time: 8.02 sec; \n",
      "Saved model to /tmp/tmp8vx7_h3t/model_best_loss.pt\n",
      "FastEstimator-Eval: step: 391; epoch: 0; loss: 0.552492; min_loss: 0.552492; since_best: 0; accuracy: 0.7149949873490238; \n",
      "FastEstimator-Train: step: 400; loss: 0.4926735; steps/sec: 50.53; \n",
      "FastEstimator-Train: step: 500; loss: 0.51988935; steps/sec: 58.38; \n",
      "FastEstimator-Train: step: 600; loss: 0.4267825; steps/sec: 61.37; \n",
      "FastEstimator-Train: step: 700; loss: 0.39433068; steps/sec: 61.34; \n",
      "FastEstimator-Train: step: 782; epoch: 1; epoch_time: 6.57 sec; \n",
      "Saved model to /tmp/tmp8vx7_h3t/model_best_loss.pt\n",
      "FastEstimator-Eval: step: 782; epoch: 1; loss: 0.42843726; min_loss: 0.42843726; since_best: 0; accuracy: 0.8047930491239795; \n",
      "FastEstimator-Train: step: 800; loss: 0.40898868; steps/sec: 57.23; \n",
      "FastEstimator-Train: step: 900; loss: 0.3556741; steps/sec: 60.97; \n",
      "FastEstimator-Train: step: 1000; loss: 0.41013; steps/sec: 61.15; \n",
      "FastEstimator-Train: step: 1100; loss: 0.37551743; steps/sec: 62.18; \n",
      "FastEstimator-Train: step: 1173; epoch: 2; epoch_time: 6.41 sec; \n",
      "Saved model to /tmp/tmp8vx7_h3t/model_best_loss.pt\n",
      "FastEstimator-Eval: step: 1173; epoch: 2; loss: 0.41396546; min_loss: 0.41396546; since_best: 0; accuracy: 0.8132429464839834; \n",
      "FastEstimator-Train: step: 1200; loss: 0.26908317; steps/sec: 61.42; \n",
      "FastEstimator-Train: step: 1300; loss: 0.3385742; steps/sec: 65.47; \n",
      "FastEstimator-Train: step: 1400; loss: 0.38662204; steps/sec: 64.88; \n",
      "FastEstimator-Train: step: 1500; loss: 0.27532876; steps/sec: 66.89; \n",
      "FastEstimator-Train: step: 1564; epoch: 3; epoch_time: 6.05 sec; \n",
      "Saved model to /tmp/tmp8vx7_h3t/model_best_loss.pt\n",
      "FastEstimator-Eval: step: 1564; epoch: 3; loss: 0.40099567; min_loss: 0.40099567; since_best: 0; accuracy: 0.8294743877404879; \n",
      "FastEstimator-Train: step: 1600; loss: 0.19697693; steps/sec: 61.64; \n",
      "FastEstimator-Train: step: 1700; loss: 0.34507638; steps/sec: 67.48; \n",
      "FastEstimator-Train: step: 1800; loss: 0.1536048; steps/sec: 67.72; \n",
      "FastEstimator-Train: step: 1900; loss: 0.41867876; steps/sec: 68.0; \n",
      "FastEstimator-Train: step: 1955; epoch: 4; epoch_time: 5.92 sec; \n",
      "Saved model to /tmp/tmp8vx7_h3t/model_best_loss.pt\n",
      "FastEstimator-Eval: step: 1955; epoch: 4; loss: 0.3852847; min_loss: 0.3852847; since_best: 0; accuracy: 0.8329593736573256; \n",
      "FastEstimator-Train: step: 2000; loss: 0.286649; steps/sec: 61.17; \n",
      "FastEstimator-Train: step: 2100; loss: 0.23076832; steps/sec: 65.72; \n",
      "FastEstimator-Train: step: 2200; loss: 0.14583252; steps/sec: 67.41; \n",
      "FastEstimator-Train: step: 2300; loss: 0.24070749; steps/sec: 68.51; \n",
      "FastEstimator-Train: step: 2346; epoch: 5; epoch_time: 5.93 sec; \n",
      "FastEstimator-Eval: step: 2346; epoch: 5; loss: 0.40373296; min_loss: 0.3852847; since_best: 1; accuracy: 0.8374946293025254; \n",
      "FastEstimator-Train: step: 2400; loss: 0.11057804; steps/sec: 62.51; \n",
      "FastEstimator-Train: step: 2500; loss: 0.12842485; steps/sec: 66.91; \n",
      "FastEstimator-Train: step: 2600; loss: 0.17209977; steps/sec: 67.44; \n",
      "FastEstimator-Train: step: 2700; loss: 0.2647104; steps/sec: 68.0; \n",
      "FastEstimator-Train: step: 2737; epoch: 6; epoch_time: 5.92 sec; \n",
      "FastEstimator-Eval: step: 2737; epoch: 6; loss: 0.4211195; min_loss: 0.3852847; since_best: 2; accuracy: 0.833914164319473; \n",
      "FastEstimator-Train: step: 2800; loss: 0.15049003; steps/sec: 62.34; \n",
      "FastEstimator-Train: step: 2900; loss: 0.16470543; steps/sec: 67.28; \n",
      "FastEstimator-Train: step: 3000; loss: 0.2361973; steps/sec: 67.79; \n",
      "FastEstimator-Train: step: 3100; loss: 0.22741856; steps/sec: 68.11; \n",
      "FastEstimator-Train: step: 3128; epoch: 7; epoch_time: 5.9 sec; \n",
      "FastEstimator-Eval: step: 3128; epoch: 7; loss: 0.47042805; min_loss: 0.3852847; since_best: 3; accuracy: 0.8322432806607152; \n",
      "FastEstimator-Train: step: 3200; loss: 0.14333506; steps/sec: 62.84; \n",
      "FastEstimator-Train: step: 3300; loss: 0.06800908; steps/sec: 67.44; \n",
      "FastEstimator-Train: step: 3400; loss: 0.18527777; steps/sec: 67.46; \n",
      "FastEstimator-Train: step: 3500; loss: 0.10759932; steps/sec: 67.58; \n",
      "FastEstimator-Train: step: 3519; epoch: 8; epoch_time: 5.91 sec; \n",
      "FastEstimator-Eval: step: 3519; epoch: 8; loss: 0.49589622; min_loss: 0.3852847; since_best: 4; accuracy: 0.834439299183654; \n",
      "FastEstimator-Train: step: 3600; loss: 0.2997985; steps/sec: 62.88; \n",
      "FastEstimator-Train: step: 3700; loss: 0.17149831; steps/sec: 66.55; \n",
      "FastEstimator-Train: step: 3800; loss: 0.0568481; steps/sec: 65.4; \n",
      "FastEstimator-Train: step: 3900; loss: 0.034414873; steps/sec: 67.67; \n",
      "FastEstimator-Train: step: 3910; epoch: 9; epoch_time: 5.97 sec; \n",
      "FastEstimator-Eval: step: 3910; epoch: 9; loss: 0.5564892; min_loss: 0.3852847; since_best: 5; accuracy: 0.8330548527235404; \n",
      "FastEstimator-Finish: step: 3910; total_time: 81.29 sec; model_lr: 0.001; \n"
     ]
    }
   ],
   "source": [
    "estimator.fit()"
   ]
  },
  {
   "cell_type": "markdown",
   "metadata": {},
   "source": [
    "<h2>Inferencing</h2>"
   ]
  },
  {
   "cell_type": "markdown",
   "metadata": {},
   "source": [
    "For inferencing, first we have to load the trained model weights. We saved model weights with minimum loss and we will load the weights using <i>fe.build()</i>"
   ]
  },
  {
   "cell_type": "code",
   "execution_count": 8,
   "metadata": {},
   "outputs": [
    {
     "name": "stdout",
     "output_type": "stream",
     "text": [
      "Loaded model weights from /tmp/tmp8vx7_h3t/model_best_loss.pt\n"
     ]
    }
   ],
   "source": [
    "model_name = 'model_best_loss.pt'\n",
    "model_path = os.path.join(model_dir, model_name)\n",
    "trained_model = fe.build(model_fn=lambda: ReviewSentiment(), weights_path=model_path, optimizer_fn=\"adam\")"
   ]
  },
  {
   "cell_type": "markdown",
   "metadata": {},
   "source": [
    "Get any random sequence and compare the prediction with the ground truth."
   ]
  },
  {
   "cell_type": "code",
   "execution_count": 9,
   "metadata": {},
   "outputs": [
    {
     "name": "stdout",
     "output_type": "stream",
     "text": [
      "Ground truth is:  0\n"
     ]
    }
   ],
   "source": [
    "selected_idx = np.random.randint(10000)\n",
    "print(\"Ground truth is: \",eval_data[selected_idx]['y'])"
   ]
  },
  {
   "cell_type": "markdown",
   "metadata": {},
   "source": [
    "Create data dictionary for the inference. <i>Transform()</i> function in Pipeline and Network applies all the operations on the given data."
   ]
  },
  {
   "cell_type": "code",
   "execution_count": 10,
   "metadata": {},
   "outputs": [],
   "source": [
    "infer_data = {\"x\":eval_data[selected_idx]['x'], \"y\":eval_data[selected_idx]['y']}\n",
    "data = pipeline.transform(infer_data, mode=\"infer\")\n",
    "data = network.transform(data, mode=\"infer\")"
   ]
  },
  {
   "cell_type": "markdown",
   "metadata": {},
   "source": [
    "Finally, pass the model and data to the <i>feed_forward</i> for the inferencing"
   ]
  },
  {
   "cell_type": "code",
   "execution_count": 11,
   "metadata": {},
   "outputs": [
    {
     "name": "stdout",
     "output_type": "stream",
     "text": [
      "Prediction for the input sequence:  0.47310668\n"
     ]
    }
   ],
   "source": [
    "prediction = feed_forward(trained_model, data['x'], training=False)\n",
    "print(\"Prediction for the input sequence: \",np.array(prediction.detach())[0][0])"
   ]
  },
  {
   "cell_type": "code",
   "execution_count": null,
   "metadata": {},
   "outputs": [],
   "source": []
  }
 ],
 "metadata": {
  "kernelspec": {
   "display_name": "fastestimator",
   "language": "python",
   "name": "fastestimator"
  },
  "language_info": {
   "codemirror_mode": {
    "name": "ipython",
    "version": 3
   },
   "file_extension": ".py",
   "mimetype": "text/x-python",
   "name": "python",
   "nbconvert_exporter": "python",
   "pygments_lexer": "ipython3",
   "version": "3.6.10"
  }
 },
 "nbformat": 4,
 "nbformat_minor": 4
}
