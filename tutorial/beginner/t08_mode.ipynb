{
 "cells": [
  {
   "cell_type": "markdown",
   "metadata": {},
   "source": [
    "# Tutorial 8: Mode"
   ]
  },
  {
   "cell_type": "markdown",
   "metadata": {},
   "source": [
    "## Overview\n",
    "In this tutorial, we are going to cover:\n",
    "* mode concept \n",
    "* when the mode be activated\n",
    "* how to set mode\n",
    "* code example"
   ]
  },
  {
   "cell_type": "markdown",
   "metadata": {},
   "source": [
    "## Mode concept\n",
    "The development cycle of deep learning application usually takes 4 phases: training, evaluation, testing, inference.\n",
    "FastEstimator provides 4 corresponding modes: `train`, `eval`, `test`, `infer` that allow users to manage each phase independently. Users have the flexibility to connect the network and pipeline in different ways among those modes. \n",
    "Only single mode can be active at a time and then the corresponding topology graph will be retrieved and executed.   "
   ]
  },
  {
   "cell_type": "markdown",
   "metadata": {},
   "source": [
    "## When the modes are activated\n",
    "* train: `estimator.fit()` being called, during training cycle\n",
    "* eval: `estimator.fit()` being called, during evaluation cycle\n",
    "* test: `estimator.test()` being called.\n",
    "* infer: `pipeline.transform(mode=\"infer\")` or `network.transform(mode=\"infer\")` being called (the inference part is later covered in **Tutorial 9: Inference**)"
   ]
  },
  {
   "cell_type": "markdown",
   "metadata": {},
   "source": [
    "## How to set mode\n",
    "In the previous tutorials we already knew that `Ops` define the workflow of `Network` and `Pipeline` whereas `Trace` control the training process. All `Op` and `Trace` can be specified with one or more modes where users want them to land. Here are all 5 ways to set the modes.\n",
    "\n",
    "1. **set single mode**<br>\n",
    "  Specify the desired mode as string. <br>\n",
    "  Ex: Op(mode=\"train\") <br><br>\n",
    "\n",
    "2. **set multiple mode**<br>\n",
    "  Put all desired modes in a tuple or list as an argument.<br>\n",
    "  Ex: Trace(mode=[\"train\", \"test\"]) <br><br>\n",
    "\n",
    "3. **set exception mode**<br>\n",
    "  Prefix a \"!\" on a mode, and then all other modes will have this object. <br>\n",
    "  Ex: Op(mode=\"!train\") <br><br>\n",
    "\n",
    "4. **set all modes**<br>\n",
    "  Set the mode argument equal to None. <br>\n",
    "  Ex: Trace(mode=None) <br><br>\n",
    "\n",
    "5. **use default mode setting**<br> \n",
    "  Not specify anything in mode argument. Different `Op` and `Trace` have different default mode setting. <br>\n",
    "  Ex: `UpdateOp` -> default mode: train <br>\n",
    "      `Accuracy` trace -> default mode: eval, test \n"
   ]
  },
  {
   "cell_type": "markdown",
   "metadata": {},
   "source": [
    "## Code example\n",
    "In order to enhance readers' idea of mode, we are going to show a example code and visualize the topology graph of each mode."
   ]
  },
  {
   "cell_type": "code",
   "execution_count": 1,
   "metadata": {},
   "outputs": [
    {
     "name": "stdout",
     "output_type": "stream",
     "text": [
      "FastEstimator-Warn: No ModelSaver Trace detected. Models will not be saved.\n"
     ]
    }
   ],
   "source": [
    "import fastestimator as fe\n",
    "from fastestimator.dataset.data import mnist\n",
    "from fastestimator.schedule import cosine_decay\n",
    "from fastestimator.trace.adapt import LRScheduler\n",
    "from fastestimator.trace.io import BestModelSaver\n",
    "from fastestimator.trace.metric import Accuracy\n",
    "from fastestimator.op.numpyop.univariate import ExpandDims, Minmax, CoarseDropout\n",
    "from fastestimator.op.tensorop.loss import CrossEntropy\n",
    "from fastestimator.op.tensorop.model import ModelOp, UpdateOp\n",
    "from fastestimator.architecture.tensorflow import LeNet\n",
    "\n",
    "\n",
    "train_data, eval_data = mnist.load_data()\n",
    "test_data = eval_data.split(0.5)\n",
    "model = fe.build(model_fn=LeNet, optimizer_fn=\"adam\")\n",
    "\n",
    "pipeline = fe.Pipeline(train_data=train_data,\n",
    "                       eval_data=eval_data,\n",
    "                       test_data=test_data,\n",
    "                       batch_size=32,\n",
    "                       ops=[ExpandDims(inputs=\"x\", outputs=\"x\"), #default mode=None\n",
    "                            Minmax(inputs=\"x\", outputs=\"x_out\", mode=None),  \n",
    "                            CoarseDropout(inputs=\"x_out\", outputs=\"x_out\", mode=\"train\")])\n",
    "\n",
    "network = fe.Network(ops=[ModelOp(model=model, inputs=\"x_out\", outputs=\"y_pred\"), #default mode=None\n",
    "                          CrossEntropy(inputs=(\"y_pred\", \"y\"), outputs=\"ce\", mode=\"!infer\"),\n",
    "                          UpdateOp(model=model, loss_name=\"ce\", mode=\"train\")])\n",
    "\n",
    "estimator = fe.Estimator(pipeline=pipeline,\n",
    "                         network=network,\n",
    "                         epochs=2,\n",
    "                         traces=Accuracy(true_key=\"y\", pred_key=\"y_pred\")) # default mode=[eval, test]"
   ]
  },
  {
   "cell_type": "markdown",
   "metadata": {},
   "source": [
    "### Train mode\n",
    "The following figure is the topology graph in \"train\" mode. It has complete data pipeline including the data augmentation block, `CoarseDropout`. The data source of the pipeline is \"train_data\". `Accuracy` block will not exist in this mode because the default mode of that trace is \"eval\" and \"test\". [legend]"
   ]
  },
  {
   "cell_type": "markdown",
   "metadata": {},
   "source": [
    "<img src=\"../image/t08_train_mode.PNG\" alt=\"drawing\" width=\"700\"/>"
   ]
  },
  {
   "cell_type": "markdown",
   "metadata": {},
   "source": [
    "### Eval mode\n",
    "The following figure is the topology graph in \"eval\" mode. The data augmentation block is missing and the pipeline data source is \"eval_data\". `Accuracy` block exist in this mode because of its default trace setting."
   ]
  },
  {
   "cell_type": "markdown",
   "metadata": {},
   "source": [
    "<img src=\"../image/t08_eval_mode.PNG\" alt=\"drawing\" width=\"700\"/>"
   ]
  },
  {
   "cell_type": "markdown",
   "metadata": {},
   "source": [
    "### Test mode\n",
    "Everything of \"test\" mode is the same as \"eval\" mode except that the data source of pipeline has switched to \"test_data\""
   ]
  },
  {
   "cell_type": "markdown",
   "metadata": {},
   "source": [
    "<img src=\"../image/t08_test_mode.PNG\" alt=\"drawing\" width=\"700\"/>"
   ]
  },
  {
   "cell_type": "markdown",
   "metadata": {},
   "source": [
    "### Infer mode\n",
    "\"Infer\" mode only has the minimum operations that model inference needs. Data source is not defined yet at this time point because input data will not be passed until calling the inference function. The detail of running model inference is covered in **Tutorial 9: Inference**. "
   ]
  },
  {
   "cell_type": "markdown",
   "metadata": {},
   "source": [
    "<img src=\"../image/t08_infer_mode.PNG\" alt=\"drawing\" width=\"700\"/>"
   ]
  }
 ],
 "metadata": {
  "kernelspec": {
   "display_name": "Python 3",
   "language": "python",
   "name": "python3"
  },
  "language_info": {
   "codemirror_mode": {
    "name": "ipython",
    "version": 3
   },
   "file_extension": ".py",
   "mimetype": "text/x-python",
   "name": "python",
   "nbconvert_exporter": "python",
   "pygments_lexer": "ipython3",
   "version": "3.6.9"
  }
 },
 "nbformat": 4,
 "nbformat_minor": 4
}
