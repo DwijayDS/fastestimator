{
 "cells": [
  {
   "cell_type": "markdown",
   "metadata": {},
   "source": [
    "# MNIST Image Classification example using LeNet (Tensorlfow backend)\n",
    "In this example, we are going to demonstrate how to train a MNIST image classification model using LeNet model architeture with Tesnorflow backend. "
   ]
  },
  {
   "cell_type": "markdown",
   "metadata": {},
   "source": [
    "## Import the required libraries"
   ]
  },
  {
   "cell_type": "code",
   "execution_count": 1,
   "metadata": {},
   "outputs": [],
   "source": [
    "import tensorflow as tf\n",
    "import fastestimator as fe\n",
    "import numpy as np\n",
    "import matplotlib.pyplot as plt\n",
    "import tempfile"
   ]
  },
  {
   "cell_type": "code",
   "execution_count": 2,
   "metadata": {
    "tags": [
     "parameters"
    ]
   },
   "outputs": [],
   "source": [
    "#training parameters\n",
    "epochs = 2\n",
    "batch_size = 32\n",
    "max_steps_per_epoch = None\n",
    "save_dir = tempfile.mkdtemp()"
   ]
  },
  {
   "cell_type": "markdown",
   "metadata": {},
   "source": [
    "## Step 1 - Data and `Pipeline` preparation\n",
    "In this step, we will load MNIST training and validation datasets and prepare FastEstimator's pipeline.\n",
    "\n",
    "### Load dataset \n",
    "We use fastestimator API to load the MNIST dataset and get the test set by splitting 50% evaluation set. "
   ]
  },
  {
   "cell_type": "code",
   "execution_count": 3,
   "metadata": {},
   "outputs": [],
   "source": [
    "from fastestimator.dataset.data import mnist\n",
    "\n",
    "train_data, eval_data = mnist.load_data()\n",
    "test_data = eval_data.split(0.5)"
   ]
  },
  {
   "cell_type": "markdown",
   "metadata": {},
   "source": [
    "### Set up preprocess pipline\n",
    "In this example, the data preprocessing steps include exapanding image dimension and normalizing the pixel value to range [0, 1]. We set up those processing step using `Ops` and meanwhile define the data source (loaded dataset) and batch size. "
   ]
  },
  {
   "cell_type": "code",
   "execution_count": 4,
   "metadata": {},
   "outputs": [],
   "source": [
    "from fastestimator.op.numpyop import ExpandDims, Minmax\n",
    "\n",
    "pipeline = fe.Pipeline(train_data=train_data,\n",
    "                       eval_data=eval_data,\n",
    "                       test_data=test_data,\n",
    "                       batch_size=batch_size,\n",
    "                       ops=[ExpandDims(inputs=\"x\", outputs=\"x_out\"), \n",
    "                            Minmax(inputs=\"x_out\", outputs=\"x_out\")])"
   ]
  },
  {
   "cell_type": "markdown",
   "metadata": {},
   "source": [
    "### Validate `Pipeline`\n",
    "In order to make sure the pipeline works as expected, we need to visualize the output of pipeline image and check its size.\n",
    "`Pipeline.get_results` will return a batch data of pipeline output. \n",
    " "
   ]
  },
  {
   "cell_type": "code",
   "execution_count": 5,
   "metadata": {},
   "outputs": [
    {
     "name": "stdout",
     "output_type": "stream",
     "text": [
      "the pipeline input data size: (32, 28, 28)\n",
      "the pipeline output data size: (32, 28, 28, 1)\n",
      "the maximum pixel value of output image: 1.0\n",
      "the minimum pixel value of output image: 0.0\n"
     ]
    }
   ],
   "source": [
    "data = pipeline.get_results()\n",
    "data_xin = data[\"x\"]\n",
    "data_xout = data[\"x_out\"]\n",
    "\n",
    "print(\"the pipeline input data size: {}\".format(data_xin.numpy().shape))\n",
    "print(\"the pipeline output data size: {}\".format(data_xout.numpy().shape))\n",
    "print(\"the maximum pixel value of output image: {}\".format(np.max(data_xout.numpy())))\n",
    "print(\"the minimum pixel value of output image: {}\".format(np.min(data_xout.numpy())))"
   ]
  },
  {
   "cell_type": "code",
   "execution_count": 6,
   "metadata": {},
   "outputs": [
    {
     "data": {
      "image/png": "[encoded data removed]",
      "text/plain": [
       "<Figure size 864x864 with 10 Axes>"
      ]
     },
     "metadata": {
      "needs_background": "light"
     },
     "output_type": "display_data"
    }
   ],
   "source": [
    "sample_num = 5\n",
    "\n",
    "fig, axs = plt.subplots(sample_num, 2, figsize=(12,12))\n",
    "\n",
    "axs[0,0].set_title(\"pipeline input\")\n",
    "axs[0,1].set_title(\"pipeline output\")\n",
    "\n",
    "\n",
    "for i, j in enumerate(np.random.randint(low=0, high=batch_size-1, size=sample_num)):\n",
    "    img_in = data_xin.numpy()[j]\n",
    "    axs[i,0].imshow(img_in, cmap=\"gray\")\n",
    "    \n",
    "    img_out = data_xout.numpy()[j,:,:,0]\n",
    "    axs[i,1].imshow(img_out, cmap=\"gray\")"
   ]
  },
  {
   "cell_type": "markdown",
   "metadata": {},
   "source": [
    "## Step 2 - `Network` construction\n",
    "**FastEstimator supports both Pytorch and Tensorlfow, so this section can use both backend to implement.** <br>\n",
    "We are going to only demonstate the Tensorflow way in this example.\n",
    "\n",
    "### Model construction\n",
    "Here the model definition is going to be imported from the FastEstimator pre-defined architecture that is implemented in Tensorflow, and we create model instance by compiling it with specific model optimizer."
   ]
  },
  {
   "cell_type": "code",
   "execution_count": 7,
   "metadata": {},
   "outputs": [],
   "source": [
    "from fastestimator.architecture.tensorflow import LeNet\n",
    "\n",
    "model = fe.build(model_fn=LeNet, optimizer_fn=\"adam\")"
   ]
  },
  {
   "cell_type": "markdown",
   "metadata": {},
   "source": [
    "### `Network` definition\n",
    "We are going to connect the model and `Ops` together into a `Network`. `Ops` are the basic component of `Network`. They can be logic for loss calculation, model update units, and even model itself is also considered as an `Op`. "
   ]
  },
  {
   "cell_type": "code",
   "execution_count": 8,
   "metadata": {},
   "outputs": [],
   "source": [
    "from fastestimator.op.tensorop.loss import CrossEntropy\n",
    "from fastestimator.op.tensorop.model import ModelOp, UpdateOp\n",
    "\n",
    "\n",
    "network = fe.Network(ops=[\n",
    "        ModelOp(model=model, inputs=\"x_out\", outputs=\"y_pred\"),\n",
    "        CrossEntropy(inputs=(\"y_pred\", \"y\"), outputs=\"ce\"),\n",
    "        UpdateOp(model=model, loss_name=\"ce\", mode=\"!infer\")\n",
    "    ])"
   ]
  },
  {
   "cell_type": "markdown",
   "metadata": {},
   "source": [
    "## Step 3 - `Estimator` definition and training\n",
    "In this step, we define the `Estimator` to connect the `Network` with `Pipeline` and set the `traces` whcih will compute accuracy (Accuracy), save best model (BestModelSaver), and change learning rate (LRScheduler)  "
   ]
  },
  {
   "cell_type": "code",
   "execution_count": 9,
   "metadata": {},
   "outputs": [
    {
     "name": "stdout",
     "output_type": "stream",
     "text": [
      "    ______           __  ______     __  _                 __            \n",
      "   / ____/___ ______/ /_/ ____/____/ /_(_)___ ___  ____ _/ /_____  _____\n",
      "  / /_  / __ `/ ___/ __/ __/ / ___/ __/ / __ `__ \\/ __ `/ __/ __ \\/ ___/\n",
      " / __/ / /_/ (__  ) /_/ /___(__  ) /_/ / / / / / / /_/ / /_/ /_/ / /    \n",
      "/_/    \\__,_/____/\\__/_____/____/\\__/_/_/ /_/ /_/\\__,_/\\__/\\____/_/     \n",
      "                                                                        \n",
      "\n",
      "FastEstimator-Start: step: 0; model_lr: 0.001; \n",
      "FastEstimator-Train: step: 0; ce: 2.2959428; model_lr: 0.001; \n",
      "FastEstimator-Train: step: 100; ce: 0.46019876; steps/sec: 195.6; model_lr: 0.0009982482; \n",
      "FastEstimator-Train: step: 200; ce: 0.11751036; steps/sec: 205.69; model_lr: 0.000993005; \n",
      "FastEstimator-Train: step: 300; ce: 0.1876532; steps/sec: 207.98; model_lr: 0.0009843073; \n",
      "FastEstimator-Train: step: 400; ce: 0.33879298; steps/sec: 206.38; model_lr: 0.000972216; \n",
      "FastEstimator-Train: step: 500; ce: 0.16744176; steps/sec: 213.18; model_lr: 0.00095681596; \n",
      "FastEstimator-Train: step: 600; ce: 0.14243747; steps/sec: 214.77; model_lr: 0.0009382152; \n",
      "FastEstimator-Train: step: 700; ce: 0.049804565; steps/sec: 230.92; model_lr: 0.0009165442; \n",
      "FastEstimator-Train: step: 800; ce: 0.16015115; steps/sec: 219.05; model_lr: 0.00089195487; \n",
      "FastEstimator-Train: step: 900; ce: 0.020783454; steps/sec: 222.51; model_lr: 0.00086461985; \n",
      "FastEstimator-Train: step: 1000; ce: 0.028831523; steps/sec: 200.1; model_lr: 0.00083473074; \n",
      "FastEstimator-Train: step: 1100; ce: 0.013379455; steps/sec: 207.95; model_lr: 0.00080249726; \n",
      "FastEstimator-Train: step: 1200; ce: 0.26205215; steps/sec: 212.24; model_lr: 0.0007681455; \n",
      "FastEstimator-Train: step: 1300; ce: 0.027294485; steps/sec: 217.34; model_lr: 0.00073191634; \n",
      "FastEstimator-Train: step: 1400; ce: 0.01904577; steps/sec: 206.62; model_lr: 0.000694064; \n",
      "FastEstimator-Train: step: 1500; ce: 0.12515865; steps/sec: 206.75; model_lr: 0.000654854; \n",
      "FastEstimator-Train: step: 1600; ce: 0.046350338; steps/sec: 208.56; model_lr: 0.00061456126; \n",
      "FastEstimator-Train: step: 1700; ce: 0.15546861; steps/sec: 219.74; model_lr: 0.00057346845; \n",
      "FastEstimator-Train: step: 1800; ce: 0.0058906553; steps/sec: 214.7; model_lr: 0.0005318639; \n",
      "FastEstimator-Train: step: 1875; epoch: 0; epoch_time: 11.56 sec; \n",
      "Saved model to /tmp/tmpo_k97iq4/model_best_accuracy.h5\n",
      "FastEstimator-Eval: step: 1875; epoch: 0; ce: 0.047258444; min_ce: 0.047258444; since_best: 0; accuracy: 0.9864; \n",
      "FastEstimator-Train: step: 1900; ce: 0.073818795; steps/sec: 150.14; model_lr: 0.00049003924; \n",
      "FastEstimator-Train: step: 2000; ce: 0.0034975978; steps/sec: 213.99; model_lr: 0.00044828805; \n",
      "FastEstimator-Train: step: 2100; ce: 0.08782224; steps/sec: 213.6; model_lr: 0.00040690304; \n",
      "FastEstimator-Train: step: 2200; ce: 0.09023213; steps/sec: 212.58; model_lr: 0.00036617456; \n",
      "FastEstimator-Train: step: 2300; ce: 0.011567209; steps/sec: 212.14; model_lr: 0.00032638825; \n",
      "FastEstimator-Train: step: 2400; ce: 0.06249132; steps/sec: 219.85; model_lr: 0.00028782323; \n",
      "FastEstimator-Train: step: 2500; ce: 0.007921916; steps/sec: 209.88; model_lr: 0.00025075; \n",
      "FastEstimator-Train: step: 2600; ce: 0.008044338; steps/sec: 211.47; model_lr: 0.00021542858; \n",
      "FastEstimator-Train: step: 2700; ce: 0.08872147; steps/sec: 205.42; model_lr: 0.00018210671; \n",
      "FastEstimator-Train: step: 2800; ce: 0.0071500707; steps/sec: 203.48; model_lr: 0.00015101816; \n",
      "FastEstimator-Train: step: 2900; ce: 0.017857082; steps/sec: 216.57; model_lr: 0.00012238097; \n",
      "FastEstimator-Train: step: 3000; ce: 0.01088654; steps/sec: 206.19; model_lr: 9.639601e-05; \n",
      "FastEstimator-Train: step: 3100; ce: 0.032891985; steps/sec: 200.38; model_lr: 7.324555e-05; \n",
      "FastEstimator-Train: step: 3200; ce: 0.019853543; steps/sec: 209.86; model_lr: 5.3091975e-05; \n",
      "FastEstimator-Train: step: 3300; ce: 0.013546258; steps/sec: 206.09; model_lr: 3.6076646e-05; \n",
      "FastEstimator-Train: step: 3400; ce: 0.0027700854; steps/sec: 216.72; model_lr: 2.231891e-05; \n",
      "FastEstimator-Train: step: 3500; ce: 0.12269623; steps/sec: 216.83; model_lr: 1.1915274e-05; \n",
      "FastEstimator-Train: step: 3600; ce: 0.0007222641; steps/sec: 215.17; model_lr: 4.9387068e-06; \n",
      "FastEstimator-Train: step: 3700; ce: 0.002228952; steps/sec: 209.13; model_lr: 1.4381463e-06; \n",
      "FastEstimator-Train: step: 3750; epoch: 1; epoch_time: 9.11 sec; \n",
      "Saved model to /tmp/tmpo_k97iq4/model_best_accuracy.h5\n",
      "FastEstimator-Eval: step: 3750; epoch: 1; ce: 0.02245776; min_ce: 0.02245776; since_best: 0; accuracy: 0.9928; \n",
      "FastEstimator-Finish: step: 3750; total_time: 23.12 sec; model_lr: 1.0001753e-06; \n"
     ]
    }
   ],
   "source": [
    "from fastestimator.schedule import cosine_decay\n",
    "from fastestimator.trace.adapt import LRScheduler\n",
    "from fastestimator.trace.io import BestModelSaver\n",
    "from fastestimator.trace.metric import Accuracy\n",
    "\n",
    "\n",
    "traces = [\n",
    "    Accuracy(true_key=\"y\", pred_key=\"y_pred\"),\n",
    "    BestModelSaver(model=model, save_dir=save_dir, metric=\"accuracy\", save_best_mode=\"max\"),\n",
    "    LRScheduler(model=model, lr_fn=lambda step: cosine_decay(step, cycle_length=3750, init_lr=1e-3))\n",
    "]\n",
    "\n",
    "estimator = fe.Estimator(pipeline=pipeline,\n",
    "                         network=network,\n",
    "                         epochs=epochs,\n",
    "                         traces=traces,\n",
    "                         max_steps_per_epoch=max_steps_per_epoch)\n",
    "\n",
    "estimator.fit() # start the training process"
   ]
  },
  {
   "cell_type": "markdown",
   "metadata": {},
   "source": [
    "## Model testing\n",
    "`Estimator.test` triggers model testing with test dataset that specified in `Pipeline`. We can evaluate the model performance in the classification accuracy. "
   ]
  },
  {
   "cell_type": "code",
   "execution_count": 10,
   "metadata": {},
   "outputs": [
    {
     "name": "stdout",
     "output_type": "stream",
     "text": [
      "FastEstimator-Test: epoch: 1; accuracy: 0.9912; \n"
     ]
    }
   ],
   "source": [
    "estimator.test()"
   ]
  },
  {
   "cell_type": "markdown",
   "metadata": {},
   "source": [
    "## Images inference \n",
    "In this step we run image inference directly using the model that just trained. \n",
    "We randomly select 5 images from testing dataset and infer them image by image with `Pipeline.transform` and `Netowork.transform`"
   ]
  },
  {
   "cell_type": "code",
   "execution_count": 11,
   "metadata": {},
   "outputs": [
    {
     "data": {
      "image/png": "[encoded data removed]",
      "text/plain": [
       "<Figure size 864x864 with 15 Axes>"
      ]
     },
     "metadata": {
      "needs_background": "light"
     },
     "output_type": "display_data"
    }
   ],
   "source": [
    "sample_num = 5\n",
    "\n",
    "fig, axs = plt.subplots(sample_num, 3, figsize=(12,12))\n",
    "\n",
    "axs[0,0].set_title(\"pipeline input\")\n",
    "axs[0,1].set_title(\"pipeline output\")\n",
    "axs[0,2].set_title(\"predict result\")\n",
    "\n",
    "for i in range(sample_num):\n",
    "    data = {\"x\": test_data[\"x\"][i]}\n",
    "    axs[i,0].imshow(data[\"x\"], cmap=\"gray\")\n",
    "    \n",
    "    # run the pipeline\n",
    "    pipeline.transform(data, mode=\"infer\") \n",
    "    img = data[\"x_out\"].squeeze(axis=(0,3))\n",
    "    axs[i,1].imshow(img, cmap=\"gray\")\n",
    "    \n",
    "    # run the network\n",
    "    data = network.transform(data, mode=\"infer\")\n",
    "    predict = data[\"y_pred\"].numpy().squeeze(axis=(0))\n",
    "    axs[i,2].text(0.2, 0.5, \"predicted number: {}\".format(np.argmax(predict)))\n",
    "    axs[i,2].get_xaxis().set_visible(False)\n",
    "    axs[i,2].get_yaxis().set_visible(False)\n",
    "    "
   ]
  }
 ],
 "metadata": {
  "celltoolbar": "Tags",
  "kernelspec": {
   "display_name": "tf2.1",
   "language": "python",
   "name": "tf2.1"
  },
  "language_info": {
   "codemirror_mode": {
    "name": "ipython",
    "version": 3
   },
   "file_extension": ".py",
   "mimetype": "text/x-python",
   "name": "python",
   "nbconvert_exporter": "python",
   "pygments_lexer": "ipython3",
   "version": "3.6.10"
  }
 },
 "nbformat": 4,
 "nbformat_minor": 4
}
