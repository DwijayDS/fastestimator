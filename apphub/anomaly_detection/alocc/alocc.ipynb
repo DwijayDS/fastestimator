{
 "cells": [
  {
   "cell_type": "markdown",
   "metadata": {},
   "source": [
    "# Anomaly Detection with Fastestimator\n",
    "\n",
    "In this notebook we will demonstrate how to do anomaly detection using one class classifier as described in [Adversarially Learned One-Class Classifier for Novelty Detection](https://arxiv.org/pdf/1802.09088.pdf). In real world, outliers or novelty class is often absent from the training dataset. Such problems can be efficiently modeled using one class classifiers.\n",
    "In the algorihm demonstrated below, two networks are trained to compete with each other where one network acts as a novelty detector and other enhaces the inliers and distorts the outliers. We use images of digit \"1\" from MNIST dataset for training and images of other digits as outliers."
   ]
  },
  {
   "cell_type": "code",
   "execution_count": 1,
   "metadata": {},
   "outputs": [],
   "source": [
    "import tempfile\n",
    "\n",
    "import fastestimator as fe\n",
    "import numpy as np\n",
    "import tensorflow as tf\n",
    "from fastestimator.backend import binary_crossentropy\n",
    "from fastestimator.op.numpyop import LambdaOp\n",
    "from fastestimator.op.numpyop.univariate import ExpandDims, Normalize\n",
    "from fastestimator.op.tensorop import TensorOp\n",
    "from fastestimator.op.tensorop.model import ModelOp, UpdateOp\n",
    "from fastestimator.trace import Trace\n",
    "from fastestimator.trace.io import BestModelSaver\n",
    "from fastestimator.util import to_number\n",
    "from sklearn.metrics import auc, f1_score, roc_curve\n",
    "from tensorflow.keras import layers"
   ]
  },
  {
   "cell_type": "code",
   "execution_count": 2,
   "metadata": {
    "tags": [
     "parameters"
    ]
   },
   "outputs": [],
   "source": [
    "# Parameters\n",
    "epochs=20\n",
    "batch_size=128\n",
    "train_steps_per_epoch=None\n",
    "save_dir=tempfile.mkdtemp()"
   ]
  },
  {
   "cell_type": "markdown",
   "metadata": {},
   "source": [
    "## Building Components\n",
    "\n",
    "### Downloading the data\n",
    "\n",
    "First, we will download training images using tensorflow API. We will use images of digit `1` for training and test images of `1` as inliers and images of other digits as outliers. Outliers comprise 50% of our validation dataset."
   ]
  },
  {
   "cell_type": "code",
   "execution_count": 3,
   "metadata": {},
   "outputs": [],
   "source": [
    "(x_train, y_train), (x_eval, y_eval) = tf.keras.datasets.mnist.load_data()\n",
    "\n",
    "# Create Training Dataset\n",
    "x_train, y_train = x_train[np.where((y_train == 1))], np.zeros(y_train[np.where((y_train == 1))].shape)\n",
    "train_data = fe.dataset.NumpyDataset({\"x\": x_train, \"y\": y_train})\n",
    "\n",
    "# Create Validation Dataset\n",
    "x_eval0, y_eval0 = x_eval[np.where((y_eval == 1))], np.ones(y_eval[np.where((y_eval == 1))].shape)\n",
    "x_eval1, y_eval1 = x_eval[np.where((y_eval != 1))], y_eval[np.where((y_eval != 1))]\n",
    "\n",
    "# Ensuring outliers comprise 50% of the dataset\n",
    "index = np.random.choice(x_eval1.shape[0], int(x_eval0.shape[0]), replace=False)\n",
    "x_eval1, y_eval1 = x_eval1[index], np.zeros(y_eval1[index].shape)\n",
    "\n",
    "x_eval, y_eval = np.concatenate([x_eval0, x_eval1]), np.concatenate([y_eval0, y_eval1])\n",
    "eval_data = fe.dataset.NumpyDataset({\"x\": x_eval, \"y\": y_eval})"
   ]
  },
  {
   "cell_type": "markdown",
   "metadata": {},
   "source": [
    "### Step 1: Create `Pipeline`\n",
    "\n",
    "We will use the `LambdaOp` to add noise to the images during training."
   ]
  },
  {
   "cell_type": "code",
   "execution_count": 4,
   "metadata": {},
   "outputs": [],
   "source": [
    "pipeline = fe.Pipeline(\n",
    "    train_data=train_data,\n",
    "    eval_data=eval_data,\n",
    "    batch_size=batch_size,\n",
    "    ops=[\n",
    "        ExpandDims(inputs=\"x\", outputs=\"x\"),\n",
    "        Normalize(inputs=\"x\", outputs=\"x\", mean=1.0, std=1.0, max_pixel_value=127.5),\n",
    "        LambdaOp(fn=lambda x: x + np.random.normal(loc=0.0, scale=0.155, size=(28, 28, 1)),\n",
    "                 inputs=\"x\",\n",
    "                 outputs=\"x_w_noise\",\n",
    "                 mode=\"train\")\n",
    "    ])"
   ]
  },
  {
   "cell_type": "markdown",
   "metadata": {},
   "source": [
    "We can visualize sample images from our `Pipeline` using the 'get_results' method."
   ]
  },
  {
   "cell_type": "code",
   "execution_count": 5,
   "metadata": {},
   "outputs": [
    {
     "data": {
      "image/png": "[encoded data removed]",
      "text/plain": [
       "<Figure size 450x240 with 2 Axes>"
      ]
     },
     "metadata": {
      "needs_background": "light"
     },
     "output_type": "display_data"
    }
   ],
   "source": [
    "sample_batch = pipeline.get_results()\n",
    "\n",
    "img = fe.util.ImgData(Image=sample_batch[\"x\"][0].numpy().reshape(1, 28, 28, 1), \n",
    "                      Noisy_Image=sample_batch[\"x_w_noise\"][0].numpy().reshape(1, 28, 28, 1))\n",
    "fig = img.paint_figure()"
   ]
  },
  {
   "cell_type": "markdown",
   "metadata": {},
   "source": [
    "### Step 2: Create `Network`\n",
    "\n",
    "The architecture of our model consists of an Autoencoder (ecoder-decoder) network and a Discriminator network.\n",
    "![Network Architecture](./network_architecture.PNG)[Credit: https://arxiv.org/pdf/1802.09088.pdf]"
   ]
  },
  {
   "cell_type": "code",
   "execution_count": 5,
   "metadata": {},
   "outputs": [],
   "source": [
    "def reconstructor(input_shape=(28, 28, 1)):\n",
    "    model = tf.keras.Sequential()\n",
    "    # Encoder Block\n",
    "    model.add(\n",
    "        layers.Conv2D(32, (5, 5),\n",
    "                      strides=(2, 2),\n",
    "                      padding='same',\n",
    "                      kernel_initializer=tf.keras.initializers.TruncatedNormal(stddev=0.02),\n",
    "                      input_shape=input_shape))\n",
    "    model.add(layers.BatchNormalization())\n",
    "    model.add(layers.LeakyReLU(0.2))\n",
    "    model.add(\n",
    "        layers.Conv2D(64, (5, 5),\n",
    "                      strides=(2, 2),\n",
    "                      kernel_initializer=tf.keras.initializers.TruncatedNormal(stddev=0.02),\n",
    "                      padding='same'))\n",
    "    model.add(layers.BatchNormalization())\n",
    "    model.add(layers.LeakyReLU(0.2))\n",
    "    model.add(\n",
    "        layers.Conv2D(128, (5, 5),\n",
    "                      strides=(2, 2),\n",
    "                      kernel_initializer=tf.keras.initializers.TruncatedNormal(stddev=0.02),\n",
    "                      padding='same'))\n",
    "    model.add(layers.BatchNormalization())\n",
    "    model.add(layers.LeakyReLU(0.2))\n",
    "\n",
    "    # Decoder Block\n",
    "    model.add(\n",
    "        layers.Conv2DTranspose(32, (5, 5),\n",
    "                               strides=(2, 2),\n",
    "                               output_padding=(0, 0),\n",
    "                               padding='same',\n",
    "                               kernel_initializer=tf.keras.initializers.RandomNormal(stddev=0.02)))\n",
    "    model.add(layers.BatchNormalization())\n",
    "    model.add(layers.ReLU())\n",
    "    model.add(\n",
    "        layers.Conv2DTranspose(16, (5, 5),\n",
    "                               strides=(2, 2),\n",
    "                               padding='same',\n",
    "                               kernel_initializer=tf.keras.initializers.RandomNormal(stddev=0.02)))\n",
    "    model.add(layers.BatchNormalization())\n",
    "    model.add(layers.ReLU())\n",
    "    model.add(\n",
    "        layers.Conv2DTranspose(1, (5, 5),\n",
    "                               strides=(2, 2),\n",
    "                               padding='same',\n",
    "                               kernel_initializer=tf.keras.initializers.RandomNormal(stddev=0.02),\n",
    "                               activation='tanh'))\n",
    "    return model\n",
    "\n",
    "\n",
    "def discriminator(input_shape=(28, 28, 1)):\n",
    "    model = tf.keras.Sequential()\n",
    "    model.add(\n",
    "        layers.Conv2D(16, (5, 5),\n",
    "                      strides=(2, 2),\n",
    "                      padding='same',\n",
    "                      kernel_initializer=tf.keras.initializers.TruncatedNormal(stddev=0.02),\n",
    "                      input_shape=input_shape))\n",
    "    model.add(layers.BatchNormalization())\n",
    "    model.add(layers.LeakyReLU(0.2))\n",
    "    model.add(\n",
    "        layers.Conv2D(32, (5, 5),\n",
    "                      strides=(2, 2),\n",
    "                      padding='same',\n",
    "                      kernel_initializer=tf.keras.initializers.TruncatedNormal(stddev=0.02)))\n",
    "    model.add(layers.BatchNormalization())\n",
    "    model.add(layers.LeakyReLU(0.2))\n",
    "    model.add(\n",
    "        layers.Conv2D(64, (5, 5),\n",
    "                      strides=(2, 2),\n",
    "                      padding='same',\n",
    "                      kernel_initializer=tf.keras.initializers.TruncatedNormal(stddev=0.02)))\n",
    "    model.add(layers.BatchNormalization())\n",
    "    model.add(layers.LeakyReLU(0.2))\n",
    "    model.add(\n",
    "        layers.Conv2D(128, (5, 5),\n",
    "                      strides=(2, 2),\n",
    "                      padding='same',\n",
    "                      kernel_initializer=tf.keras.initializers.TruncatedNormal(stddev=0.02)))\n",
    "    model.add(layers.LeakyReLU(0.2))\n",
    "    model.add(layers.Flatten())\n",
    "    model.add(layers.Dense(1, activation=\"sigmoid\"))\n",
    "    return model"
   ]
  },
  {
   "cell_type": "code",
   "execution_count": 6,
   "metadata": {},
   "outputs": [
    {
     "name": "stderr",
     "output_type": "stream",
     "text": [
      "2022-02-22 16:37:30.450543: I tensorflow/core/common_runtime/pluggable_device/pluggable_device_factory.cc:305] Could not identify NUMA node of platform GPU ID 0, defaulting to 0. Your kernel may not have been built with NUMA support.\n",
      "2022-02-22 16:37:30.450670: I tensorflow/core/common_runtime/pluggable_device/pluggable_device_factory.cc:271] Created TensorFlow device (/job:localhost/replica:0/task:0/device:GPU:0 with 0 MB memory) -> physical PluggableDevice (device: 0, name: METAL, pci bus id: <undefined>)\n"
     ]
    },
    {
     "name": "stdout",
     "output_type": "stream",
     "text": [
      "Metal device set to: Apple M1 Max\n"
     ]
    }
   ],
   "source": [
    "recon_model = fe.build(model_fn=reconstructor, optimizer_fn=lambda: tf.optimizers.RMSprop(2e-4), model_name=\"reconstructor\")\n",
    "disc_model = fe.build(model_fn=discriminator,\n",
    "                      optimizer_fn=lambda: tf.optimizers.RMSprop(1e-4),\n",
    "                      model_name=\"discriminator\")"
   ]
  },
  {
   "cell_type": "markdown",
   "metadata": {},
   "source": [
    "### Defining Loss\n",
    "\n",
    "The losses of both the networks are smilar to a standarad GAN network with the exception of the autoencoder having and additional *reconstruction* loss term to enforce similarity between the input and the reconstructed image.\n",
    "We first define custom `TensorOp`s to calculate the losses of both the networks."
   ]
  },
  {
   "cell_type": "code",
   "execution_count": 7,
   "metadata": {},
   "outputs": [],
   "source": [
    "class RLoss(TensorOp):\n",
    "    def __init__(self, alpha=0.2, inputs=None, outputs=None, mode=None):\n",
    "        super().__init__(inputs, outputs, mode)\n",
    "        self.alpha = alpha\n",
    "\n",
    "    def forward(self, data, state):\n",
    "        fake_score, x_fake, x = data\n",
    "        recon_loss = binary_crossentropy(y_true=x, y_pred=x_fake, from_logits=True)\n",
    "        adv_loss = binary_crossentropy(y_pred=fake_score, y_true=tf.ones_like(fake_score), from_logits=True)\n",
    "        return adv_loss + self.alpha * recon_loss\n",
    "\n",
    "\n",
    "class DLoss(TensorOp):\n",
    "    def forward(self, data, state):\n",
    "        true_score, fake_score = data\n",
    "        real_loss = binary_crossentropy(y_pred=true_score, y_true=tf.ones_like(true_score), from_logits=True)\n",
    "        fake_loss = binary_crossentropy(y_pred=fake_score, y_true=tf.zeros_like(fake_score), from_logits=True)\n",
    "        total_loss = real_loss + fake_loss\n",
    "        return total_loss"
   ]
  },
  {
   "cell_type": "markdown",
   "metadata": {},
   "source": [
    "We now define the `Network` object:"
   ]
  },
  {
   "cell_type": "code",
   "execution_count": 8,
   "metadata": {},
   "outputs": [
    {
     "name": "stderr",
     "output_type": "stream",
     "text": [
      "2022-02-22 16:37:34.773678: W tensorflow/python/util/util.cc:368] Sets are not currently considered sequences, but this may change in the future, so consider avoiding using them.\n"
     ]
    }
   ],
   "source": [
    "network = fe.Network(ops=[\n",
    "    ModelOp(model=recon_model, inputs=\"x_w_noise\", outputs=\"x_fake\", mode=\"train\"),\n",
    "    ModelOp(model=recon_model, inputs=\"x\", outputs=\"x_fake\", mode=\"eval\"),\n",
    "    ModelOp(model=disc_model, inputs=\"x_fake\", outputs=\"fake_score\"),\n",
    "    ModelOp(model=disc_model, inputs=\"x\", outputs=\"true_score\"),\n",
    "    RLoss(inputs=(\"fake_score\", \"x_fake\", \"x\"), outputs=\"rloss\"),\n",
    "    UpdateOp(model=recon_model, loss_name=\"rloss\"),\n",
    "    DLoss(inputs=(\"true_score\", \"fake_score\"), outputs=\"dloss\"),\n",
    "    UpdateOp(model=disc_model, loss_name=\"dloss\")\n",
    "])"
   ]
  },
  {
   "cell_type": "markdown",
   "metadata": {},
   "source": [
    "In this example we will also use the following traces:\n",
    "\n",
    "1. BestModelSaver for saving the best model. For illustration purpose, we will save these models in a temporary directory.\n",
    "2. A custom trace to calculate Area Under the Curve and F1-Score."
   ]
  },
  {
   "cell_type": "code",
   "execution_count": 9,
   "metadata": {},
   "outputs": [],
   "source": [
    "class F1AUCScores(Trace):\n",
    "    \"\"\"Computes F1-Score and AUC Score for a classification task and reports it back to the logger.\n",
    "    \"\"\"\n",
    "    def __init__(self, true_key, pred_key, mode=(\"eval\", \"test\"), output_name=[\"auc_score\", \"f1_score\"]):\n",
    "        super().__init__(inputs=(true_key, pred_key), outputs=output_name, mode=mode)\n",
    "        self.y_true = []\n",
    "        self.y_pred = []\n",
    "\n",
    "    @property\n",
    "    def true_key(self):\n",
    "        return self.inputs[0]\n",
    "\n",
    "    @property\n",
    "    def pred_key(self):\n",
    "        return self.inputs[1]\n",
    "\n",
    "    def on_epoch_begin(self, data):\n",
    "        self.y_true = []\n",
    "        self.y_pred = []\n",
    "\n",
    "    def on_batch_end(self, data):\n",
    "        y_true, y_pred = to_number(data[self.true_key]), to_number(data[self.pred_key])\n",
    "        assert y_pred.size == y_true.size\n",
    "        self.y_pred.extend(y_pred.ravel())\n",
    "        self.y_true.extend(y_true.ravel())\n",
    "\n",
    "    def on_epoch_end(self, data):\n",
    "        fpr, tpr, thresholds = roc_curve(self.y_true, self.y_pred, pos_label=1)\n",
    "        roc_auc = auc(fpr, tpr)\n",
    "        eer_threshold = thresholds[np.nanargmin(np.absolute((1 - tpr - fpr)))]\n",
    "        y_pred_class = np.copy(self.y_pred)\n",
    "        y_pred_class[y_pred_class >= eer_threshold] = 1\n",
    "        y_pred_class[y_pred_class < eer_threshold] = 0\n",
    "        f_score = f1_score(self.y_true, y_pred_class)\n",
    "\n",
    "        data.write_with_log(self.outputs[0], roc_auc)\n",
    "        data.write_with_log(self.outputs[1], f_score)\n",
    "        \n",
    "\n",
    "traces = [\n",
    "    F1AUCScores(true_key=\"y\", pred_key=\"fake_score\", mode=\"eval\", output_name=[\"auc_score\", \"f1_score\"]),\n",
    "    BestModelSaver(model=recon_model, save_dir=save_dir, metric='f1_score', save_best_mode='max', load_best_final=True),\n",
    "    BestModelSaver(model=disc_model, save_dir=save_dir, metric='f1_score', save_best_mode='max', load_best_final=True)\n",
    "]"
   ]
  },
  {
   "cell_type": "markdown",
   "metadata": {},
   "source": [
    "### Step 3: Create `Estimator`"
   ]
  },
  {
   "cell_type": "code",
   "execution_count": 10,
   "metadata": {},
   "outputs": [],
   "source": [
    "estimator = fe.Estimator(pipeline=pipeline,\n",
    "                         network=network,\n",
    "                         epochs=epochs,\n",
    "                         traces=traces,\n",
    "                         train_steps_per_epoch=train_steps_per_epoch)"
   ]
  },
  {
   "cell_type": "markdown",
   "metadata": {},
   "source": [
    "## Training"
   ]
  },
  {
   "cell_type": "code",
   "execution_count": 11,
   "metadata": {},
   "outputs": [
    {
     "name": "stdout",
     "output_type": "stream",
     "text": [
      "    ______           __  ______     __  _                 __            \n",
      "   / ____/___ ______/ /_/ ____/____/ /_(_)___ ___  ____ _/ /_____  _____\n",
      "  / /_  / __ `/ ___/ __/ __/ / ___/ __/ / __ `__ \\/ __ `/ __/ __ \\/ ___/\n",
      " / __/ / /_/ (__  ) /_/ /___(__  ) /_/ / / / / / / /_/ / /_/ /_/ / /    \n",
      "/_/    \\__,_/____/\\__/_____/____/\\__/_/_/ /_/ /_/\\__,_/\\__/\\____/_/     \n",
      "                                                                        \n",
      "\n"
     ]
    },
    {
     "name": "stderr",
     "output_type": "stream",
     "text": [
      "/Users/skynet/.pyenv/versions/miniforge3-4.10.1-5/lib/python3.9/site-packages/tensorflow/python/util/dispatch.py:1082: UserWarning: \"`binary_crossentropy` received `from_logits=True`, but the `output` argument was produced by a sigmoid or softmax activation and thus does not represent logits. Was this intended?\"\n",
      "  return dispatch_target(*args, **kwargs)\n"
     ]
    },
    {
     "name": "stdout",
     "output_type": "stream",
     "text": [
      "FastEstimator-Warn: the key 'y' is being pruned since it is unused outside of the Pipeline. To prevent this, you can declare the key as an input of a Trace or TensorOp.\n",
      "FastEstimator-Start: step: 1; logging_interval: 100; num_device: 0;\n",
      "FastEstimator-Train: step: 1; dloss: 1.524775; rloss: 0.8633015;\n",
      "FastEstimator-Train: step: 53; epoch: 1; epoch_time: 4.49 sec;\n",
      "FastEstimator-BestModelSaver: Saved model to /var/folders/lx/drkxftt117gblvgsp1p39rlc0000gn/T/tmph06eus61/reconstructor_best_f1_score.h5\n",
      "FastEstimator-BestModelSaver: Saved model to /var/folders/lx/drkxftt117gblvgsp1p39rlc0000gn/T/tmph06eus61/discriminator_best_f1_score.h5\n",
      "FastEstimator-Eval: step: 53; epoch: 1; auc_score: 0.5048772535853597; dloss: 1.4100367; f1_score: 0.49444197421076036; max_f1_score: 0.49444197421076036; rloss: 1.0217241; since_best_f1_score: 0;\n",
      "FastEstimator-Train: step: 100; dloss: 0.13880149; rloss: 2.4918878; steps/sec: 18.3;\n",
      "FastEstimator-Train: step: 106; epoch: 2; epoch_time: 3.02 sec;\n",
      "FastEstimator-Eval: step: 106; epoch: 2; auc_score: 0.19845834384521338; dloss: 1.6733501; f1_score: 0.2845814977973568; max_f1_score: 0.49444197421076036; rloss: 1.4803946; since_best_f1_score: 1;\n",
      "FastEstimator-Train: step: 159; epoch: 3; epoch_time: 3.21 sec;\n",
      "FastEstimator-Eval: step: 159; epoch: 3; auc_score: 0.0613215859030837; dloss: 3.3317976; f1_score: 0.13744493392070484; max_f1_score: 0.49444197421076036; rloss: 2.667472; since_best_f1_score: 2;\n",
      "FastEstimator-Train: step: 200; dloss: 0.010726308; rloss: 5.1565857; steps/sec: 15.58;\n",
      "FastEstimator-Train: step: 212; epoch: 4; epoch_time: 3.39 sec;\n",
      "FastEstimator-BestModelSaver: Saved model to /var/folders/lx/drkxftt117gblvgsp1p39rlc0000gn/T/tmph06eus61/reconstructor_best_f1_score.h5\n",
      "FastEstimator-BestModelSaver: Saved model to /var/folders/lx/drkxftt117gblvgsp1p39rlc0000gn/T/tmph06eus61/discriminator_best_f1_score.h5\n",
      "FastEstimator-Eval: step: 212; epoch: 4; auc_score: 0.8329426148382464; dloss: 7.83088; f1_score: 0.7430586161304541; max_f1_score: 0.7430586161304541; rloss: 4.1592426; since_best_f1_score: 0;\n",
      "FastEstimator-Train: step: 265; epoch: 5; epoch_time: 3.5 sec;\n",
      "FastEstimator-Eval: step: 265; epoch: 5; auc_score: 0.48616778901201263; dloss: 4.277727; f1_score: 0.4995594713656388; max_f1_score: 0.7430586161304541; rloss: 10.509709; since_best_f1_score: 1;\n",
      "FastEstimator-Train: step: 300; dloss: 0.000251243; rloss: 9.658336; steps/sec: 14.42;\n",
      "FastEstimator-Train: step: 318; epoch: 6; epoch_time: 3.68 sec;\n",
      "FastEstimator-Eval: step: 318; epoch: 6; auc_score: 0.6095332725261504; dloss: 12.922893; f1_score: 0.5859030837004405; max_f1_score: 0.7430586161304541; rloss: 12.822828; since_best_f1_score: 2;\n",
      "FastEstimator-Train: step: 371; epoch: 7; epoch_time: 4.06 sec;\n",
      "FastEstimator-BestModelSaver: Saved model to /var/folders/lx/drkxftt117gblvgsp1p39rlc0000gn/T/tmph06eus61/reconstructor_best_f1_score.h5\n",
      "FastEstimator-BestModelSaver: Saved model to /var/folders/lx/drkxftt117gblvgsp1p39rlc0000gn/T/tmph06eus61/discriminator_best_f1_score.h5\n",
      "FastEstimator-Eval: step: 371; epoch: 7; auc_score: 0.9836616274330958; dloss: 14.511302; f1_score: 0.9356828193832599; max_f1_score: 0.9356828193832599; rloss: 14.63348; since_best_f1_score: 0;\n",
      "FastEstimator-Train: step: 400; dloss: 0.76803005; rloss: 0.6867671; steps/sec: 13.02;\n",
      "FastEstimator-Train: step: 424; epoch: 8; epoch_time: 3.97 sec;\n",
      "FastEstimator-Eval: step: 424; epoch: 8; auc_score: 0.9414834365114789; dloss: 24.694086; f1_score: 0.8814455707360069; max_f1_score: 0.9356828193832599; rloss: 11.994867; since_best_f1_score: 1;\n",
      "FastEstimator-Train: step: 477; epoch: 9; epoch_time: 4.12 sec;\n",
      "FastEstimator-Eval: step: 477; epoch: 9; auc_score: 0.013437481806361461; dloss: 17.09223; f1_score: 0.051982378854625554; max_f1_score: 0.9356828193832599; rloss: 12.589384; since_best_f1_score: 2;\n",
      "FastEstimator-Train: step: 500; dloss: 0.14014465; rloss: 3.6308444; steps/sec: 12.2;\n",
      "FastEstimator-Train: step: 530; epoch: 10; epoch_time: 4.32 sec;\n",
      "FastEstimator-Eval: step: 530; epoch: 10; auc_score: 0.8486207766500418; dloss: 4.468079; f1_score: 0.7844865579550463; max_f1_score: 0.9356828193832599; rloss: 5.635681; since_best_f1_score: 3;\n",
      "FastEstimator-Train: step: 583; epoch: 11; epoch_time: 4.18 sec;\n",
      "FastEstimator-Eval: step: 583; epoch: 11; auc_score: 0.7565716392710901; dloss: 5.1135554; f1_score: 0.7115808014090709; max_f1_score: 0.9356828193832599; rloss: 3.5982733; since_best_f1_score: 4;\n",
      "FastEstimator-Train: step: 600; dloss: 0.09648359; rloss: 2.9009936; steps/sec: 11.94;\n",
      "FastEstimator-Train: step: 636; epoch: 12; epoch_time: 4.47 sec;\n",
      "FastEstimator-Eval: step: 636; epoch: 12; auc_score: 0.9025659337460459; dloss: 7.0396767; f1_score: 0.8093350946719506; max_f1_score: 0.9356828193832599; rloss: 4.901795; since_best_f1_score: 5;\n",
      "FastEstimator-Train: step: 689; epoch: 13; epoch_time: 4.59 sec;\n",
      "FastEstimator-Eval: step: 689; epoch: 13; auc_score: 0.9113563236235906; dloss: 2.3193545; f1_score: 0.8301056338028169; max_f1_score: 0.9356828193832599; rloss: 0.9075005; since_best_f1_score: 6;\n",
      "FastEstimator-Train: step: 700; dloss: 0.34433943; rloss: 1.7734752; steps/sec: 11.11;\n",
      "FastEstimator-Train: step: 742; epoch: 14; epoch_time: 4.9 sec;\n",
      "FastEstimator-BestModelSaver: Saved model to /var/folders/lx/drkxftt117gblvgsp1p39rlc0000gn/T/tmph06eus61/reconstructor_best_f1_score.h5\n",
      "FastEstimator-BestModelSaver: Saved model to /var/folders/lx/drkxftt117gblvgsp1p39rlc0000gn/T/tmph06eus61/discriminator_best_f1_score.h5\n",
      "FastEstimator-Eval: step: 742; epoch: 14; auc_score: 0.9768961167497914; dloss: 1.7079157; f1_score: 0.9418502202643172; max_f1_score: 0.9418502202643172; rloss: 0.80634505; since_best_f1_score: 0;\n",
      "FastEstimator-Train: step: 795; epoch: 15; epoch_time: 5.17 sec;\n",
      "FastEstimator-Eval: step: 795; epoch: 15; auc_score: 0.9798971452968231; dloss: 1.3737952; f1_score: 0.9233480176211454; max_f1_score: 0.9418502202643172; rloss: 1.6848441; since_best_f1_score: 1;\n",
      "FastEstimator-Train: step: 800; dloss: 0.2086708; rloss: 3.9350965; steps/sec: 10.25;\n",
      "FastEstimator-Train: step: 848; epoch: 16; epoch_time: 5.07 sec;\n",
      "FastEstimator-Eval: step: 848; epoch: 16; auc_score: 0.7832331308583517; dloss: 4.553957; f1_score: 0.6481726111845003; max_f1_score: 0.9418502202643172; rloss: 6.0495653; since_best_f1_score: 2;\n",
      "FastEstimator-Train: step: 900; dloss: 1.3931655; rloss: 1.884611; steps/sec: 13.48;\n",
      "FastEstimator-Train: step: 901; epoch: 17; epoch_time: 5.25 sec;\n",
      "FastEstimator-Eval: step: 901; epoch: 17; auc_score: 0.9427654330571135; dloss: 2.4721227; f1_score: 0.8664609960334948; max_f1_score: 0.9418502202643172; rloss: 2.6969187; since_best_f1_score: 3;\n",
      "FastEstimator-Train: step: 954; epoch: 18; epoch_time: 5.33 sec;\n",
      "FastEstimator-BestModelSaver: Saved model to /var/folders/lx/drkxftt117gblvgsp1p39rlc0000gn/T/tmph06eus61/reconstructor_best_f1_score.h5\n",
      "FastEstimator-BestModelSaver: Saved model to /var/folders/lx/drkxftt117gblvgsp1p39rlc0000gn/T/tmph06eus61/discriminator_best_f1_score.h5\n",
      "FastEstimator-Eval: step: 954; epoch: 18; auc_score: 0.9920254613906733; dloss: 1.2539036; f1_score: 0.9704975781594011; max_f1_score: 0.9704975781594011; rloss: 0.83584994; since_best_f1_score: 0;\n",
      "FastEstimator-Train: step: 1000; dloss: 1.3337255; rloss: 1.4660349; steps/sec: 9.3;\n",
      "FastEstimator-Train: step: 1007; epoch: 19; epoch_time: 5.75 sec;\n",
      "FastEstimator-Eval: step: 1007; epoch: 19; auc_score: 0.9753420404044324; dloss: 1.4540166; f1_score: 0.955026455026455; max_f1_score: 0.9704975781594011; rloss: 1.6999191; since_best_f1_score: 1;\n",
      "FastEstimator-Train: step: 1060; epoch: 20; epoch_time: 5.27 sec;\n",
      "FastEstimator-Eval: step: 1060; epoch: 20; auc_score: 0.5534405868540045; dloss: 1.4147394; f1_score: 0.5118942731277533; max_f1_score: 0.9704975781594011; rloss: 0.49204218; since_best_f1_score: 2;\n",
      "FastEstimator-BestModelSaver: Restoring model from /var/folders/lx/drkxftt117gblvgsp1p39rlc0000gn/T/tmph06eus61/reconstructor_best_f1_score.h5\n",
      "FastEstimator-BestModelSaver: Restoring model from /var/folders/lx/drkxftt117gblvgsp1p39rlc0000gn/T/tmph06eus61/discriminator_best_f1_score.h5\n",
      "FastEstimator-Finish: step: 1060; discriminator_lr: 1e-04; reconstructor_lr: 0.0002; total_time: 105.96 sec;\n"
     ]
    }
   ],
   "source": [
    "estimator.fit()"
   ]
  },
  {
   "cell_type": "markdown",
   "metadata": {},
   "source": [
    "## Inferencing\n",
    "\n",
    "Once the training is finished, we will apply the model to visualize the reconstructed image of the inliers and outliers."
   ]
  },
  {
   "cell_type": "code",
   "execution_count": 12,
   "metadata": {},
   "outputs": [],
   "source": [
    "idx0 = np.random.randint(len(x_eval0))\n",
    "idx1 = np.random.randint(len(x_eval1))\n",
    "\n",
    "data = [{\"x\": x_eval0[idx0]}, {\"x\": x_eval1[idx1]}]\n",
    "result = [pipeline.transform(data[i], mode=\"infer\") for i in range(len(data))]"
   ]
  },
  {
   "cell_type": "code",
   "execution_count": 13,
   "metadata": {},
   "outputs": [],
   "source": [
    "network = fe.Network(ops=[\n",
    "    ModelOp(model=recon_model, inputs=\"x\", outputs=\"x_fake\"),\n",
    "    ModelOp(model=disc_model, inputs=\"x_fake\", outputs=\"fake_score\")\n",
    "])\n",
    "\n",
    "output_imgs = [network.transform(result[i], mode=\"infer\") for i in range(len(result))]"
   ]
  },
  {
   "cell_type": "code",
   "execution_count": 14,
   "metadata": {},
   "outputs": [
    {
     "data": {
      "image/png": "[encoded data removed]",
      "text/plain": [
       "<Figure size 450x240 with 2 Axes>"
      ]
     },
     "metadata": {
      "needs_background": "light"
     },
     "output_type": "display_data"
    },
    {
     "data": {
      "image/png": "[encoded data removed]",
      "text/plain": [
       "<Figure size 450x240 with 2 Axes>"
      ]
     },
     "metadata": {
      "needs_background": "light"
     },
     "output_type": "display_data"
    }
   ],
   "source": [
    "base_image = output_imgs[0][\"x\"].numpy()\n",
    "anomaly_image = output_imgs[1][\"x\"].numpy()\n",
    "\n",
    "recon_base_image = output_imgs[0][\"x_fake\"].numpy()\n",
    "recon_anomaly_image = output_imgs[1][\"x_fake\"].numpy()\n",
    "\n",
    "img1 = fe.util.ImgData(Input_Image=base_image, Reconstructed_Image=recon_base_image)\n",
    "fig1 = img1.paint_figure()\n",
    "\n",
    "img2 = fe.util.ImgData(Input_Image=anomaly_image, Reconstructed_Image=recon_anomaly_image)\n",
    "fig2 = img2.paint_figure()"
   ]
  },
  {
   "cell_type": "markdown",
   "metadata": {},
   "source": [
    "Note that the network is trained on inliers, so it's able to properly reconstruct them but does a poor job at reconstructing the outliers, thereby making it easier for discriminator to detect the outliers. "
   ]
  }
 ],
 "metadata": {
  "kernelspec": {
   "display_name": "Python 3 (ipykernel)",
   "language": "python",
   "name": "python3"
  },
  "language_info": {
   "codemirror_mode": {
    "name": "ipython",
    "version": 3
   },
   "file_extension": ".py",
   "mimetype": "text/x-python",
   "name": "python",
   "nbconvert_exporter": "python",
   "pygments_lexer": "ipython3",
   "version": "3.9.5"
  }
 },
 "nbformat": 4,
 "nbformat_minor": 4
}
