{
 "cells": [
  {
   "cell_type": "markdown",
   "metadata": {},
   "source": [
    "# Advanced Tutorial 12: Hyperparameter Search\n",
    "\n",
    "## Overview\n",
    "In this tutorial, we will discuss the following topics:\n",
    "* [FastEstimator Search API](#searchapi)\n",
    "    * [Getting the search results](#searchresults)\n",
    "    * [Saving and loading search results](#saveload)\n",
    "    * [Interruption-resilient search](#interruption)\n",
    "* [Example 1: Hyperparameter Tuning by Grid Search](#example1)\n",
    "* [Example 2: RUA Augmentation via Golden-Section Search](#example2)"
   ]
  },
  {
   "cell_type": "markdown",
   "metadata": {},
   "source": [
    "<a id='searchapi'></a>"
   ]
  },
  {
   "cell_type": "markdown",
   "metadata": {},
   "source": [
    "## Search API\n",
    "\n",
    "There are many things in life that requires searching for an optimal solution in a given space, regardless of whether deep learning is involved. For example:\n",
    "* what is the `x` that leads to the minimal value of `(x-3)**2`?\n",
    "* what is the best `learning rate` and `batch size` combo that can produce the lowest evaluation loss after 2 epochs of training?\n",
    "* what is the best augmentation magnitude that can lead to the highest evaluation accuracy?\n",
    "\n",
    "`fe.search` API is designed to make the search easier, the API can be used independently for any search problem, as it only requires the following two components:\n",
    "1. objective function to measure the score of a solution.\n",
    "2. whether maximum or minimum score is desired.\n",
    "\n",
    "We will start with a simple example using `Grid Search`, say we want to find the `x` that produces the minimal value of `(x-3)**2`, where x is chosen from the list: `[0.5, 1.5, 2.9, 4, 5.3]`"
   ]
  },
  {
   "cell_type": "code",
   "execution_count": 2,
   "metadata": {},
   "outputs": [],
   "source": [
    "from fastestimator.search import GridSearch\n",
    "\n",
    "def objective_fn(search_idx, x):\n",
    "    return (x-3)**2\n",
    "\n",
    "grid_search = GridSearch(score_fn=objective_fn, params={\"x\": [0.5, 1.5, 2.9, 4, 5.3]}, best_mode=\"min\")"
   ]
  },
  {
   "cell_type": "markdown",
   "metadata": {},
   "source": [
    "Note that in the score function, one of the argument must be `search_idx`, this is to help user differentiate multiple search runs. To run the search, simply do:"
   ]
  },
  {
   "cell_type": "code",
   "execution_count": 3,
   "metadata": {},
   "outputs": [
    {
     "name": "stdout",
     "output_type": "stream",
     "text": [
      "FastEstimator-Search: Evaluated {'x': 0.5, 'search_idx': 1}, score: 6.25\n",
      "FastEstimator-Search: Evaluated {'x': 1.5, 'search_idx': 2}, score: 2.25\n",
      "FastEstimator-Search: Evaluated {'x': 2.9, 'search_idx': 3}, score: 0.010000000000000018\n",
      "FastEstimator-Search: Evaluated {'x': 4, 'search_idx': 4}, score: 1\n",
      "FastEstimator-Search: Evaluated {'x': 5.3, 'search_idx': 5}, score: 5.289999999999999\n",
      "FastEstimator-Search: Grid Search Finished, best parameters: {'x': 2.9, 'search_idx': 3}, best score: 0.010000000000000018\n"
     ]
    }
   ],
   "source": [
    "grid_search.fit()"
   ]
  },
  {
   "cell_type": "markdown",
   "metadata": {},
   "source": [
    "<a id='searchresults'></a>"
   ]
  },
  {
   "cell_type": "markdown",
   "metadata": {},
   "source": [
    "### Getting the search results\n",
    "After the search is done, you can also call the `search.get_best_results` or `search.get_search_results` to see the best and overall search history:"
   ]
  },
  {
   "cell_type": "code",
   "execution_count": 4,
   "metadata": {},
   "outputs": [
    {
     "name": "stdout",
     "output_type": "stream",
     "text": [
      "best search result:\n",
      "({'x': 2.9, 'search_idx': 3}, 0.010000000000000018)\n"
     ]
    }
   ],
   "source": [
    "print(\"best search result:\")\n",
    "print(grid_search.get_best_results())"
   ]
  },
  {
   "cell_type": "code",
   "execution_count": 6,
   "metadata": {},
   "outputs": [
    {
     "name": "stdout",
     "output_type": "stream",
     "text": [
      "search history:\n",
      "[({'x': 0.5, 'search_idx': 1}, 6.25), ({'x': 1.5, 'search_idx': 2}, 2.25), ({'x': 2.9, 'search_idx': 3}, 0.010000000000000018), ({'x': 4, 'search_idx': 4}, 1), ({'x': 5.3, 'search_idx': 5}, 5.289999999999999)]\n"
     ]
    }
   ],
   "source": [
    "print(\"search history:\")\n",
    "print(grid_search.get_search_results())"
   ]
  },
  {
   "cell_type": "markdown",
   "metadata": {},
   "source": [
    "<a id='saveload'></a>"
   ]
  },
  {
   "cell_type": "markdown",
   "metadata": {},
   "source": [
    "### Saving and loading search results\n",
    "\n",
    "Once the search is done, you can also save the search results into the disk and later load it back using `save` and `load` method:"
   ]
  },
  {
   "cell_type": "code",
   "execution_count": 9,
   "metadata": {},
   "outputs": [
    {
     "name": "stdout",
     "output_type": "stream",
     "text": [
      "FastEstimator-Search: Saving the search state to /var/folders/cd/9k2rks597yl99yttyxmhkw7h0000gn/T/tmp6ekqb93e/grid_search.json\n",
      "FastEstimator-Search: Loading the search state from /var/folders/cd/9k2rks597yl99yttyxmhkw7h0000gn/T/tmp6ekqb93e/grid_search.json\n",
      "[{'x': 2.9, 'search_idx': 3}, 0.010000000000000018]\n"
     ]
    }
   ],
   "source": [
    "import tempfile\n",
    "save_dir = tempfile.mkdtemp()\n",
    "\n",
    "# save the state to save_dir\n",
    "grid_search.save(save_dir) \n",
    "\n",
    "# instantiate a new object\n",
    "grid_search2 = GridSearch(score_fn=objective_fn, params={\"x\": [0.5, 1.5, 2.9, 4, 5.3]}, best_mode=\"min\") \n",
    "\n",
    "# load the previously saved state\n",
    "grid_search2.load(save_dir)\n",
    "\n",
    "# display the best result of the loaded instance\n",
    "print(grid_search2.get_best_results()) "
   ]
  },
  {
   "cell_type": "markdown",
   "metadata": {},
   "source": [
    "<a id='interruption'></a>"
   ]
  },
  {
   "cell_type": "markdown",
   "metadata": {},
   "source": [
    "### Interruption-resilient search\n",
    "When you run search on a hardware that can be interrupted (like spot instance), you can provide a `save_dir` argument when calling `fit`. As a result, the search will automatically back up its result after each evaluation. Furthermore, when calling the `fit` using the same `save_dir` the second time, it will first load the search results and pick up from where it left off. \n",
    "\n",
    "To demonstrate this, we will use golden-section search on the same optimization problem. To simulate interruption, we will first iterate 10 times, then create a new instance and iterate another 10 times."
   ]
  },
  {
   "cell_type": "code",
   "execution_count": 11,
   "metadata": {},
   "outputs": [
    {
     "name": "stdout",
     "output_type": "stream",
     "text": [
      "FastEstimator-Search: Saving the search state to /var/folders/cd/9k2rks597yl99yttyxmhkw7h0000gn/T/tmpnre0_m_2/golden_section_search.json\n",
      "FastEstimator-Search: Evaluated {'x': 2.2917960675006306, 'search_idx': 1}, score: 0.5015528100075713\n",
      "FastEstimator-Search: Saving the search state to /var/folders/cd/9k2rks597yl99yttyxmhkw7h0000gn/T/tmpnre0_m_2/golden_section_search.json\n",
      "FastEstimator-Search: Evaluated {'x': 3.7082039324993694, 'search_idx': 2}, score: 0.5015528100075713\n",
      "FastEstimator-Search: Saving the search state to /var/folders/cd/9k2rks597yl99yttyxmhkw7h0000gn/T/tmpnre0_m_2/golden_section_search.json\n",
      "FastEstimator-Search: Evaluated {'x': 4.583592135001262, 'search_idx': 3}, score: 2.5077640500378555\n",
      "FastEstimator-Search: Saving the search state to /var/folders/cd/9k2rks597yl99yttyxmhkw7h0000gn/T/tmpnre0_m_2/golden_section_search.json\n",
      "FastEstimator-Search: Evaluated {'x': 3.1671842700025232, 'search_idx': 4}, score: 0.027950580136276586\n",
      "FastEstimator-Search: Saving the search state to /var/folders/cd/9k2rks597yl99yttyxmhkw7h0000gn/T/tmpnre0_m_2/golden_section_search.json\n",
      "FastEstimator-Search: Evaluated {'x': 2.832815729997476, 'search_idx': 5}, score: 0.027950580136276885\n",
      "FastEstimator-Search: Saving the search state to /var/folders/cd/9k2rks597yl99yttyxmhkw7h0000gn/T/tmpnre0_m_2/golden_section_search.json\n",
      "FastEstimator-Search: Evaluated {'x': 3.3738353924943216, 'search_idx': 6}, score: 0.1397529006813835\n",
      "FastEstimator-Search: Saving the search state to /var/folders/cd/9k2rks597yl99yttyxmhkw7h0000gn/T/tmpnre0_m_2/golden_section_search.json\n",
      "FastEstimator-Search: Evaluated {'x': 3.0394668524892743, 'search_idx': 7}, score: 0.0015576324454101358\n",
      "FastEstimator-Search: Saving the search state to /var/folders/cd/9k2rks597yl99yttyxmhkw7h0000gn/T/tmpnre0_m_2/golden_section_search.json\n",
      "FastEstimator-Search: Evaluated {'x': 2.9605331475107253, 'search_idx': 8}, score: 0.0015576324454101708\n",
      "FastEstimator-Search: Saving the search state to /var/folders/cd/9k2rks597yl99yttyxmhkw7h0000gn/T/tmpnre0_m_2/golden_section_search.json\n",
      "FastEstimator-Search: Evaluated {'x': 3.0882505650239747, 'search_idx': 9}, score: 0.00778816222705078\n",
      "FastEstimator-Search: Saving the search state to /var/folders/cd/9k2rks597yl99yttyxmhkw7h0000gn/T/tmpnre0_m_2/golden_section_search.json\n",
      "FastEstimator-Search: Evaluated {'x': 3.009316860045425, 'search_idx': 10}, score: 8.68038811060405e-05\n",
      "FastEstimator-Search: Saving the search state to /var/folders/cd/9k2rks597yl99yttyxmhkw7h0000gn/T/tmpnre0_m_2/golden_section_search.json\n",
      "FastEstimator-Search: Evaluated {'x': 2.9906831399545744, 'search_idx': 11}, score: 8.680388110604876e-05\n",
      "FastEstimator-Search: Saving the search state to /var/folders/cd/9k2rks597yl99yttyxmhkw7h0000gn/T/tmpnre0_m_2/golden_section_search.json\n",
      "FastEstimator-Search: Evaluated {'x': 3.0208331323984234, 'search_idx': 12}, score: 0.0004340194055302403\n",
      "FastEstimator-Search: Golden Section Search Finished, best parameters: {'x': 3.009316860045425, 'search_idx': 10}, best score: 8.68038811060405e-05\n"
     ]
    }
   ],
   "source": [
    "from fastestimator.search import GoldenSection\n",
    "save_dir2 = tempfile.mkdtemp()\n",
    "\n",
    "gs_search =  GoldenSection(score_fn=objective_fn, x_min=0, x_max=6, max_iter=10, integer=False, best_mode=\"min\")\n",
    "gs_search.fit(save_dir=save_dir2)"
   ]
  },
  {
   "cell_type": "markdown",
   "metadata": {},
   "source": [
    "After interruption, we can create the instance and call `fit` on the same directory:"
   ]
  },
  {
   "cell_type": "code",
   "execution_count": 12,
   "metadata": {},
   "outputs": [
    {
     "name": "stdout",
     "output_type": "stream",
     "text": [
      "FastEstimator-Search: Loading the search state from /var/folders/cd/9k2rks597yl99yttyxmhkw7h0000gn/T/tmpnre0_m_2/golden_section_search.json\n",
      "FastEstimator-Search: Saving the search state to /var/folders/cd/9k2rks597yl99yttyxmhkw7h0000gn/T/tmpnre0_m_2/golden_section_search.json\n",
      "FastEstimator-Search: Evaluated {'x': 3.002199412307572, 'search_idx': 13}, score: 4.8374144986998325e-06\n",
      "FastEstimator-Search: Saving the search state to /var/folders/cd/9k2rks597yl99yttyxmhkw7h0000gn/T/tmpnre0_m_2/golden_section_search.json\n",
      "FastEstimator-Search: Evaluated {'x': 2.997800587692428, 'search_idx': 14}, score: 4.8374144986998325e-06\n",
      "FastEstimator-Search: Saving the search state to /var/folders/cd/9k2rks597yl99yttyxmhkw7h0000gn/T/tmpnre0_m_2/golden_section_search.json\n",
      "FastEstimator-Search: Evaluated {'x': 3.0049180354302814, 'search_idx': 15}, score: 2.4187072493502697e-05\n",
      "FastEstimator-Search: Saving the search state to /var/folders/cd/9k2rks597yl99yttyxmhkw7h0000gn/T/tmpnre0_m_2/golden_section_search.json\n",
      "FastEstimator-Search: Evaluated {'x': 3.0005192108151366, 'search_idx': 16}, score: 2.695798705548303e-07\n",
      "FastEstimator-Search: Saving the search state to /var/folders/cd/9k2rks597yl99yttyxmhkw7h0000gn/T/tmpnre0_m_2/golden_section_search.json\n",
      "FastEstimator-Search: Evaluated {'x': 2.9994807891848634, 'search_idx': 17}, score: 2.695798705548303e-07\n",
      "FastEstimator-Search: Saving the search state to /var/folders/cd/9k2rks597yl99yttyxmhkw7h0000gn/T/tmpnre0_m_2/golden_section_search.json\n",
      "FastEstimator-Search: Evaluated {'x': 3.001160990677299, 'search_idx': 18}, score: 1.3478993527749865e-06\n",
      "FastEstimator-Search: Saving the search state to /var/folders/cd/9k2rks597yl99yttyxmhkw7h0000gn/T/tmpnre0_m_2/golden_section_search.json\n",
      "FastEstimator-Search: Evaluated {'x': 3.0001225690470252, 'search_idx': 19}, score: 1.502317128867399e-08\n",
      "FastEstimator-Search: Saving the search state to /var/folders/cd/9k2rks597yl99yttyxmhkw7h0000gn/T/tmpnre0_m_2/golden_section_search.json\n",
      "FastEstimator-Search: Evaluated {'x': 2.9998774309529748, 'search_idx': 20}, score: 1.502317128867399e-08\n",
      "FastEstimator-Search: Saving the search state to /var/folders/cd/9k2rks597yl99yttyxmhkw7h0000gn/T/tmpnre0_m_2/golden_section_search.json\n",
      "FastEstimator-Search: Evaluated {'x': 3.000274072721086, 'search_idx': 21}, score: 7.511585644356621e-08\n",
      "FastEstimator-Search: Saving the search state to /var/folders/cd/9k2rks597yl99yttyxmhkw7h0000gn/T/tmpnre0_m_2/golden_section_search.json\n",
      "FastEstimator-Search: Evaluated {'x': 3.0000289346270352, 'search_idx': 22}, score: 8.372126416682983e-10\n",
      "FastEstimator-Search: Golden Section Search Finished, best parameters: {'x': 3.0000289346270352, 'search_idx': 22}, best score: 8.372126416682983e-10\n"
     ]
    }
   ],
   "source": [
    "gs_search2 =  GoldenSection(score_fn=objective_fn, x_min=0, x_max=6, max_iter=20, integer=False, best_mode=\"min\")\n",
    "gs_search2.fit(save_dir=save_dir2)"
   ]
  },
  {
   "cell_type": "markdown",
   "metadata": {},
   "source": [
    "As we can see, the search started from search index 13 and proceeded for another 10 iterations."
   ]
  },
  {
   "cell_type": "markdown",
   "metadata": {},
   "source": [
    "<a id='example1'></a>"
   ]
  },
  {
   "cell_type": "markdown",
   "metadata": {},
   "source": [
    "## Example 1: Hyperparameter Tuning by Grid Search\n",
    "\n",
    "In this example, we will use `GridSearch` on a real deep learning task to illustrate its usage. Specifically, given a batch size grid `[32, 64]` and learning rate grid `[1e-2 and 1e-3]`, we are interested in the optimial parameter that leads to the lowest test loss after 200 steps of training on MNIST dataset."
   ]
  },
  {
   "cell_type": "code",
   "execution_count": 26,
   "metadata": {},
   "outputs": [],
   "source": [
    "import tensorflow as tf\n",
    "import fastestimator as fe\n",
    "from fastestimator.architecture.tensorflow import LeNet\n",
    "from fastestimator.dataset.data import mnist\n",
    "from fastestimator.op.numpyop.univariate import ExpandDims, Minmax\n",
    "from fastestimator.op.tensorop.loss import CrossEntropy\n",
    "from fastestimator.op.tensorop.model import ModelOp, UpdateOp\n",
    "\n",
    "def get_estimator(batch_size, lr):\n",
    "    train_data, test_data = mnist.load_data()\n",
    "    pipeline = fe.Pipeline(train_data=train_data,\n",
    "                           test_data=test_data,\n",
    "                           batch_size=batch_size,\n",
    "                           ops=[ExpandDims(inputs=\"x\", outputs=\"x\"), Minmax(inputs=\"x\", outputs=\"x\")])\n",
    "    model = fe.build(model_fn=LeNet, optimizer_fn=lambda: tf.optimizers.Adam(lr))\n",
    "    network = fe.Network(ops=[\n",
    "        ModelOp(model=model, inputs=\"x\", outputs=\"y_pred\"),\n",
    "        CrossEntropy(inputs=(\"y_pred\", \"y\"), outputs=\"ce\"),\n",
    "        UpdateOp(model=model, loss_name=\"ce\")\n",
    "    ])\n",
    "    estimator = fe.Estimator(pipeline=pipeline,\n",
    "                             network=network,\n",
    "                             epochs=1,\n",
    "                             max_train_steps_per_epoch=200)\n",
    "    return estimator\n",
    "\n",
    "def score_fn(search_idx, batch_size, lr):\n",
    "    est = get_estimator(batch_size, lr)\n",
    "    est.fit()\n",
    "    hist = est.test(summary=\"myexp\")\n",
    "    test_loss = float(hist.history[\"test\"][\"ce\"][200])\n",
    "    return test_loss\n",
    "\n",
    "mnist_grid_search = GridSearch(score_fn=score_fn, params={\"batch_size\": [32, 64], \"lr\": [1e-2, 1e-3]}, best_mode=\"min\")"
   ]
  },
  {
   "cell_type": "code",
   "execution_count": 27,
   "metadata": {},
   "outputs": [
    {
     "name": "stdout",
     "output_type": "stream",
     "text": [
      "    ______           __  ______     __  _                 __            \n",
      "   / ____/___ ______/ /_/ ____/____/ /_(_)___ ___  ____ _/ /_____  _____\n",
      "  / /_  / __ `/ ___/ __/ __/ / ___/ __/ / __ `__ \\/ __ `/ __/ __ \\/ ___/\n",
      " / __/ / /_/ (__  ) /_/ /___(__  ) /_/ / / / / / / /_/ / /_/ /_/ / /    \n",
      "/_/    \\__,_/____/\\__/_____/____/\\__/_/_/ /_/ /_/\\__,_/\\__/\\____/_/     \n",
      "                                                                        \n",
      "\n",
      "FastEstimator-Warn: No ModelSaver Trace detected. Models will not be saved.\n",
      "FastEstimator-Start: step: 1; logging_interval: 100; num_device: 0;\n",
      "FastEstimator-Train: step: 1; ce: 2.3115556;\n",
      "FastEstimator-Train: step: 100; ce: 0.17431372; steps/sec: 133.6;\n",
      "FastEstimator-Train: step: 200; ce: 0.24661127; steps/sec: 163.86;\n",
      "FastEstimator-Train: step: 200; epoch: 1; epoch_time: 1.58 sec;\n",
      "FastEstimator-Finish: step: 200; model_lr: 0.01; total_time: 1.68 sec;\n",
      "FastEstimator-Test: step: 200; epoch: 1; ce: 0.2949119;\n",
      "FastEstimator-Search: Evaluated {'batch_size': 32, 'lr': 0.01, 'search_idx': 1}, score: 0.2949118912220001\n",
      "    ______           __  ______     __  _                 __            \n",
      "   / ____/___ ______/ /_/ ____/____/ /_(_)___ ___  ____ _/ /_____  _____\n",
      "  / /_  / __ `/ ___/ __/ __/ / ___/ __/ / __ `__ \\/ __ `/ __/ __ \\/ ___/\n",
      " / __/ / /_/ (__  ) /_/ /___(__  ) /_/ / / / / / / /_/ / /_/ /_/ / /    \n",
      "/_/    \\__,_/____/\\__/_____/____/\\__/_/_/ /_/ /_/\\__,_/\\__/\\____/_/     \n",
      "                                                                        \n",
      "\n",
      "FastEstimator-Warn: No ModelSaver Trace detected. Models will not be saved.\n",
      "FastEstimator-Start: step: 1; logging_interval: 100; num_device: 0;\n",
      "FastEstimator-Train: step: 1; ce: 2.2951605;\n",
      "FastEstimator-Train: step: 100; ce: 0.264356; steps/sec: 140.48;\n",
      "FastEstimator-Train: step: 200; ce: 0.17291239; steps/sec: 163.68;\n",
      "FastEstimator-Train: step: 200; epoch: 1; epoch_time: 1.54 sec;\n",
      "FastEstimator-Finish: step: 200; model_lr: 0.001; total_time: 1.64 sec;\n",
      "FastEstimator-Test: step: 200; epoch: 1; ce: 0.24722508;\n",
      "FastEstimator-Search: Evaluated {'batch_size': 32, 'lr': 0.001, 'search_idx': 2}, score: 0.2472250759601593\n",
      "    ______           __  ______     __  _                 __            \n",
      "   / ____/___ ______/ /_/ ____/____/ /_(_)___ ___  ____ _/ /_____  _____\n",
      "  / /_  / __ `/ ___/ __/ __/ / ___/ __/ / __ `__ \\/ __ `/ __/ __ \\/ ___/\n",
      " / __/ / /_/ (__  ) /_/ /___(__  ) /_/ / / / / / / /_/ / /_/ /_/ / /    \n",
      "/_/    \\__,_/____/\\__/_____/____/\\__/_/_/ /_/ /_/\\__,_/\\__/\\____/_/     \n",
      "                                                                        \n",
      "\n",
      "FastEstimator-Warn: No ModelSaver Trace detected. Models will not be saved.\n",
      "FastEstimator-Start: step: 1; logging_interval: 100; num_device: 0;\n",
      "FastEstimator-Train: step: 1; ce: 2.3006225;\n",
      "FastEstimator-Train: step: 100; ce: 0.11012569; steps/sec: 92.86;\n",
      "FastEstimator-Train: step: 200; ce: 0.06309919; steps/sec: 108.6;\n",
      "FastEstimator-Train: step: 200; epoch: 1; epoch_time: 2.24 sec;\n",
      "FastEstimator-Finish: step: 200; model_lr: 0.01; total_time: 2.36 sec;\n",
      "FastEstimator-Test: step: 200; epoch: 1; ce: 0.099891394;\n",
      "FastEstimator-Search: Evaluated {'batch_size': 64, 'lr': 0.01, 'search_idx': 3}, score: 0.09989139437675476\n",
      "    ______           __  ______     __  _                 __            \n",
      "   / ____/___ ______/ /_/ ____/____/ /_(_)___ ___  ____ _/ /_____  _____\n",
      "  / /_  / __ `/ ___/ __/ __/ / ___/ __/ / __ `__ \\/ __ `/ __/ __ \\/ ___/\n",
      " / __/ / /_/ (__  ) /_/ /___(__  ) /_/ / / / / / / /_/ / /_/ /_/ / /    \n",
      "/_/    \\__,_/____/\\__/_____/____/\\__/_/_/ /_/ /_/\\__,_/\\__/\\____/_/     \n",
      "                                                                        \n",
      "\n",
      "FastEstimator-Warn: No ModelSaver Trace detected. Models will not be saved.\n",
      "FastEstimator-Start: step: 1; logging_interval: 100; num_device: 0;\n",
      "FastEstimator-Train: step: 1; ce: 2.3053308;\n",
      "FastEstimator-Train: step: 100; ce: 0.36325517; steps/sec: 93.01;\n",
      "FastEstimator-Train: step: 200; ce: 0.14131297; steps/sec: 106.63;\n",
      "FastEstimator-Train: step: 200; epoch: 1; epoch_time: 2.24 sec;\n",
      "FastEstimator-Finish: step: 200; model_lr: 0.001; total_time: 2.35 sec;\n",
      "FastEstimator-Test: step: 200; epoch: 1; ce: 0.15451765;\n",
      "FastEstimator-Search: Evaluated {'batch_size': 64, 'lr': 0.001, 'search_idx': 4}, score: 0.15451765060424805\n",
      "FastEstimator-Search: Grid Search Finished, best parameters: {'batch_size': 64, 'lr': 0.01, 'search_idx': 3}, best score: 0.09989139437675476\n"
     ]
    }
   ],
   "source": [
    "mnist_grid_search.fit()"
   ]
  },
  {
   "cell_type": "markdown",
   "metadata": {},
   "source": [
    "From the results we can see, with only 200 steps of training, a bigger batch size and a larger learning rate combination is preferred."
   ]
  },
  {
   "cell_type": "markdown",
   "metadata": {},
   "source": [
    "<a id='example2'></a>"
   ]
  },
  {
   "cell_type": "markdown",
   "metadata": {},
   "source": [
    "## Example 2: RUA Augmentation via Golden-Section Search\n",
    "\n",
    "In this example, we will use a built-in augmentation NumpyOp -RUA and find the optimial level between 0 to 30 using `Golden-Section` search. The test result will be evaluated on Cifar10 dataset after 500 steps of training."
   ]
  },
  {
   "cell_type": "code",
   "execution_count": 33,
   "metadata": {},
   "outputs": [],
   "source": [
    "import tensorflow as tf\n",
    "import fastestimator as fe\n",
    "from fastestimator.architecture.tensorflow import LeNet\n",
    "from fastestimator.dataset.data import cifar10\n",
    "from fastestimator.op.numpyop.univariate import ExpandDims, Minmax, RUA\n",
    "from fastestimator.op.tensorop.loss import CrossEntropy\n",
    "from fastestimator.op.tensorop.model import ModelOp, UpdateOp\n",
    "\n",
    "def get_estimator(level):\n",
    "    train_data, test_data = cifar10.load_data()\n",
    "    pipeline = fe.Pipeline(train_data=train_data,\n",
    "                           test_data=test_data,\n",
    "                           batch_size=64,\n",
    "                           ops=[RUA(level=level, inputs=\"x\", outputs=\"x\", mode=\"train\"), \n",
    "                                Minmax(inputs=\"x\", outputs=\"x\")])\n",
    "    model = fe.build(model_fn=lambda: LeNet(input_shape=(32, 32, 3)), optimizer_fn=\"adam\")\n",
    "    network = fe.Network(ops=[\n",
    "        ModelOp(model=model, inputs=\"x\", outputs=\"y_pred\"),\n",
    "        CrossEntropy(inputs=(\"y_pred\", \"y\"), outputs=\"ce\"),\n",
    "        UpdateOp(model=model, loss_name=\"ce\")\n",
    "    ])\n",
    "    estimator = fe.Estimator(pipeline=pipeline,\n",
    "                             network=network,\n",
    "                             epochs=1,\n",
    "                             max_train_steps_per_epoch=500)\n",
    "    return estimator\n",
    "\n",
    "def score_fn(search_idx, level):\n",
    "    est = get_estimator(level)\n",
    "    est.fit()\n",
    "    hist = est.test(summary=\"myexp\")\n",
    "    test_loss = float(hist.history[\"test\"][\"ce\"][500])\n",
    "    return test_loss\n",
    "\n",
    "cifar10_gs_search = GoldenSection(score_fn=score_fn, x_min=0, x_max=30, max_iter=5, best_mode=\"min\")"
   ]
  },
  {
   "cell_type": "code",
   "execution_count": 34,
   "metadata": {
    "scrolled": false
   },
   "outputs": [
    {
     "name": "stdout",
     "output_type": "stream",
     "text": [
      "\u001b[93m FastEstimator-Warn: Consider using the ciFAIR10 dataset instead.\u001b[00m\n",
      "    ______           __  ______     __  _                 __            \n",
      "   / ____/___ ______/ /_/ ____/____/ /_(_)___ ___  ____ _/ /_____  _____\n",
      "  / /_  / __ `/ ___/ __/ __/ / ___/ __/ / __ `__ \\/ __ `/ __/ __ \\/ ___/\n",
      " / __/ / /_/ (__  ) /_/ /___(__  ) /_/ / / / / / / /_/ / /_/ /_/ / /    \n",
      "/_/    \\__,_/____/\\__/_____/____/\\__/_/_/ /_/ /_/\\__,_/\\__/\\____/_/     \n",
      "                                                                        \n",
      "\n",
      "FastEstimator-Warn: No ModelSaver Trace detected. Models will not be saved.\n",
      "FastEstimator-Start: step: 1; logging_interval: 100; num_device: 0;\n",
      "FastEstimator-Train: step: 1; ce: 2.305522;\n",
      "FastEstimator-Train: step: 100; ce: 1.887227; steps/sec: 60.14;\n",
      "FastEstimator-Train: step: 200; ce: 1.7050419; steps/sec: 65.9;\n",
      "FastEstimator-Train: step: 300; ce: 1.5712676; steps/sec: 63.5;\n",
      "FastEstimator-Train: step: 400; ce: 1.6989872; steps/sec: 61.44;\n",
      "FastEstimator-Train: step: 500; ce: 1.5905153; steps/sec: 60.33;\n",
      "FastEstimator-Train: step: 500; epoch: 1; epoch_time: 8.34 sec;\n",
      "FastEstimator-Finish: step: 500; model_lr: 0.001; total_time: 8.49 sec;\n",
      "FastEstimator-Test: step: 500; epoch: 1; ce: 1.4311637;\n",
      "FastEstimator-Search: Evaluated {'level': 11, 'search_idx': 1}, score: 1.4311636686325073\n",
      "\u001b[93m FastEstimator-Warn: Consider using the ciFAIR10 dataset instead.\u001b[00m\n",
      "    ______           __  ______     __  _                 __            \n",
      "   / ____/___ ______/ /_/ ____/____/ /_(_)___ ___  ____ _/ /_____  _____\n",
      "  / /_  / __ `/ ___/ __/ __/ / ___/ __/ / __ `__ \\/ __ `/ __/ __ \\/ ___/\n",
      " / __/ / /_/ (__  ) /_/ /___(__  ) /_/ / / / / / / /_/ / /_/ /_/ / /    \n",
      "/_/    \\__,_/____/\\__/_____/____/\\__/_/_/ /_/ /_/\\__,_/\\__/\\____/_/     \n",
      "                                                                        \n",
      "\n",
      "FastEstimator-Warn: No ModelSaver Trace detected. Models will not be saved.\n",
      "FastEstimator-Start: step: 1; logging_interval: 100; num_device: 0;\n",
      "FastEstimator-Train: step: 1; ce: 2.3107944;\n",
      "FastEstimator-Train: step: 100; ce: 2.055138; steps/sec: 57.01;\n",
      "FastEstimator-Train: step: 200; ce: 1.8836415; steps/sec: 55.85;\n",
      "FastEstimator-Train: step: 300; ce: 1.8359098; steps/sec: 52.2;\n",
      "FastEstimator-Train: step: 400; ce: 1.7798647; steps/sec: 50.28;\n",
      "FastEstimator-Train: step: 500; ce: 1.6398447; steps/sec: 54.61;\n",
      "FastEstimator-Train: step: 500; epoch: 1; epoch_time: 9.6 sec;\n",
      "FastEstimator-Finish: step: 500; model_lr: 0.001; total_time: 9.77 sec;\n",
      "FastEstimator-Test: step: 500; epoch: 1; ce: 1.5107983;\n",
      "FastEstimator-Search: Evaluated {'level': 18, 'search_idx': 2}, score: 1.5107983350753784\n",
      "\u001b[93m FastEstimator-Warn: Consider using the ciFAIR10 dataset instead.\u001b[00m\n",
      "    ______           __  ______     __  _                 __            \n",
      "   / ____/___ ______/ /_/ ____/____/ /_(_)___ ___  ____ _/ /_____  _____\n",
      "  / /_  / __ `/ ___/ __/ __/ / ___/ __/ / __ `__ \\/ __ `/ __/ __ \\/ ___/\n",
      " / __/ / /_/ (__  ) /_/ /___(__  ) /_/ / / / / / / /_/ / /_/ /_/ / /    \n",
      "/_/    \\__,_/____/\\__/_____/____/\\__/_/_/ /_/ /_/\\__,_/\\__/\\____/_/     \n",
      "                                                                        \n",
      "\n",
      "FastEstimator-Warn: No ModelSaver Trace detected. Models will not be saved.\n",
      "FastEstimator-Start: step: 1; logging_interval: 100; num_device: 0;\n",
      "FastEstimator-Train: step: 1; ce: 2.3086908;\n",
      "FastEstimator-Train: step: 100; ce: 1.959903; steps/sec: 56.68;\n",
      "FastEstimator-Train: step: 200; ce: 1.9288929; steps/sec: 65.3;\n",
      "FastEstimator-Train: step: 300; ce: 1.7540357; steps/sec: 61.79;\n",
      "FastEstimator-Train: step: 400; ce: 1.4000657; steps/sec: 60.14;\n",
      "FastEstimator-Train: step: 500; ce: 1.5363222; steps/sec: 60.43;\n",
      "FastEstimator-Train: step: 500; epoch: 1; epoch_time: 8.56 sec;\n",
      "FastEstimator-Finish: step: 500; model_lr: 0.001; total_time: 8.73 sec;\n",
      "FastEstimator-Test: step: 500; epoch: 1; ce: 1.4007198;\n",
      "FastEstimator-Search: Evaluated {'level': 7, 'search_idx': 3}, score: 1.4007197618484497\n",
      "\u001b[93m FastEstimator-Warn: Consider using the ciFAIR10 dataset instead.\u001b[00m\n",
      "    ______           __  ______     __  _                 __            \n",
      "   / ____/___ ______/ /_/ ____/____/ /_(_)___ ___  ____ _/ /_____  _____\n",
      "  / /_  / __ `/ ___/ __/ __/ / ___/ __/ / __ `__ \\/ __ `/ __/ __ \\/ ___/\n",
      " / __/ / /_/ (__  ) /_/ /___(__  ) /_/ / / / / / / /_/ / /_/ /_/ / /    \n",
      "/_/    \\__,_/____/\\__/_____/____/\\__/_/_/ /_/ /_/\\__,_/\\__/\\____/_/     \n",
      "                                                                        \n",
      "\n",
      "FastEstimator-Warn: No ModelSaver Trace detected. Models will not be saved.\n",
      "FastEstimator-Start: step: 1; logging_interval: 100; num_device: 0;\n",
      "FastEstimator-Train: step: 1; ce: 2.3112173;\n",
      "FastEstimator-Train: step: 100; ce: 2.0803316; steps/sec: 56.16;\n",
      "FastEstimator-Train: step: 200; ce: 1.7188259; steps/sec: 58.73;\n",
      "FastEstimator-Train: step: 300; ce: 1.6656693; steps/sec: 58.55;\n",
      "FastEstimator-Train: step: 400; ce: 1.3680654; steps/sec: 57.35;\n",
      "FastEstimator-Train: step: 500; ce: 1.4772134; steps/sec: 58.09;\n",
      "FastEstimator-Train: step: 500; epoch: 1; epoch_time: 8.97 sec;\n",
      "FastEstimator-Finish: step: 500; model_lr: 0.001; total_time: 9.14 sec;\n",
      "FastEstimator-Test: step: 500; epoch: 1; ce: 1.3746582;\n",
      "FastEstimator-Search: Evaluated {'level': 4, 'search_idx': 4}, score: 1.374658226966858\n",
      "\u001b[93m FastEstimator-Warn: Consider using the ciFAIR10 dataset instead.\u001b[00m\n",
      "    ______           __  ______     __  _                 __            \n",
      "   / ____/___ ______/ /_/ ____/____/ /_(_)___ ___  ____ _/ /_____  _____\n",
      "  / /_  / __ `/ ___/ __/ __/ / ___/ __/ / __ `__ \\/ __ `/ __/ __ \\/ ___/\n",
      " / __/ / /_/ (__  ) /_/ /___(__  ) /_/ / / / / / / /_/ / /_/ /_/ / /    \n",
      "/_/    \\__,_/____/\\__/_____/____/\\__/_/_/ /_/ /_/\\__,_/\\__/\\____/_/     \n",
      "                                                                        \n",
      "\n",
      "FastEstimator-Warn: No ModelSaver Trace detected. Models will not be saved.\n",
      "FastEstimator-Start: step: 1; logging_interval: 100; num_device: 0;\n",
      "FastEstimator-Train: step: 1; ce: 2.3386168;\n",
      "FastEstimator-Train: step: 100; ce: 2.039566; steps/sec: 55.16;\n",
      "FastEstimator-Train: step: 200; ce: 1.9667646; steps/sec: 63.28;\n",
      "FastEstimator-Train: step: 300; ce: 1.5779371; steps/sec: 59.12;\n",
      "FastEstimator-Train: step: 400; ce: 1.6786988; steps/sec: 57.46;\n",
      "FastEstimator-Train: step: 500; ce: 1.480875; steps/sec: 58.36;\n",
      "FastEstimator-Train: step: 500; epoch: 1; epoch_time: 8.86 sec;\n",
      "FastEstimator-Finish: step: 500; model_lr: 0.001; total_time: 9.06 sec;\n",
      "FastEstimator-Test: step: 500; epoch: 1; ce: 1.436188;\n",
      "FastEstimator-Search: Evaluated {'level': 2, 'search_idx': 5}, score: 1.436187982559204\n",
      "\u001b[93m FastEstimator-Warn: Consider using the ciFAIR10 dataset instead.\u001b[00m\n",
      "    ______           __  ______     __  _                 __            \n",
      "   / ____/___ ______/ /_/ ____/____/ /_(_)___ ___  ____ _/ /_____  _____\n",
      "  / /_  / __ `/ ___/ __/ __/ / ___/ __/ / __ `__ \\/ __ `/ __/ __ \\/ ___/\n",
      " / __/ / /_/ (__  ) /_/ /___(__  ) /_/ / / / / / / /_/ / /_/ /_/ / /    \n",
      "/_/    \\__,_/____/\\__/_____/____/\\__/_/_/ /_/ /_/\\__,_/\\__/\\____/_/     \n",
      "                                                                        \n",
      "\n",
      "FastEstimator-Warn: No ModelSaver Trace detected. Models will not be saved.\n",
      "FastEstimator-Start: step: 1; logging_interval: 100; num_device: 0;\n",
      "FastEstimator-Train: step: 1; ce: 2.312021;\n",
      "FastEstimator-Train: step: 100; ce: 1.9817884; steps/sec: 55.36;\n",
      "FastEstimator-Train: step: 200; ce: 1.7822468; steps/sec: 61.45;\n",
      "FastEstimator-Train: step: 300; ce: 1.6127887; steps/sec: 61.87;\n",
      "FastEstimator-Train: step: 400; ce: 1.4264146; steps/sec: 60.16;\n",
      "FastEstimator-Train: step: 500; ce: 1.6018779; steps/sec: 61.33;\n",
      "FastEstimator-Train: step: 500; epoch: 1; epoch_time: 8.67 sec;\n",
      "FastEstimator-Finish: step: 500; model_lr: 0.001; total_time: 8.83 sec;\n",
      "FastEstimator-Test: step: 500; epoch: 1; ce: 1.455082;\n",
      "FastEstimator-Search: Evaluated {'level': 5, 'search_idx': 6}, score: 1.4550820589065552\n",
      "FastEstimator-Search: Golden Section Search Finished, best parameters: {'level': 4, 'search_idx': 4}, best score: 1.374658226966858\n"
     ]
    }
   ],
   "source": [
    "cifar10_gs_search.fit()"
   ]
  },
  {
   "cell_type": "markdown",
   "metadata": {},
   "source": [
    "In this example, the optimial level we found is 4, we can then train the model again using `level=4` to get the final model. In reality, you want to search your parameter on a held-out evaluation set, and test the best parameter on the test set."
   ]
  }
 ],
 "metadata": {
  "kernelspec": {
   "display_name": "Python 3",
   "language": "python",
   "name": "python3"
  },
  "language_info": {
   "codemirror_mode": {
    "name": "ipython",
    "version": 3
   },
   "file_extension": ".py",
   "mimetype": "text/x-python",
   "name": "python",
   "nbconvert_exporter": "python",
   "pygments_lexer": "ipython3",
   "version": "3.8.5"
  }
 },
 "nbformat": 4,
 "nbformat_minor": 4
}
