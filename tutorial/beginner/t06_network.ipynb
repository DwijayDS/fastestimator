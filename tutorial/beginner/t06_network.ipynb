{
 "cells": [
  {
   "cell_type": "markdown",
   "metadata": {},
   "source": [
    "# Tutorial 6: Network "
   ]
  },
  {
   "cell_type": "markdown",
   "metadata": {},
   "source": [
    "## Overview\n",
    "In this tutorial we are going to cover:\n",
    "* `Network` scope\n",
    "* `TensorOp` and its inherited class\n",
    "* How to Customize `TensorOp`\n",
    "    * TensorFlow\n",
    "    * Pytorch\n",
    "    * fe.backend"
   ]
  },
  {
   "cell_type": "markdown",
   "metadata": {},
   "source": [
    "## Network scope\n",
    "`Network` is one of the three FastestEstimator main APIs that defines not only network model but all operation involved with it. The scope includes deep learning model, loss calculation, model updating units and all other logics that you wish to execute inside GPU. \n",
    " \n",
    "Here we shows two `Network` example graphs to enhance the Network concept."
   ]
  },
  {
   "cell_type": "markdown",
   "metadata": {},
   "source": [
    "<img src=\"../resources/t06_network_example.png\" alt=\"drawing\" width=\"1000\"/> \n",
    "\n"
   ]
  },
  {
   "cell_type": "markdown",
   "metadata": {},
   "source": [
    "As the figure shown, models (orange) are only part of the `Network`. It also includes other operations connecting with them like loss computation (blue) and update units (geen) that will be used in training process. "
   ]
  },
  {
   "cell_type": "markdown",
   "metadata": {},
   "source": [
    "## TensorOp and its inherited class"
   ]
  },
  {
   "cell_type": "markdown",
   "metadata": {},
   "source": [
    "`Network` is composed by its basic components --- `TensorOps` which means all blocks inside `Network` should either be `TensorOp` or class that inherit from `TensorOp`. `TensorOp` is a kind of `Op` and therefore follows its connecting rule. \n",
    "\n",
    "There are some common TensorOp-inherit classes we like to specially bring up because of their prevalence. \n",
    "<img src=\"../resources/t06_tensorop_class.PNG\" alt=\"drawing\" width=\"500\"/>"
   ]
  },
  {
   "cell_type": "markdown",
   "metadata": {},
   "source": [
    "### ModelOp\n",
    "Any model instance created from `fe.build` (reference: **tutorial 5**) needs to be packaged as a `ModelOp` such that it can interact with other components inside `Network` API. The orange blocks in the first figure are `ModelOps`."
   ]
  },
  {
   "cell_type": "markdown",
   "metadata": {},
   "source": [
    "### UpdateOp\n",
    "FastEstimator use `UpdateOp` to associate the model with its loss. Unlike other `Ops` that use `inputs`, `outputs` for expressing connection, UpdateOp uses argument `loss`, and `model` instead. The green blocks in the first figure are `UpdateOps`.\n",
    "\n",
    "### Others (loss, gradient...)\n",
    "There are many read-to-use TensorOps that users can directly import from `fe.op.tensorop` like operations about loss and gradient computation. For all available Ops please check out Fastestimator API.\n"
   ]
  },
  {
   "cell_type": "markdown",
   "metadata": {},
   "source": [
    "## Customize TensorOp\n",
    "FastEstimator provides flexibility that allows users to customize their own `TensorOp` from TensorFlow and Pytorch library or from `fe.backend` API function. Users only need inherit `TensorOps` class and overwrite its `forward` function.\n",
    "\n",
    "If users want to customize `TensorOp` using TensorFlow or Pytorch library, **please make sure all `TensorOp` in the `Network` need to be backend-consistent**. This means they cannot have `TensorOps` built from TensorFlow and Pytorch in the same `Network`. `ModelOps`'s backend is determined by which library the model function uses. (Reminder: `ModelOp` is also an `TensorOp` so it also needs to be backend-consistent)\n",
    "\n",
    "Here we are going to demonstrate building a `TenorOp` logic that takes high dimension input and output a average scalar value."
   ]
  },
  {
   "cell_type": "markdown",
   "metadata": {},
   "source": [
    "### Example for using Tensorflow\n",
    "Tensorflow already has the function. "
   ]
  },
  {
   "cell_type": "code",
   "execution_count": 1,
   "metadata": {},
   "outputs": [],
   "source": [
    "from fastestimator.op.tensorop import TensorOp\n",
    "import tensorflow as tf\n",
    "\n",
    "class ReduceMean(TensorOp):\n",
    "    def forward(self, data, state):\n",
    "        return tf.reduce_mean(data)"
   ]
  },
  {
   "cell_type": "markdown",
   "metadata": {},
   "source": [
    "### Example for using Pytorch\n",
    "Pytorch already has the function."
   ]
  },
  {
   "cell_type": "code",
   "execution_count": 2,
   "metadata": {},
   "outputs": [],
   "source": [
    "from fastestimator.op.tensorop import TensorOp\n",
    "import torch\n",
    "\n",
    "class ReduceMean(TensorOp):\n",
    "    def forward(self, data, state):\n",
    "        return torch.mean(data)"
   ]
  },
  {
   "cell_type": "markdown",
   "metadata": {},
   "source": [
    "### Example for using `fe.backend`\n",
    "Users don't need to handle the backend issue if they use imported `TensorOp` or customize their `TenosorOp` using `fe.backend` API function because they are design to handle both backend.    \n"
   ]
  },
  {
   "cell_type": "code",
   "execution_count": 3,
   "metadata": {},
   "outputs": [],
   "source": [
    "from fastestimator.op.tensorop import TensorOp\n",
    "from fastestimator.backend import reduce_mean\n",
    "\n",
    "class ReduceMean(TensorOp):\n",
    "    def forward(self, data, state):\n",
    "        return reduce_mean(data)"
   ]
  }
 ],
 "metadata": {
  "kernelspec": {
   "display_name": "Python 3",
   "language": "python",
   "name": "python3"
  },
  "language_info": {
   "codemirror_mode": {
    "name": "ipython",
    "version": 3
   },
   "file_extension": ".py",
   "mimetype": "text/x-python",
   "name": "python",
   "nbconvert_exporter": "python",
   "pygments_lexer": "ipython3",
   "version": "3.6.10"
  }
 },
 "nbformat": 4,
 "nbformat_minor": 4
}
