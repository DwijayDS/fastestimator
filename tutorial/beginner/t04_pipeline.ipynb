{
 "cells": [
  {
   "cell_type": "markdown",
   "metadata": {},
   "source": [
    "<h1>Tutorial 4: Pipeline</h1>"
   ]
  },
  {
   "cell_type": "markdown",
   "metadata": {},
   "source": [
    "<h2>Overview</h2>"
   ]
  },
  {
   "cell_type": "markdown",
   "metadata": {},
   "source": [
    "In this tutorial, we will talk about the following:"
   ]
  },
  {
   "cell_type": "markdown",
   "metadata": {},
   "source": [
    "* Pipeline API\n",
    "    * Tensorflow and PyTorch datasets in Pipeline\n",
    "    * Using FastEstimator dataset API\n",
    "* How to use operators in Pipeline\n",
    "    * Basic concepts about operators\n",
    "    * Univariate and Multivariate operators\n",
    "    * Customized operators\n",
    "* Example of Pipeline"
   ]
  },
  {
   "cell_type": "markdown",
   "metadata": {},
   "source": [
    "In deep learning, data preprocessing is a way of converting data from the raw form to a much more usable or desired form. It is one crucial step in the model training as it directly affects the ability of model to learn. <br>\n",
    "`Pipeline` API operates by enabling such tasks in efficient manner. It takes care of extracting data from the disk and preprocessing before feeding it to the model. `Pipeline` operations usually happen on CPU."
   ]
  },
  {
   "cell_type": "markdown",
   "metadata": {},
   "source": [
    "<h2>Loading data in Pipeline</h2>"
   ]
  },
  {
   "cell_type": "markdown",
   "metadata": {},
   "source": [
    "In tutorial 2[link], we demonstrated the different types of datasets. We will see how datasets can be loaded in the `Pipeline` and various operations can be applied to the data. We will create a simple pipeline using `tf.data.Dataset` and `torch.data.Dataloader`."
   ]
  },
  {
   "cell_type": "code",
   "execution_count": 1,
   "metadata": {},
   "outputs": [],
   "source": [
    "import fastestimator as fe\n",
    "import tensorflow as tf\n",
    "import torch\n",
    "from torch.utils import data\n",
    "import numpy as np\n",
    "\n",
    "train_data, eval_data, test_data = (np.random.sample((100,2)), np.random.sample((100,1)), np.random.sample((100, 1)))\n",
    "\n",
    "# create tf.data.Datasets from sample data\n",
    "dataset_tf = tf.data.Dataset.from_tensor_slices((train_data, eval_data, test_data))\n",
    "\n",
    "# create torch.data.Dataloader from sample data\n",
    "dataset_torch = data.TensorDataset(torch.Tensor(train_data), torch.Tensor(eval_data), torch.Tensor(test_data))\n",
    "dataloader_torch = data.DataLoader(dataset_torch)\n",
    "\n",
    "# load data into pipeline\n",
    "pipeline_tf = fe.Pipeline(dataset_tf)\n",
    "pipeline_torch = fe.Pipeline(dataloader_torch)"
   ]
  },
  {
   "cell_type": "markdown",
   "metadata": {},
   "source": [
    "Let's print `Pipeline` results using `fe.pipeline.get_results`. It is used to debug and inspect operation outputs in the `Pipeline`"
   ]
  },
  {
   "cell_type": "code",
   "execution_count": 2,
   "metadata": {},
   "outputs": [
    {
     "data": {
      "text/plain": [
       "[(<tf.Tensor: shape=(2,), dtype=float64, numpy=array([0.45372089, 0.97197802])>,\n",
       "  <tf.Tensor: shape=(1,), dtype=float64, numpy=array([0.47420937])>,\n",
       "  <tf.Tensor: shape=(1,), dtype=float64, numpy=array([0.42508281])>),\n",
       " (<tf.Tensor: shape=(2,), dtype=float64, numpy=array([0.46349756, 0.80163207])>,\n",
       "  <tf.Tensor: shape=(1,), dtype=float64, numpy=array([0.87881811])>,\n",
       "  <tf.Tensor: shape=(1,), dtype=float64, numpy=array([0.43175111])>)]"
      ]
     },
     "execution_count": 2,
     "metadata": {},
     "output_type": "execute_result"
    }
   ],
   "source": [
    "pipeline_tf.get_results(num_steps=2)"
   ]
  },
  {
   "cell_type": "code",
   "execution_count": 3,
   "metadata": {},
   "outputs": [
    {
     "data": {
      "text/plain": [
       "[[tensor([[0.4537, 0.9720]]), tensor([[0.4742]]), tensor([[0.4251]])],\n",
       " [tensor([[0.4635, 0.8016]]), tensor([[0.8788]]), tensor([[0.4318]])]]"
      ]
     },
     "execution_count": 3,
     "metadata": {},
     "output_type": "execute_result"
    }
   ],
   "source": [
    "pipeline_torch.get_results(num_steps=2)"
   ]
  },
  {
   "cell_type": "markdown",
   "metadata": {},
   "source": [
    "<h3>Using FastEstimator Dataset</h3>"
   ]
  },
  {
   "cell_type": "markdown",
   "metadata": {},
   "source": [
    "Next, we will see how to use one of the Fastestimator Dataset in the `Pipeline`. We will create `fe.dataset.NumpyDataset` and load it into pipeline. As we saw in tutorial 2, `NumpyDataset` takes dictionary with keys for <b>Input data</b> and <b>Ground truth label</b>"
   ]
  },
  {
   "cell_type": "code",
   "execution_count": 4,
   "metadata": {},
   "outputs": [],
   "source": [
    "from fastestimator.dataset.numpy_dataset import NumpyDataset\n",
    "\n",
    "x_train, y_train = (np.random.sample((100, 2)), np.random.sample((100, 1)))\n",
    "x_eval, y_eval = (np.random.sample((100, 2)), np.random.sample((100, 1)))\n",
    "\n",
    "# create NumpyDataset from the sample data\n",
    "train_data = NumpyDataset({\"x\": x_train, \"y\": y_train})\n",
    "eval_data = NumpyDataset({\"x\": x_eval, \"y\": y_eval})\n",
    "\n",
    "pipeline_fe = fe.Pipeline(train_data=train_data, eval_data=eval_data, batch_size=1)"
   ]
  },
  {
   "cell_type": "markdown",
   "metadata": {},
   "source": [
    "Now, let's print the output of the `pipeline_fe`"
   ]
  },
  {
   "cell_type": "code",
   "execution_count": 5,
   "metadata": {},
   "outputs": [
    {
     "data": {
      "text/plain": [
       "[{'x': tensor([[0.7866, 0.7127]], dtype=torch.float64),\n",
       "  'y': tensor([[0.1185]], dtype=torch.float64)},\n",
       " {'x': tensor([[0.7977, 0.2604]], dtype=torch.float64),\n",
       "  'y': tensor([[0.6098]], dtype=torch.float64)}]"
      ]
     },
     "execution_count": 5,
     "metadata": {},
     "output_type": "execute_result"
    }
   ],
   "source": [
    "pipeline_fe.get_results(num_steps=2)"
   ]
  },
  {
   "cell_type": "markdown",
   "metadata": {},
   "source": [
    "<h2>How to use operators in Pipeline</h2>"
   ]
  },
  {
   "cell_type": "markdown",
   "metadata": {},
   "source": [
    "In tutorial 3, we learned about the `Operators` and their structures. They are used in FastEstimator for constructing workflow graphs. Here we will talk about Numpy Operator (NumpyOp) and how to use them in `Pipeline`."
   ]
  },
  {
   "cell_type": "markdown",
   "metadata": {},
   "source": [
    "`NumpyOp` inherits base class `Op` and performs preprocessing and augmentation tasks on non-Tensor data. With combination of `NumpyOp`, preprocessing tasks become considerably easier in just few lines of code. Many of the augmentation operations leverages the image augmentation library [albumentations](https://github.com/albumentations-team/albumentations). <br>\n",
    "`NumpyOp` can be classified in three main classes:\n",
    "   * Univariate Ops\n",
    "   * Multivariate Ops\n",
    "   * Meta Ops\n",
    "   \n",
    "In addition to that, we can customize the `NumpyOp` to perform our own operations on the data. Inheriting `fe.op.numpyop` we can create custom `NumpyOp` and use it in `Pipeline`."
   ]
  },
  {
   "cell_type": "markdown",
   "metadata": {},
   "source": [
    "<h3>Univariate Ops</h3>"
   ]
  },
  {
   "cell_type": "markdown",
   "metadata": {},
   "source": [
    "Univariate operaters involve performing operations on one variable from the data dictionary at a time. They also support <b>multiple io</b> operations that can take multiple keys to perform same transform operations on the data.<br>\n",
    "Let's perform a `Minmax` operation on a key \"x\" in previously defined FastEstimator dataset and write results to the same key."
   ]
  },
  {
   "cell_type": "code",
   "execution_count": 6,
   "metadata": {},
   "outputs": [],
   "source": [
    "from fastestimator.op.numpyop.univariate import Minmax\n",
    "\n",
    "pipeline_fe = fe.Pipeline(train_data=train_data, \n",
    "                          eval_data=eval_data,\n",
    "                          ops=[Minmax(inputs=\"x\",outputs=\"x\")],\n",
    "                          batch_size=1)"
   ]
  },
  {
   "cell_type": "markdown",
   "metadata": {},
   "source": [
    "As a result the output will be"
   ]
  },
  {
   "cell_type": "code",
   "execution_count": 7,
   "metadata": {},
   "outputs": [
    {
     "data": {
      "text/plain": [
       "{'x': tensor([[1., 0.]]), 'y': tensor([[0.1185]], dtype=torch.float64)}"
      ]
     },
     "execution_count": 7,
     "metadata": {},
     "output_type": "execute_result"
    }
   ],
   "source": [
    "pipeline_fe.get_results(num_steps=1)"
   ]
  },
  {
   "cell_type": "markdown",
   "metadata": {},
   "source": [
    "<h3>Multivariate Ops</h3>"
   ]
  },
  {
   "cell_type": "markdown",
   "metadata": {},
   "source": [
    "Multivariate operaters takes multiple variables from the data dictionary and perform operation on them simultaneously. For example, for input data it will change both input change as well as bounding box or masks at the same time."
   ]
  },
  {
   "cell_type": "markdown",
   "metadata": {},
   "source": [
    "To demonstrate multivariate operation, we will first load Fashion MNIST dataset in the `Pipeline` and then perform `CenterCrop` operation that crops the center of the image."
   ]
  },
  {
   "cell_type": "code",
   "execution_count": 8,
   "metadata": {},
   "outputs": [],
   "source": [
    "from fastestimator.op.numpyop.multivariate import CenterCrop\n",
    "from fastestimator.dataset.data import mnist\n",
    "\n",
    "mnist_train, mnist_eval = mnist.load_data()\n",
    "\n",
    "pipeline_fe = fe.Pipeline(train_data=mnist_train,\n",
    "                          eval_data=mnist_eval,\n",
    "                          ops=[CenterCrop(image_in=\"x\", image_out=\"x_out\", height=20, width=20)],\n",
    "                          batch_size=1)"
   ]
  },
  {
   "cell_type": "markdown",
   "metadata": {},
   "source": [
    "We now have two keys in dictionary \"x\" and \"x_out\" representing input and output images respectively. Let's visualize the both images to see the results."
   ]
  },
  {
   "cell_type": "code",
   "execution_count": 9,
   "metadata": {},
   "outputs": [
    {
     "data": {
      "text/plain": [
       "<matplotlib.image.AxesImage at 0x7fce302cd710>"
      ]
     },
     "execution_count": 9,
     "metadata": {},
     "output_type": "execute_result"
    },
    {
     "data": {
      "image/png": "[encoded data removed]",
      "text/plain": [
       "<Figure size 864x864 with 2 Axes>"
      ]
     },
     "metadata": {
      "needs_background": "light"
     },
     "output_type": "display_data"
    }
   ],
   "source": [
    "import matplotlib.pyplot as plt\n",
    "\n",
    "results = pipeline_fe.get_results()\n",
    "\n",
    "fig, axs = plt.subplots(1, 2, figsize=(12,12))\n",
    "img_in = results['x'].numpy()[0]\n",
    "axs[0].imshow(img_in, cmap=\"gray\")\n",
    "\n",
    "img_out = results['x_out'].numpy()[0]\n",
    "axs[1].imshow(img_out, cmap=\"gray\")"
   ]
  },
  {
   "cell_type": "markdown",
   "metadata": {},
   "source": [
    "<h3>Custom NumpyOp</h3>"
   ]
  },
  {
   "cell_type": "markdown",
   "metadata": {},
   "source": [
    "Let's create custom Numpy operator that add random noise to the numpy array."
   ]
  },
  {
   "cell_type": "code",
   "execution_count": 10,
   "metadata": {},
   "outputs": [],
   "source": [
    "from fastestimator.op.numpyop import NumpyOp\n",
    "\n",
    "class AddRandomNoise(NumpyOp):\n",
    "    def forward(self, data, state):\n",
    "        # generate noise array with 0 mean and 1 standard deviation\n",
    "        noise = np.random.normal(0, 1, data.shape)\n",
    "        data = data + noise\n",
    "        return data\n",
    "    \n",
    "pipeline_fe = fe.Pipeline(train_data=train_data, \n",
    "                          eval_data=eval_data,\n",
    "                          ops=[AddRandomNoise(inputs=\"x\",outputs=\"x\")],\n",
    "                          batch_size=1)"
   ]
  },
  {
   "cell_type": "code",
   "execution_count": 11,
   "metadata": {},
   "outputs": [
    {
     "data": {
      "text/plain": [
       "[{'x': tensor([[ 0.8622, -1.1923]], dtype=torch.float64),\n",
       "  'y': tensor([[0.1185]], dtype=torch.float64)},\n",
       " {'x': tensor([[ 0.8360, -0.0328]], dtype=torch.float64),\n",
       "  'y': tensor([[0.6098]], dtype=torch.float64)}]"
      ]
     },
     "execution_count": 11,
     "metadata": {},
     "output_type": "execute_result"
    }
   ],
   "source": [
    "pipeline_fe.get_results(num_steps=2)"
   ]
  },
  {
   "cell_type": "markdown",
   "metadata": {},
   "source": [
    "<h2>Pipeline Example with MNIST dataset</h2>"
   ]
  },
  {
   "cell_type": "markdown",
   "metadata": {},
   "source": [
    "We use MNIST dataset to demonstrate data preprocessing using various `NumpyOp` in the `Pipeline`. We will load the dataset from the `fastestimator.dataset` API and split it into train, eval and test set."
   ]
  },
  {
   "cell_type": "markdown",
   "metadata": {},
   "source": [
    "We will series of operations in the `Pipeline` such as Expand dimension, Minmax scaling and Image rotation."
   ]
  },
  {
   "cell_type": "code",
   "execution_count": 12,
   "metadata": {},
   "outputs": [],
   "source": [
    "from fastestimator.dataset.data import mnist\n",
    "from fastestimator.op.numpyop.univariate import Minmax, ExpandDims\n",
    "from fastestimator.op.numpyop.multivariate import Rotate\n",
    "\n",
    "train_data, eval_data = mnist.load_data()\n",
    "test_data = eval_data.split(0.5)\n",
    "pipeline = fe.Pipeline(train_data=train_data,\n",
    "                       eval_data=eval_data,\n",
    "                       test_data=test_data,\n",
    "                       ops=[ExpandDims(inputs=\"x\", outputs=\"x_out\"), \n",
    "                            Minmax(inputs=\"x_out\", outputs=\"x_out\"),\n",
    "                            Rotate(image_in=\"x_out\", image_out=\"x_out\", limit=45)],\n",
    "                      batch_size=2)"
   ]
  },
  {
   "cell_type": "markdown",
   "metadata": {},
   "source": [
    "Let's get the `Pipeline` results and visualize the input and output images"
   ]
  },
  {
   "cell_type": "code",
   "execution_count": 13,
   "metadata": {},
   "outputs": [
    {
     "data": {
      "image/png": "[encoded data removed]",
      "text/plain": [
       "<Figure size 864x864 with 12 Axes>"
      ]
     },
     "metadata": {
      "needs_background": "light"
     },
     "output_type": "display_data"
    }
   ],
   "source": [
    "sample_num = 6\n",
    "\n",
    "# get the pipeline results\n",
    "data = pipeline.get_results()\n",
    "data_xin = data[\"x\"]\n",
    "data_xout = data[\"x_out\"]\n",
    "\n",
    "# define subplots \n",
    "fig, axs = plt.subplots(sample_num, 2, figsize=(12,12))\n",
    "\n",
    "axs[0,0].set_title(\"pipeline input\")\n",
    "axs[0,1].set_title(\"pipeline output\")\n",
    "\n",
    "# iterate over sample to plot the results\n",
    "for i, j in enumerate(np.random.randint(low=0, high=2, size=sample_num)):\n",
    "    img_in = data_xin.numpy()[j]\n",
    "    axs[i,0].imshow(img_in, cmap=\"gray\")\n",
    "    \n",
    "    img_out = data_xout.numpy()[j,:,:,0]\n",
    "    axs[i,1].imshow(img_out, cmap=\"gray\")"
   ]
  }
 ],
 "metadata": {
  "kernelspec": {
   "display_name": "fe",
   "language": "python",
   "name": "fe"
  },
  "language_info": {
   "codemirror_mode": {
    "name": "ipython",
    "version": 3
   },
   "file_extension": ".py",
   "mimetype": "text/x-python",
   "name": "python",
   "nbconvert_exporter": "python",
   "pygments_lexer": "ipython3",
   "version": "3.6.6"
  }
 },
 "nbformat": 4,
 "nbformat_minor": 4
}
