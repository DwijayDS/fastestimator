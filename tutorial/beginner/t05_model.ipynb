{
 "cells": [
  {
   "cell_type": "markdown",
   "metadata": {},
   "source": [
    "# Tutorial 5: Model\n",
    "\n",
    "## Overview\n",
    "In this tutorial we will talk about:\n",
    "* **Instantiating and Compiling the model**\n",
    "* **Model function**\n",
    "* **Optimizer function**\n",
    "* **Loading model weights**\n",
    "* **Specifying model name**"
   ]
  },
  {
   "cell_type": "markdown",
   "metadata": {},
   "source": [
    "## Instantiating and Compiling the model\n",
    "\n",
    "We need to specify two things to instantiate and compile the model:\n",
    "* model_fn\n",
    "* optimizer_fn\n",
    "\n",
    "Model definitions can be implemented in Tensorflow or Pytorch and instantiated by calling <B>`fe.build`</B> which associates the model with specified optimizer and compiles the model."
   ]
  },
  {
   "cell_type": "markdown",
   "metadata": {},
   "source": [
    "## Model Function\n",
    "\n",
    "`model_fn` should be a function/lambda function which returns either a `tf.keras.Model` or `torch.nn.Module`. We can specify the model architecture through following ways in fastestimator:\n",
    "* Custom model architecture\n",
    "* Importing model architecture from fastestimator\n",
    "* Importing pre-trained models/architectures from pytorch or tensorflow"
   ]
  },
  {
   "cell_type": "markdown",
   "metadata": {},
   "source": [
    "### Custom model architecture\n",
    "Let's create a custom model in tensorflow and pytorch for demonstration."
   ]
  },
  {
   "cell_type": "markdown",
   "metadata": {},
   "source": [
    "#### tf.keras.Model"
   ]
  },
  {
   "cell_type": "code",
   "execution_count": 1,
   "metadata": {},
   "outputs": [],
   "source": [
    "import fastestimator as fe\n",
    "import tensorflow as tf\n",
    "from tensorflow.keras import layers\n",
    "\n",
    "def my_model_tf(input_shape=(30, ), num_classes=2):\n",
    "    model = tf.keras.Sequential()\n",
    "    model.add(tf.keras.layers.Dense(32, activation=\"relu\", input_shape=input_shape))\n",
    "    model.add(tf.keras.layers.Dense(8, activation=\"relu\"))\n",
    "    model.add(tf.keras.layers.Dense(num_classes, activation=\"softmax\"))\n",
    "    return model\n",
    "\n",
    "model_tf = fe.build(model_fn=my_model_tf, optimizer_fn=\"adam\")"
   ]
  },
  {
   "cell_type": "markdown",
   "metadata": {},
   "source": [
    "#### torch.nn.Module"
   ]
  },
  {
   "cell_type": "code",
   "execution_count": 2,
   "metadata": {},
   "outputs": [],
   "source": [
    "import torch\n",
    "import torch.nn as nn\n",
    "import torch.nn.functional as fn\n",
    "\n",
    "class my_model_torch(nn.Module):\n",
    "    def __init__(self, num_inputs=30, num_classes=2):\n",
    "        super().__init__()\n",
    "        self.layers = nn.Sequential(nn.Linear(num_inputs, 32), \n",
    "                                    nn.ReLU(inplace=True), \n",
    "                                    nn.Linear(32, 8), \n",
    "                                    nn.ReLU(inplace=True),\n",
    "                                    nn.Linear(8, num_classes))\n",
    "\n",
    "    def forward(self, x):\n",
    "        x = self.layers(x)\n",
    "        x_label = torch.softmax(x, dim=-1)\n",
    "        return x_label\n",
    "\n",
    "    \n",
    "model_torch = fe.build(model_fn=my_model_torch, optimizer_fn=\"adam\")"
   ]
  },
  {
   "cell_type": "markdown",
   "metadata": {},
   "source": [
    "### Importing model architecture from fastestimator\n",
    "\n",
    "Below we import a pytorch LeNet architecture from fastestimator. To view a list of all architectures available in fastestimator, go to [Architectures](https://github.com/fastestimator/fastestimator/tree/master/fastestimator/architecture)."
   ]
  },
  {
   "cell_type": "code",
   "execution_count": 3,
   "metadata": {},
   "outputs": [],
   "source": [
    "from fastestimator.architecture.pytorch import LeNet\n",
    "# from fastestimator.architecture.tensorflow import LeNet\n",
    "# one can also use tensorflow model\n",
    "\n",
    "model = fe.build(model_fn=LeNet, optimizer_fn=\"adam\")"
   ]
  },
  {
   "cell_type": "markdown",
   "metadata": {},
   "source": [
    "### Importing pre-trained models/architectures from pytorch or tensorflow\n",
    "\n",
    "Below we show how to define a model function using pre-trained resnet model from tensorflow and pytorch respectively. We load the pre-trained models using a lambda function."
   ]
  },
  {
   "cell_type": "markdown",
   "metadata": {},
   "source": [
    "#### Pre-trained model from tf.keras.applications "
   ]
  },
  {
   "cell_type": "code",
   "execution_count": 4,
   "metadata": {},
   "outputs": [],
   "source": [
    "resnet50_tf = fe.build(model_fn=lambda: tf.keras.applications.ResNet50(weights='imagenet'), optimizer_fn=\"adam\")"
   ]
  },
  {
   "cell_type": "markdown",
   "metadata": {},
   "source": [
    "#### Pre-trained model from torchvision "
   ]
  },
  {
   "cell_type": "code",
   "execution_count": 5,
   "metadata": {},
   "outputs": [],
   "source": [
    "from torchvision import models\n",
    "\n",
    "resnet50_torch = fe.build(model_fn=lambda: models.resnet50(pretrained=True), optimizer_fn=\"adam\")"
   ]
  },
  {
   "cell_type": "markdown",
   "metadata": {},
   "source": [
    "## Optimizer function\n",
    "\n",
    "`optimizer_fn` can be a string or lambda function.\n",
    "\n",
    "### Optimizer from string\n",
    "Specifying string for `optimizer_fn` loads the optimizer with default parameters. \n",
    "List of optimizers and their corresponding strings are listed below:\n",
    "- Adadelta: 'adadelta'\n",
    "- Adagrad: 'adagrad'\n",
    "- Adam: 'adam'\n",
    "- Adamax: 'adamax'\n",
    "- RMSprop: 'rmsprop'\n",
    "- SGD: 'sgd'"
   ]
  },
  {
   "cell_type": "markdown",
   "metadata": {},
   "source": [
    "### Optimizer from function\n",
    "To specify specific value of learning rate and other parameters, we need to use lambda function to define the optimizer function."
   ]
  },
  {
   "cell_type": "code",
   "execution_count": 6,
   "metadata": {},
   "outputs": [],
   "source": [
    "# Tensorflow \n",
    "model_tf = fe.build(model_fn=my_model_tf, optimizer_fn=lambda: tf.optimizers.Adam(1e-4))\n",
    "\n",
    "# Pytorch\n",
    "model_torch = fe.build(model_fn=my_model_torch, optimizer_fn=lambda x: torch.optim.Adam(params=x, lr=1e-4))"
   ]
  },
  {
   "cell_type": "markdown",
   "metadata": {},
   "source": [
    "If a model function returns multiple models, list of optimizers can be provided. You can go through **[pggan apphub](https://github.com/fastestimator/fastestimator/blob/master/apphub/image_generation/pggan/pggan.ipynb)** for an example with multiple models and optimizers."
   ]
  },
  {
   "cell_type": "markdown",
   "metadata": {},
   "source": [
    "## Loading model weights\n",
    "\n",
    "We often need to load the weights of a saved model. To achieve this, model weights can be loaded by specifying the path of the saved weights using `weights_path` parameter. Let's use resnet models created earlier to showcase this."
   ]
  },
  {
   "cell_type": "markdown",
   "metadata": {},
   "source": [
    "#### Saving model weights\n",
    "Here, we create a temp directory and use fastestimator backend to save the weights of previously created resnet50 models  "
   ]
  },
  {
   "cell_type": "code",
   "execution_count": 7,
   "metadata": {},
   "outputs": [
    {
     "name": "stdout",
     "output_type": "stream",
     "text": [
      "FastEstimator-ModelSaver: saved model to /tmp/tmp_e4z9bh_/resnet50_tf.h5\n",
      "FastEstimator-ModelSaver: saved model to /tmp/tmp_e4z9bh_/resnet50_torch.pt\n"
     ]
    }
   ],
   "source": [
    "import os\n",
    "import tempfile\n",
    "\n",
    "model_dir = tempfile.mkdtemp()\n",
    "\n",
    "# Tensorflow\n",
    "fe.backend.save_model(resnet50_tf, save_dir=model_dir, model_name= \"resnet50_tf\")\n",
    "\n",
    "# Pytorch\n",
    "fe.backend.save_model(resnet50_torch, save_dir=model_dir, model_name= \"resnet50_torch\")"
   ]
  },
  {
   "cell_type": "markdown",
   "metadata": {},
   "source": [
    "#### Loading weights for tensorflow and pytorch models"
   ]
  },
  {
   "cell_type": "code",
   "execution_count": 8,
   "metadata": {},
   "outputs": [
    {
     "name": "stdout",
     "output_type": "stream",
     "text": [
      "Loaded model weights from /tmp/tmp_e4z9bh_/resnet50_tf.h5\n"
     ]
    }
   ],
   "source": [
    "# Tensorflow\n",
    "resnet50_tf = fe.build(model_fn=lambda: tf.keras.applications.ResNet50(weights=None), \n",
    "                       optimizer_fn=\"adam\", \n",
    "                       weights_path=os.path.join(model_dir, \"resnet50_tf.h5\"))"
   ]
  },
  {
   "cell_type": "code",
   "execution_count": 9,
   "metadata": {},
   "outputs": [
    {
     "name": "stdout",
     "output_type": "stream",
     "text": [
      "Loaded model weights from /tmp/tmp_e4z9bh_/resnet50_torch.pt\n"
     ]
    }
   ],
   "source": [
    "# Pytorch\n",
    "resnet50_torch = fe.build(model_fn=lambda: models.resnet50(pretrained=False), \n",
    "                          optimizer_fn=\"adam\", \n",
    "                          weights_path=os.path.join(model_dir, \"resnet50_torch.pt\"))"
   ]
  },
  {
   "cell_type": "markdown",
   "metadata": {},
   "source": [
    "## Specifying model name\n",
    "\n",
    "Name of the model can be specified using `model_names` parameter. The name of the model is helpful in distinguishing the model in presence of multiple models."
   ]
  },
  {
   "cell_type": "code",
   "execution_count": 10,
   "metadata": {},
   "outputs": [
    {
     "name": "stdout",
     "output_type": "stream",
     "text": [
      "Model Name:  LeNet\n"
     ]
    }
   ],
   "source": [
    "model = fe.build(model_fn=LeNet, optimizer_fn=\"adam\", model_names=\"LeNet\")\n",
    "print(\"Model Name: \", model.model_name)"
   ]
  },
  {
   "cell_type": "markdown",
   "metadata": {},
   "source": [
    "If a model function returns multiple models, list of model_names can be given. You can go through **[pggan apphub](https://github.com/fastestimator/fastestimator/blob/master/apphub/image_generation/pggan/pggan.ipynb)** for an illustration with multiple models and model names."
   ]
  },
  {
   "cell_type": "code",
   "execution_count": null,
   "metadata": {},
   "outputs": [],
   "source": []
  }
 ],
 "metadata": {
  "kernelspec": {
   "display_name": "Python [conda env:fe_dev]",
   "language": "python",
   "name": "conda-env-fe_dev-py"
  },
  "language_info": {
   "codemirror_mode": {
    "name": "ipython",
    "version": 3
   },
   "file_extension": ".py",
   "mimetype": "text/x-python",
   "name": "python",
   "nbconvert_exporter": "python",
   "pygments_lexer": "ipython3",
   "version": "3.6.10"
  }
 },
 "nbformat": 4,
 "nbformat_minor": 2
}
