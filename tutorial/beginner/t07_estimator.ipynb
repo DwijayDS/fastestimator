{
 "cells": [
  {
   "cell_type": "markdown",
   "metadata": {},
   "source": [
    "# Tutorial 7: Estimator\n",
    "\n",
    "## Overview\n",
    "In this tutorial, we will talk about:\n",
    "* [Estimator API](#t07estimator)\n",
    "    * [Reducing the number of training steps per epoch](#t07train)\n",
    "    * [Reducing the number of evaluation steps per epoch](#t07eval)\n",
    "    * [Changing logging behavior](#t07logging)\n",
    "    * [Monitoring intermediate results during training](#t07intermediate)\n",
    "* [Trace](#t07trace)\n",
    "    * [Concept](#t07concept)\n",
    "    * [Structure](#t07structure)\n",
    "    * [Usage](#t07usage)\n",
    "* [Model Testing](#t07testing)\n",
    "* [Related Apphub Examples](#t07apphub)"
   ]
  },
  {
   "cell_type": "markdown",
   "metadata": {},
   "source": [
    "`Estimator` is the API that manages everything related to the training loop. It combines `Pipeline` and `Network` together and provides users with fine-grain control over the training loop. Before we demonstrate different ways to control the training loop let's define a template similar to [tutorial 1](./t01_getting_started.ipynb), but this time we will use a PyTorch model."
   ]
  },
  {
   "cell_type": "code",
   "execution_count": 1,
   "metadata": {},
   "outputs": [],
   "source": [
    "import fastestimator as fe\n",
    "from fastestimator.architecture.pytorch import LeNet\n",
    "from fastestimator.dataset.data import mnist\n",
    "from fastestimator.op.numpyop.univariate import ExpandDims, Minmax\n",
    "from fastestimator.op.tensorop.loss import CrossEntropy\n",
    "from fastestimator.op.tensorop.model import ModelOp, UpdateOp\n",
    "import tempfile\n",
    "\n",
    "def get_estimator(log_steps=100, monitor_names=None, use_trace=False, max_train_steps_per_epoch=None, epochs=2):\n",
    "    # step 1\n",
    "    train_data, eval_data = mnist.load_data()\n",
    "    test_data = eval_data.split(0.5)\n",
    "    pipeline = fe.Pipeline(train_data=train_data,\n",
    "                           eval_data=eval_data,\n",
    "                           test_data=test_data,\n",
    "                           batch_size=32,\n",
    "                           ops=[ExpandDims(inputs=\"x\", outputs=\"x\", axis=0), Minmax(inputs=\"x\", outputs=\"x\")])\n",
    "    # step 2\n",
    "    model = fe.build(model_fn=LeNet, optimizer_fn=\"adam\", model_name=\"LeNet\")\n",
    "    network = fe.Network(ops=[\n",
    "        ModelOp(model=model, inputs=\"x\", outputs=\"y_pred\"),\n",
    "        CrossEntropy(inputs=(\"y_pred\", \"y\"), outputs=\"ce\"),\n",
    "        CrossEntropy(inputs=(\"y_pred\", \"y\"), outputs=\"ce1\"),\n",
    "        UpdateOp(model=model, loss_name=\"ce\")\n",
    "    ])\n",
    "    # step 3\n",
    "    traces = None\n",
    "    if use_trace:\n",
    "        traces = [Accuracy(true_key=\"y\", pred_key=\"y_pred\"), \n",
    "                  BestModelSaver(model=model, save_dir=tempfile.mkdtemp(), metric=\"accuracy\", save_best_mode=\"max\")]\n",
    "    estimator = fe.Estimator(pipeline=pipeline,\n",
    "                             network=network,\n",
    "                             epochs=epochs,\n",
    "                             traces=traces,\n",
    "                             max_train_steps_per_epoch=max_train_steps_per_epoch,\n",
    "                             log_steps=log_steps,\n",
    "                             monitor_names=monitor_names)\n",
    "    return estimator"
   ]
  },
  {
   "cell_type": "markdown",
   "metadata": {},
   "source": [
    "Let's train our model using the default `Estimator` arguments:"
   ]
  },
  {
   "cell_type": "code",
   "execution_count": 2,
   "metadata": {},
   "outputs": [
    {
     "name": "stdout",
     "output_type": "stream",
     "text": [
      "    ______           __  ______     __  _                 __            \n",
      "   / ____/___ ______/ /_/ ____/____/ /_(_)___ ___  ____ _/ /_____  _____\n",
      "  / /_  / __ `/ ___/ __/ __/ / ___/ __/ / __ `__ \\/ __ `/ __/ __ \\/ ___/\n",
      " / __/ / /_/ (__  ) /_/ /___(__  ) /_/ / / / / / / /_/ / /_/ /_/ / /    \n",
      "/_/    \\__,_/____/\\__/_____/____/\\__/_/_/ /_/ /_/\\__,_/\\__/\\____/_/     \n",
      "                                                                        \n",
      "\n",
      "FastEstimator-Warn: No ModelSaver Trace detected. Models will not be saved.\n",
      "FastEstimator-Start: step: 1; num_device: 0; logging_interval: 100; \n",
      "FastEstimator-Train: step: 1; ce: 2.2985432; \n",
      "FastEstimator-Train: step: 100; ce: 0.33677763; steps/sec: 43.98; \n",
      "FastEstimator-Train: step: 200; ce: 0.3549296; steps/sec: 45.97; \n",
      "FastEstimator-Train: step: 300; ce: 0.17926084; steps/sec: 46.62; \n",
      "FastEstimator-Train: step: 400; ce: 0.32462734; steps/sec: 46.91; \n",
      "FastEstimator-Train: step: 500; ce: 0.05164891; steps/sec: 47.18; \n",
      "FastEstimator-Train: step: 600; ce: 0.0906372; steps/sec: 45.5; \n",
      "FastEstimator-Train: step: 700; ce: 0.46759754; steps/sec: 45.0; \n",
      "FastEstimator-Train: step: 800; ce: 0.025921348; steps/sec: 43.85; \n",
      "FastEstimator-Train: step: 900; ce: 0.21584965; steps/sec: 44.17; \n",
      "FastEstimator-Train: step: 1000; ce: 0.1303818; steps/sec: 44.68; \n",
      "FastEstimator-Train: step: 1100; ce: 0.256935; steps/sec: 43.92; \n",
      "FastEstimator-Train: step: 1200; ce: 0.052581083; steps/sec: 43.21; \n",
      "FastEstimator-Train: step: 1300; ce: 0.030862458; steps/sec: 42.97; \n",
      "FastEstimator-Train: step: 1400; ce: 0.115828656; steps/sec: 42.55; \n",
      "FastEstimator-Train: step: 1500; ce: 0.033370342; steps/sec: 43.89; \n",
      "FastEstimator-Train: step: 1600; ce: 0.0928934; steps/sec: 43.56; \n",
      "FastEstimator-Train: step: 1700; ce: 0.05145497; steps/sec: 43.06; \n",
      "FastEstimator-Train: step: 1800; ce: 0.14278823; steps/sec: 43.23; \n",
      "FastEstimator-Train: step: 1875; epoch: 1; epoch_time: 42.33 sec; \n",
      "FastEstimator-Eval: step: 1875; epoch: 1; ce: 0.057005133; \n",
      "FastEstimator-Train: step: 1900; ce: 0.08283445; steps/sec: 39.21; \n",
      "FastEstimator-Train: step: 2000; ce: 0.031674776; steps/sec: 46.4; \n",
      "FastEstimator-Train: step: 2100; ce: 0.022434138; steps/sec: 46.2; \n",
      "FastEstimator-Train: step: 2200; ce: 0.0041575576; steps/sec: 46.57; \n",
      "FastEstimator-Train: step: 2300; ce: 0.028007038; steps/sec: 46.55; \n",
      "FastEstimator-Train: step: 2400; ce: 0.11569328; steps/sec: 46.18; \n",
      "FastEstimator-Train: step: 2500; ce: 0.1477213; steps/sec: 46.04; \n",
      "FastEstimator-Train: step: 2600; ce: 0.21895751; steps/sec: 45.41; \n",
      "FastEstimator-Train: step: 2700; ce: 0.008701714; steps/sec: 44.15; \n",
      "FastEstimator-Train: step: 2800; ce: 0.006247335; steps/sec: 42.0; \n",
      "FastEstimator-Train: step: 2900; ce: 0.0016122407; steps/sec: 42.0; \n",
      "FastEstimator-Train: step: 3000; ce: 0.005287632; steps/sec: 41.4; \n",
      "FastEstimator-Train: step: 3100; ce: 0.013425731; steps/sec: 41.41; \n",
      "FastEstimator-Train: step: 3200; ce: 0.00874802; steps/sec: 39.84; \n",
      "FastEstimator-Train: step: 3300; ce: 0.025417497; steps/sec: 40.25; \n",
      "FastEstimator-Train: step: 3400; ce: 0.08027805; steps/sec: 39.33; \n",
      "FastEstimator-Train: step: 3500; ce: 0.020149795; steps/sec: 39.69; \n",
      "FastEstimator-Train: step: 3600; ce: 0.010977306; steps/sec: 39.68; \n",
      "FastEstimator-Train: step: 3700; ce: 0.075040415; steps/sec: 39.68; \n",
      "FastEstimator-Train: step: 3750; epoch: 2; epoch_time: 44.2 sec; \n",
      "FastEstimator-Eval: step: 3750; epoch: 2; ce: 0.04138615; \n",
      "FastEstimator-Finish: step: 3750; total_time: 89.69 sec; LeNet_lr: 0.001; \n"
     ]
    }
   ],
   "source": [
    "est = get_estimator()\n",
    "est.fit()"
   ]
  },
  {
   "cell_type": "markdown",
   "metadata": {},
   "source": [
    "<a id='t07estimator'></a>"
   ]
  },
  {
   "cell_type": "markdown",
   "metadata": {},
   "source": [
    "## Estimator API"
   ]
  },
  {
   "cell_type": "markdown",
   "metadata": {},
   "source": [
    "<a id='t07train'></a>"
   ]
  },
  {
   "cell_type": "markdown",
   "metadata": {},
   "source": [
    "### Reduce the number of training steps per epoch\n",
    "In general, one epoch of training means that every element in the training dataset will be visited exactly one time. If evaluation data is available, evaluation happens after every epoch by default. Consider the following two scenarios:\n",
    "\n",
    "* The training dataset is very large such that evaluation needs to happen multiple times during one epoch.\n",
    "* Different training datasets are being used for different epochs, but the number of training steps should be consistent between each epoch.\n",
    "\n",
    "One easy solution to the above scenarios is to limit the number of training steps per epoch. For example, if we want to train for only 300 steps per epoch, with training lasting for 4 epochs (1200 steps total), we would do the following:"
   ]
  },
  {
   "cell_type": "code",
   "execution_count": 3,
   "metadata": {},
   "outputs": [
    {
     "name": "stdout",
     "output_type": "stream",
     "text": [
      "    ______           __  ______     __  _                 __            \n",
      "   / ____/___ ______/ /_/ ____/____/ /_(_)___ ___  ____ _/ /_____  _____\n",
      "  / /_  / __ `/ ___/ __/ __/ / ___/ __/ / __ `__ \\/ __ `/ __/ __ \\/ ___/\n",
      " / __/ / /_/ (__  ) /_/ /___(__  ) /_/ / / / / / / /_/ / /_/ /_/ / /    \n",
      "/_/    \\__,_/____/\\__/_____/____/\\__/_/_/ /_/ /_/\\__,_/\\__/\\____/_/     \n",
      "                                                                        \n",
      "\n",
      "FastEstimator-Warn: No ModelSaver Trace detected. Models will not be saved.\n",
      "FastEstimator-Start: step: 1; num_device: 0; logging_interval: 100; \n",
      "FastEstimator-Train: step: 1; ce: 2.3073506; \n",
      "FastEstimator-Train: step: 100; ce: 0.5364497; steps/sec: 38.56; \n",
      "FastEstimator-Train: step: 200; ce: 0.17832895; steps/sec: 42.4; \n",
      "FastEstimator-Train: step: 300; ce: 0.2198829; steps/sec: 41.62; \n",
      "FastEstimator-Train: step: 300; epoch: 1; epoch_time: 7.42 sec; \n",
      "FastEstimator-Eval: step: 300; epoch: 1; ce: 0.15399536; \n",
      "FastEstimator-Train: step: 400; ce: 0.13039914; steps/sec: 38.44; \n",
      "FastEstimator-Train: step: 500; ce: 0.120313495; steps/sec: 42.95; \n",
      "FastEstimator-Train: step: 600; ce: 0.14686579; steps/sec: 43.12; \n",
      "FastEstimator-Train: step: 600; epoch: 2; epoch_time: 7.25 sec; \n",
      "FastEstimator-Eval: step: 600; epoch: 2; ce: 0.10223439; \n",
      "FastEstimator-Train: step: 700; ce: 0.17189693; steps/sec: 37.89; \n",
      "FastEstimator-Train: step: 800; ce: 0.025620187; steps/sec: 41.49; \n",
      "FastEstimator-Train: step: 900; ce: 0.017038438; steps/sec: 41.58; \n",
      "FastEstimator-Train: step: 900; epoch: 3; epoch_time: 7.46 sec; \n",
      "FastEstimator-Eval: step: 900; epoch: 3; ce: 0.06282204; \n",
      "FastEstimator-Train: step: 1000; ce: 0.038011674; steps/sec: 37.24; \n",
      "FastEstimator-Train: step: 1100; ce: 0.03683513; steps/sec: 42.89; \n",
      "FastEstimator-Train: step: 1200; ce: 0.023527239; steps/sec: 41.78; \n",
      "FastEstimator-Train: step: 1200; epoch: 4; epoch_time: 7.41 sec; \n",
      "FastEstimator-Eval: step: 1200; epoch: 4; ce: 0.079378836; \n",
      "FastEstimator-Finish: step: 1200; total_time: 36.24 sec; LeNet_lr: 0.001; \n"
     ]
    }
   ],
   "source": [
    "est = get_estimator(max_train_steps_per_epoch=300, epochs=4)\n",
    "est.fit()"
   ]
  },
  {
   "cell_type": "markdown",
   "metadata": {},
   "source": [
    "<a id='t07eval'></a>"
   ]
  },
  {
   "cell_type": "markdown",
   "metadata": {},
   "source": [
    "### Reduce the number of evaluation steps per epoch\n",
    "One may need to reduce the number of evaluation steps for debugging purpose. This can be easily done by setting the `max_eval_steps_per_epoch` argument in `Estimator`."
   ]
  },
  {
   "cell_type": "markdown",
   "metadata": {},
   "source": [
    "<a id='t07logging'></a>"
   ]
  },
  {
   "cell_type": "markdown",
   "metadata": {},
   "source": [
    "### Change logging behavior\n",
    "When the number of training epochs is large, the log can become verbose. You can change the logging behavior by choosing one of following options:\n",
    "* set `log_steps` to `None` if you do not want to see any training logs printed.\n",
    "* set `log_steps` to 0 if you only wish to see the evaluation logs.\n",
    "* set `log_steps` to some integer 'x' if you want training logs to be printed every 'x' steps.\n",
    "\n",
    "Let's set the `log_steps` to 0:"
   ]
  },
  {
   "cell_type": "code",
   "execution_count": 4,
   "metadata": {},
   "outputs": [
    {
     "name": "stdout",
     "output_type": "stream",
     "text": [
      "    ______           __  ______     __  _                 __            \n",
      "   / ____/___ ______/ /_/ ____/____/ /_(_)___ ___  ____ _/ /_____  _____\n",
      "  / /_  / __ `/ ___/ __/ __/ / ___/ __/ / __ `__ \\/ __ `/ __/ __ \\/ ___/\n",
      " / __/ / /_/ (__  ) /_/ /___(__  ) /_/ / / / / / / /_/ / /_/ /_/ / /    \n",
      "/_/    \\__,_/____/\\__/_____/____/\\__/_/_/ /_/ /_/\\__,_/\\__/\\____/_/     \n",
      "                                                                        \n",
      "\n",
      "FastEstimator-Warn: No ModelSaver Trace detected. Models will not be saved.\n",
      "FastEstimator-Start: step: 1; num_device: 0; logging_interval: 0; \n",
      "FastEstimator-Eval: step: 300; epoch: 1; ce: 0.15603326; \n",
      "FastEstimator-Eval: step: 600; epoch: 2; ce: 0.09531953; \n",
      "FastEstimator-Eval: step: 900; epoch: 3; ce: 0.06877253; \n",
      "FastEstimator-Eval: step: 1200; epoch: 4; ce: 0.05356282; \n",
      "FastEstimator-Finish: step: 1200; total_time: 36.81 sec; LeNet_lr: 0.001; \n"
     ]
    }
   ],
   "source": [
    "est = get_estimator(max_train_steps_per_epoch=300, epochs=4, log_steps=0)\n",
    "est.fit()"
   ]
  },
  {
   "cell_type": "markdown",
   "metadata": {},
   "source": [
    "<a id='t07intermediate'></a>"
   ]
  },
  {
   "cell_type": "markdown",
   "metadata": {},
   "source": [
    "### Monitor intermediate results\n",
    "You might have noticed that in our example `Network` there is an op: `CrossEntropy(inputs=(\"y_pred\", \"y\") outputs=\"ce1\")`. However, the `ce1` never shows up in the training log above. This is because FastEstimator identifies and filters out unused variables to reduce unnecessary communication between the GPU and CPU. On the contrary, `ce` shows up in the log because by default we log all loss values that are used to update models.\n",
    "\n",
    "But what if we want to see the value of `ce1` throughout training?\n",
    "\n",
    "Easy: just add `ce1` to `monitor_names` in `Estimator`."
   ]
  },
  {
   "cell_type": "code",
   "execution_count": 5,
   "metadata": {},
   "outputs": [
    {
     "name": "stdout",
     "output_type": "stream",
     "text": [
      "    ______           __  ______     __  _                 __            \n",
      "   / ____/___ ______/ /_/ ____/____/ /_(_)___ ___  ____ _/ /_____  _____\n",
      "  / /_  / __ `/ ___/ __/ __/ / ___/ __/ / __ `__ \\/ __ `/ __/ __ \\/ ___/\n",
      " / __/ / /_/ (__  ) /_/ /___(__  ) /_/ / / / / / / /_/ / /_/ /_/ / /    \n",
      "/_/    \\__,_/____/\\__/_____/____/\\__/_/_/ /_/ /_/\\__,_/\\__/\\____/_/     \n",
      "                                                                        \n",
      "\n",
      "FastEstimator-Warn: No ModelSaver Trace detected. Models will not be saved.\n",
      "FastEstimator-Start: step: 1; num_device: 0; logging_interval: 150; \n",
      "FastEstimator-Train: step: 1; ce1: 2.30421; ce: 2.30421; \n",
      "FastEstimator-Train: step: 150; ce1: 0.35948867; ce: 0.35948867; steps/sec: 38.23; \n",
      "FastEstimator-Train: step: 300; ce1: 0.16791707; ce: 0.16791707; steps/sec: 40.98; \n",
      "FastEstimator-Train: step: 300; epoch: 1; epoch_time: 7.64 sec; \n",
      "FastEstimator-Eval: step: 300; epoch: 1; ce1: 0.2302698; ce: 0.2302698; \n",
      "FastEstimator-Train: step: 450; ce1: 0.14853987; ce: 0.14853987; steps/sec: 38.23; \n",
      "FastEstimator-Train: step: 600; ce1: 0.49784163; ce: 0.49784163; steps/sec: 40.68; \n",
      "FastEstimator-Train: step: 600; epoch: 2; epoch_time: 7.61 sec; \n",
      "FastEstimator-Eval: step: 600; epoch: 2; ce1: 0.12643811; ce: 0.12643811; \n",
      "FastEstimator-Train: step: 750; ce1: 0.18601; ce: 0.18601; steps/sec: 37.24; \n",
      "FastEstimator-Train: step: 900; ce1: 0.12327108; ce: 0.12327108; steps/sec: 40.5; \n",
      "FastEstimator-Train: step: 900; epoch: 3; epoch_time: 7.73 sec; \n",
      "FastEstimator-Eval: step: 900; epoch: 3; ce1: 0.069144465; ce: 0.069144465; \n",
      "FastEstimator-Train: step: 1050; ce1: 0.1580712; ce: 0.1580712; steps/sec: 37.91; \n",
      "FastEstimator-Train: step: 1200; ce1: 0.20800333; ce: 0.20800333; steps/sec: 40.61; \n",
      "FastEstimator-Train: step: 1200; epoch: 4; epoch_time: 7.65 sec; \n",
      "FastEstimator-Eval: step: 1200; epoch: 4; ce1: 0.06323946; ce: 0.06323946; \n",
      "FastEstimator-Finish: step: 1200; total_time: 37.49 sec; LeNet_lr: 0.001; \n"
     ]
    }
   ],
   "source": [
    "est = get_estimator(max_train_steps_per_epoch=300, epochs=4, log_steps=150, monitor_names=\"ce1\")\n",
    "est.fit()"
   ]
  },
  {
   "cell_type": "markdown",
   "metadata": {},
   "source": [
    "As we can see, both `ce` and `ce1` showed up in the log above. Unsurprisingly, their values are identical because because they have the same inputs and forward function."
   ]
  },
  {
   "cell_type": "markdown",
   "metadata": {},
   "source": [
    "<a id='t07trace'></a>"
   ]
  },
  {
   "cell_type": "markdown",
   "metadata": {},
   "source": [
    "## Trace"
   ]
  },
  {
   "cell_type": "markdown",
   "metadata": {},
   "source": [
    "<a id='t07concept'></a>"
   ]
  },
  {
   "cell_type": "markdown",
   "metadata": {},
   "source": [
    "### Concept\n",
    "Now you might be thinking: 'changing logging behavior and monitoring extra keys is cool, but where is the fine-grained access to the training loop?' \n",
    "\n",
    "The answer is `Trace`. `Trace` is a module that can offer you access to different training stages and allow you \"do stuff\" with them. Here are some examples of what a `Trace` can do:\n",
    "\n",
    "* print any training data at any training step\n",
    "* write results to a file during training\n",
    "* change learning rate based on some loss conditions\n",
    "* calculate any metrics \n",
    "* order you a pizza after training ends\n",
    "* ...\n",
    "\n",
    "So what are the different training stages? They are:\n",
    "\n",
    "* Beginning of training\n",
    "* Beginning of epoch\n",
    "* Beginning of batch\n",
    "* End of batch\n",
    "* End of epoch\n",
    "* End of training\n",
    "\n",
    "<img src=\"../resources/t07_trace_concept.png\" alt=\"drawing\" width=\"500\"/>\n",
    "\n",
    "As we can see from the illustration above, the training process is essentially a nested combination of batch loops and epoch loops. Over the course of training, `Trace` places 6 different \"road blocks\" for you to leverage."
   ]
  },
  {
   "cell_type": "markdown",
   "metadata": {},
   "source": [
    "<a id='t07structure'></a>"
   ]
  },
  {
   "cell_type": "markdown",
   "metadata": {},
   "source": [
    "### Structure\n",
    "If you are familiar with Keras, you will notice that the structure of `Trace` is very similar to the `Callback` in keras.  Despite the structural similarity, `Trace` gives you a lot more flexibility which we will talk about in depth in [advanced tutorial 4](../advanced/t04_trace.ipynb). Implementation-wise, `Trace` is a python class with the following structure:"
   ]
  },
  {
   "cell_type": "code",
   "execution_count": 6,
   "metadata": {},
   "outputs": [],
   "source": [
    "class Trace:\n",
    "    def __init__(self, inputs=None, outputs=None, mode=None):\n",
    "        self.inputs = inputs\n",
    "        self.outputs = outputs\n",
    "        self.mode = mode\n",
    "\n",
    "    def on_begin(self, data):\n",
    "        \"\"\"Runs once at the beginning of training\"\"\"\n",
    "\n",
    "    def on_epoch_begin(self, data):\n",
    "        \"\"\"Runs at the beginning of each epoch\"\"\"\n",
    "\n",
    "    def on_batch_begin(self, data):\n",
    "        \"\"\"Runs at the beginning of each batch\"\"\"\n",
    "\n",
    "    def on_batch_end(self, data):\n",
    "        \"\"\"Runs at the end of each batch\"\"\"\n",
    "\n",
    "    def on_epoch_end(self, data):\n",
    "        \"\"\"Runs at the end of each epoch\"\"\"\n",
    "\n",
    "    def on_end(self, data):\n",
    "        \"\"\"Runs once at the end training\"\"\""
   ]
  },
  {
   "cell_type": "markdown",
   "metadata": {},
   "source": [
    "Given the structure, users can customize their own functions at different stages and insert them into the training loop. We will leave the customization of `Traces` to the advanced tutorial. For now, let's use some pre-built `Traces` from FastEstimator.\n",
    "\n",
    "During the training loop in our earlier example, we want 2 things to happen:\n",
    "1. Save the model weights if the evaluation loss is the best we have seen so far\n",
    "2. Calculate the model accuracy during evaluation"
   ]
  },
  {
   "cell_type": "markdown",
   "metadata": {},
   "source": [
    "<a id='t07usage'></a>"
   ]
  },
  {
   "cell_type": "code",
   "execution_count": 7,
   "metadata": {},
   "outputs": [
    {
     "name": "stdout",
     "output_type": "stream",
     "text": [
      "    ______           __  ______     __  _                 __            \n",
      "   / ____/___ ______/ /_/ ____/____/ /_(_)___ ___  ____ _/ /_____  _____\n",
      "  / /_  / __ `/ ___/ __/ __/ / ___/ __/ / __ `__ \\/ __ `/ __/ __ \\/ ___/\n",
      " / __/ / /_/ (__  ) /_/ /___(__  ) /_/ / / / / / / /_/ / /_/ /_/ / /    \n",
      "/_/    \\__,_/____/\\__/_____/____/\\__/_/_/ /_/ /_/\\__,_/\\__/\\____/_/     \n",
      "                                                                        \n",
      "\n",
      "FastEstimator-Start: step: 1; num_device: 0; logging_interval: 100; \n",
      "FastEstimator-Train: step: 1; ce: 2.317368; \n",
      "FastEstimator-Train: step: 100; ce: 0.32270017; steps/sec: 38.37; \n",
      "FastEstimator-Train: step: 200; ce: 0.4691573; steps/sec: 41.07; \n",
      "FastEstimator-Train: step: 300; ce: 0.16797979; steps/sec: 41.48; \n",
      "FastEstimator-Train: step: 400; ce: 0.22231343; steps/sec: 40.29; \n",
      "FastEstimator-Train: step: 500; ce: 0.15864769; steps/sec: 40.23; \n",
      "FastEstimator-Train: step: 600; ce: 0.21094382; steps/sec: 40.3; \n",
      "FastEstimator-Train: step: 700; ce: 0.2174505; steps/sec: 39.09; \n",
      "FastEstimator-Train: step: 800; ce: 0.1638605; steps/sec: 37.76; \n",
      "FastEstimator-Train: step: 900; ce: 0.10876638; steps/sec: 38.04; \n",
      "FastEstimator-Train: step: 1000; ce: 0.045762353; steps/sec: 37.84; \n",
      "FastEstimator-Train: step: 1100; ce: 0.1986717; steps/sec: 37.9; \n",
      "FastEstimator-Train: step: 1200; ce: 0.019097174; steps/sec: 38.52; \n",
      "FastEstimator-Train: step: 1300; ce: 0.014496669; steps/sec: 38.07; \n",
      "FastEstimator-Train: step: 1400; ce: 0.12824036; steps/sec: 37.98; \n",
      "FastEstimator-Train: step: 1500; ce: 0.12543677; steps/sec: 37.89; \n",
      "FastEstimator-Train: step: 1600; ce: 0.054099947; steps/sec: 38.18; \n",
      "FastEstimator-Train: step: 1700; ce: 0.03653385; steps/sec: 38.03; \n",
      "FastEstimator-Train: step: 1800; ce: 0.021161698; steps/sec: 38.84; \n",
      "FastEstimator-Train: step: 1875; epoch: 1; epoch_time: 48.39 sec; \n",
      "FastEstimator-BestModelSaver: Saved model to /var/folders/lx/drkxftt117gblvgsp1p39rlc0000gn/T/tmpe3yqgszs/LeNet_best_accuracy.pt\n",
      "FastEstimator-Eval: step: 1875; epoch: 1; ce: 0.048291177; accuracy: 0.9846; since_best_accuracy: 0; max_accuracy: 0.9846; \n",
      "FastEstimator-Train: step: 1900; ce: 0.05266206; steps/sec: 35.05; \n",
      "FastEstimator-Train: step: 2000; ce: 0.010248414; steps/sec: 39.34; \n",
      "FastEstimator-Train: step: 2100; ce: 0.100841954; steps/sec: 40.43; \n",
      "FastEstimator-Train: step: 2200; ce: 0.099233195; steps/sec: 40.17; \n",
      "FastEstimator-Train: step: 2300; ce: 0.014007135; steps/sec: 39.87; \n",
      "FastEstimator-Train: step: 2400; ce: 0.100575976; steps/sec: 40.11; \n",
      "FastEstimator-Train: step: 2500; ce: 0.014702196; steps/sec: 39.65; \n",
      "FastEstimator-Train: step: 2600; ce: 0.017802792; steps/sec: 38.99; \n",
      "FastEstimator-Train: step: 2700; ce: 0.07476275; steps/sec: 39.37; \n",
      "FastEstimator-Train: step: 2800; ce: 0.0125279; steps/sec: 39.71; \n",
      "FastEstimator-Train: step: 2900; ce: 0.02689986; steps/sec: 39.72; \n",
      "FastEstimator-Train: step: 3000; ce: 0.00028639697; steps/sec: 38.95; \n",
      "FastEstimator-Train: step: 3100; ce: 0.02897156; steps/sec: 37.94; \n",
      "FastEstimator-Train: step: 3200; ce: 0.13989474; steps/sec: 38.29; \n",
      "FastEstimator-Train: step: 3300; ce: 0.0010959036; steps/sec: 38.47; \n",
      "FastEstimator-Train: step: 3400; ce: 0.014437494; steps/sec: 38.27; \n",
      "FastEstimator-Train: step: 3500; ce: 0.13830313; steps/sec: 38.12; \n",
      "FastEstimator-Train: step: 3600; ce: 0.0012470288; steps/sec: 38.18; \n",
      "FastEstimator-Train: step: 3700; ce: 0.004030655; steps/sec: 38.39; \n",
      "FastEstimator-Train: step: 3750; epoch: 2; epoch_time: 48.25 sec; \n",
      "FastEstimator-BestModelSaver: Saved model to /var/folders/lx/drkxftt117gblvgsp1p39rlc0000gn/T/tmpe3yqgszs/LeNet_best_accuracy.pt\n",
      "FastEstimator-Eval: step: 3750; epoch: 2; ce: 0.046231214; accuracy: 0.9854; since_best_accuracy: 0; max_accuracy: 0.9854; \n",
      "FastEstimator-Finish: step: 3750; total_time: 100.12 sec; LeNet_lr: 0.001; \n"
     ]
    }
   ],
   "source": [
    "from fastestimator.trace.io import BestModelSaver\n",
    "from fastestimator.trace.metric import Accuracy\n",
    "\n",
    "est = get_estimator(use_trace=True)\n",
    "est.fit()"
   ]
  },
  {
   "cell_type": "markdown",
   "metadata": {},
   "source": [
    "As we can see from the log, the model is saved in a predefined location and the accuracy is displayed during evaluation."
   ]
  },
  {
   "cell_type": "markdown",
   "metadata": {},
   "source": [
    "<a id='t07testing'></a>"
   ]
  },
  {
   "cell_type": "markdown",
   "metadata": {},
   "source": [
    "## Model Testing\n",
    "\n",
    "Sometimes you have a separate testing dataset other than training and evaluation data. If you want to evalate the model metrics on test data, you can simply call: "
   ]
  },
  {
   "cell_type": "code",
   "execution_count": 8,
   "metadata": {},
   "outputs": [
    {
     "name": "stdout",
     "output_type": "stream",
     "text": [
      "FastEstimator-Test: step: 3750; epoch: 2; accuracy: 0.9844; \n"
     ]
    }
   ],
   "source": [
    "est.test()"
   ]
  },
  {
   "cell_type": "markdown",
   "metadata": {},
   "source": [
    "This will feed all of your test dataset through the `Pipeline` and `Network`, and finally execute the traces (in our case, compute accuracy) just like during the training."
   ]
  },
  {
   "cell_type": "markdown",
   "metadata": {},
   "source": [
    "<a id='t07apphub'></a>"
   ]
  },
  {
   "cell_type": "markdown",
   "metadata": {},
   "source": [
    "## Apphub Examples\n",
    "You can find some practical examples of the concepts described here in the following FastEstimator Apphubs:\n",
    "\n",
    "* [UNet](../../apphub/semantic_segmentation/unet/unet.ipynb)"
   ]
  }
 ],
 "metadata": {
  "kernelspec": {
   "display_name": "Python 3",
   "language": "python",
   "name": "python3"
  },
  "language_info": {
   "codemirror_mode": {
    "name": "ipython",
    "version": 3
   },
   "file_extension": ".py",
   "mimetype": "text/x-python",
   "name": "python",
   "nbconvert_exporter": "python",
   "pygments_lexer": "ipython3",
   "version": "3.7.6"
  }
 },
 "nbformat": 4,
 "nbformat_minor": 4
}
