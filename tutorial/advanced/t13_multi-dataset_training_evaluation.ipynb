{
 "cells": [
  {
   "cell_type": "markdown",
   "metadata": {},
   "source": [
    "# Advanced Tutorial 13: Multi-Dataset Training and Evaluation\n",
    "\n",
    "## Overview\n",
    "In this tutorial, we will discuss the following topics:\n",
    "\n",
    "* [Multi-Dataset Concept and API](#ta13multidsapi)\n",
    "    * [Adding multiple datasets to a pipeline](#ta13multidspipe)\n",
    "    * [Dataset-specific Ops](#ta13dsspecificops)\n",
    "    * [Dataset-specific Traces](#ta13dsspecifictrace)\n",
    "    * [Specifying multiple datasets in Ops or Traces](#ta13multidsoptrace)\n",
    "* [Multi-dataset Example](#ta13example)"
   ]
  },
  {
   "cell_type": "markdown",
   "metadata": {},
   "source": [
    "<a id='ta13multidsapi'></a>"
   ]
  },
  {
   "cell_type": "markdown",
   "metadata": {},
   "source": [
    "## Multi-Dataset Concept and API\n",
    "When you are training a deep learning model, you may sometimes want to train/evaluate on multiple datasets. For example, we might be interested in knowing evaluation metrics separately for two datasets. In this section we show how to do that conveniently in FastEstimator. "
   ]
  },
  {
   "cell_type": "markdown",
   "metadata": {},
   "source": [
    "<a id='ta13multidspipe'></a>"
   ]
  },
  {
   "cell_type": "markdown",
   "metadata": {},
   "source": [
    "### Adding multiple datasets to a Pipeline\n",
    "If you have multiple datasets, then in `Pipeline` you can simply provide a dictionary to the `train_data`, `eval_data`, and/or `test_data` arguments, with keys being the names of the datasets and values being the data instances.\n",
    "\n",
    "For example:\n",
    "```python\n",
    "pipeline = fe.Pipeline(eval_data={\"ds1\": eval_data1, \"ds2\": eval_data2}, ...)\n",
    "```\n",
    "\n",
    "In the above example, `ds1` and `ds2` are the names of those datasets. These can be any other arbitrary names."
   ]
  },
  {
   "cell_type": "markdown",
   "metadata": {},
   "source": [
    "<a id='ta13dsspecificops'></a>"
   ]
  },
  {
   "cell_type": "markdown",
   "metadata": {},
   "source": [
    "### Dataset-specific Ops\n",
    "Sometimes different datasets might require specific NumpyOps or TensorOps. For example, when we train a gray-scale model and have both gray-scale and colored evaluation sets, we only need to apply the gray-scale conversion to the colored dataset.\n",
    "\n",
    "In FastEstimator, To indicate that an Op is only applied for a specific dataset (say `ds1`), one only needs to do:\n",
    "```python\n",
    "Op(..., ds_id=\"ds1\") # run the op on ds1\n",
    "```\n",
    "\n",
    "`ds_id` works similarly to the `mode` argument in Ops. The operator will only execute if `ds_id` matches the specific dataset. If `ds_id` is None (default), then it will execute on all datasets.\n",
    "\n",
    "The `ds_id` argument works in conjunction with `mode`. For example, `Op(mode=\"train\", ds_id=\"myds1\")` would only run during training for dataset named \"myds1\"."
   ]
  },
  {
   "cell_type": "markdown",
   "metadata": {},
   "source": [
    "<a id='ta13dsspecifictrace'></a>"
   ]
  },
  {
   "cell_type": "markdown",
   "metadata": {},
   "source": [
    "### Dataset-specific Traces\n",
    "\n",
    "To only execute a Trace for a specific dataset, simply pass:\n",
    "```python\n",
    "Trace(..., ds_id=\"ds1\") # run the trace on ds1\n",
    "```\n",
    "\n",
    "When using multiple datasets, the built-in FastEstimator metric traces will automatically report their outputs for each dataset individually, as well as the overall metric aggregated over all datasets. We will demonstrate this behavior in detail in the example section."
   ]
  },
  {
   "cell_type": "markdown",
   "metadata": {},
   "source": [
    "<a id='ta13multidsoptrace'></a>"
   ]
  },
  {
   "cell_type": "markdown",
   "metadata": {},
   "source": [
    "### Specifying multiple datasets in Ops or Traces\n",
    "When an Op or Trace needs to execute on multiple datasets, simply provide a list, tuple, or set of dataset names to the `ds_id` argument. \n",
    "\n",
    "For example:\n",
    "```python\n",
    "Op(..., ds_id=[\"ds1\", \"ds2\"])  # run on both ds1 and ds2\n",
    "```\n",
    "\n",
    "When there are many datasets such that listing every name becomes undesirable, you can use `!` in front of the dataset name to indicate `all except`. \n",
    "\n",
    "For example:\n",
    "```python\n",
    "Op(..., ds_id=[\"!ds1\", \"!ds2\"])  # run on all datasets except ds1 and ds2\n",
    "```\n"
   ]
  },
  {
   "cell_type": "markdown",
   "metadata": {},
   "source": [
    "<a id='ta13example'></a>"
   ]
  },
  {
   "cell_type": "markdown",
   "metadata": {},
   "source": [
    "## Multi-dataset Example\n",
    "\n",
    "In this example, we will train on the MNIST dataset but evaluate on both the MNIST test set and the SVHN-Cropped test set. Here are the dataset-specific items we will do in this example:\n",
    "* Resize images in the SVHN-Cropped dataset from 32x32 to 28x28 to match the MNIST data\n",
    "* Convert the SVHN-Cropped dataseet to gray-scale\n",
    "* Measure dataset-specific Accuracy as well as combined Accuracy\n",
    "* Customize an AUC metric that works on a per-dataset level\n",
    "* Save the best model based on evaluation AUC of a specific dataset"
   ]
  },
  {
   "cell_type": "markdown",
   "metadata": {},
   "source": [
    "### Prepare Dataset"
   ]
  },
  {
   "cell_type": "code",
   "execution_count": 1,
   "metadata": {},
   "outputs": [
    {
     "name": "stdout",
     "output_type": "stream",
     "text": [
      "mnist evaluation dataset summary:\n",
      "{\"num_instances\": 10000, \"keys\": {\"x\": {\"shape\": [28, 28], \"dtype\": \"uint8\"}, \"y\": {\"num_unique_values\": 10, \"shape\": [], \"dtype\": \"uint8\"}}}\n",
      "svhn_cropped evaluation dataset summary:\n",
      "{\"num_instances\": 26032, \"keys\": {\"x\": {\"shape\": [32, 32, 3], \"dtype\": \"uint8\"}, \"y\": {\"shape\": [1], \"dtype\": \"uint8\"}}}\n"
     ]
    }
   ],
   "source": [
    "from fastestimator.dataset.data import mnist, svhn_cropped\n",
    "\n",
    "train_mnist, eval_mnist = mnist.load_data()\n",
    "_, eval_svhn = svhn_cropped.load_data()\n",
    "print(\"mnist evaluation dataset summary:\")\n",
    "print(eval_mnist.summary())\n",
    "\n",
    "print(\"svhn_cropped evaluation dataset summary:\")\n",
    "print(eval_svhn.summary())"
   ]
  },
  {
   "cell_type": "markdown",
   "metadata": {},
   "source": [
    "### Preprocessing"
   ]
  },
  {
   "cell_type": "code",
   "execution_count": 2,
   "metadata": {},
   "outputs": [],
   "source": [
    "import fastestimator as fe\n",
    "from fastestimator.op.numpyop.univariate import ExpandDims, Minmax, ToGray\n",
    "from fastestimator.op.numpyop.multivariate import Resize\n",
    "from fastestimator.op.numpyop import LambdaOp\n",
    "\n",
    "pipeline = fe.Pipeline(train_data={\"mnist\": train_mnist}, \n",
    "                       eval_data={\"mnist\": eval_mnist, \"svhn\": eval_svhn},\n",
    "                       batch_size=32,\n",
    "                       ops= [\n",
    "                             Resize(image_in=\"x\", image_out=\"x\", height=28, width=28, ds_id=\"svhn\"),\n",
    "                             ToGray(inputs=\"x\", outputs=\"x\", ds_id=\"svhn\"), # after ToGray, the output is still 3 channel\n",
    "                             LambdaOp(fn=lambda x: x[..., 0:1], inputs=\"x\", outputs=\"x\", ds_id=\"svhn\"), # select the first channel for svhn\n",
    "                             ExpandDims(inputs=\"x\", outputs=\"x\", ds_id=\"mnist\"), # (28, 28) -> (28, 28, 1) for mnist\n",
    "                             Minmax(inputs=\"x\", outputs=\"x\")])"
   ]
  },
  {
   "cell_type": "markdown",
   "metadata": {},
   "source": [
    "### Visualize MNIST preprocessing results"
   ]
  },
  {
   "cell_type": "code",
   "execution_count": 3,
   "metadata": {},
   "outputs": [
    {
     "data": {
      "image/png": "[encoded data removed]",
      "text/plain": [
       "<Figure size 450x440 with 4 Axes>"
      ]
     },
     "metadata": {
      "needs_background": "light"
     },
     "output_type": "display_data"
    }
   ],
   "source": [
    "mnist_eval_data = pipeline.get_results(mode=\"eval\", ds_id=\"mnist\")\n",
    "img = fe.util.ImgData(image=mnist_eval_data[\"x\"][:2].numpy(), label=mnist_eval_data[\"y\"][:2].numpy())\n",
    "fig = img.paint_figure()"
   ]
  },
  {
   "cell_type": "markdown",
   "metadata": {},
   "source": [
    "### Visualize SVHN_cropped preprocessing results"
   ]
  },
  {
   "cell_type": "code",
   "execution_count": 4,
   "metadata": {},
   "outputs": [
    {
     "data": {
      "image/png": "[encoded data removed]",
      "text/plain": [
       "<Figure size 450x440 with 4 Axes>"
      ]
     },
     "metadata": {
      "needs_background": "light"
     },
     "output_type": "display_data"
    }
   ],
   "source": [
    "svhn_eval_data = pipeline.get_results(mode=\"eval\", ds_id=\"svhn\")\n",
    "img = fe.util.ImgData(image=svhn_eval_data[\"x\"][:2].numpy(), label=svhn_eval_data[\"y\"][:2].numpy())\n",
    "fig = img.paint_figure()"
   ]
  },
  {
   "cell_type": "markdown",
   "metadata": {},
   "source": [
    "### Define Model and Networks"
   ]
  },
  {
   "cell_type": "code",
   "execution_count": 5,
   "metadata": {},
   "outputs": [],
   "source": [
    "from fastestimator.architecture.tensorflow import LeNet\n",
    "from fastestimator.op.tensorop.loss import CrossEntropy\n",
    "from fastestimator.op.tensorop.model import ModelOp, UpdateOp\n",
    "\n",
    "model = fe.build(model_fn=LeNet, optimizer_fn=\"adam\")\n",
    "network = fe.Network(ops=[\n",
    "        ModelOp(model=model, inputs=\"x\", outputs=\"y_pred\"),\n",
    "        CrossEntropy(inputs=(\"y_pred\", \"y\"), outputs=\"ce\"),\n",
    "        UpdateOp(model=model, loss_name=\"ce\")\n",
    "    ])"
   ]
  },
  {
   "cell_type": "markdown",
   "metadata": {},
   "source": [
    "### Start Training with Only Accuracy Trace"
   ]
  },
  {
   "cell_type": "code",
   "execution_count": 6,
   "metadata": {},
   "outputs": [
    {
     "name": "stdout",
     "output_type": "stream",
     "text": [
      "    ______           __  ______     __  _                 __            \n",
      "   / ____/___ ______/ /_/ ____/____/ /_(_)___ ___  ____ _/ /_____  _____\n",
      "  / /_  / __ `/ ___/ __/ __/ / ___/ __/ / __ `__ \\/ __ `/ __/ __ \\/ ___/\n",
      " / __/ / /_/ (__  ) /_/ /___(__  ) /_/ / / / / / / /_/ / /_/ /_/ / /    \n",
      "/_/    \\__,_/____/\\__/_____/____/\\__/_/_/ /_/ /_/\\__,_/\\__/\\____/_/     \n",
      "                                                                        \n",
      "\n",
      "FastEstimator-Warn: No ModelSaver Trace detected. Models will not be saved.\n",
      "FastEstimator-Start: step: 1; logging_interval: 100; num_device: 0;\n",
      "FastEstimator-Train: step: 1; ce: 2.3098626;\n",
      "FastEstimator-Train: step: 100; ce: 0.36128625; steps/sec: 67.33;\n",
      "FastEstimator-Train: step: 200; ce: 0.119157925; steps/sec: 66.83;\n",
      "FastEstimator-Train: step: 200; epoch: 1; epoch_time: 4.57 sec;\n",
      "FastEstimator-Eval: step: 200; epoch: 1; accuracy: 0.8371170071047958; accuracy|mnist: 0.9494; accuracy|svhn: 0.7939843269821758; ce: 0.52921724;\n",
      "FastEstimator-Train: step: 300; ce: 0.01643242; steps/sec: 50.16;\n",
      "FastEstimator-Train: step: 400; ce: 0.0075327735; steps/sec: 62.38;\n",
      "FastEstimator-Train: step: 400; epoch: 2; epoch_time: 3.61 sec;\n",
      "FastEstimator-Eval: step: 400; epoch: 2; accuracy: 0.9044738010657194; accuracy|mnist: 0.9815; accuracy|svhn: 0.8748847572218807; ce: 0.3236251;\n",
      "FastEstimator-Train: step: 500; ce: 0.03002201; steps/sec: 52.96;\n",
      "FastEstimator-Train: step: 600; ce: 0.00928997; steps/sec: 65.42;\n",
      "FastEstimator-Train: step: 600; epoch: 3; epoch_time: 3.41 sec;\n",
      "FastEstimator-Eval: step: 600; epoch: 3; accuracy: 0.9251221136767318; accuracy|mnist: 0.985; accuracy|svhn: 0.902120467117394; ce: 0.25433487;\n",
      "FastEstimator-Train: step: 700; ce: 0.2265201; steps/sec: 45.09;\n",
      "FastEstimator-Train: step: 800; ce: 0.02912334; steps/sec: 52.39;\n",
      "FastEstimator-Train: step: 800; epoch: 4; epoch_time: 4.16 sec;\n",
      "FastEstimator-Eval: step: 800; epoch: 4; accuracy: 0.9401920515097691; accuracy|mnist: 0.9912; accuracy|svhn: 0.9205977258758451; ce: 0.20756985;\n",
      "FastEstimator-Finish: step: 800; model_lr: 0.001; total_time: 96.3 sec;\n"
     ]
    }
   ],
   "source": [
    "from fastestimator.trace.io import BestModelSaver\n",
    "from fastestimator.trace.metric import Accuracy\n",
    "\n",
    "\n",
    "estimator = fe.Estimator(pipeline=pipeline,\n",
    "                         network=network,\n",
    "                         epochs=4,\n",
    "                         traces=Accuracy(true_key=\"y\", pred_key=\"y_pred\"),\n",
    "                         train_steps_per_epoch=200)\n",
    "\n",
    "estimator.fit()"
   ]
  },
  {
   "cell_type": "markdown",
   "metadata": {},
   "source": [
    "As you can see in the training log, the `Accuracy` Trace created 3 keys: `accuracy|mnist`, `accuracy|svhn`, and `accuracy`. The `accuracy|mnist` and `accuracy|svhn` are measured on individual datasets, and `accuracy` is measured on the overall combined evaluation set."
   ]
  },
  {
   "cell_type": "markdown",
   "metadata": {},
   "source": [
    "### Customize an AUC metric that works for every dataset, then save model based on AUC of a specific dataset\n",
    "\n",
    "Since this is a 10-class classification task, to simplify AUC calculation, we will count any label < 5 as 0 and the rest of labels as 1.  When a trace is initializing the data during `on_epoch_begin` and outputting the data during `on_epoch_end`, we only need a `per_ds` decorator to enable multi-dataset support as shown below."
   ]
  },
  {
   "cell_type": "code",
   "execution_count": 7,
   "metadata": {},
   "outputs": [],
   "source": [
    "from fastestimator.trace.meta.per_ds import per_ds\n",
    "from sklearn import metrics\n",
    "import numpy as np\n",
    "\n",
    "\n",
    "@per_ds  # Without this annotation the trace would only compute the aggregate metric\n",
    "class AUC(fe.trace.Trace):\n",
    "    def on_epoch_begin(self, data):\n",
    "        self.y_true = []\n",
    "        self.y_pred = []\n",
    "\n",
    "    def on_batch_end(self, data):\n",
    "        y_pred, y_true = np.argmax(data[\"y_pred\"].numpy(), axis=-1), data[\"y\"].numpy()\n",
    "        y_pred, y_true = np.where(y_pred < 5, 0, 1), np.where(y_true < 5, 0, 1)\n",
    "        self.y_pred.extend(y_pred.ravel())\n",
    "        self.y_true.extend(y_true.ravel())\n",
    "\n",
    "    def on_epoch_end(self, data):\n",
    "        fpr, tpr, _ = metrics.roc_curve(self.y_true, self.y_pred)\n",
    "        auc = metrics.auc(fpr, tpr)\n",
    "        data.write_with_log(\"auc\", auc)"
   ]
  },
  {
   "cell_type": "code",
   "execution_count": 8,
   "metadata": {},
   "outputs": [
    {
     "name": "stdout",
     "output_type": "stream",
     "text": [
      "    ______           __  ______     __  _                 __            \n",
      "   / ____/___ ______/ /_/ ____/____/ /_(_)___ ___  ____ _/ /_____  _____\n",
      "  / /_  / __ `/ ___/ __/ __/ / ___/ __/ / __ `__ \\/ __ `/ __/ __ \\/ ___/\n",
      " / __/ / /_/ (__  ) /_/ /___(__  ) /_/ / / / / / / /_/ / /_/ /_/ / /    \n",
      "/_/    \\__,_/____/\\__/_____/____/\\__/_/_/ /_/ /_/\\__,_/\\__/\\____/_/     \n",
      "                                                                        \n",
      "\n",
      "FastEstimator-Start: step: 1; logging_interval: 100; num_device: 0;\n",
      "FastEstimator-Train: step: 1; ce: 0.17271854;\n",
      "FastEstimator-Train: step: 100; ce: 0.012849649; steps/sec: 55.68;\n",
      "FastEstimator-Train: step: 200; ce: 0.001781; steps/sec: 55.39;\n",
      "FastEstimator-Train: step: 200; epoch: 1; epoch_time: 4.0 sec;\n",
      "FastEstimator-BestModelSaver: Saved model to /var/folders/3r/h9kh47050gv6rbt_pgf8cl540000gn/T/tmpqpqftot6/model_best_auc|svhn.h5\n",
      "FastEstimator-Eval: step: 200; epoch: 1; accuracy: 0.9495448490230906; accuracy|mnist: 0.9907; accuracy|svhn: 0.9337354025814383; auc: 0.97100880829143; auc|mnist: 0.993697909492372; auc|svhn: 0.96092791538341; ce: 0.17390485; max_auc|svhn: 0.96092791538341; since_best_auc|svhn: 0;\n",
      "FastEstimator-Train: step: 300; ce: 0.015775977; steps/sec: 46.33;\n",
      "FastEstimator-Train: step: 400; ce: 0.1013475; steps/sec: 57.73;\n",
      "FastEstimator-Train: step: 400; epoch: 2; epoch_time: 3.88 sec;\n",
      "FastEstimator-BestModelSaver: Saved model to /var/folders/3r/h9kh47050gv6rbt_pgf8cl540000gn/T/tmpqpqftot6/model_best_auc|svhn.h5\n",
      "FastEstimator-Eval: step: 400; epoch: 2; accuracy: 0.958065053285968; accuracy|mnist: 0.9928; accuracy|svhn: 0.9447218807621389; auc: 0.9762344646389104; auc|mnist: 0.9956021611742419; auc|svhn: 0.9676505369066619; ce: 0.1464696; max_auc|svhn: 0.9676505369066619; since_best_auc|svhn: 0;\n",
      "FastEstimator-Train: step: 500; ce: 0.14847194; steps/sec: 46.45;\n",
      "FastEstimator-Train: step: 600; ce: 0.03848843; steps/sec: 56.19;\n",
      "FastEstimator-Train: step: 600; epoch: 3; epoch_time: 3.93 sec;\n",
      "FastEstimator-BestModelSaver: Saved model to /var/folders/3r/h9kh47050gv6rbt_pgf8cl540000gn/T/tmpqpqftot6/model_best_auc|svhn.h5\n",
      "FastEstimator-Eval: step: 600; epoch: 3; accuracy: 0.9654196269982238; accuracy|mnist: 0.9941; accuracy|svhn: 0.9544022741241549; auc: 0.9794562377611368; auc|mnist: 0.9958773538541525; auc|svhn: 0.9721909430759907; ce: 0.12157567; max_auc|svhn: 0.9721909430759907; since_best_auc|svhn: 0;\n",
      "FastEstimator-Train: step: 700; ce: 0.011654515; steps/sec: 46.76;\n",
      "FastEstimator-Train: step: 800; ce: 0.014448842; steps/sec: 57.59;\n",
      "FastEstimator-Train: step: 800; epoch: 4; epoch_time: 3.89 sec;\n",
      "FastEstimator-BestModelSaver: Saved model to /var/folders/3r/h9kh47050gv6rbt_pgf8cl540000gn/T/tmpqpqftot6/model_best_auc|svhn.h5\n",
      "FastEstimator-Eval: step: 800; epoch: 4; accuracy: 0.9713865452930728; accuracy|mnist: 0.9943; accuracy|svhn: 0.9625845113706207; auc: 0.9834427860818911; auc|mnist: 0.9959969062490255; auc|svhn: 0.9779040674691496; ce: 0.099736996; max_auc|svhn: 0.9779040674691496; since_best_auc|svhn: 0;\n",
      "FastEstimator-Finish: step: 800; model_lr: 0.001; total_time: 103.49 sec;\n"
     ]
    }
   ],
   "source": [
    "import tempfile\n",
    "from fastestimator.trace.io import BestModelSaver\n",
    "\n",
    "estimator = fe.Estimator(pipeline=pipeline,\n",
    "                         network=network,\n",
    "                         epochs=4,\n",
    "                         traces=[Accuracy(true_key=\"y\", pred_key=\"y_pred\"), \n",
    "                                 AUC(inputs=(\"y\", \"y_pred\"), outputs=\"auc\", mode=\"eval\"),\n",
    "                                 BestModelSaver(model=model, save_dir=tempfile.mkdtemp(), metric=\"auc|svhn\", save_best_mode=\"max\")],\n",
    "                         train_steps_per_epoch=200)\n",
    "\n",
    "estimator.fit()"
   ]
  },
  {
   "cell_type": "markdown",
   "metadata": {},
   "source": [
    "Now during evaluation we can see `auc|svhn`, `auc|mnist`, and `auc` printing in the log. Moreover, our model saving is based on the best evaluation auc on the svhn dataset."
   ]
  }
 ],
 "metadata": {
  "kernelspec": {
   "display_name": "Python 3",
   "language": "python",
   "name": "python3"
  },
  "language_info": {
   "codemirror_mode": {
    "name": "ipython",
    "version": 3
   },
   "file_extension": ".py",
   "mimetype": "text/x-python",
   "name": "python",
   "nbconvert_exporter": "python",
   "pygments_lexer": "ipython3",
   "version": "3.6.13"
  }
 },
 "nbformat": 4,
 "nbformat_minor": 4
}
