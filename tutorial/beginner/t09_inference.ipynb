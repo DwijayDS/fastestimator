{
 "cells": [
  {
   "cell_type": "markdown",
   "metadata": {},
   "source": [
    "# Tutorial 9: Inference\n",
    "## Overview\n",
    "In this tutorial we are going to cover:\n",
    "* [Running inference with the transform method](#t09inference)\n",
    "    * [Pipeline.transform](#t09pipeline)\n",
    "    * [Network.transform](#t09network)\n",
    "* [Related Apphub Examples](#t09apphub)"
   ]
  },
  {
   "cell_type": "markdown",
   "metadata": {},
   "source": [
    "<a id='t09inference'></a>"
   ]
  },
  {
   "cell_type": "markdown",
   "metadata": {},
   "source": [
    "## Running inference with transform method"
   ]
  },
  {
   "cell_type": "markdown",
   "metadata": {},
   "source": [
    "Running inference means using a trained deep learning model to get a prediction from some input data. Users can use `pipeline.transform` and `network.transform` to feed the data forward and get the computed result in any operation mode. Here we are going to use an end-to-end example (the same example code from [tutorial 8](t08_mode.ipynb)) on MNIST image classification to demonstrate how to run inference.  "
   ]
  },
  {
   "cell_type": "markdown",
   "metadata": {},
   "source": [
    "We first train a deep leaning model with the following code:"
   ]
  },
  {
   "cell_type": "code",
   "execution_count": 1,
   "metadata": {},
   "outputs": [
    {
     "name": "stdout",
     "output_type": "stream",
     "text": [
      "    ______           __  ______     __  _                 __            \n",
      "   / ____/___ ______/ /_/ ____/____/ /_(_)___ ___  ____ _/ /_____  _____\n",
      "  / /_  / __ `/ ___/ __/ __/ / ___/ __/ / __ `__ \\/ __ `/ __/ __ \\/ ___/\n",
      " / __/ / /_/ (__  ) /_/ /___(__  ) /_/ / / / / / / /_/ / /_/ /_/ / /    \n",
      "/_/    \\__,_/____/\\__/_____/____/\\__/_/_/ /_/ /_/\\__,_/\\__/\\____/_/     \n",
      "                                                                        \n",
      "\n",
      "FastEstimator-Warn: No ModelSaver Trace detected. Models will not be saved.\n",
      "FastEstimator-Start: step: 1; num_device: 0; logging_interval: 100; \n",
      "FastEstimator-Train: step: 1; ce: 2.3035316; \n",
      "FastEstimator-Train: step: 100; ce: 1.6618028; steps/sec: 146.74; \n",
      "FastEstimator-Train: step: 200; ce: 1.4808083; steps/sec: 151.68; \n",
      "FastEstimator-Train: step: 300; ce: 1.0872928; steps/sec: 150.25; \n",
      "FastEstimator-Train: step: 400; ce: 1.1683241; steps/sec: 144.47; \n",
      "FastEstimator-Train: step: 500; ce: 0.63509166; steps/sec: 142.96; \n",
      "FastEstimator-Train: step: 600; ce: 0.84414047; steps/sec: 137.78; \n",
      "FastEstimator-Train: step: 700; ce: 0.90303344; steps/sec: 141.27; \n",
      "FastEstimator-Train: step: 800; ce: 0.6876491; steps/sec: 130.39; \n",
      "FastEstimator-Train: step: 900; ce: 0.7615918; steps/sec: 134.94; \n",
      "FastEstimator-Train: step: 1000; ce: 0.7081696; steps/sec: 134.51; \n",
      "FastEstimator-Train: step: 1100; ce: 1.054371; steps/sec: 129.01; \n",
      "FastEstimator-Train: step: 1200; ce: 0.65663564; steps/sec: 125.8; \n",
      "FastEstimator-Train: step: 1300; ce: 0.80188024; steps/sec: 119.49; \n",
      "FastEstimator-Train: step: 1400; ce: 1.1256162; steps/sec: 115.14; \n",
      "FastEstimator-Train: step: 1500; ce: 1.4453554; steps/sec: 112.19; \n",
      "FastEstimator-Train: step: 1600; ce: 0.52970994; steps/sec: 106.5; \n",
      "FastEstimator-Train: step: 1700; ce: 0.48612577; steps/sec: 103.63; \n",
      "FastEstimator-Train: step: 1800; ce: 1.1535486; steps/sec: 106.13; \n",
      "FastEstimator-Train: step: 1875; epoch: 1; epoch_time: 17.0 sec; \n",
      "FastEstimator-Eval: step: 1875; epoch: 1; ce: 0.17459252; accuracy: 0.948; \n",
      "FastEstimator-Finish: step: 1875; total_time: 17.72 sec; model_lr: 0.001; \n"
     ]
    }
   ],
   "source": [
    "import fastestimator as fe\n",
    "from fastestimator.dataset.data import mnist\n",
    "from fastestimator.schedule import cosine_decay\n",
    "from fastestimator.trace.adapt import LRScheduler\n",
    "from fastestimator.trace.io import BestModelSaver\n",
    "from fastestimator.trace.metric import Accuracy\n",
    "from fastestimator.op.numpyop.univariate import ExpandDims, Minmax, CoarseDropout\n",
    "from fastestimator.op.tensorop.loss import CrossEntropy\n",
    "from fastestimator.op.tensorop.model import ModelOp, UpdateOp\n",
    "from fastestimator.architecture.tensorflow import LeNet\n",
    "\n",
    "\n",
    "train_data, eval_data = mnist.load_data()\n",
    "test_data = eval_data.split(0.5)\n",
    "model = fe.build(model_fn=LeNet, optimizer_fn=\"adam\")\n",
    "\n",
    "pipeline = fe.Pipeline(train_data=train_data,\n",
    "                       eval_data=eval_data,\n",
    "                       test_data=test_data,\n",
    "                       batch_size=32,\n",
    "                       ops=[ExpandDims(inputs=\"x\", outputs=\"x\"), #default mode=None\n",
    "                            Minmax(inputs=\"x\", outputs=\"x_out\", mode=None),  \n",
    "                            CoarseDropout(inputs=\"x_out\", outputs=\"x_out\", mode=\"train\")])\n",
    "\n",
    "network = fe.Network(ops=[ModelOp(model=model, inputs=\"x_out\", outputs=\"y_pred\"), #default mode=None\n",
    "                          CrossEntropy(inputs=(\"y_pred\", \"y\"), outputs=\"ce\", mode=\"!infer\"),\n",
    "                          UpdateOp(model=model, loss_name=\"ce\", mode=\"train\")])\n",
    "\n",
    "estimator = fe.Estimator(pipeline=pipeline,\n",
    "                         network=network,\n",
    "                         epochs=1,\n",
    "                         traces=Accuracy(true_key=\"y\", pred_key=\"y_pred\")) # default mode=[eval, test]\n",
    "estimator.fit()"
   ]
  },
  {
   "cell_type": "markdown",
   "metadata": {},
   "source": [
    "Let's create a customized print function to showcase our inferencing easier:"
   ]
  },
  {
   "cell_type": "code",
   "execution_count": 2,
   "metadata": {},
   "outputs": [],
   "source": [
    "import numpy as np\n",
    "import tensorflow as tf\n",
    "\n",
    "def print_dict_but_value(data):\n",
    "    for key, value in data.items():\n",
    "        if isinstance(value, np.ndarray):\n",
    "            print(\"{}: ndarray with shape {}\".format(key, value.shape))\n",
    "        \n",
    "        elif isinstance(value, tf.Tensor):\n",
    "            print(\"{}: tf.Tensor with shape {}\".format(key, value.shape))\n",
    "        \n",
    "        else:\n",
    "            print(\"{}: {}\".format(key, value))"
   ]
  },
  {
   "cell_type": "markdown",
   "metadata": {},
   "source": [
    "The following figure shows the complete execution graph (consisting `Pipeline` and `Network`) for the \"infer\" mode: "
   ]
  },
  {
   "cell_type": "markdown",
   "metadata": {},
   "source": [
    "<img src=\"../resources/t09_infer_mode.PNG\" alt=\"drawing\" width=\"700\"/>"
   ]
  },
  {
   "cell_type": "markdown",
   "metadata": {},
   "source": [
    "Our goal is to provide an input image \"x\" and get the prediction result \"y_pred\"."
   ]
  },
  {
   "cell_type": "markdown",
   "metadata": {},
   "source": [
    "<a id='t09pipeline'></a>"
   ]
  },
  {
   "cell_type": "markdown",
   "metadata": {},
   "source": [
    "### Pipeline.transform\n",
    "The `Pipeline` object has a `transform` method that runs the pipeline graph (\"x\" to \"x_out\") when inference data (a dictionary of keys and values like {\"x\":image}), is inserted. The returned output will be the dictionary of computed results after applying all `Pipeline` Ops, where the dictionary values will be Numpy arrays.\n",
    "\n",
    "<img src=\"../resources/t09_infer_mode2.PNG\" alt=\"drawing\" width=\"700\"/>\n",
    "\n",
    "Here we take eval_data's first image, package it into a dictionary, and then call `pipeline.transform`: "
   ]
  },
  {
   "cell_type": "code",
   "execution_count": 3,
   "metadata": {},
   "outputs": [
    {
     "name": "stdout",
     "output_type": "stream",
     "text": [
      "x: ndarray with shape (28, 28)\n"
     ]
    }
   ],
   "source": [
    "import copy \n",
    "\n",
    "infer_data = {\"x\": copy.deepcopy(eval_data[0][\"x\"])}\n",
    "print_dict_but_value(infer_data)"
   ]
  },
  {
   "cell_type": "code",
   "execution_count": 4,
   "metadata": {},
   "outputs": [
    {
     "name": "stdout",
     "output_type": "stream",
     "text": [
      "x: ndarray with shape (1, 28, 28, 1)\n",
      "x_out: ndarray with shape (1, 28, 28, 1)\n"
     ]
    }
   ],
   "source": [
    "infer_data = pipeline.transform(infer_data, mode=\"infer\")\n",
    "print_dict_but_value(infer_data)"
   ]
  },
  {
   "cell_type": "markdown",
   "metadata": {},
   "source": [
    "<a id='t09network'></a>"
   ]
  },
  {
   "cell_type": "markdown",
   "metadata": {},
   "source": [
    "### Network.transform\n",
    "\n",
    "We then use the network object to call the `transform` method that runs the network graph (\"x_out\" to \"y_pred\"). Much like with `pipeline.transform`, it will return it's Op outputs, though this time in the form of a dictionary of Tensors. The data type of the returned values depends on the backend of the network. It is `tf.Tensor` when using the TensorFlow backend and `torch.Tensor` with PyTorch. Please check out [tutorial 6](./t06_network.ipynb) for more details about `Network` backends). \n",
    "\n",
    "<img src=\"../resources/t09_infer_mode3.PNG\" alt=\"drawing\" width=\"700\"/>"
   ]
  },
  {
   "cell_type": "code",
   "execution_count": 5,
   "metadata": {},
   "outputs": [
    {
     "name": "stdout",
     "output_type": "stream",
     "text": [
      "x: tf.Tensor with shape (1, 28, 28, 1)\n",
      "x_out: tf.Tensor with shape (1, 28, 28, 1)\n",
      "y_pred: tf.Tensor with shape (1, 10)\n"
     ]
    }
   ],
   "source": [
    "infer_data = network.transform(infer_data, mode=\"infer\")\n",
    "print_dict_but_value(infer_data)"
   ]
  },
  {
   "cell_type": "markdown",
   "metadata": {},
   "source": [
    "Now we can visualize the input image and compare with its prediction class."
   ]
  },
  {
   "cell_type": "code",
   "execution_count": 6,
   "metadata": {},
   "outputs": [
    {
     "name": "stdout",
     "output_type": "stream",
     "text": [
      "Predicted class is 7\n"
     ]
    },
    {
     "data": {
      "image/png": "[encoded data removed]",
      "text/plain": [
       "<Figure size 200x240 with 1 Axes>"
      ]
     },
     "metadata": {
      "needs_background": "light"
     },
     "output_type": "display_data"
    }
   ],
   "source": [
    "print(\"Predicted class is {}\".format(np.argmax(infer_data[\"y_pred\"])))\n",
    "img = fe.util.ImgData(x=infer_data[\"x\"])\n",
    "fig = img.paint_figure()"
   ]
  },
  {
   "cell_type": "markdown",
   "metadata": {},
   "source": [
    "<a id='t09apphub'></a>"
   ]
  },
  {
   "cell_type": "markdown",
   "metadata": {},
   "source": [
    "## Apphub Examples\n",
    "You can find some practical examples of the concepts described here in the following FastEstimator Apphubs:\n",
    "\n",
    "* [MNIST](../../apphub/image_classification/mnist/mnist.ipynb)\n",
    "* [IMDB](../../apphub/NLP/imdb/imdb.ipynb)"
   ]
  }
 ],
 "metadata": {
  "kernelspec": {
   "display_name": "Python 3",
   "language": "python",
   "name": "python3"
  },
  "language_info": {
   "codemirror_mode": {
    "name": "ipython",
    "version": 3
   },
   "file_extension": ".py",
   "mimetype": "text/x-python",
   "name": "python",
   "nbconvert_exporter": "python",
   "pygments_lexer": "ipython3",
   "version": "3.6.6"
  }
 },
 "nbformat": 4,
 "nbformat_minor": 4
}
