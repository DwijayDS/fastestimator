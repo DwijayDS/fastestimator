{
 "cells": [
  {
   "cell_type": "markdown",
   "metadata": {},
   "source": [
    "# MNIST Image Classification example using LeNet (Tensorflow backend)\n",
    "In this example, we are going to demonstrate how to train a MNIST image classification model using LeNet model architeture with Tesnorflow backend. "
   ]
  },
  {
   "cell_type": "markdown",
   "metadata": {},
   "source": [
    "## Import the required libraries"
   ]
  },
  {
   "cell_type": "code",
   "execution_count": 1,
   "metadata": {},
   "outputs": [],
   "source": [
    "import tensorflow as tf\n",
    "import fastestimator as fe\n",
    "import numpy as np\n",
    "import matplotlib.pyplot as plt\n",
    "import tempfile"
   ]
  },
  {
   "cell_type": "code",
   "execution_count": 2,
   "metadata": {
    "tags": [
     "parameters"
    ]
   },
   "outputs": [],
   "source": [
    "#training parameters\n",
    "epochs = 2\n",
    "batch_size = 32\n",
    "max_train_steps_per_epoch = None\n",
    "max_eval_steps_per_epoch = None\n",
    "save_dir = tempfile.mkdtemp()"
   ]
  },
  {
   "cell_type": "markdown",
   "metadata": {},
   "source": [
    "## Step 1 - Data and `Pipeline` preparation\n",
    "In this step, we will load MNIST training and validation datasets and prepare FastEstimator's pipeline.\n",
    "\n",
    "### Load dataset \n",
    "We use fastestimator API to load the MNIST dataset and get the test set by splitting 50% evaluation set. "
   ]
  },
  {
   "cell_type": "code",
   "execution_count": 3,
   "metadata": {},
   "outputs": [],
   "source": [
    "from fastestimator.dataset.data import mnist\n",
    "\n",
    "train_data, eval_data = mnist.load_data()\n",
    "test_data = eval_data.split(0.5)"
   ]
  },
  {
   "cell_type": "markdown",
   "metadata": {},
   "source": [
    "### Set up preprocessing pipline\n",
    "In this example, the data preprocessing steps include expanding image dimension and normalizing the pixel value to range [0, 1]. We set up those processing step using `Ops` and meanwhile define the data source (loaded dataset) and batch size. "
   ]
  },
  {
   "cell_type": "code",
   "execution_count": 4,
   "metadata": {},
   "outputs": [],
   "source": [
    "from fastestimator.op.numpyop.univariate import ExpandDims, Minmax\n",
    "\n",
    "pipeline = fe.Pipeline(train_data=train_data,\n",
    "                       eval_data=eval_data,\n",
    "                       test_data=test_data,\n",
    "                       batch_size=batch_size,\n",
    "                       ops=[ExpandDims(inputs=\"x\", outputs=\"x_out\"), \n",
    "                            Minmax(inputs=\"x_out\", outputs=\"x_out\")])"
   ]
  },
  {
   "cell_type": "markdown",
   "metadata": {},
   "source": [
    "### Validate `Pipeline`\n",
    "In order to make sure the pipeline works as expected, we need to visualize the output of pipeline image and check its size.\n",
    "`Pipeline.get_results` will return a batch data of pipeline output. \n",
    " "
   ]
  },
  {
   "cell_type": "code",
   "execution_count": 5,
   "metadata": {},
   "outputs": [
    {
     "name": "stdout",
     "output_type": "stream",
     "text": [
      "the pipeline input data size: (32, 28, 28)\n",
      "the pipeline output data size: (32, 28, 28, 1)\n",
      "the maximum pixel value of output image: 1.0\n",
      "the minimum pixel value of output image: 0.0\n"
     ]
    }
   ],
   "source": [
    "data = pipeline.get_results()\n",
    "data_xin = data[\"x\"]\n",
    "data_xout = data[\"x_out\"]\n",
    "\n",
    "print(\"the pipeline input data size: {}\".format(data_xin.numpy().shape))\n",
    "print(\"the pipeline output data size: {}\".format(data_xout.numpy().shape))\n",
    "print(\"the maximum pixel value of output image: {}\".format(np.max(data_xout.numpy())))\n",
    "print(\"the minimum pixel value of output image: {}\".format(np.min(data_xout.numpy())))"
   ]
  },
  {
   "cell_type": "code",
   "execution_count": 6,
   "metadata": {},
   "outputs": [
    {
     "data": {
      "image/png": "[encoded data removed]",
      "text/plain": [
       "<Figure size 864x864 with 10 Axes>"
      ]
     },
     "metadata": {
      "needs_background": "light"
     },
     "output_type": "display_data"
    }
   ],
   "source": [
    "sample_num = 5\n",
    "\n",
    "fig, axs = plt.subplots(sample_num, 2, figsize=(12,12))\n",
    "\n",
    "axs[0,0].set_title(\"pipeline input\")\n",
    "axs[0,1].set_title(\"pipeline output\")\n",
    "\n",
    "\n",
    "for i, j in enumerate(np.random.randint(low=0, high=batch_size-1, size=sample_num)):\n",
    "    img_in = data_xin.numpy()[j]\n",
    "    axs[i,0].imshow(img_in, cmap=\"gray\")\n",
    "    \n",
    "    img_out = data_xout.numpy()[j,:,:,0]\n",
    "    axs[i,1].imshow(img_out, cmap=\"gray\")"
   ]
  },
  {
   "cell_type": "markdown",
   "metadata": {},
   "source": [
    "## Step 2 - `Network` construction\n",
    "**FastEstimator supports both Pytorch and Tensorflow, so this section can use both backend to implement.** <br>\n",
    "We are going to only demonstate the Tensorflow way in this example.\n",
    "\n",
    "### Model construction\n",
    "Here the model definition is going to be imported from the FastEstimator pre-defined architecture that is implemented in Tensorflow, and we create model instance by compiling it with specific model optimizer."
   ]
  },
  {
   "cell_type": "code",
   "execution_count": 7,
   "metadata": {},
   "outputs": [],
   "source": [
    "from fastestimator.architecture.tensorflow import LeNet\n",
    "\n",
    "model = fe.build(model_fn=LeNet, optimizer_fn=\"adam\")"
   ]
  },
  {
   "cell_type": "markdown",
   "metadata": {},
   "source": [
    "### `Network` definition\n",
    "We are going to connect the model and `Ops` together into a `Network`. `Ops` are the basic component of `Network`. They can be logic for loss calculation, model update units, and even model itself is also considered as an `Op`. "
   ]
  },
  {
   "cell_type": "code",
   "execution_count": 8,
   "metadata": {},
   "outputs": [],
   "source": [
    "from fastestimator.op.tensorop.loss import CrossEntropy\n",
    "from fastestimator.op.tensorop.model import ModelOp, UpdateOp\n",
    "\n",
    "\n",
    "network = fe.Network(ops=[\n",
    "        ModelOp(model=model, inputs=\"x_out\", outputs=\"y_pred\"),\n",
    "        CrossEntropy(inputs=(\"y_pred\", \"y\"), outputs=\"ce\"),\n",
    "        UpdateOp(model=model, loss_name=\"ce\", mode=\"!infer\")\n",
    "    ])"
   ]
  },
  {
   "cell_type": "markdown",
   "metadata": {},
   "source": [
    "## Step 3 - `Estimator` definition and training\n",
    "In this step, we define the `Estimator` to connect the `Network` with `Pipeline` and set the `traces` which compute accuracy (Accuracy), save best model (BestModelSaver), and change learning rate (LRScheduler) "
   ]
  },
  {
   "cell_type": "code",
   "execution_count": 9,
   "metadata": {},
   "outputs": [
    {
     "name": "stdout",
     "output_type": "stream",
     "text": [
      "    ______           __  ______     __  _                 __            \n",
      "   / ____/___ ______/ /_/ ____/____/ /_(_)___ ___  ____ _/ /_____  _____\n",
      "  / /_  / __ `/ ___/ __/ __/ / ___/ __/ / __ `__ \\/ __ `/ __/ __ \\/ ___/\n",
      " / __/ / /_/ (__  ) /_/ /___(__  ) /_/ / / / / / / /_/ / /_/ /_/ / /    \n",
      "/_/    \\__,_/____/\\__/_____/____/\\__/_/_/ /_/ /_/\\__,_/\\__/\\____/_/     \n",
      "                                                                        \n",
      "\n",
      "FastEstimator-Start: step: 1; model_lr: 0.001; \n",
      "FastEstimator-Train: step: 1; ce: 2.2952478; model_lr: 0.001; \n",
      "FastEstimator-Train: step: 100; ce: 0.3141091; steps/sec: 331.75; model_lr: 0.000998283; \n",
      "FastEstimator-Train: step: 200; ce: 0.2921242; steps/sec: 327.33; model_lr: 0.0009930746; \n",
      "FastEstimator-Train: step: 300; ce: 0.030078162; steps/sec: 339.11; model_lr: 0.0009844112; \n",
      "FastEstimator-Train: step: 400; ce: 0.37753928; steps/sec: 339.46; model_lr: 0.00097235345; \n",
      "FastEstimator-Train: step: 500; ce: 0.014425077; steps/sec: 328.28; model_lr: 0.000956986; \n",
      "FastEstimator-Train: step: 600; ce: 0.061481424; steps/sec: 337.15; model_lr: 0.00093841663; \n",
      "FastEstimator-Train: step: 700; ce: 0.18871143; steps/sec: 330.63; model_lr: 0.0009167756; \n",
      "FastEstimator-Train: step: 800; ce: 0.04665528; steps/sec: 336.71; model_lr: 0.00089221465; \n",
      "FastEstimator-Train: step: 900; ce: 0.16318482; steps/sec: 335.27; model_lr: 0.0008649062; \n",
      "FastEstimator-Train: step: 1000; ce: 0.17174809; steps/sec: 339.01; model_lr: 0.0008350416; \n",
      "FastEstimator-Train: step: 1100; ce: 0.072015464; steps/sec: 336.46; model_lr: 0.00080283044; \n",
      "FastEstimator-Train: step: 1200; ce: 0.0038511527; steps/sec: 334.32; model_lr: 0.0007684987; \n",
      "FastEstimator-Train: step: 1300; ce: 0.13038625; steps/sec: 338.65; model_lr: 0.0007322871; \n",
      "FastEstimator-Train: step: 1400; ce: 0.001873189; steps/sec: 335.34; model_lr: 0.00069444976; \n",
      "FastEstimator-Train: step: 1500; ce: 0.003812432; steps/sec: 341.54; model_lr: 0.0006552519; \n",
      "FastEstimator-Train: step: 1600; ce: 0.118942365; steps/sec: 328.41; model_lr: 0.00061496865; \n",
      "FastEstimator-Train: step: 1700; ce: 0.012451285; steps/sec: 335.49; model_lr: 0.0005738824; \n",
      "FastEstimator-Train: step: 1800; ce: 0.082549796; steps/sec: 334.01; model_lr: 0.00053228147; \n",
      "FastEstimator-Train: step: 1875; epoch: 1; epoch_time: 8.51 sec; \n",
      "Saved model to /tmp/tmp6rwicno6/model_best_accuracy.h5\n",
      "FastEstimator-Eval: step: 1875; epoch: 1; ce: 0.044308867; min_ce: 0.044308867; since_best: 0; accuracy: 0.985; \n",
      "FastEstimator-Train: step: 1900; ce: 0.046987697; steps/sec: 136.47; model_lr: 0.00049045763; \n",
      "FastEstimator-Train: step: 2000; ce: 0.02985252; steps/sec: 331.95; model_lr: 0.00044870423; \n",
      "FastEstimator-Train: step: 2100; ce: 0.06913616; steps/sec: 332.27; model_lr: 0.0004073141; \n",
      "FastEstimator-Train: step: 2200; ce: 0.031003162; steps/sec: 339.06; model_lr: 0.00036657765; \n",
      "FastEstimator-Train: step: 2300; ce: 0.020062737; steps/sec: 338.79; model_lr: 0.00032678054; \n",
      "FastEstimator-Train: step: 2400; ce: 0.039522864; steps/sec: 341.69; model_lr: 0.00028820196; \n",
      "FastEstimator-Train: step: 2500; ce: 0.041544776; steps/sec: 347.78; model_lr: 0.00025111248; \n",
      "FastEstimator-Train: step: 2600; ce: 0.0073616905; steps/sec: 330.83; model_lr: 0.00021577229; \n",
      "FastEstimator-Train: step: 2700; ce: 0.0032872492; steps/sec: 340.04; model_lr: 0.00018242926; \n",
      "FastEstimator-Train: step: 2800; ce: 0.021862563; steps/sec: 333.89; model_lr: 0.00015131726; \n",
      "FastEstimator-Train: step: 2900; ce: 0.10750027; steps/sec: 339.62; model_lr: 0.00012265453; \n",
      "FastEstimator-Train: step: 3000; ce: 0.041685883; steps/sec: 336.79; model_lr: 9.664212e-05; \n",
      "FastEstimator-Train: step: 3100; ce: 0.008866243; steps/sec: 339.07; model_lr: 7.346248e-05; \n",
      "FastEstimator-Train: step: 3200; ce: 0.09189169; steps/sec: 338.88; model_lr: 5.3278196e-05; \n",
      "FastEstimator-Train: step: 3300; ce: 0.08884057; steps/sec: 331.95; model_lr: 3.6230853e-05; \n",
      "FastEstimator-Train: step: 3400; ce: 0.1302068; steps/sec: 342.97; model_lr: 2.2440026e-05; \n",
      "FastEstimator-Train: step: 3500; ce: 0.112514116; steps/sec: 333.27; model_lr: 1.2002448e-05; \n",
      "FastEstimator-Train: step: 3600; ce: 0.0024552555; steps/sec: 338.11; model_lr: 4.9913274e-06; \n",
      "FastEstimator-Train: step: 3700; ce: 0.05180082; steps/sec: 334.38; model_lr: 1.4558448e-06; \n",
      "FastEstimator-Train: step: 3750; epoch: 2; epoch_time: 6.0 sec; \n",
      "Saved model to /tmp/tmp6rwicno6/model_best_accuracy.h5\n",
      "FastEstimator-Eval: step: 3750; epoch: 2; ce: 0.01713336; min_ce: 0.01713336; since_best: 0; accuracy: 0.9948; \n",
      "FastEstimator-Finish: step: 3750; total_time: 16.72 sec; model_lr: 1.0001753e-06; \n"
     ]
    }
   ],
   "source": [
    "from fastestimator.schedule import cosine_decay\n",
    "from fastestimator.trace.adapt import LRScheduler\n",
    "from fastestimator.trace.io import BestModelSaver\n",
    "from fastestimator.trace.metric import Accuracy\n",
    "\n",
    "\n",
    "traces = [\n",
    "    Accuracy(true_key=\"y\", pred_key=\"y_pred\"),\n",
    "    BestModelSaver(model=model, save_dir=save_dir, metric=\"accuracy\", save_best_mode=\"max\"),\n",
    "    LRScheduler(model=model, lr_fn=lambda step: cosine_decay(step, cycle_length=3750, init_lr=1e-3))\n",
    "]\n",
    "\n",
    "estimator = fe.Estimator(pipeline=pipeline,\n",
    "                         network=network,\n",
    "                         epochs=epochs,\n",
    "                         traces=traces,\n",
    "                         max_train_steps_per_epoch=max_train_steps_per_epoch,\n",
    "                         max_eval_steps_per_epoch=max_eval_steps_per_epoch)\n",
    "\n",
    "estimator.fit() # start the training process"
   ]
  },
  {
   "cell_type": "markdown",
   "metadata": {},
   "source": [
    "## Model testing\n",
    "`Estimator.test` triggers model testing with test dataset that specified in `Pipeline`. We can evaluate the model performance in the classification accuracy. "
   ]
  },
  {
   "cell_type": "code",
   "execution_count": 10,
   "metadata": {},
   "outputs": [
    {
     "name": "stdout",
     "output_type": "stream",
     "text": [
      "FastEstimator-Test: epoch: 2; accuracy: 0.9892; \n"
     ]
    }
   ],
   "source": [
    "estimator.test()"
   ]
  },
  {
   "cell_type": "markdown",
   "metadata": {},
   "source": [
    "## Images inference \n",
    "In this step we run image inference directly using the model that just trained. \n",
    "We randomly select 5 images from testing dataset and infer them image by image with `Pipeline.transform` and `Netowork.transform`"
   ]
  },
  {
   "cell_type": "code",
   "execution_count": 11,
   "metadata": {},
   "outputs": [
    {
     "data": {
      "image/png": "[encoded data removed]",
      "text/plain": [
       "<Figure size 864x864 with 15 Axes>"
      ]
     },
     "metadata": {
      "needs_background": "light"
     },
     "output_type": "display_data"
    }
   ],
   "source": [
    "sample_num = 5\n",
    "\n",
    "fig, axs = plt.subplots(sample_num, 3, figsize=(12,12))\n",
    "\n",
    "axs[0,0].set_title(\"pipeline input\")\n",
    "axs[0,1].set_title(\"pipeline output\")\n",
    "axs[0,2].set_title(\"predict result\")\n",
    "\n",
    "for i, j in enumerate(np.random.randint(low=0, high=batch_size-1, size=sample_num)):\n",
    "    data = {\"x\": test_data[\"x\"][j]}\n",
    "    axs[i,0].imshow(data[\"x\"], cmap=\"gray\")\n",
    "    \n",
    "    # run the pipeline\n",
    "    data = pipeline.transform(data, mode=\"infer\") \n",
    "    img = data[\"x_out\"].squeeze(axis=(0,3))\n",
    "    axs[i,1].imshow(img, cmap=\"gray\")\n",
    "    \n",
    "    # run the network\n",
    "    data = network.transform(data, mode=\"infer\")\n",
    "    predict = data[\"y_pred\"].numpy().squeeze(axis=(0))\n",
    "    axs[i,2].text(0.2, 0.5, \"predicted number: {}\".format(np.argmax(predict)))\n",
    "    axs[i,2].get_xaxis().set_visible(False)\n",
    "    axs[i,2].get_yaxis().set_visible(False)"
   ]
  }
 ],
 "metadata": {
  "celltoolbar": "Tags",
  "kernelspec": {
   "display_name": "Python 3",
   "language": "python",
   "name": "python3"
  },
  "language_info": {
   "codemirror_mode": {
    "name": "ipython",
    "version": 3
   },
   "file_extension": ".py",
   "mimetype": "text/x-python",
   "name": "python",
   "nbconvert_exporter": "python",
   "pygments_lexer": "ipython3",
   "version": "3.6.10"
  }
 },
 "nbformat": 4,
 "nbformat_minor": 4
}