{
 "cells": [
  {
   "cell_type": "markdown",
   "metadata": {},
   "source": [
    "# Advanced Tutorial 12: Hyperparameter Search\n",
    "\n",
    "## Overview\n",
    "In this tutorial, we will discuss the following topics:\n",
    "* [FastEstimator Search API](#ta12searchapi)\n",
    "    * [Getting the search results](#ta12searchresults)\n",
    "    * [Saving and loading search results](#ta12saveload)\n",
    "    * [Interruption-resilient search](#ta12interruption)\n",
    "* [Example 1: Hyperparameter Tuning by Grid Search](#ta12example1)\n",
    "* [Example 2: RUA Augmentation via Golden-Section Search](#ta12example2)"
   ]
  },
  {
   "cell_type": "markdown",
   "metadata": {},
   "source": [
    "<a id='ta12searchapi'></a>"
   ]
  },
  {
   "cell_type": "markdown",
   "metadata": {},
   "source": [
    "## Search API\n",
    "\n",
    "There are many things in life that requires searching for an optimal solution in a given space, regardless of whether deep learning is involved. For example:\n",
    "* what is the `x` that leads to the minimal value of `(x-3)**2`?\n",
    "* what is the best `learning rate` and `batch size` combo that can produce the lowest evaluation loss after 2 epochs of training?\n",
    "* what is the best augmentation magnitude that can lead to the highest evaluation accuracy?\n",
    "\n",
    "The `fe.search` API is designed to make the search easier, the API can be used independently for any search problem, as it only requires the following two components:\n",
    "1. objective function to measure the score of a solution.\n",
    "2. whether a maximum or minimum score is desired.\n",
    "\n",
    "We will start with a simple example using `Grid Search`. Say we want to find the `x` that produces the minimal value of `(x-3)**2`, where x is chosen from the list: `[0.5, 1.5, 2.9, 4, 5.3]`"
   ]
  },
  {
   "cell_type": "code",
   "execution_count": 1,
   "metadata": {},
   "outputs": [],
   "source": [
    "from fastestimator.search import GridSearch\n",
    "\n",
    "def objective_fn(search_idx, x):\n",
    "    return (x-3)**2\n",
    "\n",
    "grid_search = GridSearch(score_fn=objective_fn, params={\"x\": [0.5, 1.5, 2.9, 4, 5.3]}, best_mode=\"min\")"
   ]
  },
  {
   "cell_type": "markdown",
   "metadata": {},
   "source": [
    "Note that in the score function, one of the arguments must be `search_idx`. This is to help user differentiate multiple search runs. To run the search, simply call:"
   ]
  },
  {
   "cell_type": "code",
   "execution_count": 2,
   "metadata": {},
   "outputs": [
    {
     "name": "stdout",
     "output_type": "stream",
     "text": [
      "FastEstimator-Search: Evaluated {'x': 0.5, 'search_idx': 1}, score: 6.25\n",
      "FastEstimator-Search: Evaluated {'x': 1.5, 'search_idx': 2}, score: 2.25\n",
      "FastEstimator-Search: Evaluated {'x': 2.9, 'search_idx': 3}, score: 0.010000000000000018\n",
      "FastEstimator-Search: Evaluated {'x': 4, 'search_idx': 4}, score: 1\n",
      "FastEstimator-Search: Evaluated {'x': 5.3, 'search_idx': 5}, score: 5.289999999999999\n",
      "FastEstimator-Search: Grid Search Finished, best parameters: {'x': 2.9, 'search_idx': 3}, best score: 0.010000000000000018\n"
     ]
    }
   ],
   "source": [
    "grid_search.fit()"
   ]
  },
  {
   "cell_type": "markdown",
   "metadata": {},
   "source": [
    "<a id='ta12searchresults'></a>"
   ]
  },
  {
   "cell_type": "markdown",
   "metadata": {},
   "source": [
    "### Getting the search results\n",
    "After the search is done, you can also call the `search.get_best_results` or `search.get_search_results` to see the best and overall search history:"
   ]
  },
  {
   "cell_type": "code",
   "execution_count": 3,
   "metadata": {},
   "outputs": [
    {
     "name": "stdout",
     "output_type": "stream",
     "text": [
      "best search result:\n",
      "({'x': 2.9, 'search_idx': 3}, 0.010000000000000018)\n"
     ]
    }
   ],
   "source": [
    "print(\"best search result:\")\n",
    "print(grid_search.get_best_results())"
   ]
  },
  {
   "cell_type": "code",
   "execution_count": 4,
   "metadata": {},
   "outputs": [
    {
     "name": "stdout",
     "output_type": "stream",
     "text": [
      "search history:\n",
      "[({'x': 0.5, 'search_idx': 1}, 6.25), ({'x': 1.5, 'search_idx': 2}, 2.25), ({'x': 2.9, 'search_idx': 3}, 0.010000000000000018), ({'x': 4, 'search_idx': 4}, 1), ({'x': 5.3, 'search_idx': 5}, 5.289999999999999)]\n"
     ]
    }
   ],
   "source": [
    "print(\"search history:\")\n",
    "print(grid_search.get_search_results())"
   ]
  },
  {
   "cell_type": "markdown",
   "metadata": {},
   "source": [
    "<a id='ta12saveload'></a>"
   ]
  },
  {
   "cell_type": "markdown",
   "metadata": {},
   "source": [
    "### Saving and loading search results\n",
    "\n",
    "Once the search is done, you can also save the search results into the disk and later load them back using `save` and `load` methods:"
   ]
  },
  {
   "cell_type": "code",
   "execution_count": 5,
   "metadata": {},
   "outputs": [
    {
     "name": "stdout",
     "output_type": "stream",
     "text": [
      "FastEstimator-Search: Saving the search state to /var/folders/cd/9k2rks597yl99yttyxmhkw7h0000gn/T/tmpb2geydkb/grid_search.json\n",
      "FastEstimator-Search: Loading the search state from /var/folders/cd/9k2rks597yl99yttyxmhkw7h0000gn/T/tmpb2geydkb/grid_search.json\n",
      "[{'x': 2.9, 'search_idx': 3}, 0.010000000000000018]\n"
     ]
    }
   ],
   "source": [
    "import tempfile\n",
    "save_dir = tempfile.mkdtemp()\n",
    "\n",
    "# save the state to save_dir\n",
    "grid_search.save(save_dir) \n",
    "\n",
    "# instantiate a new object\n",
    "grid_search2 = GridSearch(score_fn=objective_fn, params={\"x\": [0.5, 1.5, 2.9, 4, 5.3]}, best_mode=\"min\") \n",
    "\n",
    "# load the previously saved state\n",
    "grid_search2.load(save_dir)\n",
    "\n",
    "# display the best result of the loaded instance\n",
    "print(grid_search2.get_best_results()) "
   ]
  },
  {
   "cell_type": "markdown",
   "metadata": {},
   "source": [
    "<a id='ta12interruption'></a>"
   ]
  },
  {
   "cell_type": "markdown",
   "metadata": {},
   "source": [
    "### Interruption-resilient search\n",
    "When you run search on a hardware that can be interrupted (like an AWS spot instance), you can provide a `save_dir` argument when calling `fit`. As a result, the search will automatically back up its result after each evaluation. Furthermore, when calling `fit` using the same `save_dir` the second time, it will first load the search results and then pick up from where it left off. \n",
    "\n",
    "To demonstrate this, we will use golden-section search on the same optimization problem. To simulate interruption, we will first iterate 10 times, then create a new instance and iterate another 10 times."
   ]
  },
  {
   "cell_type": "code",
   "execution_count": 6,
   "metadata": {},
   "outputs": [
    {
     "name": "stdout",
     "output_type": "stream",
     "text": [
      "FastEstimator-Search: Saving the search state to /var/folders/cd/9k2rks597yl99yttyxmhkw7h0000gn/T/tmp5wp7bkir/golden_section_search.json\n",
      "FastEstimator-Search: Evaluated {'x': 2.2917960675006306, 'search_idx': 1}, score: 0.5015528100075713\n",
      "FastEstimator-Search: Saving the search state to /var/folders/cd/9k2rks597yl99yttyxmhkw7h0000gn/T/tmp5wp7bkir/golden_section_search.json\n",
      "FastEstimator-Search: Evaluated {'x': 3.7082039324993694, 'search_idx': 2}, score: 0.5015528100075713\n",
      "FastEstimator-Search: Saving the search state to /var/folders/cd/9k2rks597yl99yttyxmhkw7h0000gn/T/tmp5wp7bkir/golden_section_search.json\n",
      "FastEstimator-Search: Evaluated {'x': 4.583592135001262, 'search_idx': 3}, score: 2.5077640500378555\n",
      "FastEstimator-Search: Saving the search state to /var/folders/cd/9k2rks597yl99yttyxmhkw7h0000gn/T/tmp5wp7bkir/golden_section_search.json\n",
      "FastEstimator-Search: Evaluated {'x': 3.1671842700025232, 'search_idx': 4}, score: 0.027950580136276586\n",
      "FastEstimator-Search: Saving the search state to /var/folders/cd/9k2rks597yl99yttyxmhkw7h0000gn/T/tmp5wp7bkir/golden_section_search.json\n",
      "FastEstimator-Search: Evaluated {'x': 2.832815729997476, 'search_idx': 5}, score: 0.027950580136276885\n",
      "FastEstimator-Search: Saving the search state to /var/folders/cd/9k2rks597yl99yttyxmhkw7h0000gn/T/tmp5wp7bkir/golden_section_search.json\n",
      "FastEstimator-Search: Evaluated {'x': 3.3738353924943216, 'search_idx': 6}, score: 0.1397529006813835\n",
      "FastEstimator-Search: Saving the search state to /var/folders/cd/9k2rks597yl99yttyxmhkw7h0000gn/T/tmp5wp7bkir/golden_section_search.json\n",
      "FastEstimator-Search: Evaluated {'x': 3.0394668524892743, 'search_idx': 7}, score: 0.0015576324454101358\n",
      "FastEstimator-Search: Saving the search state to /var/folders/cd/9k2rks597yl99yttyxmhkw7h0000gn/T/tmp5wp7bkir/golden_section_search.json\n",
      "FastEstimator-Search: Evaluated {'x': 2.9605331475107253, 'search_idx': 8}, score: 0.0015576324454101708\n",
      "FastEstimator-Search: Saving the search state to /var/folders/cd/9k2rks597yl99yttyxmhkw7h0000gn/T/tmp5wp7bkir/golden_section_search.json\n",
      "FastEstimator-Search: Evaluated {'x': 3.0882505650239747, 'search_idx': 9}, score: 0.00778816222705078\n",
      "FastEstimator-Search: Saving the search state to /var/folders/cd/9k2rks597yl99yttyxmhkw7h0000gn/T/tmp5wp7bkir/golden_section_search.json\n",
      "FastEstimator-Search: Evaluated {'x': 3.009316860045425, 'search_idx': 10}, score: 8.68038811060405e-05\n",
      "FastEstimator-Search: Saving the search state to /var/folders/cd/9k2rks597yl99yttyxmhkw7h0000gn/T/tmp5wp7bkir/golden_section_search.json\n",
      "FastEstimator-Search: Evaluated {'x': 2.9906831399545744, 'search_idx': 11}, score: 8.680388110604876e-05\n",
      "FastEstimator-Search: Saving the search state to /var/folders/cd/9k2rks597yl99yttyxmhkw7h0000gn/T/tmp5wp7bkir/golden_section_search.json\n",
      "FastEstimator-Search: Evaluated {'x': 3.0208331323984234, 'search_idx': 12}, score: 0.0004340194055302403\n",
      "FastEstimator-Search: Golden Section Search Finished, best parameters: {'x': 3.009316860045425, 'search_idx': 10}, best score: 8.68038811060405e-05\n"
     ]
    }
   ],
   "source": [
    "from fastestimator.search import GoldenSection\n",
    "save_dir2 = tempfile.mkdtemp()\n",
    "\n",
    "gs_search =  GoldenSection(score_fn=objective_fn, x_min=0, x_max=6, max_iter=10, integer=False, best_mode=\"min\")\n",
    "gs_search.fit(save_dir=save_dir2)"
   ]
  },
  {
   "cell_type": "markdown",
   "metadata": {},
   "source": [
    "After interruption, we can create the instance and call `fit` on the same directory:"
   ]
  },
  {
   "cell_type": "code",
   "execution_count": 7,
   "metadata": {},
   "outputs": [
    {
     "name": "stdout",
     "output_type": "stream",
     "text": [
      "FastEstimator-Search: Loading the search state from /var/folders/cd/9k2rks597yl99yttyxmhkw7h0000gn/T/tmp5wp7bkir/golden_section_search.json\n",
      "FastEstimator-Search: Saving the search state to /var/folders/cd/9k2rks597yl99yttyxmhkw7h0000gn/T/tmp5wp7bkir/golden_section_search.json\n",
      "FastEstimator-Search: Evaluated {'x': 3.002199412307572, 'search_idx': 13}, score: 4.8374144986998325e-06\n",
      "FastEstimator-Search: Saving the search state to /var/folders/cd/9k2rks597yl99yttyxmhkw7h0000gn/T/tmp5wp7bkir/golden_section_search.json\n",
      "FastEstimator-Search: Evaluated {'x': 2.997800587692428, 'search_idx': 14}, score: 4.8374144986998325e-06\n",
      "FastEstimator-Search: Saving the search state to /var/folders/cd/9k2rks597yl99yttyxmhkw7h0000gn/T/tmp5wp7bkir/golden_section_search.json\n",
      "FastEstimator-Search: Evaluated {'x': 3.0049180354302814, 'search_idx': 15}, score: 2.4187072493502697e-05\n",
      "FastEstimator-Search: Saving the search state to /var/folders/cd/9k2rks597yl99yttyxmhkw7h0000gn/T/tmp5wp7bkir/golden_section_search.json\n",
      "FastEstimator-Search: Evaluated {'x': 3.0005192108151366, 'search_idx': 16}, score: 2.695798705548303e-07\n",
      "FastEstimator-Search: Saving the search state to /var/folders/cd/9k2rks597yl99yttyxmhkw7h0000gn/T/tmp5wp7bkir/golden_section_search.json\n",
      "FastEstimator-Search: Evaluated {'x': 2.9994807891848634, 'search_idx': 17}, score: 2.695798705548303e-07\n",
      "FastEstimator-Search: Saving the search state to /var/folders/cd/9k2rks597yl99yttyxmhkw7h0000gn/T/tmp5wp7bkir/golden_section_search.json\n",
      "FastEstimator-Search: Evaluated {'x': 3.001160990677299, 'search_idx': 18}, score: 1.3478993527749865e-06\n",
      "FastEstimator-Search: Saving the search state to /var/folders/cd/9k2rks597yl99yttyxmhkw7h0000gn/T/tmp5wp7bkir/golden_section_search.json\n",
      "FastEstimator-Search: Evaluated {'x': 3.0001225690470252, 'search_idx': 19}, score: 1.502317128867399e-08\n",
      "FastEstimator-Search: Saving the search state to /var/folders/cd/9k2rks597yl99yttyxmhkw7h0000gn/T/tmp5wp7bkir/golden_section_search.json\n",
      "FastEstimator-Search: Evaluated {'x': 2.9998774309529748, 'search_idx': 20}, score: 1.502317128867399e-08\n",
      "FastEstimator-Search: Saving the search state to /var/folders/cd/9k2rks597yl99yttyxmhkw7h0000gn/T/tmp5wp7bkir/golden_section_search.json\n",
      "FastEstimator-Search: Evaluated {'x': 3.000274072721086, 'search_idx': 21}, score: 7.511585644356621e-08\n",
      "FastEstimator-Search: Saving the search state to /var/folders/cd/9k2rks597yl99yttyxmhkw7h0000gn/T/tmp5wp7bkir/golden_section_search.json\n",
      "FastEstimator-Search: Evaluated {'x': 3.0000289346270352, 'search_idx': 22}, score: 8.372126416682983e-10\n",
      "FastEstimator-Search: Golden Section Search Finished, best parameters: {'x': 3.0000289346270352, 'search_idx': 22}, best score: 8.372126416682983e-10\n"
     ]
    }
   ],
   "source": [
    "gs_search2 =  GoldenSection(score_fn=objective_fn, x_min=0, x_max=6, max_iter=20, integer=False, best_mode=\"min\")\n",
    "gs_search2.fit(save_dir=save_dir2)"
   ]
  },
  {
   "cell_type": "markdown",
   "metadata": {},
   "source": [
    "As we can see, the search started from search index 13 and proceeded for another 10 iterations."
   ]
  },
  {
   "cell_type": "markdown",
   "metadata": {},
   "source": [
    "<a id='ta12example1'></a>"
   ]
  },
  {
   "cell_type": "markdown",
   "metadata": {},
   "source": [
    "## Example 1: Hyperparameter Tuning by Grid Search\n",
    "\n",
    "In this example, we will use `GridSearch` on a real deep learning task to illustrate its usage. Specifically, given a batch size grid `[32, 64]` and learning rate grid `[1e-2 and 1e-3]`, we are interested in the optimial parameter that leads to the lowest test loss after 200 steps of training on MNIST dataset."
   ]
  },
  {
   "cell_type": "code",
   "execution_count": 8,
   "metadata": {},
   "outputs": [],
   "source": [
    "import tensorflow as tf\n",
    "import fastestimator as fe\n",
    "from fastestimator.architecture.tensorflow import LeNet\n",
    "from fastestimator.dataset.data import mnist\n",
    "from fastestimator.op.numpyop.univariate import ExpandDims, Minmax\n",
    "from fastestimator.op.tensorop.loss import CrossEntropy\n",
    "from fastestimator.op.tensorop.model import ModelOp, UpdateOp\n",
    "\n",
    "def get_estimator(batch_size, lr):\n",
    "    train_data, test_data = mnist.load_data()\n",
    "    pipeline = fe.Pipeline(train_data=train_data,\n",
    "                           test_data=test_data,\n",
    "                           batch_size=batch_size,\n",
    "                           ops=[ExpandDims(inputs=\"x\", outputs=\"x\"), Minmax(inputs=\"x\", outputs=\"x\")])\n",
    "    model = fe.build(model_fn=LeNet, optimizer_fn=lambda: tf.optimizers.Adam(lr))\n",
    "    network = fe.Network(ops=[\n",
    "        ModelOp(model=model, inputs=\"x\", outputs=\"y_pred\"),\n",
    "        CrossEntropy(inputs=(\"y_pred\", \"y\"), outputs=\"ce\"),\n",
    "        UpdateOp(model=model, loss_name=\"ce\")\n",
    "    ])\n",
    "    estimator = fe.Estimator(pipeline=pipeline,\n",
    "                             network=network,\n",
    "                             epochs=1,\n",
    "                             max_train_steps_per_epoch=200)\n",
    "    return estimator\n",
    "\n",
    "def score_fn(search_idx, batch_size, lr):\n",
    "    est = get_estimator(batch_size, lr)\n",
    "    est.fit()\n",
    "    hist = est.test(summary=\"myexp\")\n",
    "    test_loss = float(hist.history[\"test\"][\"ce\"][200])\n",
    "    return test_loss\n",
    "\n",
    "mnist_grid_search = GridSearch(score_fn=score_fn, params={\"batch_size\": [32, 64], \"lr\": [1e-2, 1e-3]}, best_mode=\"min\")"
   ]
  },
  {
   "cell_type": "code",
   "execution_count": 9,
   "metadata": {},
   "outputs": [
    {
     "name": "stdout",
     "output_type": "stream",
     "text": [
      "    ______           __  ______     __  _                 __            \n",
      "   / ____/___ ______/ /_/ ____/____/ /_(_)___ ___  ____ _/ /_____  _____\n",
      "  / /_  / __ `/ ___/ __/ __/ / ___/ __/ / __ `__ \\/ __ `/ __/ __ \\/ ___/\n",
      " / __/ / /_/ (__  ) /_/ /___(__  ) /_/ / / / / / / /_/ / /_/ /_/ / /    \n",
      "/_/    \\__,_/____/\\__/_____/____/\\__/_/_/ /_/ /_/\\__,_/\\__/\\____/_/     \n",
      "                                                                        \n",
      "\n",
      "FastEstimator-Warn: No ModelSaver Trace detected. Models will not be saved.\n",
      "FastEstimator-Start: step: 1; logging_interval: 100; num_device: 0;\n",
      "FastEstimator-Train: step: 1; ce: 2.292087;\n",
      "FastEstimator-Train: step: 100; ce: 0.3137861; steps/sec: 146.53;\n",
      "FastEstimator-Train: step: 200; ce: 0.31024012; steps/sec: 154.01;\n",
      "FastEstimator-Train: step: 200; epoch: 1; epoch_time: 2.9 sec;\n",
      "FastEstimator-Finish: step: 200; model_lr: 0.01; total_time: 3.35 sec;\n",
      "FastEstimator-Test: step: 200; epoch: 1; ce: 0.21014857;\n",
      "FastEstimator-Search: Evaluated {'batch_size': 32, 'lr': 0.01, 'search_idx': 1}, score: 0.21014857292175293\n",
      "    ______           __  ______     __  _                 __            \n",
      "   / ____/___ ______/ /_/ ____/____/ /_(_)___ ___  ____ _/ /_____  _____\n",
      "  / /_  / __ `/ ___/ __/ __/ / ___/ __/ / __ `__ \\/ __ `/ __/ __ \\/ ___/\n",
      " / __/ / /_/ (__  ) /_/ /___(__  ) /_/ / / / / / / /_/ / /_/ /_/ / /    \n",
      "/_/    \\__,_/____/\\__/_____/____/\\__/_/_/ /_/ /_/\\__,_/\\__/\\____/_/     \n",
      "                                                                        \n",
      "\n",
      "FastEstimator-Warn: No ModelSaver Trace detected. Models will not be saved.\n",
      "FastEstimator-Start: step: 1; logging_interval: 100; num_device: 0;\n",
      "FastEstimator-Train: step: 1; ce: 2.3159466;\n",
      "FastEstimator-Train: step: 100; ce: 0.19143611; steps/sec: 137.74;\n",
      "FastEstimator-Train: step: 200; ce: 0.46275252; steps/sec: 164.92;\n",
      "FastEstimator-Train: step: 200; epoch: 1; epoch_time: 1.54 sec;\n",
      "FastEstimator-Finish: step: 200; model_lr: 0.001; total_time: 1.63 sec;\n",
      "FastEstimator-Test: step: 200; epoch: 1; ce: 0.21326771;\n",
      "FastEstimator-Search: Evaluated {'batch_size': 32, 'lr': 0.001, 'search_idx': 2}, score: 0.2132677137851715\n",
      "    ______           __  ______     __  _                 __            \n",
      "   / ____/___ ______/ /_/ ____/____/ /_(_)___ ___  ____ _/ /_____  _____\n",
      "  / /_  / __ `/ ___/ __/ __/ / ___/ __/ / __ `__ \\/ __ `/ __/ __ \\/ ___/\n",
      " / __/ / /_/ (__  ) /_/ /___(__  ) /_/ / / / / / / /_/ / /_/ /_/ / /    \n",
      "/_/    \\__,_/____/\\__/_____/____/\\__/_/_/ /_/ /_/\\__,_/\\__/\\____/_/     \n",
      "                                                                        \n",
      "\n",
      "FastEstimator-Warn: No ModelSaver Trace detected. Models will not be saved.\n",
      "FastEstimator-Start: step: 1; logging_interval: 100; num_device: 0;\n",
      "FastEstimator-Train: step: 1; ce: 2.3091617;\n",
      "FastEstimator-Train: step: 100; ce: 0.26473606; steps/sec: 92.84;\n",
      "FastEstimator-Train: step: 200; ce: 0.094012745; steps/sec: 104.31;\n",
      "FastEstimator-Train: step: 200; epoch: 1; epoch_time: 2.26 sec;\n",
      "FastEstimator-Finish: step: 200; model_lr: 0.01; total_time: 2.36 sec;\n",
      "FastEstimator-Test: step: 200; epoch: 1; ce: 0.11212203;\n",
      "FastEstimator-Search: Evaluated {'batch_size': 64, 'lr': 0.01, 'search_idx': 3}, score: 0.11212202906608582\n",
      "    ______           __  ______     __  _                 __            \n",
      "   / ____/___ ______/ /_/ ____/____/ /_(_)___ ___  ____ _/ /_____  _____\n",
      "  / /_  / __ `/ ___/ __/ __/ / ___/ __/ / __ `__ \\/ __ `/ __/ __ \\/ ___/\n",
      " / __/ / /_/ (__  ) /_/ /___(__  ) /_/ / / / / / / /_/ / /_/ /_/ / /    \n",
      "/_/    \\__,_/____/\\__/_____/____/\\__/_/_/ /_/ /_/\\__,_/\\__/\\____/_/     \n",
      "                                                                        \n",
      "\n",
      "FastEstimator-Warn: No ModelSaver Trace detected. Models will not be saved.\n",
      "FastEstimator-Start: step: 1; logging_interval: 100; num_device: 0;\n",
      "FastEstimator-Train: step: 1; ce: 2.2963362;\n",
      "FastEstimator-Train: step: 100; ce: 0.25377798; steps/sec: 95.01;\n",
      "FastEstimator-Train: step: 200; ce: 0.2405545; steps/sec: 113.96;\n",
      "FastEstimator-Train: step: 200; epoch: 1; epoch_time: 2.16 sec;\n",
      "FastEstimator-Finish: step: 200; model_lr: 0.001; total_time: 2.27 sec;\n",
      "FastEstimator-Test: step: 200; epoch: 1; ce: 0.16898704;\n",
      "FastEstimator-Search: Evaluated {'batch_size': 64, 'lr': 0.001, 'search_idx': 4}, score: 0.16898703575134277\n",
      "FastEstimator-Search: Grid Search Finished, best parameters: {'batch_size': 64, 'lr': 0.01, 'search_idx': 3}, best score: 0.11212202906608582\n"
     ]
    }
   ],
   "source": [
    "mnist_grid_search.fit()"
   ]
  },
  {
   "cell_type": "markdown",
   "metadata": {},
   "source": [
    "From the results we can see that, with only 200 steps of training, a bigger batch size and a larger learning rate combination is preferred."
   ]
  },
  {
   "cell_type": "markdown",
   "metadata": {},
   "source": [
    "<a id='ta12example2'></a>"
   ]
  },
  {
   "cell_type": "markdown",
   "metadata": {},
   "source": [
    "## Example 2: RUA Augmentation via Golden-Section Search\n",
    "\n",
    "In this example, we will use a built-in augmentation NumpyOp - RUA - and find the optimial level between 0 to 30 using `Golden-Section` search. The test result will be evaluated on the ciFAIR10 dataset after 500 steps of training."
   ]
  },
  {
   "cell_type": "code",
   "execution_count": 10,
   "metadata": {},
   "outputs": [],
   "source": [
    "import tensorflow as tf\n",
    "import fastestimator as fe\n",
    "from fastestimator.architecture.tensorflow import LeNet\n",
    "from fastestimator.dataset.data import cifair10\n",
    "from fastestimator.op.numpyop.univariate import ExpandDims, Minmax, RUA\n",
    "from fastestimator.op.tensorop.loss import CrossEntropy\n",
    "from fastestimator.op.tensorop.model import ModelOp, UpdateOp\n",
    "\n",
    "def get_estimator(level):\n",
    "    train_data, test_data = cifair10.load_data()\n",
    "    pipeline = fe.Pipeline(train_data=train_data,\n",
    "                           test_data=test_data,\n",
    "                           batch_size=64,\n",
    "                           ops=[RUA(level=level, inputs=\"x\", outputs=\"x\", mode=\"train\"), \n",
    "                                Minmax(inputs=\"x\", outputs=\"x\")])\n",
    "    model = fe.build(model_fn=lambda: LeNet(input_shape=(32, 32, 3)), optimizer_fn=\"adam\")\n",
    "    network = fe.Network(ops=[\n",
    "        ModelOp(model=model, inputs=\"x\", outputs=\"y_pred\"),\n",
    "        CrossEntropy(inputs=(\"y_pred\", \"y\"), outputs=\"ce\"),\n",
    "        UpdateOp(model=model, loss_name=\"ce\")\n",
    "    ])\n",
    "    estimator = fe.Estimator(pipeline=pipeline,\n",
    "                             network=network,\n",
    "                             epochs=1,\n",
    "                             max_train_steps_per_epoch=500)\n",
    "    return estimator\n",
    "\n",
    "def score_fn(search_idx, level):\n",
    "    est = get_estimator(level)\n",
    "    est.fit()\n",
    "    hist = est.test(summary=\"myexp\")\n",
    "    test_loss = float(hist.history[\"test\"][\"ce\"][500])\n",
    "    return test_loss\n",
    "\n",
    "cifair10_gs_search = GoldenSection(score_fn=score_fn, x_min=0, x_max=30, max_iter=5, best_mode=\"min\")"
   ]
  },
  {
   "cell_type": "code",
   "execution_count": 11,
   "metadata": {
    "scrolled": false
   },
   "outputs": [
    {
     "name": "stdout",
     "output_type": "stream",
     "text": [
      "Downloading data from https://github.com/cvjena/cifair/releases/download/v1.0/ciFAIR-10.zip\n",
      "168615936/168614301 [==============================] - 23s 0us/step\n",
      "    ______           __  ______     __  _                 __            \n",
      "   / ____/___ ______/ /_/ ____/____/ /_(_)___ ___  ____ _/ /_____  _____\n",
      "  / /_  / __ `/ ___/ __/ __/ / ___/ __/ / __ `__ \\/ __ `/ __/ __ \\/ ___/\n",
      " / __/ / /_/ (__  ) /_/ /___(__  ) /_/ / / / / / / /_/ / /_/ /_/ / /    \n",
      "/_/    \\__,_/____/\\__/_____/____/\\__/_/_/ /_/ /_/\\__,_/\\__/\\____/_/     \n",
      "                                                                        \n",
      "\n",
      "FastEstimator-Warn: No ModelSaver Trace detected. Models will not be saved.\n",
      "FastEstimator-Start: step: 1; logging_interval: 100; num_device: 0;\n",
      "FastEstimator-Train: step: 1; ce: 2.299192;\n",
      "FastEstimator-Train: step: 100; ce: 1.9990821; steps/sec: 66.29;\n",
      "FastEstimator-Train: step: 200; ce: 1.7189915; steps/sec: 77.29;\n",
      "FastEstimator-Train: step: 300; ce: 1.3917459; steps/sec: 74.37;\n",
      "FastEstimator-Train: step: 400; ce: 1.7548736; steps/sec: 72.89;\n",
      "FastEstimator-Train: step: 500; ce: 1.6301897; steps/sec: 68.63;\n",
      "FastEstimator-Train: step: 500; epoch: 1; epoch_time: 7.26 sec;\n",
      "FastEstimator-Finish: step: 500; model_lr: 0.001; total_time: 7.39 sec;\n",
      "FastEstimator-Test: step: 500; epoch: 1; ce: 1.5230703;\n",
      "FastEstimator-Search: Evaluated {'level': 11, 'search_idx': 1}, score: 1.5230703353881836\n",
      "    ______           __  ______     __  _                 __            \n",
      "   / ____/___ ______/ /_/ ____/____/ /_(_)___ ___  ____ _/ /_____  _____\n",
      "  / /_  / __ `/ ___/ __/ __/ / ___/ __/ / __ `__ \\/ __ `/ __/ __ \\/ ___/\n",
      " / __/ / /_/ (__  ) /_/ /___(__  ) /_/ / / / / / / /_/ / /_/ /_/ / /    \n",
      "/_/    \\__,_/____/\\__/_____/____/\\__/_/_/ /_/ /_/\\__,_/\\__/\\____/_/     \n",
      "                                                                        \n",
      "\n",
      "FastEstimator-Warn: No ModelSaver Trace detected. Models will not be saved.\n",
      "FastEstimator-Start: step: 1; logging_interval: 100; num_device: 0;\n",
      "FastEstimator-Train: step: 1; ce: 2.302093;\n",
      "FastEstimator-Train: step: 100; ce: 2.2276726; steps/sec: 59.68;\n",
      "FastEstimator-Train: step: 200; ce: 1.8196787; steps/sec: 67.21;\n",
      "FastEstimator-Train: step: 300; ce: 1.7125396; steps/sec: 67.33;\n",
      "FastEstimator-Train: step: 400; ce: 1.9558158; steps/sec: 61.51;\n",
      "FastEstimator-Train: step: 500; ce: 1.8046427; steps/sec: 57.66;\n",
      "FastEstimator-Train: step: 500; epoch: 1; epoch_time: 8.31 sec;\n",
      "FastEstimator-Finish: step: 500; model_lr: 0.001; total_time: 8.48 sec;\n",
      "FastEstimator-Test: step: 500; epoch: 1; ce: 1.5015539;\n",
      "FastEstimator-Search: Evaluated {'level': 18, 'search_idx': 2}, score: 1.5015538930892944\n",
      "    ______           __  ______     __  _                 __            \n",
      "   / ____/___ ______/ /_/ ____/____/ /_(_)___ ___  ____ _/ /_____  _____\n",
      "  / /_  / __ `/ ___/ __/ __/ / ___/ __/ / __ `__ \\/ __ `/ __/ __ \\/ ___/\n",
      " / __/ / /_/ (__  ) /_/ /___(__  ) /_/ / / / / / / /_/ / /_/ /_/ / /    \n",
      "/_/    \\__,_/____/\\__/_____/____/\\__/_/_/ /_/ /_/\\__,_/\\__/\\____/_/     \n",
      "                                                                        \n",
      "\n",
      "FastEstimator-Warn: No ModelSaver Trace detected. Models will not be saved.\n",
      "FastEstimator-Start: step: 1; logging_interval: 100; num_device: 0;\n",
      "FastEstimator-Train: step: 1; ce: 2.2977169;\n",
      "FastEstimator-Train: step: 100; ce: 2.1189532; steps/sec: 57.86;\n",
      "FastEstimator-Train: step: 200; ce: 1.9732833; steps/sec: 63.68;\n",
      "FastEstimator-Train: step: 300; ce: 1.894378; steps/sec: 64.43;\n",
      "FastEstimator-Train: step: 400; ce: 1.8973417; steps/sec: 58.05;\n",
      "FastEstimator-Train: step: 500; ce: 1.9629371; steps/sec: 57.88;\n",
      "FastEstimator-Train: step: 500; epoch: 1; epoch_time: 8.65 sec;\n",
      "FastEstimator-Finish: step: 500; model_lr: 0.001; total_time: 8.82 sec;\n",
      "FastEstimator-Test: step: 500; epoch: 1; ce: 1.6366869;\n",
      "FastEstimator-Search: Evaluated {'level': 22, 'search_idx': 3}, score: 1.63668692111969\n",
      "    ______           __  ______     __  _                 __            \n",
      "   / ____/___ ______/ /_/ ____/____/ /_(_)___ ___  ____ _/ /_____  _____\n",
      "  / /_  / __ `/ ___/ __/ __/ / ___/ __/ / __ `__ \\/ __ `/ __/ __ \\/ ___/\n",
      " / __/ / /_/ (__  ) /_/ /___(__  ) /_/ / / / / / / /_/ / /_/ /_/ / /    \n",
      "/_/    \\__,_/____/\\__/_____/____/\\__/_/_/ /_/ /_/\\__,_/\\__/\\____/_/     \n",
      "                                                                        \n",
      "\n",
      "FastEstimator-Warn: No ModelSaver Trace detected. Models will not be saved.\n",
      "FastEstimator-Start: step: 1; logging_interval: 100; num_device: 0;\n",
      "FastEstimator-Train: step: 1; ce: 2.3020601;\n",
      "FastEstimator-Train: step: 100; ce: 2.1016774; steps/sec: 58.07;\n",
      "FastEstimator-Train: step: 200; ce: 1.9502311; steps/sec: 62.04;\n",
      "FastEstimator-Train: step: 300; ce: 1.8442136; steps/sec: 62.1;\n",
      "FastEstimator-Train: step: 400; ce: 1.8126183; steps/sec: 56.72;\n",
      "FastEstimator-Train: step: 500; ce: 1.7455528; steps/sec: 53.78;\n",
      "FastEstimator-Train: step: 500; epoch: 1; epoch_time: 8.92 sec;\n",
      "FastEstimator-Finish: step: 500; model_lr: 0.001; total_time: 9.08 sec;\n",
      "FastEstimator-Test: step: 500; epoch: 1; ce: 1.5271283;\n",
      "FastEstimator-Search: Evaluated {'level': 15, 'search_idx': 4}, score: 1.5271283388137817\n",
      "    ______           __  ______     __  _                 __            \n",
      "   / ____/___ ______/ /_/ ____/____/ /_(_)___ ___  ____ _/ /_____  _____\n",
      "  / /_  / __ `/ ___/ __/ __/ / ___/ __/ / __ `__ \\/ __ `/ __/ __ \\/ ___/\n",
      " / __/ / /_/ (__  ) /_/ /___(__  ) /_/ / / / / / / /_/ / /_/ /_/ / /    \n",
      "/_/    \\__,_/____/\\__/_____/____/\\__/_/_/ /_/ /_/\\__,_/\\__/\\____/_/     \n",
      "                                                                        \n",
      "\n",
      "FastEstimator-Warn: No ModelSaver Trace detected. Models will not be saved.\n",
      "FastEstimator-Start: step: 1; logging_interval: 100; num_device: 0;\n",
      "FastEstimator-Train: step: 1; ce: 2.324464;\n",
      "FastEstimator-Train: step: 100; ce: 2.2083392; steps/sec: 58.28;\n",
      "FastEstimator-Train: step: 200; ce: 2.0500524; steps/sec: 58.73;\n",
      "FastEstimator-Train: step: 300; ce: 1.8044301; steps/sec: 50.89;\n",
      "FastEstimator-Train: step: 400; ce: 2.0170183; steps/sec: 46.73;\n",
      "FastEstimator-Train: step: 500; ce: 1.8905652; steps/sec: 47.5;\n",
      "FastEstimator-Train: step: 500; epoch: 1; epoch_time: 9.99 sec;\n",
      "FastEstimator-Finish: step: 500; model_lr: 0.001; total_time: 10.17 sec;\n",
      "FastEstimator-Test: step: 500; epoch: 1; ce: 1.5466335;\n",
      "FastEstimator-Search: Evaluated {'level': 19, 'search_idx': 5}, score: 1.5466334819793701\n",
      "    ______           __  ______     __  _                 __            \n",
      "   / ____/___ ______/ /_/ ____/____/ /_(_)___ ___  ____ _/ /_____  _____\n",
      "  / /_  / __ `/ ___/ __/ __/ / ___/ __/ / __ `__ \\/ __ `/ __/ __ \\/ ___/\n",
      " / __/ / /_/ (__  ) /_/ /___(__  ) /_/ / / / / / / /_/ / /_/ /_/ / /    \n",
      "/_/    \\__,_/____/\\__/_____/____/\\__/_/_/ /_/ /_/\\__,_/\\__/\\____/_/     \n",
      "                                                                        \n",
      "\n",
      "FastEstimator-Warn: No ModelSaver Trace detected. Models will not be saved.\n",
      "FastEstimator-Start: step: 1; logging_interval: 100; num_device: 0;\n",
      "FastEstimator-Train: step: 1; ce: 2.3080528;\n",
      "FastEstimator-Train: step: 100; ce: 2.210803; steps/sec: 57.77;\n",
      "FastEstimator-Train: step: 200; ce: 1.7868292; steps/sec: 61.79;\n",
      "FastEstimator-Train: step: 300; ce: 1.653916; steps/sec: 56.26;\n",
      "FastEstimator-Train: step: 400; ce: 1.8160346; steps/sec: 56.2;\n",
      "FastEstimator-Train: step: 500; ce: 1.74243; steps/sec: 55.42;\n",
      "FastEstimator-Train: step: 500; epoch: 1; epoch_time: 9.05 sec;\n",
      "FastEstimator-Finish: step: 500; model_lr: 0.001; total_time: 9.23 sec;\n",
      "FastEstimator-Test: step: 500; epoch: 1; ce: 1.5080028;\n",
      "FastEstimator-Search: Evaluated {'level': 16, 'search_idx': 6}, score: 1.508002758026123\n",
      "    ______           __  ______     __  _                 __            \n",
      "   / ____/___ ______/ /_/ ____/____/ /_(_)___ ___  ____ _/ /_____  _____\n",
      "  / /_  / __ `/ ___/ __/ __/ / ___/ __/ / __ `__ \\/ __ `/ __/ __ \\/ ___/\n",
      " / __/ / /_/ (__  ) /_/ /___(__  ) /_/ / / / / / / /_/ / /_/ /_/ / /    \n",
      "/_/    \\__,_/____/\\__/_____/____/\\__/_/_/ /_/ /_/\\__,_/\\__/\\____/_/     \n",
      "                                                                        \n",
      "\n",
      "FastEstimator-Warn: No ModelSaver Trace detected. Models will not be saved.\n",
      "FastEstimator-Start: step: 1; logging_interval: 100; num_device: 0;\n",
      "FastEstimator-Train: step: 1; ce: 2.302072;\n",
      "FastEstimator-Train: step: 100; ce: 2.0141592; steps/sec: 48.22;\n"
     ]
    },
    {
     "name": "stdout",
     "output_type": "stream",
     "text": [
      "FastEstimator-Train: step: 200; ce: 1.8634024; steps/sec: 54.09;\n",
      "FastEstimator-Train: step: 300; ce: 1.7860389; steps/sec: 57.86;\n",
      "FastEstimator-Train: step: 400; ce: 1.7737244; steps/sec: 52.19;\n",
      "FastEstimator-Train: step: 500; ce: 1.5106875; steps/sec: 55.76;\n",
      "FastEstimator-Train: step: 500; epoch: 1; epoch_time: 9.78 sec;\n",
      "FastEstimator-Finish: step: 500; model_lr: 0.001; total_time: 10.01 sec;\n",
      "FastEstimator-Test: step: 500; epoch: 1; ce: 1.4974371;\n",
      "FastEstimator-Search: Evaluated {'level': 17, 'search_idx': 7}, score: 1.4974371194839478\n",
      "FastEstimator-Search: Golden Section Search Finished, best parameters: {'level': 17, 'search_idx': 7}, best score: 1.4974371194839478\n"
     ]
    }
   ],
   "source": [
    "cifair10_gs_search.fit()"
   ]
  },
  {
   "cell_type": "markdown",
   "metadata": {},
   "source": [
    "In this example, the optimial level we found is 4. We can then train the model again using `level=4` to get the final model. In a real use case you will want to perform parameter search on a held-out evaluation set, and test the best parameters on the test set."
   ]
  }
 ],
 "metadata": {
  "kernelspec": {
   "display_name": "Python 3",
   "language": "python",
   "name": "python3"
  },
  "language_info": {
   "codemirror_mode": {
    "name": "ipython",
    "version": 3
   },
   "file_extension": ".py",
   "mimetype": "text/x-python",
   "name": "python",
   "nbconvert_exporter": "python",
   "pygments_lexer": "ipython3",
   "version": "3.8.5"
  }
 },
 "nbformat": 4,
 "nbformat_minor": 4
}
