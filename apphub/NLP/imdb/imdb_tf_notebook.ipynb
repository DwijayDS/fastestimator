{
 "cells": [
  {
   "cell_type": "markdown",
   "metadata": {},
   "source": [
    "<h1>IMDB Reviews sentiments prediction using LSTM</h1>"
   ]
  },
  {
   "cell_type": "code",
   "execution_count": 1,
   "metadata": {},
   "outputs": [],
   "source": [
    "import os\n",
    "import numpy as np\n",
    "import tempfile\n",
    "import tensorflow as tf\n",
    "from tensorflow.python.keras import layers\n",
    "import fastestimator as fe\n",
    "from fastestimator.dataset.data import imdb_review\n",
    "from fastestimator.op.numpyop.univariate.reshape import Reshape\n",
    "from fastestimator.op.tensorop.loss import CrossEntropy\n",
    "from fastestimator.op.tensorop.model import ModelOp, UpdateOp\n",
    "from fastestimator.trace.io import BestModelSaver\n",
    "from fastestimator.trace.metric import Accuracy\n",
    "from fastestimator.backend import feed_forward"
   ]
  },
  {
   "cell_type": "code",
   "execution_count": 2,
   "metadata": {},
   "outputs": [],
   "source": [
    "MAX_WORDS = 10000\n",
    "MAX_LEN = 500\n",
    "batch_size = 64\n",
    "epochs = 10"
   ]
  },
  {
   "cell_type": "markdown",
   "metadata": {},
   "source": [
    "<h2>Building components</h2>"
   ]
  },
  {
   "cell_type": "markdown",
   "metadata": {},
   "source": [
    "<h3>Step 1: Prepare training & evaluation data and define Pipeline</h3>"
   ]
  },
  {
   "cell_type": "markdown",
   "metadata": {},
   "source": [
    "We are loading the dataset from the tf.keras.datasets.imdb which contains movie reviews and sentiment scores. All the words have been replaced with the integers that specifies the popularity of the word in corpus. To ensure all the sequences are of same length we need to pad the input sequences before defining the Pipeline."
   ]
  },
  {
   "cell_type": "code",
   "execution_count": 3,
   "metadata": {},
   "outputs": [],
   "source": [
    "train_data, eval_data = imdb_review.load_data(MAX_LEN, MAX_WORDS)\n",
    "pipeline = fe.Pipeline(train_data=train_data,\n",
    "                       eval_data=eval_data,\n",
    "                       batch_size=batch_size,\n",
    "                       ops=Reshape(1, inputs=\"y\", outputs=\"y\"))"
   ]
  },
  {
   "cell_type": "markdown",
   "metadata": {},
   "source": [
    "<h3>Step 2: Create model and FastEstimator network</h3>"
   ]
  },
  {
   "cell_type": "markdown",
   "metadata": {},
   "source": [
    "First, we have to define the network architecture and after defining the architecture, users are expected to feed the architecture definition, its associated model name and optimizer to fe.build."
   ]
  },
  {
   "cell_type": "code",
   "execution_count": 4,
   "metadata": {},
   "outputs": [],
   "source": [
    "def create_lstm():\n",
    "    model = tf.keras.Sequential()\n",
    "    model.add(layers.Embedding(MAX_WORDS, 64, input_length=MAX_LEN))\n",
    "    model.add(layers.Conv1D(32, 3, padding='same', activation='relu'))\n",
    "    model.add(layers.MaxPooling1D(pool_size=4))\n",
    "    model.add(layers.LSTM(64))\n",
    "    model.add(layers.Dense(250, activation='relu'))\n",
    "    model.add(layers.Dense(1, activation=\"sigmoid\"))\n",
    "    return model"
   ]
  },
  {
   "cell_type": "markdown",
   "metadata": {},
   "source": [
    "Network is the object that define the whole logic of neural network, including models, loss functions, optimizers etc. A Network can have several different models and loss funcitons (like GAN). <b>fe.Network</b> takes series of operators and here we feed our model in the ModelOp with inputs and outputs. It should be noted that the y_pred is the key in the data dictionary which will store the predictions."
   ]
  },
  {
   "cell_type": "code",
   "execution_count": 5,
   "metadata": {},
   "outputs": [],
   "source": [
    "model = fe.build(model_fn=create_lstm, optimizer_fn=\"adam\")\n",
    "network = fe.Network(ops=[\n",
    "    ModelOp(model=model, inputs=\"x\", outputs=\"y_pred\"),\n",
    "    CrossEntropy(inputs=(\"y_pred\", \"y\"), outputs=\"loss\"),\n",
    "    UpdateOp(model=model, loss_name=\"loss\")\n",
    "])"
   ]
  },
  {
   "cell_type": "markdown",
   "metadata": {},
   "source": [
    "<h3>Step 3: Prepare estimator and configure the training loop</h3>"
   ]
  },
  {
   "cell_type": "markdown",
   "metadata": {},
   "source": [
    "<b>Estimator</b> is the API that wrap up the Pipeline, Network and other training metadata together. Estimator basically has four arguments network, pipeline, epochs and traces. Network and Pipeline objects are passed here as an argument. Traces are similar to the callbacks of Keras. The trace object will be called on specific timing during the training."
   ]
  },
  {
   "cell_type": "markdown",
   "metadata": {},
   "source": [
    "In the training loop, we want to measure the validation loss and save the model that has the minimum loss. BestModelSaver and Accuracy in the Trace class provide this convenient feature of storing the model."
   ]
  },
  {
   "cell_type": "code",
   "execution_count": 6,
   "metadata": {},
   "outputs": [],
   "source": [
    "model_dir=tempfile.mkdtemp()\n",
    "traces = [Accuracy(true_key=\"y\", pred_key=\"y_pred\"), BestModelSaver(model=model, save_dir=model_dir)]\n",
    "estimator = fe.Estimator(network=network,\n",
    "                         pipeline=pipeline,\n",
    "                         epochs=epochs,\n",
    "                         traces=traces)"
   ]
  },
  {
   "cell_type": "markdown",
   "metadata": {},
   "source": [
    "<h2>Training</h2>"
   ]
  },
  {
   "cell_type": "code",
   "execution_count": 7,
   "metadata": {},
   "outputs": [
    {
     "name": "stdout",
     "output_type": "stream",
     "text": [
      "    ______           __  ______     __  _                 __            \n",
      "   / ____/___ ______/ /_/ ____/____/ /_(_)___ ___  ____ _/ /_____  _____\n",
      "  / /_  / __ `/ ___/ __/ __/ / ___/ __/ / __ `__ \\/ __ `/ __/ __ \\/ ___/\n",
      " / __/ / /_/ (__  ) /_/ /___(__  ) /_/ / / / / / / /_/ / /_/ /_/ / /    \n",
      "/_/    \\__,_/____/\\__/_____/____/\\__/_/_/ /_/ /_/\\__,_/\\__/\\____/_/     \n",
      "                                                                        \n",
      "\n",
      "FastEstimator-Start: step: 0; model_lr: 0.001; \n",
      "FastEstimator-Train: step: 0; loss: 0.6929164; \n",
      "FastEstimator-Train: step: 100; loss: 0.6932731; steps/sec: 5.51; \n",
      "FastEstimator-Train: step: 200; loss: 0.6912943; steps/sec: 5.57; \n",
      "FastEstimator-Train: step: 300; loss: 0.6908546; steps/sec: 5.61; \n",
      "FastEstimator-Train: step: 391; epoch: 0; epoch_time: 74.85 sec; \n",
      "Saved model to /tmp/tmpwy8wqt20/model_best_loss.h5\n",
      "FastEstimator-Eval: step: 391; epoch: 0; loss: 0.6935511; min_loss: 0.6935511; since_best: 0; accuracy: 0.4997374325679095; \n",
      "FastEstimator-Train: step: 400; loss: 0.69422007; steps/sec: 5.25; \n",
      "FastEstimator-Train: step: 500; loss: 0.689088; steps/sec: 5.64; \n",
      "FastEstimator-Train: step: 600; loss: 0.6666703; steps/sec: 5.64; \n",
      "FastEstimator-Train: step: 700; loss: 0.69181347; steps/sec: 5.65; \n",
      "FastEstimator-Train: step: 782; epoch: 1; epoch_time: 69.41 sec; \n",
      "Saved model to /tmp/tmpwy8wqt20/model_best_loss.h5\n",
      "FastEstimator-Eval: step: 782; epoch: 1; loss: 0.69160473; min_loss: 0.69160473; since_best: 0; accuracy: 0.5075189764644101; \n",
      "FastEstimator-Train: step: 800; loss: 0.6949487; steps/sec: 5.6; \n",
      "FastEstimator-Train: step: 900; loss: 0.6865531; steps/sec: 5.65; \n",
      "FastEstimator-Train: step: 1000; loss: 0.6892569; steps/sec: 5.66; \n",
      "FastEstimator-Train: step: 1100; loss: 0.66806257; steps/sec: 5.65; \n",
      "FastEstimator-Train: step: 1173; epoch: 2; epoch_time: 69.41 sec; \n",
      "FastEstimator-Eval: step: 1173; epoch: 2; loss: 0.6935888; min_loss: 0.69160473; since_best: 1; accuracy: 0.5000238697665537; \n",
      "FastEstimator-Train: step: 1200; loss: 0.69353485; steps/sec: 5.57; \n",
      "FastEstimator-Train: step: 1300; loss: 0.6932087; steps/sec: 5.64; \n",
      "FastEstimator-Train: step: 1400; loss: 0.69351435; steps/sec: 5.64; \n",
      "FastEstimator-Train: step: 1500; loss: 0.6975651; steps/sec: 5.62; \n",
      "FastEstimator-Train: step: 1564; epoch: 3; epoch_time: 69.54 sec; \n",
      "Saved model to /tmp/tmpwy8wqt20/model_best_loss.h5\n",
      "FastEstimator-Eval: step: 1564; epoch: 3; loss: 0.5773923; min_loss: 0.5773923; since_best: 0; accuracy: 0.691172960328448; \n",
      "FastEstimator-Train: step: 1600; loss: 0.5337138; steps/sec: 5.6; \n",
      "FastEstimator-Train: step: 1700; loss: 0.6982765; steps/sec: 5.64; \n",
      "FastEstimator-Train: step: 1800; loss: 0.6663608; steps/sec: 5.64; \n",
      "FastEstimator-Train: step: 1900; loss: 0.6894572; steps/sec: 5.64; \n",
      "FastEstimator-Train: step: 1955; epoch: 4; epoch_time: 69.55 sec; \n",
      "FastEstimator-Eval: step: 1955; epoch: 4; loss: 0.69269764; min_loss: 0.5773923; since_best: 1; accuracy: 0.5025063254881367; \n",
      "FastEstimator-Train: step: 2000; loss: 0.5825332; steps/sec: 5.59; \n",
      "FastEstimator-Train: step: 2100; loss: 0.6902261; steps/sec: 5.67; \n",
      "FastEstimator-Train: step: 2200; loss: 0.69170463; steps/sec: 5.64; \n",
      "FastEstimator-Train: step: 2300; loss: 0.6878234; steps/sec: 5.64; \n",
      "FastEstimator-Train: step: 2346; epoch: 5; epoch_time: 69.4 sec; \n",
      "FastEstimator-Eval: step: 2346; epoch: 5; loss: 0.6920334; min_loss: 0.5773923; since_best: 2; accuracy: 0.5016947534253114; \n",
      "FastEstimator-Train: step: 2400; loss: 0.6868669; steps/sec: 5.59; \n",
      "FastEstimator-Train: step: 2500; loss: 0.5122642; steps/sec: 5.65; \n",
      "FastEstimator-Train: step: 2600; loss: 0.57251227; steps/sec: 5.61; \n",
      "FastEstimator-Train: step: 2700; loss: 0.5875014; steps/sec: 5.61; \n",
      "FastEstimator-Train: step: 2737; epoch: 6; epoch_time: 69.63 sec; \n",
      "FastEstimator-Eval: step: 2737; epoch: 6; loss: 0.6660117; min_loss: 0.5773923; since_best: 3; accuracy: 0.5766458204038765; \n",
      "FastEstimator-Train: step: 2800; loss: 0.675334; steps/sec: 5.59; \n",
      "FastEstimator-Train: step: 2900; loss: 0.55054414; steps/sec: 5.64; \n",
      "FastEstimator-Train: step: 3000; loss: 0.23581475; steps/sec: 5.64; \n",
      "FastEstimator-Train: step: 3100; loss: 0.35192394; steps/sec: 5.65; \n",
      "FastEstimator-Train: step: 3128; epoch: 7; epoch_time: 69.44 sec; \n",
      "Saved model to /tmp/tmpwy8wqt20/model_best_loss.h5\n",
      "FastEstimator-Eval: step: 3128; epoch: 7; loss: 0.3133564; min_loss: 0.3133564; since_best: 0; accuracy: 0.8692414188189239; \n",
      "FastEstimator-Train: step: 3200; loss: 0.21063778; steps/sec: 5.58; \n",
      "FastEstimator-Train: step: 3300; loss: 0.15997383; steps/sec: 5.65; \n",
      "FastEstimator-Train: step: 3400; loss: 0.27250803; steps/sec: 5.67; \n",
      "FastEstimator-Train: step: 3500; loss: 0.19617078; steps/sec: 5.63; \n",
      "FastEstimator-Train: step: 3519; epoch: 8; epoch_time: 69.43 sec; \n",
      "Saved model to /tmp/tmpwy8wqt20/model_best_loss.h5\n",
      "FastEstimator-Eval: step: 3519; epoch: 8; loss: 0.2726157; min_loss: 0.2726157; since_best: 0; accuracy: 0.8878120971976894; \n",
      "FastEstimator-Train: step: 3600; loss: 0.11917143; steps/sec: 5.56; \n",
      "FastEstimator-Train: step: 3700; loss: 0.08033962; steps/sec: 5.63; \n",
      "FastEstimator-Train: step: 3800; loss: 0.21902601; steps/sec: 5.62; \n",
      "FastEstimator-Train: step: 3900; loss: 0.08716217; steps/sec: 5.65; \n",
      "FastEstimator-Train: step: 3910; epoch: 9; epoch_time: 69.69 sec; \n",
      "FastEstimator-Eval: step: 3910; epoch: 9; loss: 0.28430447; min_loss: 0.2726157; since_best: 1; accuracy: 0.889721678521984; \n",
      "FastEstimator-Finish: step: 3910; total_time: 855.53 sec; model_lr: 0.001; \n"
     ]
    }
   ],
   "source": [
    "estimator.fit()"
   ]
  },
  {
   "cell_type": "markdown",
   "metadata": {},
   "source": [
    "<h2>Inferencing</h2>"
   ]
  },
  {
   "cell_type": "markdown",
   "metadata": {},
   "source": [
    "For inferencing, first we have to load the trained model weights. We saved model weights with minimum loss and we will load the weights using <i>fe.build()</i>"
   ]
  },
  {
   "cell_type": "code",
   "execution_count": 8,
   "metadata": {},
   "outputs": [
    {
     "name": "stdout",
     "output_type": "stream",
     "text": [
      "Loaded model weights from /tmp/tmpwy8wqt20/model_best_loss.h5\n"
     ]
    }
   ],
   "source": [
    "model_name = 'model_best_loss.h5'\n",
    "model_path = os.path.join(model_dir, model_name)\n",
    "trained_model = fe.build(model_fn=create_lstm, weights_path=model_path, optimizer_fn=\"adam\")"
   ]
  },
  {
   "cell_type": "markdown",
   "metadata": {},
   "source": [
    "Get any random sequence and compare the prediction with the ground truth."
   ]
  },
  {
   "cell_type": "code",
   "execution_count": 9,
   "metadata": {},
   "outputs": [
    {
     "name": "stdout",
     "output_type": "stream",
     "text": [
      "Ground truth is:  0\n"
     ]
    }
   ],
   "source": [
    "selected_idx = np.random.randint(10000)\n",
    "print(\"Ground truth is: \",eval_data[selected_idx]['y'])"
   ]
  },
  {
   "cell_type": "markdown",
   "metadata": {},
   "source": [
    "Create data dictionary for the inference. <i>Transform()</i> function in Pipeline and Network applies all the operations on the given data."
   ]
  },
  {
   "cell_type": "code",
   "execution_count": 10,
   "metadata": {},
   "outputs": [],
   "source": [
    "infer_data = {\"x\":eval_data[selected_idx]['x'], \"y\":eval_data[selected_idx]['y']}\n",
    "data = pipeline.transform(infer_data, mode=\"infer\")\n",
    "data = network.transform(data, mode=\"infer\")"
   ]
  },
  {
   "cell_type": "markdown",
   "metadata": {},
   "source": [
    "Finally, pass the model and data to the <i>feed_forward</i> for the inferencing"
   ]
  },
  {
   "cell_type": "code",
   "execution_count": 11,
   "metadata": {},
   "outputs": [
    {
     "name": "stdout",
     "output_type": "stream",
     "text": [
      "Prediction for the input sequence:  0.19546185\n"
     ]
    }
   ],
   "source": [
    "prediction = feed_forward(trained_model, data['x'], training=False)\n",
    "print(\"Prediction for the input sequence: \",np.array(prediction)[0][0])"
   ]
  },
  {
   "cell_type": "code",
   "execution_count": null,
   "metadata": {},
   "outputs": [],
   "source": []
  }
 ],
 "metadata": {
  "kernelspec": {
   "display_name": "fastestimator",
   "language": "python",
   "name": "fastestimator"
  },
  "language_info": {
   "codemirror_mode": {
    "name": "ipython",
    "version": 3
   },
   "file_extension": ".py",
   "mimetype": "text/x-python",
   "name": "python",
   "nbconvert_exporter": "python",
   "pygments_lexer": "ipython3",
   "version": "3.6.10"
  }
 },
 "nbformat": 4,
 "nbformat_minor": 4
}
