{
 "cells": [
  {
   "cell_type": "markdown",
   "metadata": {},
   "source": [
    "![](\"three_API.png\")"
   ]
  },
  {
   "cell_type": "markdown",
   "metadata": {},
   "source": [
    "# Getting Started with FastEstimator\n",
    "\n",
    "## Overview\n",
    "Welcome to FastEstimator(FE). In this tutorial we are going to cover:\n",
    "* Three main APIs of FastEstimator: `Pipeline`, `Network`, `Estimator`\n",
    "* Two basic logic units: `Op`, `Trace`\n",
    "* How to express `Op` and `Trace` connection\n",
    "* How mode works in `Op` and `Trace`\n",
    "* Example code of image classification"
   ]
  },
  {
   "cell_type": "markdown",
   "metadata": {},
   "source": [
    "## Three main APIs\n",
    "All deep learning training workﬂows involve three essential components: data pipeline, network, and optimization plan. Data pipeline extracts data from disk to RAM, performs transformations, and then loads the data onto the device. Network stores trainable and differentiable graphs. Optimization strategy combines data pipeline and network in an iterative process. Each of these components represents a critical API in FastEstimator: `Pipeline`, `Network`, and `Estimator`. Users will interact with these three APIs for any deep learning task.\n",
    "\n",
    "* `Pipeline`: Pipeline summarize Extraction-Transformation-Load (ETL) process. It contains the data source and data preprocessing operations. <br> <br>\n",
    "* `Network`: Network manage trainable model and untrainable graph. <br> <br>\n",
    "* `Estimator`: Estimator wrap up both `Pipeline` and `Netowrk` together, and defines what else to do in the training loop except for updating the model. \n",
    "\n",
    "<img src=\"../image/three_API.PNG\" alt=\"drawing\" width=\"700\"/>"
   ]
  },
  {
   "cell_type": "markdown",
   "metadata": {},
   "source": [
    "## Two basic logic units\n",
    "If the three main APIs build the FastEstimator application, what build those APIs?.\n",
    "The central component of Pipeline and Network is `Op`(Operator), and of Estimator is `Trace`. Operator and Trace are both core concepts which differentiate FastEstimator from other frameworks.\n",
    "\n",
    "* `Op`: The logic unit in `Pipeline` and `Network`. In one hand they serve as data preprocessing step inside Pipeline. In the other hand they serve as data post-processing step, model function, and model update unit inside Network <br><br>\n",
    "* `Trace`: The logic unit in `Estimator`. It is usually used as metric calculation or callback function for monitoring training and model saving.\n"
   ]
  },
  {
   "cell_type": "markdown",
   "metadata": {},
   "source": [
    "## How to express `Op` and `Trace` connection\n",
    "`Op` and `Trace` are the basic blocks composing FastEstimator network. But how these blocks connect to each other? \n",
    "FastEstimator express topology by sharing node names (keys) in blocks argument: `inputs` and `outputs`. \n",
    "\n",
    "### Create a new node \n",
    "Node names can be any string. If the node name doesn't exist yet, it will create a new node in the graph.\n",
    "\n",
    "<img src=\"../image/connection1.PNG\" alt=\"drawing\" width=\"700\"/>\n",
    "\n",
    "### Overwrite a node\n",
    "Nodes can be overwritten by a block's output, but the overwritten node can not be accessed in the next block. \n",
    "\n",
    "<img src=\"../image/connection3.PNG\" alt=\"drawing\" width=\"700\"/>\n",
    "In this example, the block B cannot access original node x after block A overwrote it.\n",
    "\n",
    "### Multiple inputs and outputs\n",
    "Some Ops and Trace can have multiple inputs and outputs.\n",
    "\n",
    "<img src=\"../image/connection2.PNG\" alt=\"drawing\" width=\"700\"/>\n",
    "\n",
    "### Dynamic graph \n",
    "FastEstimator topology can vary in different epochs by using `Scheduler`. Please check out **Advanced tutorial: Scheduler** for more details. \n",
    "\n",
    "<img src=\"../image/connection4.PNG\" alt=\"drawing\" width=\"700\"/>"
   ]
  },
  {
   "cell_type": "markdown",
   "metadata": {},
   "source": [
    "## How mode works in `Op` and `Trace`\n",
    "FastEstimator have four different graph: `train`, `eval`, `test`, `infer`. Each graph is completely independent with others and only one graph will be active at a time. Only when the mode is active does the graph with same name be activated.\n",
    "\n",
    "* `train` mode: Activate `train` graph. The mode is on by calling Estimator.fit()  \n",
    "* `eval` mode: Activate `eval` graph. The mode is on by calling Estimator.fit() after training phase, \n",
    "* `test` mode: Activate `test` graph. The mode is on by calling Estimator.test()\n",
    "* `infer` mode: Activate `infer` graph. The mode is on by calling Pipeline.transform(), and Network.transform()\n",
    "\n",
    "Mode argument in Trace and Op class is to specify which graph this object is going to be located. (In the other word, it specify which mode will activate this object) \n",
    "\n",
    "### How to specify mode\n",
    "1. Specify single mode.<br> \n",
    "  ex: Op(mode=\"train\") <br><br>\n",
    "\n",
    "2. Specify multiple mode.<br>\n",
    "  ex: Op(mode=[\"train\", \"test\"]) <br><br>\n",
    "\n",
    "3. Specify exception mode. Prefix a \"!\" on a mode, and then all other modes will activated this object. <br>\n",
    "  ex: Op(mode=\"!train\") <br><br>\n",
    "\n",
    "4. Specify all modes. It is the default value of mode setting<br>\n",
    "  ex: Op(mode=None)\n",
    "\n"
   ]
  },
  {
   "cell_type": "markdown",
   "metadata": {},
   "source": [
    "## Code example for MNIST image classification \n",
    "All FastEstimator applications basically contain three main steps which repectively corresponds to three main APIs:\n",
    "* Step 1: Data and Pipeline preparation\n",
    "* Step 2: Network construction\n",
    "* Step 3: Estimator definition \n",
    "\n",
    "Here we are going to demonstrate training MNIST image classification model with FastEstimator following these 3-steps process. The diagram illustrate the idea of how those APIs, `Ops`, and `Traces` connects in this specific case.\n",
    "\n",
    "For more deep learning application examples, please check out our **Apphub** which have various end-to-end tutorials for many classic model. \n",
    "\n",
    "<img src=\"../image/MNIST_workflow.PNG\" alt=\"drawing\" width=\"700\"/>"
   ]
  },
  {
   "cell_type": "markdown",
   "metadata": {},
   "source": [
    "### Step 1 - Data and `Pipeline` preparation\n",
    "In this step, we will load MNIST training and validation datasets and prepare FastEstimator's pipeline.\n",
    "#### Load dataset\n",
    "We use FastEstimator APIs to load the MNIST dataset and get the test set by splitting 50% evaluation set. Please check out **Beginner tutorial: FastEstimator Dataset** for more details."
   ]
  },
  {
   "cell_type": "code",
   "execution_count": 1,
   "metadata": {},
   "outputs": [],
   "source": [
    "import fastestimator as fe\n",
    "from fastestimator.dataset.data import mnist\n",
    "\n",
    "train_data, eval_data = mnist.load_data()\n",
    "test_data = eval_data.split(0.5)"
   ]
  },
  {
   "cell_type": "markdown",
   "metadata": {},
   "source": [
    "#### Set up preprocessing pipeline\n",
    "For this example, the data preprocessing steps include:\n",
    "* step 1: expand image dimension from (28,28) to (28, 28, 1)\n",
    "* step 2: normalize pixel value in range of [0, 1]. <br>\n",
    "\n",
    "We set up those processing steps using `Ops` and meanwhile declare the data source (MNIST) and batch size. Please check out **Beginner tutorial: Create Pipeline** for more details."
   ]
  },
  {
   "cell_type": "code",
   "execution_count": 2,
   "metadata": {},
   "outputs": [],
   "source": [
    "from fastestimator.op.numpyop.univariate import ExpandDims, Minmax\n",
    "\n",
    "pipeline = fe.Pipeline(train_data=train_data,\n",
    "                       eval_data=eval_data,\n",
    "                       batch_size=32,\n",
    "                       ops=[ExpandDims(inputs=\"x\", outputs=\"x\"), \n",
    "                            Minmax(inputs=\"x\", outputs=\"x_out\")])"
   ]
  },
  {
   "cell_type": "markdown",
   "metadata": {},
   "source": [
    "### Step 2 - `Network` construction\n",
    "#### Model construction\n",
    "Here the model definition is going to be imported from the FastEstimator predefined architecture that is implemented in Tensorflow (FastEstimator support Pytorch implementation as well). We afterwards create model instance by compiling it with specific model optimizer. Please check out **Beginner tutorial: Create Model Instance** for more details."
   ]
  },
  {
   "cell_type": "code",
   "execution_count": 3,
   "metadata": {},
   "outputs": [],
   "source": [
    "from fastestimator.architecture.tensorflow import LeNet\n",
    "\n",
    "model = fe.build(model_fn=LeNet, optimizer_fn=\"adam\")"
   ]
  },
  {
   "cell_type": "markdown",
   "metadata": {},
   "source": [
    "#### `Network` definition\n",
    "`Network` is a graph consisting of model(s) and its post-processing steps. `Ops` are its basic component that can either be logic for loss calculation, model update units, and even model. We set the mode of CrossEntropy and UpdateOp to !infer because those Ops are not needed in inference mode. Please check out **Beginner tutorial: Create Network** for more details. "
   ]
  },
  {
   "cell_type": "code",
   "execution_count": 4,
   "metadata": {},
   "outputs": [],
   "source": [
    "from fastestimator.op.tensorop.loss import CrossEntropy\n",
    "from fastestimator.op.tensorop.model import ModelOp, UpdateOp\n",
    "\n",
    "\n",
    "network = fe.Network(ops=[\n",
    "        ModelOp(model=model, inputs=\"x_out\", outputs=\"y_pred\"),\n",
    "        CrossEntropy(inputs=(\"y_pred\", \"y\"), outputs=\"ce\", mode=\"!infer\"),\n",
    "        UpdateOp(model=model, loss_name=\"ce\", mode=\"!infer\") \n",
    "    ])"
   ]
  },
  {
   "cell_type": "markdown",
   "metadata": {},
   "source": [
    "### Step 3 - `Estimator` definition and training\n",
    "In this step, we define the `Estimator` to connect the `Network` with `Pipeline` and set the `traces` which compute accuracy (Accuracy), save best model (BestModelSaver). Please check out **Beginner tutorial: Create Estimator** for more details."
   ]
  },
  {
   "cell_type": "code",
   "execution_count": 5,
   "metadata": {},
   "outputs": [
    {
     "name": "stdout",
     "output_type": "stream",
     "text": [
      "    ______           __  ______     __  _                 __            \n",
      "   / ____/___ ______/ /_/ ____/____/ /_(_)___ ___  ____ _/ /_____  _____\n",
      "  / /_  / __ `/ ___/ __/ __/ / ___/ __/ / __ `__ \\/ __ `/ __/ __ \\/ ___/\n",
      " / __/ / /_/ (__  ) /_/ /___(__  ) /_/ / / / / / / /_/ / /_/ /_/ / /    \n",
      "/_/    \\__,_/____/\\__/_____/____/\\__/_/_/ /_/ /_/\\__,_/\\__/\\____/_/     \n",
      "                                                                        \n",
      "\n",
      "FastEstimator-Start: step: 1; model_lr: 0.001; \n",
      "FastEstimator-Train: step: 1; ce: 2.2845984; \n",
      "FastEstimator-Train: step: 100; ce: 0.36052123; steps/sec: 71.82; \n",
      "FastEstimator-Train: step: 200; ce: 0.09874984; steps/sec: 70.81; \n",
      "FastEstimator-Train: step: 300; ce: 0.20694208; steps/sec: 70.33; \n",
      "FastEstimator-Train: step: 400; ce: 0.060810007; steps/sec: 72.98; \n",
      "FastEstimator-Train: step: 500; ce: 0.10247067; steps/sec: 70.26; \n",
      "FastEstimator-Train: step: 600; ce: 0.27540103; steps/sec: 76.54; \n",
      "FastEstimator-Train: step: 700; ce: 0.05150436; steps/sec: 78.42; \n",
      "FastEstimator-Train: step: 800; ce: 0.10410246; steps/sec: 70.64; \n",
      "FastEstimator-Train: step: 900; ce: 0.13080499; steps/sec: 77.72; \n",
      "FastEstimator-Train: step: 1000; ce: 0.016299434; steps/sec: 78.02; \n",
      "FastEstimator-Train: step: 1100; ce: 0.27233687; steps/sec: 75.56; \n",
      "FastEstimator-Train: step: 1200; ce: 0.046973653; steps/sec: 76.94; \n",
      "FastEstimator-Train: step: 1300; ce: 0.15755288; steps/sec: 76.27; \n",
      "FastEstimator-Train: step: 1400; ce: 0.14533372; steps/sec: 65.16; \n",
      "FastEstimator-Train: step: 1500; ce: 0.0039984058; steps/sec: 72.51; \n",
      "FastEstimator-Train: step: 1600; ce: 0.0008494018; steps/sec: 73.93; \n",
      "FastEstimator-Train: step: 1700; ce: 0.11279636; steps/sec: 74.27; \n",
      "FastEstimator-Train: step: 1800; ce: 0.040873654; steps/sec: 78.55; \n",
      "FastEstimator-Train: step: 1875; epoch: 1; epoch_time: 29.13 sec; \n",
      "FastEstimator-ModelSaver: saved model to /tmp/tmpbe64hcvp/model_best_accuracy.h5\n",
      "FastEstimator-Eval: step: 1875; epoch: 1; ce: 0.05225909; min_ce: 0.05225909; since_best: 0; accuracy: 0.9804; \n",
      "FastEstimator-Train: step: 1900; ce: 0.0017418633; steps/sec: 34.19; \n",
      "FastEstimator-Train: step: 2000; ce: 0.0006225352; steps/sec: 72.92; \n",
      "FastEstimator-Train: step: 2100; ce: 0.0035871752; steps/sec: 74.63; \n",
      "FastEstimator-Train: step: 2200; ce: 0.0041446723; steps/sec: 81.09; \n",
      "FastEstimator-Train: step: 2300; ce: 0.0016439077; steps/sec: 79.08; \n",
      "FastEstimator-Train: step: 2400; ce: 0.02433784; steps/sec: 78.74; \n",
      "FastEstimator-Train: step: 2500; ce: 0.007687046; steps/sec: 79.27; \n",
      "FastEstimator-Train: step: 2600; ce: 0.001726362; steps/sec: 78.98; \n",
      "FastEstimator-Train: step: 2700; ce: 0.0063595357; steps/sec: 76.84; \n",
      "FastEstimator-Train: step: 2800; ce: 0.03324698; steps/sec: 68.53; \n",
      "FastEstimator-Train: step: 2900; ce: 0.038586542; steps/sec: 77.62; \n",
      "FastEstimator-Train: step: 3000; ce: 0.022343947; steps/sec: 70.21; \n",
      "FastEstimator-Train: step: 3100; ce: 0.001912097; steps/sec: 69.79; \n",
      "FastEstimator-Train: step: 3200; ce: 0.03539151; steps/sec: 60.91; \n",
      "FastEstimator-Train: step: 3300; ce: 0.004044734; steps/sec: 64.07; \n",
      "FastEstimator-Train: step: 3400; ce: 0.0010005014; steps/sec: 67.52; \n",
      "FastEstimator-Train: step: 3500; ce: 0.0050933156; steps/sec: 67.4; \n",
      "FastEstimator-Train: step: 3600; ce: 0.02414955; steps/sec: 68.39; \n",
      "FastEstimator-Train: step: 3700; ce: 0.05441462; steps/sec: 68.64; \n",
      "FastEstimator-Train: step: 3750; epoch: 2; epoch_time: 27.77 sec; \n",
      "FastEstimator-ModelSaver: saved model to /tmp/tmpbe64hcvp/model_best_accuracy.h5\n",
      "FastEstimator-Eval: step: 3750; epoch: 2; ce: 0.029051337; min_ce: 0.029051337; since_best: 0; accuracy: 0.9906; \n",
      "FastEstimator-Finish: step: 3750; total_time: 65.32 sec; model_lr: 0.001; \n"
     ]
    }
   ],
   "source": [
    "from fastestimator.schedule import cosine_decay\n",
    "from fastestimator.trace.io import BestModelSaver\n",
    "from fastestimator.trace.metric import Accuracy\n",
    "import tempfile\n",
    "\n",
    "traces = [\n",
    "    Accuracy(true_key=\"y\", pred_key=\"y_pred\"),\n",
    "    BestModelSaver(model=model, save_dir=tempfile.mkdtemp(), metric=\"accuracy\", save_best_mode=\"max\")\n",
    "]\n",
    "\n",
    "estimator = fe.Estimator(pipeline=pipeline,\n",
    "                         network=network,\n",
    "                         epochs=2,\n",
    "                         traces=traces,\n",
    "                         max_steps_per_epoch=None)\n",
    "\n",
    "estimator.fit() # start the training process"
   ]
  },
  {
   "cell_type": "markdown",
   "metadata": {},
   "source": [
    "### Model Inference\n",
    "After the model being trained, we want to test the model by running inference directly on some test data. Therefore we randomly select 5 images from testing dataset and infer them image by image with `Pipeline.transform` and `Netowork.transform`. Please checkout **Beginner tutorial: Inference** for more details. "
   ]
  },
  {
   "cell_type": "code",
   "execution_count": 6,
   "metadata": {},
   "outputs": [
    {
     "data": {
      "image/png": "[encoded data removed]",
      "text/plain": [
       "<Figure size 864x864 with 15 Axes>"
      ]
     },
     "metadata": {
      "needs_background": "light"
     },
     "output_type": "display_data"
    }
   ],
   "source": [
    "import matplotlib.pyplot as plt\n",
    "import numpy as np\n",
    "\n",
    "sample_num = 5\n",
    "\n",
    "fig, axs = plt.subplots(sample_num, 3, figsize=(12,12))\n",
    "\n",
    "axs[0,0].set_title(\"pipeline input\")\n",
    "axs[0,1].set_title(\"pipeline output\")\n",
    "axs[0,2].set_title(\"predict result\")\n",
    "\n",
    "for i, j in enumerate(np.random.randint(low=0, high=31, size=sample_num)):\n",
    "    data = {\"x\": test_data[\"x\"][j]}\n",
    "    axs[i,0].imshow(data[\"x\"], cmap=\"gray\")\n",
    "    \n",
    "    # run the pipeline\n",
    "    data = pipeline.transform(data, mode=\"infer\") \n",
    "    img = data[\"x_out\"].squeeze(axis=(0,3))\n",
    "    axs[i,1].imshow(img, cmap=\"gray\")\n",
    "    \n",
    "    # run the network\n",
    "    data = network.transform(data, mode=\"infer\")\n",
    "    predict = data[\"y_pred\"].numpy().squeeze(axis=(0))\n",
    "    axs[i,2].text(0.2, 0.5, \"predicted number: {}\".format(np.argmax(predict)))\n",
    "    axs[i,2].get_xaxis().set_visible(False)\n",
    "    axs[i,2].get_yaxis().set_visible(False)"
   ]
  }
 ],
 "metadata": {
  "kernelspec": {
   "display_name": "Python 3",
   "language": "python",
   "name": "python3"
  },
  "language_info": {
   "codemirror_mode": {
    "name": "ipython",
    "version": 3
   },
   "file_extension": ".py",
   "mimetype": "text/x-python",
   "name": "python",
   "nbconvert_exporter": "python",
   "pygments_lexer": "ipython3",
   "version": "3.6.10"
  }
 },
 "nbformat": 4,
 "nbformat_minor": 4
}
