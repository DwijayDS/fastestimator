{
 "cells": [
  {
   "cell_type": "markdown",
   "metadata": {},
   "source": [
    "# Convolutional Variational Autoencoder example using MNIST dataset (Tensorflow backend)\n",
    "## Introduction to CVAE\n",
    "CVAE are Convolutional Variational Autoencoder. They are composed by two models using convolutions: an Encoder to represent the input in a latent dimension, and a Decoder that will generate data from the latent dimension to the input space. The figure below illustrates the main idea of CVAE. <br> <br> In this example, we will use CVAE to generate data similar to MNIST dataset with Tensorflow backend. All training details including model structure, data preprocessing, loss calculation ... etc come from the reference of Tensorflow CVAE tutorial (https://www.tensorflow.org/tutorials/generative/cvae)\n",
    "<img src=\"VAE_complete.png\"> [img source: https://mlexplained.com/2017/12/28/an-intuitive-explanation-of-variational-autoencoders-vaes-part-1/]"
   ]
  },
  {
   "cell_type": "markdown",
   "metadata": {},
   "source": [
    "## Import the required libraries"
   ]
  },
  {
   "cell_type": "code",
   "execution_count": 1,
   "metadata": {},
   "outputs": [],
   "source": [
    "import tensorflow as tf\n",
    "import fastestimator as fe\n",
    "import numpy as np\n",
    "import tempfile\n",
    "import matplotlib.pyplot as plt\n",
    "from typing import Any, Dict, Tuple\n"
   ]
  },
  {
   "cell_type": "code",
   "execution_count": 2,
   "metadata": {
    "tags": [
     "parameters"
    ]
   },
   "outputs": [],
   "source": [
    "#training parameters\n",
    "epochs = 20\n",
    "batch_size = 100\n",
    "max_steps_per_epoch = None\n",
    "save_dir = tempfile.mkdtemp()"
   ]
  },
  {
   "cell_type": "markdown",
   "metadata": {},
   "source": [
    "## Step 1 - Data and `Pipeline` preparation\n",
    "In this step, we will load MNIST training and validation datasets and prepare FastEstimator's pipeline.\n",
    "\n",
    "### Load dataset \n",
    "Using fastestimator API to load the MNIST dataset. "
   ]
  },
  {
   "cell_type": "code",
   "execution_count": 3,
   "metadata": {},
   "outputs": [],
   "source": [
    "from fastestimator.dataset.data.mnist import load_data\n",
    "\n",
    "train_data, test_data = load_data()"
   ]
  },
  {
   "cell_type": "markdown",
   "metadata": {},
   "source": [
    "### Set up preprocess pipline\n",
    "In this example, the data preprocessing steps include exapanding image dimension and normalizing the pixel value to range [0, 1], and binarizing pixel value. We set up those processing step using `Ops` and meanwhile define the data source (loaded dataset) and batch size. "
   ]
  },
  {
   "cell_type": "code",
   "execution_count": 4,
   "metadata": {},
   "outputs": [],
   "source": [
    "from fastestimator.op.numpyop import Binarize, ExpandDims, Minmax\n",
    "\n",
    "pipeline = fe.Pipeline(\n",
    "    train_data=train_data,\n",
    "    batch_size=batch_size,\n",
    "    ops=[\n",
    "        ExpandDims(inputs=\"x\", outputs=\"x_out\"), # change image size: (None, 28, 28) -> (None, 28, 28, 1) \n",
    "        Minmax(inputs=\"x_out\", outputs=\"x_out\"), # normalize pixel value: [0, 255] -> [0, 1] \n",
    "        Binarize(inputs=\"x_out\", outputs=\"x_out\", threshold=0.5) # binarize pixel value\n",
    "    ])"
   ]
  },
  {
   "cell_type": "markdown",
   "metadata": {},
   "source": [
    "### Validate `Pipeline`\n",
    "In order to make sure the pipeline works as expected, we need to visualize the output of pipeline image and check its size.\n",
    "`Pipeline.get_results` will return a batch data of pipeline output.  \n"
   ]
  },
  {
   "cell_type": "code",
   "execution_count": 5,
   "metadata": {},
   "outputs": [
    {
     "name": "stdout",
     "output_type": "stream",
     "text": [
      "the pipeline input data size: (100, 28, 28)\n",
      "the pipeline output data size: (100, 28, 28, 1)\n"
     ]
    }
   ],
   "source": [
    "data = pipeline.get_results()\n",
    "data_xin = data[\"x\"]\n",
    "data_xout = data[\"x_out\"]\n",
    "print(\"the pipeline input data size: {}\".format(data_xin.numpy().shape))\n",
    "print(\"the pipeline output data size: {}\".format(data_xout.numpy().shape))\n"
   ]
  },
  {
   "cell_type": "markdown",
   "metadata": {},
   "source": [
    "Randomly select 5 sample and visualize the difference between pipeline input and output."
   ]
  },
  {
   "cell_type": "code",
   "execution_count": 6,
   "metadata": {},
   "outputs": [
    {
     "data": {
      "image/png": "[encoded data removed]",
      "text/plain": [
       "<Figure size 864x864 with 10 Axes>"
      ]
     },
     "metadata": {
      "needs_background": "light"
     },
     "output_type": "display_data"
    }
   ],
   "source": [
    "sample_num = 5\n",
    "\n",
    "fig, axs = plt.subplots(sample_num, 2, figsize=(12,12))\n",
    "\n",
    "axs[0,0].set_title(\"pipeline input\")\n",
    "axs[0,1].set_title(\"pipeline output\")\n",
    "\n",
    "\n",
    "for i, j in enumerate(np.random.randint(low=0, high=batch_size-1, size=sample_num)):\n",
    "    img_in = data_xin.numpy()[j]\n",
    "    axs[i,0].imshow(img_in, cmap=\"gray\")\n",
    "    \n",
    "    img_out = data_xout.numpy()[j,:,:,0]\n",
    "    axs[i,1].imshow(img_out, cmap=\"gray\")\n",
    "    "
   ]
  },
  {
   "cell_type": "markdown",
   "metadata": {},
   "source": [
    "## Step 2 - `Network` construction\n",
    "**FastEstimator supports both Pytorch and Tensorlfow, so this section can use both backend to implement.** <br>\n",
    "We are going to only demonstate the Tensorflow way in this example.\n",
    "\n",
    "### Model construction\n",
    "Both models' definition are implemented in Tensorflow and intantiated by calling `fe.build` which also associates the model with specific optimizers."
   ]
  },
  {
   "cell_type": "code",
   "execution_count": 7,
   "metadata": {},
   "outputs": [],
   "source": [
    "LATENT_DIM = 50\n",
    "\n",
    "def encoder_net():\n",
    "    infer_model = tf.keras.Sequential()\n",
    "    infer_model.add(tf.keras.layers.InputLayer(input_shape=(28, 28, 1)))\n",
    "    infer_model.add(tf.keras.layers.Conv2D(filters=32, kernel_size=3, strides=(2, 2), activation='relu'))\n",
    "    infer_model.add(tf.keras.layers.Conv2D(filters=64, kernel_size=3, strides=(2, 2), activation='relu'))\n",
    "    infer_model.add(tf.keras.layers.Flatten())\n",
    "    infer_model.add(tf.keras.layers.Dense(LATENT_DIM + LATENT_DIM))\n",
    "    return infer_model\n",
    "\n",
    "\n",
    "def decoder_net():\n",
    "    generative_model = tf.keras.Sequential()\n",
    "    generative_model.add(tf.keras.layers.InputLayer(input_shape=(LATENT_DIM, )))\n",
    "    generative_model.add(tf.keras.layers.Dense(units=7 * 7 * 32, activation=tf.nn.relu))\n",
    "    generative_model.add(tf.keras.layers.Reshape(target_shape=(7, 7, 32)))\n",
    "    generative_model.add(\n",
    "        tf.keras.layers.Conv2DTranspose(filters=64, kernel_size=3, strides=(2, 2), padding=\"SAME\", activation='relu'))\n",
    "    generative_model.add(\n",
    "        tf.keras.layers.Conv2DTranspose(filters=32, kernel_size=3, strides=(2, 2), padding=\"SAME\", activation='relu'))\n",
    "    generative_model.add(tf.keras.layers.Conv2DTranspose(filters=1, kernel_size=3, strides=(1, 1), padding=\"SAME\", activation='sigmoid'))\n",
    "    return generative_model\n",
    "\n",
    "encode_model = fe.build(model_fn=encoder_net, optimizer_fn=\"adam\", model_names=\"encoder\")\n",
    "decode_model = fe.build(model_fn=decoder_net, optimizer_fn=\"adam\", model_names=\"decoder\")"
   ]
  },
  {
   "cell_type": "markdown",
   "metadata": {},
   "source": [
    "### Customize `Ops` \n",
    "`Ops` are the basic component of `Network`. They can be logic for loss calculation, model update units, and even model itself is also considered as an `Op`. Some `Ops` are pre-defined in FastEstimator like cross entropy, but for the logic that is not there yet, users need to define their own `Ops`. **Please keep all `Ops` backend consistent with model backend**. (All `Ops`need to be implemented in Tensorflow if the model is built from Tensorflow. Same for Pytorch.)      \n",
    "\n",
    "#### Customize Ops - ReparameterizepOp\n",
    "Because the encoder output serves as mean and log of variance, we need to split them into two outputs. "
   ]
  },
  {
   "cell_type": "code",
   "execution_count": 8,
   "metadata": {},
   "outputs": [],
   "source": [
    "from fastestimator.op import TensorOp\n",
    "\n",
    "class SplitOp(TensorOp):\n",
    "    \"\"\"To split the infer net output into two \"\"\"\n",
    "    def forward(self, data: tf.Tensor, state: Dict[str, Any]) -> Tuple[tf.Tensor, tf.Tensor]:\n",
    "        mean, logvar = tf.split(data, num_or_size_splits=2, axis=1)\n",
    "        return mean, logvar"
   ]
  },
  {
   "cell_type": "markdown",
   "metadata": {},
   "source": [
    "#### Customize Ops - ReparameterizepOp\n",
    "In this example case, the input of the decoder is the random sample from the normal distiribution that both mean and vairation are the output of the encoder. So we are going to build a op called \"ReparameterizepOp\" to do this jobs."
   ]
  },
  {
   "cell_type": "code",
   "execution_count": 9,
   "metadata": {},
   "outputs": [],
   "source": [
    "class ReparameterizepOp(TensorOp):\n",
    "    def forward(self, data: Tuple[tf.Tensor, tf.Tensor], state: Dict[str, Any]) -> tf.Tensor:\n",
    "        mean, logvar = data\n",
    "        eps = tf.random.normal(shape=mean.shape)\n",
    "        return eps * tf.exp(logvar * .5) + mean"
   ]
  },
  {
   "cell_type": "markdown",
   "metadata": {},
   "source": [
    "#### Customize Ops - CVAELoss"
   ]
  },
  {
   "cell_type": "code",
   "execution_count": 10,
   "metadata": {},
   "outputs": [],
   "source": [
    "import math\n",
    "\n",
    "class CVAELoss(TensorOp):\n",
    "    def forward(self, data: Tuple[tf.Tensor, ...], state: Dict[str, Any]) -> tf.Tensor:\n",
    "        cross_ent_mean, mean, logvar, z = data   \n",
    "        \n",
    "        cross_ent_total = cross_ent_mean * (28 * 28 * 1) # cross_ent_mean is the average cross entropy over pixels and batches \n",
    "                                                         # make it total cross entropy over pixels \n",
    "        logpz = self._log_normal_pdf(z, 0., 0.)\n",
    "        logqz_x = self._log_normal_pdf(z, mean, logvar)\n",
    "        total_loss = cross_ent_total + tf.reduce_mean(-logpz + logqz_x)\n",
    "\n",
    "        return total_loss\n",
    "    \n",
    "    @staticmethod\n",
    "    def _log_normal_pdf(sample, mean, logvar, raxis=1):\n",
    "        log2pi = tf.math.log(2. * tf.constant(math.pi))\n",
    "        return tf.reduce_sum(-.5 * ((sample - mean)**2. * tf.exp(-logvar) + logvar + log2pi), axis=raxis)"
   ]
  },
  {
   "cell_type": "markdown",
   "metadata": {},
   "source": [
    "### `Network` definition\n",
    "We are going to connect all models and `Ops` together into a `Network` "
   ]
  },
  {
   "cell_type": "code",
   "execution_count": 11,
   "metadata": {},
   "outputs": [],
   "source": [
    "from fastestimator.op.tensorop.loss import CrossEntropy\n",
    "from fastestimator.op.tensorop.model import ModelOp, UpdateOp\n",
    "\n",
    "network = fe.Network(ops=[\n",
    "    ModelOp(model=encode_model, inputs=\"x_out\", outputs=\"meanlogvar\"),\n",
    "    SplitOp(inputs=\"meanlogvar\", outputs=(\"mean\", \"logvar\")),\n",
    "    ReparameterizepOp(inputs=(\"mean\", \"logvar\"), outputs=\"z\"), \n",
    "    ModelOp(model=decode_model, inputs=\"z\", outputs=\"x_logit\"),\n",
    "    CrossEntropy(inputs=(\"x_logit\", \"x_out\"), outputs=\"cross_entropy\"), \n",
    "    CVAELoss(inputs=(\"cross_entropy\", \"mean\", \"logvar\", \"z\"), outputs=\"loss\", mode=\"!infer\"),\n",
    "    UpdateOp(model=encode_model, loss_name=\"loss\"),\n",
    "    UpdateOp(model=decode_model, loss_name=\"loss\"),\n",
    "])"
   ]
  },
  {
   "cell_type": "markdown",
   "metadata": {},
   "source": [
    "## Step 3 - `Estimator` definition and training\n",
    "In this step, we define the `Estimator` to compile the `Network` and `Pipeline` and indicate in `traces` that we want to save the best models. At the end, using `estimator.fit` method function to start the training process"
   ]
  },
  {
   "cell_type": "code",
   "execution_count": 12,
   "metadata": {},
   "outputs": [
    {
     "name": "stdout",
     "output_type": "stream",
     "text": [
      "    ______           __  ______     __  _                 __            \n",
      "   / ____/___ ______/ /_/ ____/____/ /_(_)___ ___  ____ _/ /_____  _____\n",
      "  / /_  / __ `/ ___/ __/ __/ / ___/ __/ / __ `__ \\/ __ `/ __/ __ \\/ ___/\n",
      " / __/ / /_/ (__  ) /_/ /___(__  ) /_/ / / / / / / /_/ / /_/ /_/ / /    \n",
      "/_/    \\__,_/____/\\__/_____/____/\\__/_/_/ /_/ /_/\\__,_/\\__/\\____/_/     \n",
      "                                                                        \n",
      "\n",
      "FastEstimator-Start: step: 0; encoder_lr: 0.001; decoder_lr: 0.001; \n",
      "FastEstimator-Train: step: 0; loss: 544.8315; \n",
      "Saved model to /tmp/tmph849run7/encoder_epoch_0.h5\n",
      "Saved model to /tmp/tmph849run7/decoder_epoch_0.h5\n",
      "FastEstimator-Train: step: 600; epoch: 0; epoch_time: 6.57 sec; \n",
      "FastEstimator-Train: step: 600; loss: 104.150696; steps/sec: 181.54; \n",
      "FastEstimator-Train: step: 1200; epoch: 1; epoch_time: 3.29 sec; \n",
      "FastEstimator-Train: step: 1200; loss: 91.99516; steps/sec: 180.6; \n",
      "FastEstimator-Train: step: 1800; epoch: 2; epoch_time: 3.28 sec; \n",
      "FastEstimator-Train: step: 1800; loss: 83.38641; steps/sec: 182.71; \n",
      "FastEstimator-Train: step: 2400; epoch: 3; epoch_time: 3.28 sec; \n",
      "FastEstimator-Train: step: 2400; loss: 84.31957; steps/sec: 183.28; \n",
      "FastEstimator-Train: step: 3000; epoch: 4; epoch_time: 3.28 sec; \n",
      "FastEstimator-Train: step: 3000; loss: 83.61825; steps/sec: 183.13; \n",
      "FastEstimator-Train: step: 3600; epoch: 5; epoch_time: 3.25 sec; \n",
      "FastEstimator-Train: step: 3600; loss: 79.93636; steps/sec: 185.28; \n",
      "FastEstimator-Train: step: 4200; epoch: 6; epoch_time: 3.3 sec; \n",
      "FastEstimator-Train: step: 4200; loss: 85.82678; steps/sec: 181.47; \n",
      "FastEstimator-Train: step: 4800; epoch: 7; epoch_time: 3.31 sec; \n",
      "FastEstimator-Train: step: 4800; loss: 82.082405; steps/sec: 180.94; \n",
      "FastEstimator-Train: step: 5400; epoch: 8; epoch_time: 3.25 sec; \n",
      "FastEstimator-Train: step: 5400; loss: 80.747894; steps/sec: 184.83; \n",
      "FastEstimator-Train: step: 6000; epoch: 9; epoch_time: 3.3 sec; \n",
      "FastEstimator-Train: step: 6000; loss: 80.72155; steps/sec: 182.19; \n",
      "FastEstimator-Train: step: 6600; epoch: 10; epoch_time: 3.26 sec; \n",
      "FastEstimator-Train: step: 6600; loss: 82.63741; steps/sec: 183.84; \n",
      "FastEstimator-Train: step: 7200; epoch: 11; epoch_time: 3.24 sec; \n",
      "FastEstimator-Train: step: 7200; loss: 82.01305; steps/sec: 184.96; \n",
      "FastEstimator-Train: step: 7800; epoch: 12; epoch_time: 3.3 sec; \n",
      "FastEstimator-Train: step: 7800; loss: 80.06667; steps/sec: 183.16; \n",
      "FastEstimator-Train: step: 8400; epoch: 13; epoch_time: 3.31 sec; \n",
      "FastEstimator-Train: step: 8400; loss: 78.72701; steps/sec: 179.62; \n",
      "FastEstimator-Train: step: 9000; epoch: 14; epoch_time: 3.24 sec; \n",
      "FastEstimator-Train: step: 9000; loss: 80.35702; steps/sec: 186.91; \n",
      "FastEstimator-Train: step: 9600; epoch: 15; epoch_time: 3.26 sec; \n",
      "FastEstimator-Train: step: 9600; loss: 81.000534; steps/sec: 183.34; \n",
      "FastEstimator-Train: step: 10200; epoch: 16; epoch_time: 3.29 sec; \n",
      "FastEstimator-Train: step: 10200; loss: 76.42764; steps/sec: 183.3; \n",
      "FastEstimator-Train: step: 10800; epoch: 17; epoch_time: 3.25 sec; \n",
      "FastEstimator-Train: step: 10800; loss: 82.46888; steps/sec: 182.83; \n",
      "FastEstimator-Train: step: 11400; epoch: 18; epoch_time: 3.29 sec; \n",
      "FastEstimator-Train: step: 11400; loss: 74.92251; steps/sec: 182.67; \n",
      "Saved model to /tmp/tmph849run7/encoder_epoch_19.h5\n",
      "Saved model to /tmp/tmph849run7/decoder_epoch_19.h5\n",
      "FastEstimator-Train: step: 12000; epoch: 19; epoch_time: 3.34 sec; \n",
      "FastEstimator-Finish: step: 12000; total_time: 68.95 sec; encoder_lr: 0.001; decoder_lr: 0.001; \n"
     ]
    }
   ],
   "source": [
    "from fastestimator.trace.io import ModelSaver\n",
    "\n",
    "traces = [ModelSaver(model=encode_model, save_dir=save_dir, frequency=epochs-1), \n",
    "          ModelSaver(model=decode_model, save_dir=save_dir, frequency=epochs-1)]\n",
    "\n",
    "estimator = fe.Estimator(pipeline=pipeline,\n",
    "                         network=network,\n",
    "                         epochs=epochs,\n",
    "                         traces=traces,\n",
    "                         max_steps_per_epoch=max_steps_per_epoch,\n",
    "                         log_steps=600)\n",
    "\n",
    "estimator.fit() # start the training process"
   ]
  },
  {
   "cell_type": "markdown",
   "metadata": {},
   "source": [
    "## Inference the image\n",
    "Once finishing training the models, we will like to try to run those models on some testing data. We randomly select 5 images from testing dataset and infer them image by image."
   ]
  },
  {
   "cell_type": "code",
   "execution_count": 13,
   "metadata": {},
   "outputs": [
    {
     "data": {
      "image/png": "[encoded data removed]",
      "text/plain": [
       "<Figure size 864x864 with 15 Axes>"
      ]
     },
     "metadata": {
      "needs_background": "light"
     },
     "output_type": "display_data"
    }
   ],
   "source": [
    "sample_num = 5\n",
    "\n",
    "fig, axs = plt.subplots(sample_num, 3, figsize=(12,12))\n",
    "\n",
    "axs[0,0].set_title(\"pipeline input\")\n",
    "axs[0,1].set_title(\"pipeline output\")\n",
    "axs[0,2].set_title(\"decoder output\")\n",
    "\n",
    "for i in range(sample_num):\n",
    "    data = {\"x\": test_data[\"x\"][i]}\n",
    "    axs[i,0].imshow(data[\"x\"], cmap=\"gray\")\n",
    "    \n",
    "    # run the pipeline\n",
    "    pipeline.transform(data, mode=\"infer\") \n",
    "    img = data[\"x_out\"].squeeze(axis=(0,3))\n",
    "    axs[i,1].imshow(img, cmap=\"gray\")\n",
    "    \n",
    "    # run the network\n",
    "    data = network.transform(data, mode=\"infer\")\n",
    "    img = data[\"x_logit\"].numpy().squeeze(axis=(0,3))\n",
    "    axs[i,3].imshow(img, cmap=\"gray\")"
   ]
  }
 ],
 "metadata": {
  "celltoolbar": "Tags",
  "kernelspec": {
   "display_name": "tf2.1",
   "language": "python",
   "name": "tf2.1"
  },
  "language_info": {
   "codemirror_mode": {
    "name": "ipython",
    "version": 3
   },
   "file_extension": ".py",
   "mimetype": "text/x-python",
   "name": "python",
   "nbconvert_exporter": "python",
   "pygments_lexer": "ipython3",
   "version": "3.6.10"
  }
 },
 "nbformat": 4,
 "nbformat_minor": 4
}
